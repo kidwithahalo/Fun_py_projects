{
 "cells": [
  {
   "cell_type": "markdown",
   "id": "92d79d79",
   "metadata": {},
   "source": [
    "    Primtive data types and Data Structures"
   ]
  },
  {
   "cell_type": "code",
   "execution_count": 1,
   "id": "a72ead87",
   "metadata": {},
   "outputs": [
    {
     "name": "stdout",
     "output_type": "stream",
     "text": [
      "Is the bag expensive? True\n"
     ]
    }
   ],
   "source": [
    "# Checking conditions\n",
    "\n",
    "cost_of_bag = 12.5\n",
    "is_bag_expensive = cost_of_bag >= 10\n",
    "print('Is the bag expensive?', is_bag_expensive)"
   ]
  },
  {
   "cell_type": "code",
   "execution_count": null,
   "id": "5ec5cb49",
   "metadata": {},
   "outputs": [],
   "source": []
  },
  {
   "cell_type": "code",
   "execution_count": 10,
   "id": "b35488b5",
   "metadata": {},
   "outputs": [
    {
     "data": {
      "text/plain": [
       "('Monday', 'Wednesday')"
      ]
     },
     "execution_count": 10,
     "metadata": {},
     "output_type": "execute_result"
    }
   ],
   "source": [
    "today = 'Wednesday'\n",
    "another_day = today.replace(\"Wednes\",\"Mon\")\n",
    "\n",
    "another_day, today\n",
    "# replacing Wednes with Fri\n",
    "# they return new object, not just same copy"
   ]
  },
  {
   "cell_type": "markdown",
   "id": "bf882fbd",
   "metadata": {},
   "source": [
    "### Strip / Split"
   ]
  },
  {
   "cell_type": "code",
   "execution_count": 17,
   "id": "47f85cf3",
   "metadata": {},
   "outputs": [
    {
     "data": {
      "text/plain": [
       "'Never gonna give you up.  never gonna let you down.'"
      ]
     },
     "execution_count": 17,
     "metadata": {},
     "output_type": "execute_result"
    }
   ],
   "source": [
    "today =  '  Never gonna give you up.  never gonna let you down.'\n",
    "today.strip()"
   ]
  },
  {
   "cell_type": "code",
   "execution_count": 20,
   "id": "4e8df1e3",
   "metadata": {},
   "outputs": [
    {
     "data": {
      "text/plain": [
       "['  Never gonna give you up', '  never gonna let you down', '']"
      ]
     },
     "execution_count": 20,
     "metadata": {},
     "output_type": "execute_result"
    }
   ],
   "source": [
    "today.split('.')"
   ]
  },
  {
   "cell_type": "markdown",
   "id": "bc38adaa",
   "metadata": {},
   "source": [
    "### Append"
   ]
  },
  {
   "cell_type": "code",
   "execution_count": 35,
   "id": "77b6112a",
   "metadata": {},
   "outputs": [
    {
     "data": {
      "text/plain": [
       "['berry', 'cherry', 'raspberry', 'dates']"
      ]
     },
     "execution_count": 35,
     "metadata": {},
     "output_type": "execute_result"
    }
   ],
   "source": [
    "fruits = ['berry', 'cherry', 'raspberry']\n",
    "\n",
    "fruits.append('dates')\n",
    "fruits"
   ]
  },
  {
   "cell_type": "markdown",
   "id": "c5ecb17e",
   "metadata": {},
   "source": [
    "### Insert"
   ]
  },
  {
   "cell_type": "code",
   "execution_count": 36,
   "id": "72098779",
   "metadata": {},
   "outputs": [
    {
     "data": {
      "text/plain": [
       "['berry', 'cherry', 'mango', 'raspberry', 'dates']"
      ]
     },
     "execution_count": 36,
     "metadata": {},
     "output_type": "execute_result"
    }
   ],
   "source": [
    "fruits.insert(2, 'mango')\n",
    "fruits"
   ]
  },
  {
   "cell_type": "markdown",
   "id": "515d7284",
   "metadata": {},
   "source": [
    "### Remove"
   ]
  },
  {
   "cell_type": "code",
   "execution_count": 37,
   "id": "2da839b3",
   "metadata": {},
   "outputs": [
    {
     "data": {
      "text/plain": [
       "['berry', 'cherry', 'raspberry', 'dates']"
      ]
     },
     "execution_count": 37,
     "metadata": {},
     "output_type": "execute_result"
    }
   ],
   "source": [
    "fruits.remove('mango')\n",
    "fruits"
   ]
  },
  {
   "cell_type": "markdown",
   "id": "52941e8d",
   "metadata": {},
   "source": [
    "### Pop"
   ]
  },
  {
   "cell_type": "code",
   "execution_count": 38,
   "id": "e53c85bc",
   "metadata": {},
   "outputs": [
    {
     "data": {
      "text/plain": [
       "['berry', 'raspberry', 'dates']"
      ]
     },
     "execution_count": 38,
     "metadata": {},
     "output_type": "execute_result"
    }
   ],
   "source": [
    "# pop takes the index to be removed\n",
    "fruits.pop(1)\n",
    "fruits"
   ]
  },
  {
   "cell_type": "markdown",
   "id": "901afd18",
   "metadata": {},
   "source": [
    "# <font color = 'red'> Dictionary\n",
    "                key values pair data structures "
   ]
  },
  {
   "cell_type": "code",
   "execution_count": 42,
   "id": "37526ab1",
   "metadata": {},
   "outputs": [
    {
     "data": {
      "text/plain": [
       "'John Doe'"
      ]
     },
     "execution_count": 42,
     "metadata": {},
     "output_type": "execute_result"
    }
   ],
   "source": [
    "person1 = {\n",
    "    'name' : 'John Doe',\n",
    "    'age' : 32,\n",
    "    'sex' : \"Male\"\n",
    "}\n",
    "\n",
    "person1['name']"
   ]
  },
  {
   "cell_type": "markdown",
   "id": "0bb7380e",
   "metadata": {},
   "source": [
    "The `get` method also accepts a default value which is returned if the key is not present in the dictionary"
   ]
  },
  {
   "cell_type": "code",
   "execution_count": 47,
   "id": "83e875db",
   "metadata": {},
   "outputs": [
    {
     "data": {
      "text/plain": [
       "'NA'"
      ]
     },
     "execution_count": 47,
     "metadata": {},
     "output_type": "execute_result"
    }
   ],
   "source": [
    "person1.get('married','NA')"
   ]
  },
  {
   "cell_type": "code",
   "execution_count": 48,
   "id": "b5e3ab9f",
   "metadata": {},
   "outputs": [
    {
     "data": {
      "text/plain": [
       "32"
      ]
     },
     "execution_count": 48,
     "metadata": {},
     "output_type": "execute_result"
    }
   ],
   "source": [
    "person1.get('age')"
   ]
  },
  {
   "cell_type": "code",
   "execution_count": 51,
   "id": "9fde759b",
   "metadata": {},
   "outputs": [
    {
     "data": {
      "text/plain": [
       "{'name': 'John Doe',\n",
       " 'age': 32,\n",
       " 'sex': 'Male',\n",
       " 'adress': '1, Us pura',\n",
       " 'married': True,\n",
       " 'address': '1, Us pura'}"
      ]
     },
     "execution_count": 51,
     "metadata": {},
     "output_type": "execute_result"
    }
   ],
   "source": [
    "person1['address'] = '1, Us pura'\n",
    "person1['married']  = True\n",
    "person1"
   ]
  },
  {
   "cell_type": "code",
   "execution_count": 53,
   "id": "317f54ba",
   "metadata": {},
   "outputs": [
    {
     "data": {
      "text/plain": [
       "({'name': 'John Doe',\n",
       "  'age': 32,\n",
       "  'sex': 'Male',\n",
       "  'adress': '1, Us pura',\n",
       "  'married': True,\n",
       "  'address': '1, Us pura'},\n",
       " {'name': 'John Doe',\n",
       "  'age': 32,\n",
       "  'sex': 'Male',\n",
       "  'adress': '1, Us pura',\n",
       "  'married': True,\n",
       "  'address': '1, Us pura'})"
      ]
     },
     "execution_count": 53,
     "metadata": {},
     "output_type": "execute_result"
    }
   ],
   "source": [
    "person2 = person1.copy()\n",
    "person2, person1"
   ]
  },
  {
   "cell_type": "markdown",
   "id": "f0f98551",
   "metadata": {},
   "source": [
    "## While"
   ]
  },
  {
   "cell_type": "code",
   "execution_count": 73,
   "id": "95193f23",
   "metadata": {},
   "outputs": [
    {
     "name": "stdout",
     "output_type": "stream",
     "text": [
      "CPU times: user 3 µs, sys: 1e+03 ns, total: 4 µs\n",
      "Wall time: 6.91 µs\n",
      "1\n",
      "2\n",
      "6\n",
      "24\n",
      "120\n",
      "720\n",
      "5040\n",
      "40320\n",
      "362880\n",
      "3628800\n"
     ]
    }
   ],
   "source": [
    "%time\n",
    "\n",
    "result = 1\n",
    "i = 1 \n",
    "\n",
    "while i <= 10:\n",
    "    result = result * i\n",
    "    i  += 1\n",
    "    print(result)\n",
    "    \n"
   ]
  },
  {
   "cell_type": "code",
   "execution_count": 100,
   "id": "e236827d",
   "metadata": {},
   "outputs": [
    {
     "name": "stdout",
     "output_type": "stream",
     "text": [
      "*\n",
      "**\n",
      "***\n",
      "****\n",
      "*****\n",
      "******\n",
      "*******\n",
      "********\n",
      "*********\n",
      "**********\n",
      "***********\n",
      "**********\n",
      "*********\n",
      "********\n",
      "*******\n",
      "******\n",
      "*****\n",
      "****\n",
      "***\n",
      "**\n",
      "*\n"
     ]
    }
   ],
   "source": [
    "line = '*'\n",
    "max_length = 10 \n",
    "\n",
    "while len(line) <= max_length:\n",
    "    print(line)\n",
    "    line += '*'\n",
    "    \n",
    "while len(line) > 0:\n",
    "    print(line)\n",
    "    line = line[:-1]\n"
   ]
  },
  {
   "cell_type": "markdown",
   "id": "2790c73d",
   "metadata": {},
   "source": [
    "#### Printing stars "
   ]
  },
  {
   "cell_type": "code",
   "execution_count": 87,
   "id": "ddf2cb1a",
   "metadata": {},
   "outputs": [
    {
     "name": "stdout",
     "output_type": "stream",
     "text": [
      "please enter diamond's height:10\n",
      "           *\n",
      "          ***\n",
      "         *****\n",
      "        *******\n",
      "       *********\n",
      "      ***********\n",
      "     *************\n",
      "    ***************\n",
      "   *****************\n",
      "  *******************\n",
      "   *****************\n",
      "    ***************\n",
      "     *************\n",
      "      ***********\n",
      "       *********\n",
      "        *******\n",
      "         *****\n",
      "          ***\n",
      "           *\n"
     ]
    }
   ],
   "source": [
    "h = int(input(\"please enter diamond's height:\"))\n",
    "\n",
    "for i in range(h):\n",
    "    print(\" \"*(h-i), \"*\"*(i*2+1))\n",
    "for i in range(h-2, -1, -1):\n",
    "    print(\" \"*(h-i), \"*\"*(i*2+1))"
   ]
  },
  {
   "cell_type": "markdown",
   "id": "06ef94df",
   "metadata": {},
   "source": [
    "#### Factorial without even nmubers "
   ]
  },
  {
   "cell_type": "code",
   "execution_count": 88,
   "id": "3fd1870e",
   "metadata": {},
   "outputs": [
    {
     "name": "stdout",
     "output_type": "stream",
     "text": [
      "Skipping 2\n",
      "Miltiplying by 3\n",
      "Skipping 4\n",
      "Miltiplying by 5\n",
      "Skipping 6\n",
      "Miltiplying by 7\n",
      "Skipping 8\n",
      "Miltiplying by 9\n",
      "Skipping 10\n",
      "Miltiplying by 11\n",
      "Skipping 12\n",
      "Miltiplying by 13\n",
      "Skipping 14\n",
      "Miltiplying by 15\n",
      "Skipping 16\n",
      "Miltiplying by 17\n",
      "Skipping 18\n",
      "Miltiplying by 19\n",
      "Skipping 20\n",
      "654729075\n"
     ]
    }
   ],
   "source": [
    "i = 1\n",
    "result = 1 \n",
    "\n",
    "while i < 20:\n",
    "    i += 1\n",
    "    if i % 2 == 0:\n",
    "        print(f'Skipping {i}')\n",
    "        continue\n",
    "    print('Miltiplying by {}'.format(i))\n",
    "    result *= i \n",
    "    \n",
    "print(result)"
   ]
  },
  {
   "cell_type": "markdown",
   "id": "325665c3",
   "metadata": {},
   "source": [
    "## For Loops"
   ]
  },
  {
   "cell_type": "code",
   "execution_count": 90,
   "id": "87870852",
   "metadata": {},
   "outputs": [
    {
     "name": "stdout",
     "output_type": "stream",
     "text": [
      "M o n d a y "
     ]
    }
   ],
   "source": [
    "for char in 'Monday':\n",
    "    print(char, end = ' ')"
   ]
  },
  {
   "cell_type": "markdown",
   "id": "7be56576",
   "metadata": {},
   "source": [
    "### Documentations for function"
   ]
  },
  {
   "cell_type": "code",
   "execution_count": 92,
   "id": "61672499",
   "metadata": {},
   "outputs": [
    {
     "name": "stdout",
     "output_type": "stream",
     "text": [
      "Hello  pushpa\n"
     ]
    }
   ],
   "source": [
    "def magic(name : str) -> str:\n",
    "    '''Just write him hello already'''\n",
    "    print(\"Hello \", name)\n",
    "magic('pushpa')"
   ]
  },
  {
   "cell_type": "code",
   "execution_count": 93,
   "id": "0e02495d",
   "metadata": {},
   "outputs": [
    {
     "name": "stdout",
     "output_type": "stream",
     "text": [
      "Help on function magic in module __main__:\n",
      "\n",
      "magic(name: str) -> str\n",
      "    Just write him hello already\n",
      "\n"
     ]
    }
   ],
   "source": []
  },
  {
   "cell_type": "code",
   "execution_count": null,
   "id": "e48cfa03",
   "metadata": {},
   "outputs": [],
   "source": []
  }
 ],
 "metadata": {
  "kernelspec": {
   "display_name": "Python 3 (ipykernel)",
   "language": "python",
   "name": "python3"
  },
  "language_info": {
   "codemirror_mode": {
    "name": "ipython",
    "version": 3
   },
   "file_extension": ".py",
   "mimetype": "text/x-python",
   "name": "python",
   "nbconvert_exporter": "python",
   "pygments_lexer": "ipython3",
   "version": "3.8.11"
  }
 },
 "nbformat": 4,
 "nbformat_minor": 5
}
