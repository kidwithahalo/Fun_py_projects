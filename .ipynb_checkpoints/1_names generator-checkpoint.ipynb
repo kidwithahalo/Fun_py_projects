{
 "cells": [
  {
   "cell_type": "code",
   "execution_count": 4,
   "id": "2bff5b65",
   "metadata": {},
   "outputs": [
    {
     "name": "stderr",
     "output_type": "stream",
     "text": [
      "Elphonso Sugar-Gold\n"
     ]
    },
    {
     "name": "stdout",
     "output_type": "stream",
     "text": [
      "Welcome to the Psych 'Sidekick Name Picker.'\n",
      "\n",
      "A name just like Sean would pick for Gus:\n",
      "\n",
      "\n",
      "\n",
      "\n",
      "\n",
      "\n",
      "Try again? (Press Enter else 'n' to quit)\n",
      "\n"
     ]
    },
    {
     "name": "stderr",
     "output_type": "stream",
     "text": [
      "Buttocks Nettles\n"
     ]
    },
    {
     "name": "stdout",
     "output_type": "stream",
     "text": [
      "\n",
      "\n",
      "\n",
      "\n",
      "Try again? (Press Enter else 'n' to quit)\n",
      "\n"
     ]
    },
    {
     "name": "stderr",
     "output_type": "stream",
     "text": [
      "Joe 'Pottin Soil' Vinaigrette\n"
     ]
    },
    {
     "name": "stdout",
     "output_type": "stream",
     "text": [
      "\n",
      "\n",
      "\n",
      "\n",
      "Try again? (Press Enter else 'n' to quit)\n",
      "\n"
     ]
    },
    {
     "name": "stderr",
     "output_type": "stream",
     "text": [
      "Johnny Nettles\n"
     ]
    },
    {
     "name": "stdout",
     "output_type": "stream",
     "text": [
      "\n",
      "\n",
      "\n",
      "\n",
      "Try again? (Press Enter else 'n' to quit)\n",
      "\n"
     ]
    },
    {
     "name": "stderr",
     "output_type": "stream",
     "text": [
      "\"Mr Peabody\" Olivetti\n"
     ]
    },
    {
     "name": "stdout",
     "output_type": "stream",
     "text": [
      "\n",
      "\n",
      "\n",
      "\n",
      "Try again? (Press Enter else 'n' to quit)\n",
      "\n"
     ]
    },
    {
     "name": "stderr",
     "output_type": "stream",
     "text": [
      "Cornbread Rubbins\n"
     ]
    },
    {
     "name": "stdout",
     "output_type": "stream",
     "text": [
      "\n",
      "\n",
      "\n",
      "\n",
      "Try again? (Press Enter else 'n' to quit)\n",
      "\n"
     ]
    },
    {
     "name": "stderr",
     "output_type": "stream",
     "text": [
      "Rock Candy Pennywhistle\n"
     ]
    },
    {
     "name": "stdout",
     "output_type": "stream",
     "text": [
      "\n",
      "\n",
      "\n",
      "\n",
      "Try again? (Press Enter else 'n' to quit)\n",
      "\n"
     ]
    },
    {
     "name": "stderr",
     "output_type": "stream",
     "text": [
      "Crapps Winterkorn\n"
     ]
    },
    {
     "name": "stdout",
     "output_type": "stream",
     "text": [
      "\n",
      "\n",
      "\n",
      "\n",
      "Try again? (Press Enter else 'n' to quit)\n",
      "n\n",
      "Press enter to exit\n"
     ]
    },
    {
     "data": {
      "text/plain": [
       "''"
      ]
     },
     "execution_count": 4,
     "metadata": {},
     "output_type": "execute_result"
    }
   ],
   "source": [
    "import sys, random\n",
    "\n",
    "print(\"Welcome to the Psych 'Sidekick Name Picker.'\\n\")\n",
    "print(\"A name just like Sean would pick for Gus:\\n\\n\")\n",
    "\n",
    "first = ('Baby Oil', 'Bad News', 'Big Burps', \"Bill 'Beenie-Weenie'\",\n",
    "         \"Bob 'Stinkbug'\", 'Bowel Noises', 'Boxelder', \"Bud 'Lite'\",\n",
    "         'Butterbean', 'Buttermilk', 'Buttocks', 'Chad', 'Chesterfield',\n",
    "         'Chewy', 'Chigger', 'Cinnabuns', 'Cleet', 'Cornbread', 'Crab Meat',\n",
    "         'Crapps', 'Dark Skies', 'Dennis Clawhammer', 'Dicman', 'Elphonso',\n",
    "         'Fancypants', 'Figgs', 'Foncy', 'Gootsy', 'Greasy Jim', 'Huckleberry',\n",
    "         'Huggy', 'Ignatious', 'Jimbo', \"Joe 'Pottin Soil'\", 'Johnny',\n",
    "         'Lemongrass', 'Lil Debil', 'Longbranch', '\"Lunch Money\"', 'Mergatroid',\n",
    "         '\"Mr Peabody\"', 'Oil-Can', 'Oinks', 'Old Scratch', 'Ovaltine',\n",
    "         'Pennywhistle', 'Pitchfork Ben', 'Potato Bug', 'Pushmeet',\n",
    "         'Rock Candy', 'Schlomo', 'Scratchensniff', 'Scut',\n",
    "         \"Sid 'The Squirts'\", 'Skidmark', 'Slaps', 'Snakes', 'Snoobs',\n",
    "         'Snorki', 'Soupcan Sam', 'Spitzitout', 'Squids', 'Stinky',\n",
    "         'Storyboard', 'Sweet Tea', 'TeeTee', 'Wheezy Joe',\n",
    "         \"Winston 'Jazz Hands'\", 'Worms')\n",
    "\n",
    "last = ('Appleyard', 'Bigmeat', 'Bloominshine', 'Boogerbottom',\n",
    "        'Breedslovetrout', 'Butterbaugh', 'Clovenhoof', 'Clutterbuck',\n",
    "        'Cocktoasten', 'Endicott', 'Fewhairs', 'Gooberdapple', 'Goodensmith',\n",
    "        'Goodpasture', 'Guster', 'Henderson', 'Hooperbag', 'Hoosenater',\n",
    "        'Hootkins', 'Jefferson', 'Jenkins', 'Jingley-Schmidt', 'Johnson',\n",
    "        'Kingfish', 'Listenbee', \"M'Bembo\", 'McFadden', 'Moonshine', 'Nettles',\n",
    "        'Noseworthy', 'Olivetti', 'Outerbridge', 'Overpeck', 'Overturf',\n",
    "        'Oxhandler', 'Pealike', 'Pennywhistle', 'Peterson', 'Pieplow',\n",
    "        'Pinkerton', 'Porkins', 'Putney', 'Quakenbush', 'Rainwater',\n",
    "        'Rosenthal', 'Rubbins', 'Sackrider', 'Snuggleshine', 'Splern',\n",
    "        'Stevens', 'Stroganoff', 'Sugar-Gold', 'Swackhamer', 'Tippins',\n",
    "        'Turnipseed', 'Vinaigrette', 'Walkingstick', 'Wallbanger', 'Weewax',\n",
    "        'Weiners', 'Whipkey', 'Wigglesworth', 'Wimplesnatch', 'Winterkorn',\n",
    "        'Woolysocks')\n",
    "\n",
    "while True:\n",
    "    firstName = random.choice(first)\n",
    "    lastName = random.choice(last)\n",
    "\n",
    "    print('\\n\\n')\n",
    "    print(f'{firstName} {lastName}', file = sys.stderr)\n",
    "    # channeling the error to output file\n",
    "\n",
    "    try_again = input(\"\\nTry again? (Press Enter else 'n' to quit)\\n\")\n",
    "    if try_again.lower() == 'n':\n",
    "        break\n",
    "\n",
    "\n",
    "input(\"Press enter to exit\")"
   ]
  },
  {
   "cell_type": "code",
   "execution_count": null,
   "id": "a94daa90",
   "metadata": {},
   "outputs": [],
   "source": []
  }
 ],
 "metadata": {
  "kernelspec": {
   "display_name": "Python 3 (ipykernel)",
   "language": "python",
   "name": "python3"
  },
  "language_info": {
   "codemirror_mode": {
    "name": "ipython",
    "version": 3
   },
   "file_extension": ".py",
   "mimetype": "text/x-python",
   "name": "python",
   "nbconvert_exporter": "python",
   "pygments_lexer": "ipython3",
   "version": "3.8.11"
  }
 },
 "nbformat": 4,
 "nbformat_minor": 5
}
