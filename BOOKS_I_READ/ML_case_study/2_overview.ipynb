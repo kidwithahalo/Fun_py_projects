{
 "cells": [
  {
   "cell_type": "markdown",
   "source": [
    "## Revising the basics after long"
   ],
   "metadata": {
    "collapsed": false
   }
  },
  {
   "cell_type": "code",
   "execution_count": 1,
   "metadata": {
    "collapsed": true,
    "ExecuteTime": {
     "end_time": "2023-06-18T15:04:46.965044Z",
     "start_time": "2023-06-18T15:04:46.940240Z"
    }
   },
   "outputs": [
    {
     "name": "stdout",
     "output_type": "stream",
     "text": [
      "1 2 4 5 6 7 8 9 10 11 12 \n",
      "3 is not included\n"
     ]
    }
   ],
   "source": [
    "x = 0\n",
    "while x < 12:\n",
    "    x += 1\n",
    "    if x == 3:\n",
    "        continue\n",
    "    print(x, end=' ')\n",
    "print()\n",
    "print('3 is not included')"
   ]
  },
  {
   "cell_type": "code",
   "execution_count": 2,
   "outputs": [
    {
     "data": {
      "text/plain": "[1, 2, 3, 4, 5, 6, 7, 8, 9, 10, 11]"
     },
     "execution_count": 2,
     "metadata": {},
     "output_type": "execute_result"
    }
   ],
   "source": [
    "num = [i for i in range(1,12)]\n",
    "num"
   ],
   "metadata": {
    "collapsed": false,
    "ExecuteTime": {
     "end_time": "2023-06-18T15:04:47.000981Z",
     "start_time": "2023-06-18T15:04:46.961222Z"
    }
   }
  },
  {
   "cell_type": "code",
   "execution_count": 3,
   "outputs": [
    {
     "name": "stdout",
     "output_type": "stream",
     "text": [
      "Power Plant status : SAFE\n",
      "Power Plant status : SAFE\n",
      "Power Plant status : SAFE\n",
      "Power Plant status : SAFE\n",
      "Power Plant status : SAFE\n",
      "Power Plant status : SAFE\n",
      "Power Plant status : SAFE\n",
      "Power Plant status : SAFE\n",
      "Power Plant status : SAFE\n",
      "Power Plant status : SAFE\n",
      "CRITICAL !! CRITICAL!!\n"
     ]
    }
   ],
   "source": [
    "# while with else\n",
    "counter = 0\n",
    "while counter < 10:\n",
    "    print('Power Plant status : SAFE')\n",
    "    counter += 1\n",
    "else:\n",
    "    print('CRITICAL !! CRITICAL!!')\n"
   ],
   "metadata": {
    "collapsed": false,
    "ExecuteTime": {
     "end_time": "2023-06-18T15:04:47.003358Z",
     "start_time": "2023-06-18T15:04:46.983617Z"
    }
   }
  },
  {
   "cell_type": "code",
   "execution_count": 4,
   "outputs": [
    {
     "data": {
      "text/plain": "deque(['I', 'love', 'idk'])"
     },
     "execution_count": 4,
     "metadata": {},
     "output_type": "execute_result"
    }
   ],
   "source": [
    "# link list\n",
    "from collections import deque\n",
    "\n",
    "myQ = deque()\n",
    "myQ.append('I')\n",
    "myQ.append('love')\n",
    "myQ.append('idk')\n",
    "myQ"
   ],
   "metadata": {
    "collapsed": false,
    "ExecuteTime": {
     "end_time": "2023-06-18T15:04:47.155628Z",
     "start_time": "2023-06-18T15:04:46.987999Z"
    }
   }
  },
  {
   "cell_type": "code",
   "execution_count": 5,
   "outputs": [
    {
     "data": {
      "text/plain": "'idk'"
     },
     "execution_count": 5,
     "metadata": {},
     "output_type": "execute_result"
    }
   ],
   "source": [
    "myQ.pop()"
   ],
   "metadata": {
    "collapsed": false,
    "ExecuteTime": {
     "end_time": "2023-06-18T15:04:47.157015Z",
     "start_time": "2023-06-18T15:04:47.003959Z"
    }
   }
  },
  {
   "cell_type": "code",
   "execution_count": 6,
   "outputs": [
    {
     "data": {
      "text/plain": "deque(['I', 'love'])"
     },
     "execution_count": 6,
     "metadata": {},
     "output_type": "execute_result"
    }
   ],
   "source": [
    "myQ"
   ],
   "metadata": {
    "collapsed": false,
    "ExecuteTime": {
     "end_time": "2023-06-18T15:04:47.158457Z",
     "start_time": "2023-06-18T15:04:47.012078Z"
    }
   }
  },
  {
   "cell_type": "markdown",
   "source": [
    "## performing various search algorithm"
   ],
   "metadata": {
    "collapsed": false
   }
  },
  {
   "cell_type": "code",
   "execution_count": 7,
   "outputs": [
    {
     "data": {
      "text/plain": "12"
     },
     "execution_count": 7,
     "metadata": {},
     "output_type": "execute_result"
    }
   ],
   "source": [
    "# linear search\n",
    "mylist = [1, 2, 3, 5, 7, 11, 13, 17, 19, 23, 29, 31, 37, 41, 47]\n",
    "mylist.index(37)"
   ],
   "metadata": {
    "collapsed": false,
    "ExecuteTime": {
     "end_time": "2023-06-18T15:04:47.160401Z",
     "start_time": "2023-06-18T15:04:47.023612Z"
    }
   }
  },
  {
   "cell_type": "code",
   "execution_count": 8,
   "outputs": [
    {
     "name": "stdout",
     "output_type": "stream",
     "text": [
      "No result found\n"
     ]
    }
   ],
   "source": [
    "mylist = [1, 2, 3, 5, 7, 11, 13, 17, 19, 23, 29, 31, 37, 41, 47] #defining the list of prime numbers\n",
    "searchItem = int(input('Enter the number to be queried : '))\n",
    "found = False\n",
    "for i in range(len(mylist)):\n",
    "    if mylist[i] == searchItem:\n",
    "        found=True\n",
    "        print(f'Search located at index {i}')\n",
    "        break\n",
    "else:\n",
    "    print('No result found')\n"
   ],
   "metadata": {
    "collapsed": false,
    "ExecuteTime": {
     "end_time": "2023-06-18T15:04:50.328245Z",
     "start_time": "2023-06-18T15:04:47.039309Z"
    }
   }
  },
  {
   "cell_type": "code",
   "execution_count": 9,
   "outputs": [],
   "source": [
    "# binary search\n",
    "def binary_search(arr, query):\n",
    "    # repeat until low and high pointers meet each other\n",
    "    low=0\n",
    "    high=len(arr)-1\n",
    "    while low <= high:\n",
    "        mid = low + (high-low)//2\n",
    "\n",
    "        if arr[mid] == query:\n",
    "            return mid\n",
    "        elif arr[mid] < query:\n",
    "            low = mid + 1\n",
    "        else:\n",
    "            high = mid-1\n",
    "    return 'No match'"
   ],
   "metadata": {
    "collapsed": false,
    "ExecuteTime": {
     "end_time": "2023-06-18T15:04:50.334895Z",
     "start_time": "2023-06-18T15:04:50.003360Z"
    }
   }
  },
  {
   "cell_type": "code",
   "execution_count": 10,
   "outputs": [],
   "source": [
    "mylist = [1, 2, 3, 5, 7, 11, 13, 17, 19, 23, 29, 31, 37, 41, 47]"
   ],
   "metadata": {
    "collapsed": false,
    "ExecuteTime": {
     "end_time": "2023-06-18T15:04:50.335667Z",
     "start_time": "2023-06-18T15:04:50.034932Z"
    }
   }
  },
  {
   "cell_type": "code",
   "execution_count": 11,
   "outputs": [
    {
     "data": {
      "text/plain": "6"
     },
     "execution_count": 11,
     "metadata": {},
     "output_type": "execute_result"
    }
   ],
   "source": [
    "binary_search(arr=mylist, query=13)"
   ],
   "metadata": {
    "collapsed": false,
    "ExecuteTime": {
     "end_time": "2023-06-18T15:04:50.337670Z",
     "start_time": "2023-06-18T15:04:50.049910Z"
    }
   }
  },
  {
   "cell_type": "code",
   "execution_count": 12,
   "outputs": [
    {
     "data": {
      "text/plain": "'No match'"
     },
     "execution_count": 12,
     "metadata": {},
     "output_type": "execute_result"
    }
   ],
   "source": [
    "binary_search(arr=mylist, query=12)"
   ],
   "metadata": {
    "collapsed": false,
    "ExecuteTime": {
     "end_time": "2023-06-18T15:04:50.340081Z",
     "start_time": "2023-06-18T15:04:50.093821Z"
    }
   }
  },
  {
   "cell_type": "code",
   "execution_count": 15,
   "outputs": [],
   "source": [
    "word=[\"apple\",\"mango\",\"banana\",\"fig\",\"strawberry\"]\n",
    "word.sort(reverse=True)"
   ],
   "metadata": {
    "collapsed": false,
    "ExecuteTime": {
     "end_time": "2023-06-18T15:05:40.073333Z",
     "start_time": "2023-06-18T15:05:39.954407Z"
    }
   }
  },
  {
   "cell_type": "code",
   "execution_count": 16,
   "outputs": [
    {
     "data": {
      "text/plain": "['strawberry', 'mango', 'fig', 'banana', 'apple']"
     },
     "execution_count": 16,
     "metadata": {},
     "output_type": "execute_result"
    }
   ],
   "source": [
    "word"
   ],
   "metadata": {
    "collapsed": false,
    "ExecuteTime": {
     "end_time": "2023-06-18T15:05:40.731453Z",
     "start_time": "2023-06-18T15:05:40.627582Z"
    }
   }
  },
  {
   "cell_type": "code",
   "execution_count": 17,
   "outputs": [],
   "source": [
    "# combining the dictionary\n",
    "\n",
    "# combine keys respective values from to dictionary variable\n",
    "A={'a':72,'b':17,'c':8}\n",
    "B={'a':1308,'b':1,'c':12}"
   ],
   "metadata": {
    "collapsed": false,
    "ExecuteTime": {
     "end_time": "2023-06-18T15:14:55.769625Z",
     "start_time": "2023-06-18T15:14:55.762605Z"
    }
   }
  },
  {
   "cell_type": "code",
   "execution_count": 18,
   "outputs": [
    {
     "data": {
      "text/plain": "{'a': 72, 'b': 17, 'c': 8}"
     },
     "execution_count": 18,
     "metadata": {},
     "output_type": "execute_result"
    }
   ],
   "source": [
    "A"
   ],
   "metadata": {
    "collapsed": false,
    "ExecuteTime": {
     "end_time": "2023-06-18T15:15:01.116166Z",
     "start_time": "2023-06-18T15:15:01.029327Z"
    }
   }
  },
  {
   "cell_type": "code",
   "execution_count": 19,
   "outputs": [
    {
     "data": {
      "text/plain": "{'a': 1308, 'b': 1, 'c': 12}"
     },
     "execution_count": 19,
     "metadata": {},
     "output_type": "execute_result"
    }
   ],
   "source": [
    "B"
   ],
   "metadata": {
    "collapsed": false,
    "ExecuteTime": {
     "end_time": "2023-06-18T15:15:03.988727Z",
     "start_time": "2023-06-18T15:15:03.961579Z"
    }
   }
  },
  {
   "cell_type": "code",
   "execution_count": 21,
   "outputs": [],
   "source": [
    "combineDict = {}\n",
    "\n",
    "for key in A.keys():\n",
    "    if key in B.keys():\n",
    "        combineDict[key] = []\n",
    "        combineDict[key].append(A[key])\n",
    "        combineDict[key].append(B[key])\n"
   ],
   "metadata": {
    "collapsed": false,
    "ExecuteTime": {
     "end_time": "2023-06-18T15:19:30.456734Z",
     "start_time": "2023-06-18T15:19:30.434552Z"
    }
   }
  },
  {
   "cell_type": "code",
   "execution_count": 22,
   "outputs": [
    {
     "data": {
      "text/plain": "{'a': [72, 1308], 'b': [17, 1], 'c': [8, 12]}"
     },
     "execution_count": 22,
     "metadata": {},
     "output_type": "execute_result"
    }
   ],
   "source": [
    "combineDict"
   ],
   "metadata": {
    "collapsed": false,
    "ExecuteTime": {
     "end_time": "2023-06-18T15:19:35.103490Z",
     "start_time": "2023-06-18T15:19:35.025665Z"
    }
   }
  },
  {
   "cell_type": "code",
   "execution_count": 29,
   "outputs": [],
   "source": [
    "# variable arguments\n",
    "\n",
    "def printinfo(arg1, *vararg1):\n",
    "    print(f'Numbers are \\n{arg1}')\n",
    "\n",
    "    for entry in vararg1:\n",
    "        print(entry)\n",
    "\n",
    "    return"
   ],
   "metadata": {
    "collapsed": false,
    "ExecuteTime": {
     "end_time": "2023-06-18T15:56:42.416740Z",
     "start_time": "2023-06-18T15:56:42.396828Z"
    }
   }
  },
  {
   "cell_type": "code",
   "execution_count": 30,
   "outputs": [
    {
     "name": "stdout",
     "output_type": "stream",
     "text": [
      "Numbers are \n",
      "12\n"
     ]
    }
   ],
   "source": [
    "printinfo(12)"
   ],
   "metadata": {
    "collapsed": false,
    "ExecuteTime": {
     "end_time": "2023-06-18T15:56:42.626284Z",
     "start_time": "2023-06-18T15:56:42.588054Z"
    }
   }
  },
  {
   "cell_type": "code",
   "execution_count": 31,
   "outputs": [
    {
     "name": "stdout",
     "output_type": "stream",
     "text": [
      "Numbers are \n",
      "12\n",
      "34\n",
      "63\n",
      "145\n"
     ]
    }
   ],
   "source": [
    "printinfo(12,34,63,145)"
   ],
   "metadata": {
    "collapsed": false,
    "ExecuteTime": {
     "end_time": "2023-06-18T15:56:42.923759Z",
     "start_time": "2023-06-18T15:56:42.896332Z"
    }
   }
  },
  {
   "cell_type": "code",
   "execution_count": 34,
   "outputs": [],
   "source": [
    "square = lambda x:x**2"
   ],
   "metadata": {
    "collapsed": false,
    "ExecuteTime": {
     "end_time": "2023-06-18T16:00:10.383481Z",
     "start_time": "2023-06-18T16:00:10.334497Z"
    }
   }
  },
  {
   "cell_type": "code",
   "execution_count": 35,
   "outputs": [
    {
     "data": {
      "text/plain": "9"
     },
     "execution_count": 35,
     "metadata": {},
     "output_type": "execute_result"
    }
   ],
   "source": [
    "square(3)"
   ],
   "metadata": {
    "collapsed": false,
    "ExecuteTime": {
     "end_time": "2023-06-18T16:00:10.573990Z",
     "start_time": "2023-06-18T16:00:10.492444Z"
    }
   }
  },
  {
   "cell_type": "code",
   "execution_count": 38,
   "outputs": [],
   "source": [
    "my_list = [1,5,4,6,11,34,12]\n",
    "new_list = list(filter(lambda x:(x%2 == 0), my_list))"
   ],
   "metadata": {
    "collapsed": false,
    "ExecuteTime": {
     "end_time": "2023-06-18T16:02:11.500672Z",
     "start_time": "2023-06-18T16:02:11.418043Z"
    }
   }
  },
  {
   "cell_type": "code",
   "execution_count": 39,
   "outputs": [
    {
     "data": {
      "text/plain": "[4, 6, 34, 12]"
     },
     "execution_count": 39,
     "metadata": {},
     "output_type": "execute_result"
    }
   ],
   "source": [
    "new_list"
   ],
   "metadata": {
    "collapsed": false,
    "ExecuteTime": {
     "end_time": "2023-06-18T16:02:12.154901Z",
     "start_time": "2023-06-18T16:02:12.064631Z"
    }
   }
  },
  {
   "cell_type": "code",
   "execution_count": 41,
   "outputs": [
    {
     "data": {
      "text/plain": "['Wo maane na maane, marzi hain unki \\n',\n 'Magar unko purnam, manaa kar to dekho \\n',\n 'Hamesha hue dekh kar mujhko barham \\n',\n 'Kabhi ek baar muskura ke bhi to dekho \\n',\n '\\n']"
     },
     "execution_count": 41,
     "metadata": {},
     "output_type": "execute_result"
    }
   ],
   "source": [
    "# reading the files\n",
    "\n",
    "q = open('nfak.txt','r')\n",
    "q.readlines()"
   ],
   "metadata": {
    "collapsed": false,
    "ExecuteTime": {
     "end_time": "2023-06-18T16:16:54.728422Z",
     "start_time": "2023-06-18T16:16:54.551859Z"
    }
   }
  },
  {
   "cell_type": "code",
   "execution_count": 42,
   "outputs": [],
   "source": [
    "q.close()"
   ],
   "metadata": {
    "collapsed": false,
    "ExecuteTime": {
     "end_time": "2023-06-18T16:17:32.853106Z",
     "start_time": "2023-06-18T16:17:32.792952Z"
    }
   }
  },
  {
   "cell_type": "code",
   "execution_count": 59,
   "outputs": [],
   "source": [
    "import numpy as np"
   ],
   "metadata": {
    "collapsed": false,
    "ExecuteTime": {
     "end_time": "2023-06-19T18:26:26.138285Z",
     "start_time": "2023-06-19T18:26:26.020212Z"
    }
   }
  },
  {
   "cell_type": "code",
   "execution_count": 60,
   "outputs": [
    {
     "data": {
      "text/plain": "array([[1., 0., 0.],\n       [0., 1., 0.],\n       [0., 0., 1.]])"
     },
     "execution_count": 60,
     "metadata": {},
     "output_type": "execute_result"
    }
   ],
   "source": [
    "np.eye(3)"
   ],
   "metadata": {
    "collapsed": false,
    "ExecuteTime": {
     "end_time": "2023-06-19T18:26:27.372018Z",
     "start_time": "2023-06-19T18:26:27.224183Z"
    }
   }
  },
  {
   "cell_type": "code",
   "execution_count": 61,
   "outputs": [
    {
     "data": {
      "text/plain": "array([[2.+0.j, 5.+0.j],\n       [7.+0.j, 4.+0.j]])"
     },
     "execution_count": 61,
     "metadata": {},
     "output_type": "execute_result"
    }
   ],
   "source": [
    "np.array([[2,5],[7,4]], dtype=complex)"
   ],
   "metadata": {
    "collapsed": false,
    "ExecuteTime": {
     "end_time": "2023-06-19T18:26:27.942739Z",
     "start_time": "2023-06-19T18:26:27.845027Z"
    }
   }
  },
  {
   "cell_type": "code",
   "execution_count": 62,
   "outputs": [
    {
     "data": {
      "text/plain": "array([1.+0.j, 4.+0.j, 7.+0.j])"
     },
     "execution_count": 62,
     "metadata": {},
     "output_type": "execute_result"
    }
   ],
   "source": [
    "a = np.array([1,4,7], dtype=complex)\n",
    "a"
   ],
   "metadata": {
    "collapsed": false,
    "ExecuteTime": {
     "end_time": "2023-06-19T18:26:28.747851Z",
     "start_time": "2023-06-19T18:26:28.730272Z"
    }
   }
  },
  {
   "cell_type": "code",
   "execution_count": 63,
   "outputs": [],
   "source": [
    "a.imag = np.array([2,5,4])"
   ],
   "metadata": {
    "collapsed": false,
    "ExecuteTime": {
     "end_time": "2023-06-19T18:26:29.408253Z",
     "start_time": "2023-06-19T18:26:29.404290Z"
    }
   }
  },
  {
   "cell_type": "code",
   "execution_count": 64,
   "outputs": [
    {
     "data": {
      "text/plain": "array([1.+2.j, 4.+5.j, 7.+4.j])"
     },
     "execution_count": 64,
     "metadata": {},
     "output_type": "execute_result"
    }
   ],
   "source": [
    "a"
   ],
   "metadata": {
    "collapsed": false,
    "ExecuteTime": {
     "end_time": "2023-06-19T18:26:30.035087Z",
     "start_time": "2023-06-19T18:26:30.019047Z"
    }
   }
  },
  {
   "cell_type": "code",
   "execution_count": 72,
   "outputs": [],
   "source": [
    "p = np.arange(10)**2"
   ],
   "metadata": {
    "collapsed": false,
    "ExecuteTime": {
     "end_time": "2023-06-19T18:32:53.984104Z",
     "start_time": "2023-06-19T18:32:53.932298Z"
    }
   }
  },
  {
   "cell_type": "code",
   "execution_count": 68,
   "outputs": [
    {
     "data": {
      "text/plain": "array([1, 2, 3, 4])"
     },
     "execution_count": 68,
     "metadata": {},
     "output_type": "execute_result"
    }
   ],
   "source": [
    "x = [1,2,3,4]\n",
    "a = np.asarray(a=x)\n",
    "a"
   ],
   "metadata": {
    "collapsed": false,
    "ExecuteTime": {
     "end_time": "2023-06-19T18:28:26.063278Z",
     "start_time": "2023-06-19T18:28:26.020395Z"
    }
   }
  },
  {
   "cell_type": "code",
   "execution_count": 69,
   "outputs": [
    {
     "data": {
      "text/plain": "numpy.ndarray"
     },
     "execution_count": 69,
     "metadata": {},
     "output_type": "execute_result"
    }
   ],
   "source": [
    "type(a)"
   ],
   "metadata": {
    "collapsed": false,
    "ExecuteTime": {
     "end_time": "2023-06-19T18:28:31.364634Z",
     "start_time": "2023-06-19T18:28:31.320161Z"
    }
   }
  },
  {
   "cell_type": "code",
   "execution_count": 70,
   "outputs": [
    {
     "data": {
      "text/plain": "list"
     },
     "execution_count": 70,
     "metadata": {},
     "output_type": "execute_result"
    }
   ],
   "source": [
    "type(x)"
   ],
   "metadata": {
    "collapsed": false,
    "ExecuteTime": {
     "end_time": "2023-06-19T18:28:35.797906Z",
     "start_time": "2023-06-19T18:28:35.734317Z"
    }
   }
  },
  {
   "cell_type": "code",
   "execution_count": 75,
   "outputs": [],
   "source": [
    "s = slice(2,17)"
   ],
   "metadata": {
    "collapsed": false,
    "ExecuteTime": {
     "end_time": "2023-06-19T18:33:39.491894Z",
     "start_time": "2023-06-19T18:33:39.488474Z"
    }
   }
  },
  {
   "cell_type": "code",
   "execution_count": 76,
   "outputs": [
    {
     "data": {
      "text/plain": "array([ 4,  9, 16, 25, 36, 49, 64, 81])"
     },
     "execution_count": 76,
     "metadata": {},
     "output_type": "execute_result"
    }
   ],
   "source": [
    "p[s]"
   ],
   "metadata": {
    "collapsed": false,
    "ExecuteTime": {
     "end_time": "2023-06-19T18:33:39.782936Z",
     "start_time": "2023-06-19T18:33:39.777405Z"
    }
   }
  },
  {
   "cell_type": "code",
   "execution_count": null,
   "outputs": [],
   "source": [],
   "metadata": {
    "collapsed": false
   }
  }
 ],
 "metadata": {
  "kernelspec": {
   "display_name": "Python 3",
   "language": "python",
   "name": "python3"
  },
  "language_info": {
   "codemirror_mode": {
    "name": "ipython",
    "version": 2
   },
   "file_extension": ".py",
   "mimetype": "text/x-python",
   "name": "python",
   "nbconvert_exporter": "python",
   "pygments_lexer": "ipython2",
   "version": "2.7.6"
  }
 },
 "nbformat": 4,
 "nbformat_minor": 0
}
