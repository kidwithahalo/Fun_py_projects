{
 "cells": [
  {
   "cell_type": "code",
   "execution_count": 1,
   "metadata": {},
   "outputs": [
    {
     "data": {
      "text/latex": [
       "$\\displaystyle \\left\\{2, 4, 6\\right\\}$"
      ],
      "text/plain": [
       "FiniteSet(2, 4, 6)"
      ]
     },
     "execution_count": 1,
     "metadata": {},
     "output_type": "execute_result"
    }
   ],
   "source": [
    "from sympy import FiniteSet\n",
    "\n",
    "s = FiniteSet(2,4,6)\n",
    "s"
   ]
  },
  {
   "cell_type": "code",
   "execution_count": 2,
   "metadata": {},
   "outputs": [
    {
     "data": {
      "text/latex": [
       "$\\displaystyle \\left\\{\\frac{1}{5}, 1.5, 2\\right\\}$"
      ],
      "text/plain": [
       "FiniteSet(1/5, 1.5, 2)"
      ]
     },
     "execution_count": 2,
     "metadata": {},
     "output_type": "execute_result"
    }
   ],
   "source": [
    "from sympy import FiniteSet\n",
    "from fractions import Fraction\n",
    "\n",
    "s = FiniteSet(2, 1.5, Fraction(1,5))\n",
    "s"
   ]
  },
  {
   "cell_type": "code",
   "execution_count": 3,
   "metadata": {},
   "outputs": [
    {
     "data": {
      "text/plain": [
       "3"
      ]
     },
     "execution_count": 3,
     "metadata": {},
     "output_type": "execute_result"
    }
   ],
   "source": [
    "len(s)"
   ]
  },
  {
   "cell_type": "code",
   "execution_count": 4,
   "metadata": {},
   "outputs": [
    {
     "data": {
      "text/plain": [
       "True"
      ]
     },
     "execution_count": 4,
     "metadata": {},
     "output_type": "execute_result"
    }
   ],
   "source": [
    "2 in s"
   ]
  },
  {
   "cell_type": "code",
   "execution_count": 5,
   "metadata": {},
   "outputs": [
    {
     "data": {
      "text/latex": [
       "$\\displaystyle \\emptyset$"
      ],
      "text/plain": [
       "EmptySet"
      ]
     },
     "execution_count": 5,
     "metadata": {},
     "output_type": "execute_result"
    }
   ],
   "source": [
    "s = FiniteSet()\n",
    "s"
   ]
  },
  {
   "cell_type": "code",
   "execution_count": 6,
   "metadata": {},
   "outputs": [
    {
     "data": {
      "text/latex": [
       "$\\displaystyle \\left\\{1, 4, 7, 12\\right\\}$"
      ],
      "text/plain": [
       "FiniteSet(1, 4, 7, 12)"
      ]
     },
     "execution_count": 6,
     "metadata": {},
     "output_type": "execute_result"
    }
   ],
   "source": [
    "members = [1,12,4,7]\n",
    "s = FiniteSet(*members)\n",
    "# the * meant that arguments in the set must be passed separately not as list\n",
    "\n",
    "s"
   ]
  },
  {
   "cell_type": "code",
   "execution_count": 7,
   "metadata": {},
   "outputs": [
    {
     "data": {
      "text/latex": [
       "$\\displaystyle \\left\\{1, 2, 3, 4, 5\\right\\}$"
      ],
      "text/plain": [
       "FiniteSet(1, 2, 3, 4, 5)"
      ]
     },
     "execution_count": 7,
     "metadata": {},
     "output_type": "execute_result"
    }
   ],
   "source": [
    "# repitition in order\n",
    "\n",
    "members = [ 1,3,5,2,4,5,3]\n",
    "s = FiniteSet(*members)\n",
    "s"
   ]
  },
  {
   "cell_type": "code",
   "execution_count": 8,
   "metadata": {},
   "outputs": [
    {
     "name": "stdout",
     "output_type": "stream",
     "text": [
      "1\n",
      "2\n",
      "3\n",
      "4\n",
      "5\n"
     ]
    }
   ],
   "source": [
    "for entry in s:\n",
    "    print(entry)"
   ]
  },
  {
   "cell_type": "code",
   "execution_count": 9,
   "metadata": {},
   "outputs": [
    {
     "data": {
      "text/plain": [
       "False"
      ]
     },
     "execution_count": 9,
     "metadata": {},
     "output_type": "execute_result"
    }
   ],
   "source": [
    "s = FiniteSet(1,2,3,4)\n",
    "t = FiniteSet(2,3,1)\n",
    "\n",
    "s == t"
   ]
  },
  {
   "cell_type": "code",
   "execution_count": 10,
   "metadata": {},
   "outputs": [
    {
     "data": {
      "text/plain": [
       "True"
      ]
     },
     "execution_count": 10,
     "metadata": {},
     "output_type": "execute_result"
    }
   ],
   "source": [
    "t.is_subset(s)"
   ]
  },
  {
   "cell_type": "code",
   "execution_count": 11,
   "metadata": {},
   "outputs": [
    {
     "data": {
      "text/plain": [
       "False"
      ]
     },
     "execution_count": 11,
     "metadata": {},
     "output_type": "execute_result"
    }
   ],
   "source": [
    "t.is_superset(s)"
   ]
  },
  {
   "cell_type": "code",
   "execution_count": 12,
   "metadata": {},
   "outputs": [
    {
     "data": {
      "text/plain": [
       "True"
      ]
     },
     "execution_count": 12,
     "metadata": {},
     "output_type": "execute_result"
    }
   ],
   "source": [
    "s.is_superset(t)"
   ]
  },
  {
   "cell_type": "code",
   "execution_count": 13,
   "metadata": {},
   "outputs": [
    {
     "data": {
      "text/latex": [
       "$\\displaystyle \\left\\{\\emptyset, \\left\\{1\\right\\}, \\left\\{2\\right\\}, \\left\\{3\\right\\}, \\left\\{4\\right\\}, \\left\\{1, 2\\right\\}, \\left\\{1, 3\\right\\}, \\left\\{1, 4\\right\\}, \\left\\{2, 3\\right\\}, \\left\\{2, 4\\right\\}, \\left\\{3, 4\\right\\}, \\left\\{1, 2, 3\\right\\}, \\left\\{1, 2, 4\\right\\}, \\left\\{1, 3, 4\\right\\}, \\left\\{2, 3, 4\\right\\}, \\left\\{1, 2, 3, 4\\right\\}\\right\\}$"
      ],
      "text/plain": [
       "FiniteSet(FiniteSet(1), FiniteSet(1, 2), FiniteSet(1, 3), FiniteSet(1, 4), FiniteSet(1, 2, 3), FiniteSet(1, 2, 4), FiniteSet(1, 3, 4), FiniteSet(1, 2, 3, 4), FiniteSet(2), FiniteSet(2, 3), FiniteSet(2, 4), FiniteSet(2, 3, 4), FiniteSet(3), FiniteSet(3, 4), FiniteSet(4), EmptySet)"
      ]
     },
     "execution_count": 13,
     "metadata": {},
     "output_type": "execute_result"
    }
   ],
   "source": [
    "# powerset\n",
    "\n",
    "ps = s.powerset()\n",
    "ps"
   ]
  },
  {
   "cell_type": "code",
   "execution_count": 14,
   "metadata": {},
   "outputs": [
    {
     "data": {
      "text/plain": [
       "16"
      ]
     },
     "execution_count": 14,
     "metadata": {},
     "output_type": "execute_result"
    }
   ],
   "source": [
    "len(ps)"
   ]
  },
  {
   "cell_type": "code",
   "execution_count": 15,
   "metadata": {},
   "outputs": [
    {
     "data": {
      "text/latex": [
       "$\\displaystyle \\left\\{\\emptyset, \\left\\{1\\right\\}, \\left\\{2\\right\\}, \\left\\{3\\right\\}, \\left\\{1, 2\\right\\}, \\left\\{1, 3\\right\\}, \\left\\{2, 3\\right\\}, \\left\\{1, 2, 3\\right\\}\\right\\}$"
      ],
      "text/plain": [
       "FiniteSet(FiniteSet(1), FiniteSet(1, 2), FiniteSet(1, 3), FiniteSet(1, 2, 3), FiniteSet(2), FiniteSet(2, 3), FiniteSet(3), EmptySet)"
      ]
     },
     "execution_count": 15,
     "metadata": {},
     "output_type": "execute_result"
    }
   ],
   "source": [
    "ps_t = t.powerset()\n",
    "ps_t"
   ]
  },
  {
   "cell_type": "code",
   "execution_count": 16,
   "metadata": {},
   "outputs": [
    {
     "data": {
      "text/plain": [
       "8"
      ]
     },
     "execution_count": 16,
     "metadata": {},
     "output_type": "execute_result"
    }
   ],
   "source": [
    "len(ps_t)"
   ]
  },
  {
   "cell_type": "code",
   "execution_count": 17,
   "metadata": {},
   "outputs": [
    {
     "data": {
      "text/plain": [
       "False"
      ]
     },
     "execution_count": 17,
     "metadata": {},
     "output_type": "execute_result"
    }
   ],
   "source": [
    "from sympy import FiniteSet\n",
    "\n",
    "s = FiniteSet(1,2,3,4,5)\n",
    "t = FiniteSet(2,3,1)\n",
    "\n",
    "s.is_proper_subset(t)"
   ]
  },
  {
   "cell_type": "code",
   "execution_count": 18,
   "metadata": {},
   "outputs": [
    {
     "data": {
      "text/plain": [
       "True"
      ]
     },
     "execution_count": 18,
     "metadata": {},
     "output_type": "execute_result"
    }
   ],
   "source": [
    "t.is_proper_subset(s)\n",
    "\n",
    "# is t the proper subset of s"
   ]
  },
  {
   "cell_type": "code",
   "execution_count": 19,
   "metadata": {},
   "outputs": [
    {
     "data": {
      "text/latex": [
       "$\\displaystyle \\left\\{1, 2, 3, 4, 5\\right\\}$"
      ],
      "text/plain": [
       "FiniteSet(1, 2, 3, 4, 5)"
      ]
     },
     "execution_count": 19,
     "metadata": {},
     "output_type": "execute_result"
    }
   ],
   "source": [
    "# union and intersection\n",
    "\n",
    "s.union(t)"
   ]
  },
  {
   "cell_type": "code",
   "execution_count": 20,
   "metadata": {},
   "outputs": [
    {
     "data": {
      "text/latex": [
       "$\\displaystyle \\left\\{1, 2, 3, 4, 5\\right\\}$"
      ],
      "text/plain": [
       "FiniteSet(1, 2, 3, 4, 5)"
      ]
     },
     "execution_count": 20,
     "metadata": {},
     "output_type": "execute_result"
    }
   ],
   "source": [
    "s"
   ]
  },
  {
   "cell_type": "code",
   "execution_count": 21,
   "metadata": {},
   "outputs": [
    {
     "data": {
      "text/latex": [
       "$\\displaystyle \\left\\{1, 2, 3\\right\\}$"
      ],
      "text/plain": [
       "FiniteSet(1, 2, 3)"
      ]
     },
     "execution_count": 21,
     "metadata": {},
     "output_type": "execute_result"
    }
   ],
   "source": [
    "t"
   ]
  },
  {
   "cell_type": "code",
   "execution_count": 22,
   "metadata": {},
   "outputs": [
    {
     "data": {
      "text/latex": [
       "$\\displaystyle \\left\\{1, 2, 3, 4, 5, 6, 8, 9\\right\\}$"
      ],
      "text/plain": [
       "FiniteSet(1, 2, 3, 4, 5, 6, 8, 9)"
      ]
     },
     "execution_count": 22,
     "metadata": {},
     "output_type": "execute_result"
    }
   ],
   "source": [
    "s = FiniteSet(1,3,4,6)\n",
    "t = FiniteSet(3,6,5,8)\n",
    "v = FiniteSet(1,3,6,9,2)\n",
    "\n",
    "s.union(t).union(v)"
   ]
  },
  {
   "cell_type": "code",
   "execution_count": 23,
   "metadata": {},
   "outputs": [
    {
     "data": {
      "text/latex": [
       "$\\displaystyle \\left\\{3, 6\\right\\}$"
      ],
      "text/plain": [
       "FiniteSet(3, 6)"
      ]
     },
     "execution_count": 23,
     "metadata": {},
     "output_type": "execute_result"
    }
   ],
   "source": [
    "s.intersect(t).intersect(v)"
   ]
  },
  {
   "cell_type": "code",
   "execution_count": 24,
   "metadata": {},
   "outputs": [
    {
     "data": {
      "text/latex": [
       "$\\displaystyle \\left\\{1, 3, 4, 6\\right\\} \\times \\left\\{3, 5, 6, 8\\right\\}$"
      ],
      "text/plain": [
       "ProductSet(FiniteSet(1, 3, 4, 6), FiniteSet(3, 5, 6, 8))"
      ]
     },
     "execution_count": 24,
     "metadata": {},
     "output_type": "execute_result"
    }
   ],
   "source": [
    "# cartesian product\n",
    "\n",
    "p = s*t\n",
    "p"
   ]
  },
  {
   "cell_type": "code",
   "execution_count": 25,
   "metadata": {},
   "outputs": [
    {
     "name": "stdout",
     "output_type": "stream",
     "text": [
      "(1, 3)\n",
      "(3, 3)\n",
      "(1, 5)\n",
      "(4, 3)\n",
      "(3, 5)\n",
      "(1, 6)\n",
      "(6, 3)\n",
      "(4, 5)\n",
      "(3, 6)\n",
      "(1, 8)\n",
      "(6, 5)\n",
      "(4, 6)\n",
      "(3, 8)\n",
      "(6, 6)\n",
      "(4, 8)\n",
      "(6, 8)\n"
     ]
    }
   ],
   "source": [
    "for element in p:\n",
    "    print(element)"
   ]
  },
  {
   "cell_type": "code",
   "execution_count": 26,
   "metadata": {},
   "outputs": [
    {
     "data": {
      "text/plain": [
       "16"
      ]
     },
     "execution_count": 26,
     "metadata": {},
     "output_type": "execute_result"
    }
   ],
   "source": [
    "len(p)"
   ]
  },
  {
   "cell_type": "code",
   "execution_count": 27,
   "metadata": {},
   "outputs": [
    {
     "data": {
      "text/plain": [
       "True"
      ]
     },
     "execution_count": 27,
     "metadata": {},
     "output_type": "execute_result"
    }
   ],
   "source": [
    "len(p) == len(s) * len(t)"
   ]
  },
  {
   "cell_type": "code",
   "execution_count": 28,
   "metadata": {},
   "outputs": [
    {
     "data": {
      "text/latex": [
       "$\\displaystyle \\left\\{1, 3, 4, 6\\right\\}^{2}$"
      ],
      "text/plain": [
       "ProductSet(FiniteSet(1, 3, 4, 6), FiniteSet(1, 3, 4, 6))"
      ]
     },
     "execution_count": 28,
     "metadata": {},
     "output_type": "execute_result"
    }
   ],
   "source": [
    "p1 = s**2\n",
    "p1"
   ]
  },
  {
   "cell_type": "code",
   "execution_count": 29,
   "metadata": {},
   "outputs": [
    {
     "name": "stdout",
     "output_type": "stream",
     "text": [
      "(1, 1)\n",
      "(3, 1)\n",
      "(1, 3)\n",
      "(4, 1)\n",
      "(3, 3)\n",
      "(1, 4)\n",
      "(6, 1)\n",
      "(4, 3)\n",
      "(3, 4)\n",
      "(1, 6)\n",
      "(6, 3)\n",
      "(4, 4)\n",
      "(3, 6)\n",
      "(6, 4)\n",
      "(4, 6)\n",
      "(6, 6)\n"
     ]
    }
   ],
   "source": [
    "for element in p1:\n",
    "    print(element)"
   ]
  },
  {
   "cell_type": "markdown",
   "metadata": {},
   "source": [
    "finding the Cartesian product of sets is useful for \n",
    "finding all possible combinations of the set members"
   ]
  },
  {
   "cell_type": "code",
   "execution_count": 30,
   "metadata": {},
   "outputs": [
    {
     "data": {
      "text/plain": [
       "16"
      ]
     },
     "execution_count": 30,
     "metadata": {},
     "output_type": "execute_result"
    }
   ],
   "source": [
    "len(p1)"
   ]
  },
  {
   "cell_type": "markdown",
   "metadata": {},
   "source": [
    "## finding time period - multiple variables "
   ]
  },
  {
   "cell_type": "code",
   "execution_count": 31,
   "metadata": {},
   "outputs": [
    {
     "name": "stdout",
     "output_type": "stream",
     "text": [
      "Length : 12.0 cm , Time Period : 0.695 s\n",
      "Length : 15.0 cm , Time Period : 0.777 s\n",
      "Length : 21.0 cm , Time Period : 0.920 s\n",
      "Length : 22.5 cm , Time Period : 0.952 s\n",
      "Length : 25.0 cm , Time Period : 1.004 s\n"
     ]
    }
   ],
   "source": [
    "from sympy import FiniteSet, pi\n",
    "def time_period(length):\n",
    "    \n",
    "    g = 9.8\n",
    "    T = 2*pi*(length/g)**0.5\n",
    "    return T\n",
    "\n",
    "if __name__ == \"__main__\":\n",
    "    \n",
    "    L = FiniteSet(15,12,21,22.5,25)\n",
    "    for l in L:\n",
    "        t = time_period(l/100)\n",
    "        print(f\"Length : {float(l)} cm , Time Period : {float(t):.3f} s\")"
   ]
  },
  {
   "cell_type": "code",
   "execution_count": 32,
   "metadata": {},
   "outputs": [
    {
     "name": "stdout",
     "output_type": "stream",
     "text": [
      "Length(cm)  Gravity(m/s^2)  Time Period(s)\n",
      "     15.0          9.78      0.778   \n",
      "     18.0          9.78      0.852   \n",
      "     15.0          9.80      0.777   \n",
      "     21.0          9.78      0.921   \n",
      "     18.0          9.80      0.852   \n",
      "     15.0          9.83      0.776   \n",
      "     22.5          9.78      0.953   \n",
      "     21.0          9.80      0.920   \n",
      "     18.0          9.83      0.850   \n",
      "     25.0          9.78      1.005   \n",
      "     22.5          9.80      0.952   \n",
      "     21.0          9.83      0.918   \n",
      "     25.0          9.80      1.004   \n",
      "     22.5          9.83      0.951   \n",
      "     25.0          9.83      1.002   \n"
     ]
    }
   ],
   "source": [
    "from sympy import FiniteSet, pi\n",
    "\n",
    "def time_period(length, g):\n",
    "    \n",
    "    T = 2*pi*(length/g)**0.5\n",
    "    return T\n",
    "\n",
    "if __name__ == \"__main__\":\n",
    "    \n",
    "    L = FiniteSet(15,18,21,22.5,25)\n",
    "    g_values = FiniteSet(9.8,9.78,9.83)\n",
    "    \n",
    "#     the length of list are different\n",
    "    \n",
    "    print(f\"{'Length(cm)'}  {'Gravity(m/s^2)'}  {'Time Period(s)'}\")\n",
    "    \n",
    "    for elem in L*g_values:\n",
    "        l = elem[0]\n",
    "        g = elem[1]\n",
    "        \n",
    "        t = time_period(l/100,g)\n",
    "        \n",
    "        print(f\"{float(l):^15} {float(g):^10.2f} {float(t):^10.3f}\")\n",
    "        \n",
    "# lookout for the neat printing shortcuts here"
   ]
  },
  {
   "cell_type": "code",
   "execution_count": 34,
   "metadata": {},
   "outputs": [
    {
     "data": {
      "text/plain": [
       "15"
      ]
     },
     "execution_count": 34,
     "metadata": {},
     "output_type": "execute_result"
    }
   ],
   "source": [
    "len(L*g_values)"
   ]
  },
  {
   "cell_type": "markdown",
   "metadata": {},
   "source": [
    "# probability"
   ]
  },
  {
   "cell_type": "code",
   "execution_count": 43,
   "metadata": {},
   "outputs": [
    {
     "name": "stdout",
     "output_type": "stream",
     "text": [
      "Sample space : FiniteSet(1, 2, 3, 4, 5, 6, 7, 8, 9, 10, 11, 12, 13, 14, 15, 16, 17, 18, 19, 20)\n",
      "Event : FiniteSet(2, 3, 5, 7, 11, 13, 17, 19)\n",
      "Probability of rolling a prime : 0.40000\n",
      "\n",
      "\n"
     ]
    }
   ],
   "source": [
    "# probalityof a prime number appearing when a 20-sided die is rolled \n",
    "\n",
    "def prob(space, event):\n",
    "    return len(event)/len(space)\n",
    "\n",
    "def check_prime(number):\n",
    "    if number != 1:\n",
    "        for factor in range(2,number):\n",
    "            if number % factor == 0:\n",
    "                return False\n",
    "    else:\n",
    "        return\n",
    "    \n",
    "    return True\n",
    "\n",
    "if __name__ == \"__main__\":\n",
    "    space = FiniteSet(*range(1,21))\n",
    "    prime = []\n",
    "    for num in space:\n",
    "    \n",
    "        if check_prime(num):\n",
    "            prime.append(num)\n",
    "            \n",
    "        event = FiniteSet(*prime)\n",
    "        p = prob(space, event)\n",
    "        \n",
    "        \n",
    "    print(f'Sample space : {space}')\n",
    "    print(f\"Event : {event}\")\n",
    "    print(f\"Probability of rolling a prime : {p:.5f}\")\n",
    "    print('\\n')\n"
   ]
  },
  {
   "cell_type": "markdown",
   "metadata": {},
   "source": [
    "# random module"
   ]
  },
  {
   "cell_type": "code",
   "execution_count": 52,
   "metadata": {},
   "outputs": [
    {
     "data": {
      "text/plain": [
       "4"
      ]
     },
     "execution_count": 52,
     "metadata": {},
     "output_type": "execute_result"
    }
   ],
   "source": [
    "import random\n",
    "random.randint(1,6) "
   ]
  },
  {
   "cell_type": "code",
   "execution_count": 61,
   "metadata": {},
   "outputs": [
    {
     "name": "stdout",
     "output_type": "stream",
     "text": [
      "Rolled : 2\n",
      "Rolled : 5\n",
      "Rolled : 3\n",
      "Rolled : 5\n",
      "Rolled : 6\n",
      "Score of 21 reached in 5 rolls\n"
     ]
    }
   ],
   "source": [
    "# simulation : rolling a dice until a total of 20\n",
    "\n",
    "import matplotlib.pyplot as plt\n",
    "import random\n",
    "\n",
    "target_score = 20\n",
    "\n",
    "def roll():\n",
    "    return random.randint(1,6)\n",
    "\n",
    "if __name__ == \"__main__\":\n",
    "    score = 0\n",
    "    num_roll = 0\n",
    "    while score < target_score:\n",
    "        die_roll = roll()\n",
    "        num_roll += 1\n",
    "        print(f\"Rolled : {die_roll}\")\n",
    "        score += die_roll\n",
    "        \n",
    "    print(f\"Score of {score} reached in {num_roll} rolls\")"
   ]
  },
  {
   "cell_type": "code",
   "execution_count": 65,
   "metadata": {},
   "outputs": [
    {
     "name": "stdout",
     "output_type": "stream",
     "text": [
      "Enter the target score: 1\n",
      "Enter the maximum rolls allowed: 4\n",
      "Probability : 1.00000\n"
     ]
    }
   ],
   "source": [
    "# maximising the number of rolls\n",
    "\n",
    "# I am missing on the logic so far but hoping i'll catch on soon\n",
    "\n",
    "\n",
    "from sympy import FiniteSet\n",
    "import random\n",
    "\n",
    "def find_prob(target_score, max_rolls):\n",
    "    die_sides = FiniteSet(1,2,3,4,5,6)\n",
    "    \n",
    "#     total sample space\n",
    "    s = die_sides ** max_rolls\n",
    "    \n",
    "#     find the event set\n",
    "    if max_rolls > 1:\n",
    "        success_rolls = []\n",
    "        for elem in s:\n",
    "            if sum(elem) >= target_score:\n",
    "                success_rolls.append(elem)\n",
    "                \n",
    "    else:\n",
    "        if target_score > 6:\n",
    "            success_rolls = []\n",
    "        else:\n",
    "            success_rolls = []\n",
    "            for roll in die_sides:\n",
    "                if roll >= target_score:\n",
    "                    success_rolls.append(roll)\n",
    "                   \n",
    "    e = FiniteSet(*success_rolls)\n",
    "    \n",
    "#     calculate the proabablity for reaching the target score\n",
    "    return len(e)/len(s)\n",
    "\n",
    "if __name__ == \"__main__\":\n",
    "    target_score = int(input('Enter the target score: '))\n",
    "    max_rolls = int(input(\"Enter the maximum rolls allowed: \"))\n",
    "    p = find_prob(target_score , max_rolls)\n",
    "    print(f\"Probability : {p:.5f}\")"
   ]
  },
  {
   "cell_type": "markdown",
   "metadata": {},
   "source": [
    "# Nonuniform Random Numbers"
   ]
  },
  {
   "cell_type": "markdown",
   "metadata": {},
   "source": [
    "cases of biased events \n",
    "say a coin gets twice as much heads as tails , \n",
    "so on probability line will have heads 2/3 and tails as 1/3"
   ]
  },
  {
   "cell_type": "code",
   "execution_count": 69,
   "metadata": {},
   "outputs": [],
   "source": [
    "import random\n",
    "\n",
    "def toss():\n",
    "    \n",
    "#     0 -> Heads , 1 ->Tails\n",
    "\n",
    "    if random.random() < 2/3:\n",
    "#         random.random generates a number btw 0 and  1 \n",
    "        \n",
    "        return 0    #returned head\n",
    "    else:\n",
    "        return 1   # returned tails"
   ]
  },
  {
   "cell_type": "markdown",
   "metadata": {},
   "source": [
    "# pip works in notebooks as !pip install 'whatever'"
   ]
  },
  {
   "cell_type": "code",
   "execution_count": 1,
   "metadata": {},
   "outputs": [],
   "source": [
    "# using venn diagram to visualise relationships between sets"
   ]
  },
  {
   "cell_type": "code",
   "execution_count": 7,
   "metadata": {},
   "outputs": [
    {
     "data": {
      "image/png": "[encoded data removed]",
      "text/plain": [
       "<Figure size 432x288 with 1 Axes>"
      ]
     },
     "metadata": {},
     "output_type": "display_data"
    }
   ],
   "source": [
    "from sympy import FiniteSet \n",
    "from matplotlib_venn import venn2\n",
    "import matplotlib.pyplot as plt\n",
    "import csv\n",
    "\n",
    "def read_csv(filename):\n",
    "    football = []\n",
    "    others = []\n",
    "    \n",
    "    with open(filename) as f:\n",
    "        reader = csv.reader(f)\n",
    "        next(reader)\n",
    "        for row in reader: \n",
    "            if row[1] == '1':\n",
    "                football.append(row[0])\n",
    "            if row[2] == '1':\n",
    "                others.append(row[0])\n",
    "    return football , others\n",
    "\n",
    "def draw_venn(f, o):\n",
    "    venn2(subsets = (f,o), set_labels = (\"Football\", \"Others\"))\n",
    "    plt.show()\n",
    "    \n",
    "    \n",
    "if __name__ == \"__main__\":\n",
    "    football, others  = read_csv('sports.csv')\n",
    "    f = FiniteSet(*football)\n",
    "    o = FiniteSet(*others)\n",
    "    draw_venn(f,o)"
   ]
  },
  {
   "cell_type": "code",
   "execution_count": 10,
   "metadata": {},
   "outputs": [
    {
     "name": "stdout",
     "output_type": "stream",
     "text": [
      "Expected value: 3.5\n",
      "Trials : 100 , Trial average : 3.5\n",
      "Trials : 1000 , Trial average : 3.559\n",
      "Trials : 10000 , Trial average : 3.5174\n",
      "Trials : 100000 , Trial average : 3.50408\n",
      "Trials : 500000 , Trial average : 3.49681\n",
      "Trials : 1000000 , Trial average : 3.501044\n"
     ]
    }
   ],
   "source": [
    "# Law of Large numbers\n",
    "\n",
    "import random \n",
    "\n",
    "def roll(num_trials):\n",
    "    rolls = []\n",
    "    for t in range(num_trials):\n",
    "        rolls.append(random.randint(1,6))\n",
    "    return sum(rolls)/num_trials\n",
    "\n",
    "if __name__ == \"__main__\":\n",
    "    expected_value = 3.5\n",
    "#     the theoretical values of  die probabiltiy\n",
    "\n",
    "    print(f\"Expected value: {expected_value}\")\n",
    "    for trial in [100,1000,10000,100000,500000, 1000000]:\n",
    "        avg = roll(trial)\n",
    "        print(f\"Trials : {trial} , Trial average : {avg}\")"
   ]
  },
  {
   "cell_type": "code",
   "execution_count": 17,
   "metadata": {},
   "outputs": [
    {
     "name": "stdout",
     "output_type": "stream",
     "text": [
      "Enter your starting point: 5\n",
      "\n",
      "\n",
      "Heads! Current  : 6.0\n",
      "Tails! Current : 4.5\n",
      "Tails! Current : 3.0\n",
      "Heads! Current  : 4.0\n",
      "Tails! Current : 2.5\n",
      "Tails! Current : 1.0\n",
      "Heads! Current  : 2.0\n",
      "Tails! Current : 0.5\n",
      "Tails! Current : -1.0\n",
      "Game Over! Current amount : -1.0, Coin tosses : 9\n"
     ]
    }
   ],
   "source": [
    "# How many Tosses before you Run out of Money?\n",
    "\n",
    "# The player wins 1 for every head and loses 1.5 for every tail.\n",
    "# The game is over when the player's balance reaches 0\n",
    "\n",
    "import random\n",
    "\n",
    "def play(start_amount):\n",
    "    win_amount = 1\n",
    "    loss_amount = 1.5\n",
    "    \n",
    "    cur_amount = start_amount\n",
    "    tosses = 0\n",
    "    \n",
    "    while cur_amount > 0:\n",
    "        tosses += 1 \n",
    "        toss = random.randint(0,1)\n",
    "        if toss == 0:\n",
    "            cur_amount += win_amount\n",
    "            print(f'Heads! Current  : {cur_amount}')\n",
    "        else:\n",
    "            cur_amount -= loss_amount\n",
    "            print(f\"Tails! Current : {cur_amount}\")\n",
    "    \n",
    "    print(f\"Game Over! Current amount : {cur_amount}, Coin tosses : {tosses}\")\n",
    "    \n",
    "    \n",
    "if __name__ == \"__main__\":\n",
    "    start_amount = float(input('Enter your starting point: '))\n",
    "    print('\\n')\n",
    "    play(start_amount)"
   ]
  },
  {
   "cell_type": "code",
   "execution_count": 18,
   "metadata": {},
   "outputs": [
    {
     "name": "stdout",
     "output_type": "stream",
     "text": [
      "6 of Clubs\n",
      "9 of Diamonds\n",
      "9 of Spades\n",
      "Jack of Clubs\n",
      "10 of Clubs\n",
      "4 of Diamonds\n",
      "Jack of Spades\n",
      "10 of Diamonds\n",
      "Ace of Hearts\n",
      "King of Hearts\n",
      "2 of Clubs\n",
      "7 of Diamonds\n",
      "6 of Hearts\n",
      "5 of Spades\n",
      "2 of Spades\n",
      "5 of Hearts\n",
      "4 of Spades\n",
      "Jack of Hearts\n",
      "7 of Clubs\n",
      "Queen of Clubs\n",
      "10 of Spades\n",
      "3 of Diamonds\n",
      "9 of Clubs\n",
      "7 of Hearts\n",
      "Queen of Hearts\n",
      "3 of Clubs\n",
      "2 of Hearts\n",
      "4 of Clubs\n",
      "King of Spades\n",
      "King of Clubs\n",
      "3 of Spades\n",
      "Ace of Spades\n",
      "8 of Diamonds\n",
      "5 of Clubs\n",
      "10 of Hearts\n",
      "2 of Diamonds\n",
      "8 of Clubs\n",
      "7 of Spades\n",
      "Jack of Diamonds\n",
      "Ace of Clubs\n",
      "8 of Hearts\n",
      "Ace of Diamonds\n",
      "8 of Spades\n",
      "6 of Spades\n",
      "King of Diamonds\n",
      "Queen of Diamonds\n",
      "3 of Hearts\n",
      "Queen of Spades\n",
      "5 of Diamonds\n",
      "9 of Hearts\n",
      "4 of Hearts\n",
      "6 of Diamonds\n"
     ]
    }
   ],
   "source": [
    "# Shuffling a deck of cards \n",
    "\n",
    "import random\n",
    "\n",
    "class Card:\n",
    "    def __init__(self, suit, rank):\n",
    "        self.suit = suit\n",
    "        self.rank = rank\n",
    "        \n",
    "def initialize_deck():\n",
    "    suits = ['Clubs', 'Diamonds','Hearts','Spades']\n",
    "    ranks = ['Ace','2','3','4','5', '6', '7', '8', '9', '10', 'Jack', 'Queen', 'King']\n",
    "    cards = []\n",
    "        \n",
    "    for suit in suits:\n",
    "        for rank in ranks:\n",
    "            card = Card(suit,rank)\n",
    "            cards.append(card)\n",
    "    return cards\n",
    "    \n",
    "def shuffle_and_print(cards):\n",
    "    random.shuffle(cards)\n",
    "    for card in cards:\n",
    "        print(f\"{card.rank} of {card.suit}\")\n",
    "        \n",
    "if __name__ == \"__main__\":\n",
    "    cards = initialize_deck()\n",
    "    shuffle_and_print(cards)\n",
    "            \n",
    "    "
   ]
  },
  {
   "cell_type": "code",
   "execution_count": 21,
   "metadata": {},
   "outputs": [
    {
     "name": "stdout",
     "output_type": "stream",
     "text": [
      "Radius : 1\n",
      "Area : 3.141592653589793, Estimated (1000): 3.152\n",
      "Area : 3.141592653589793, Estimated (100000): 3.14808\n",
      "Area : 3.141592653589793, Estimated (1000000): 3.144912\n"
     ]
    }
   ],
   "source": [
    "# Estimating the Area of a circle\n",
    "\n",
    "# The program that simluates throwing darts to estimate the area of a circle\n",
    "\n",
    "\n",
    "import math\n",
    "import random\n",
    "\n",
    "def estimate(radius, total_points):\n",
    "    center = (radius, radius)\n",
    "    \n",
    "    in_circle = 0\n",
    "    for i in range(total_points):\n",
    "        x = random.uniform(0, 2*radius)\n",
    "        y = random.uniform(0, 2*radius)\n",
    "        p = (x,y)\n",
    "        \n",
    "        #distance of the point created from circle's center\n",
    "        \n",
    "        d = math.sqrt((p[0]-center[0])**2 + (p[1]-center[1])**2)\n",
    "        if d <= radius:\n",
    "            in_circle += 1\n",
    "            \n",
    "    area_of_square = (2*radius)**2\n",
    "    return (in_circle/total_points)*area_of_square\n",
    "\n",
    "if __name__ == \"__main__\":\n",
    "    radius = float(input('Radius : '))\n",
    "    area_of_circle = math.pi*radius**2\n",
    "    for points in [10**3, 10**5, 10**6]:\n",
    "        print(f\"Area : {area_of_circle}, Estimated ({points}): {estimate(radius, points)}\")\n",
    "    \n",
    "            "
   ]
  },
  {
   "cell_type": "code",
   "execution_count": null,
   "metadata": {},
   "outputs": [],
   "source": []
  }
 ],
 "metadata": {
  "kernelspec": {
   "display_name": "Python 3",
   "language": "python",
   "name": "python3"
  },
  "language_info": {
   "codemirror_mode": {
    "name": "ipython",
    "version": 3
   },
   "file_extension": ".py",
   "mimetype": "text/x-python",
   "name": "python",
   "nbconvert_exporter": "python",
   "pygments_lexer": "ipython3",
   "version": "3.8.5"
  }
 },
 "nbformat": 4,
 "nbformat_minor": 4
}
