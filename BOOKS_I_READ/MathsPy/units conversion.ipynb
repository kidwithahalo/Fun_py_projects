{
 "cells": [
  {
   "cell_type": "code",
   "execution_count": 1,
   "metadata": {},
   "outputs": [
    {
     "data": {
      "text/plain": [
       "'1.346'"
      ]
     },
     "execution_count": 1,
     "metadata": {},
     "output_type": "execute_result"
    }
   ],
   "source": [
    "'{0}'.format(1.346)"
   ]
  },
  {
   "cell_type": "code",
   "execution_count": 2,
   "metadata": {},
   "outputs": [
    {
     "data": {
      "text/plain": [
       "'1.35'"
      ]
     },
     "execution_count": 2,
     "metadata": {},
     "output_type": "execute_result"
    }
   ],
   "source": [
    "'{0:.2f}'.format(1.3467)"
   ]
  },
  {
   "cell_type": "markdown",
   "metadata": {},
   "source": [
    "units conversion "
   ]
  },
  {
   "cell_type": "code",
   "execution_count": 9,
   "metadata": {},
   "outputs": [
    {
     "name": "stdout",
     "output_type": "stream",
     "text": [
      "Temperature in F : 67\n",
      "Temperature in C is 19.44\n"
     ]
    }
   ],
   "source": [
    "# temperature conversion\n",
    "\n",
    "F = float(input(\"Temperature in F : \"))\n",
    "c = float((F - float(32)) * (5/9))\n",
    "\n",
    "print(\"Temperature in C is {0:.2f}\".format(c))\n"
   ]
  },
  {
   "cell_type": "code",
   "execution_count": null,
   "metadata": {},
   "outputs": [],
   "source": []
  },
  {
   "cell_type": "code",
   "execution_count": null,
   "metadata": {},
   "outputs": [],
   "source": [
    "def printer():\n",
    "    print('1. Km to Miles')\n",
    "    print('2. Miles to Km')\n",
    "    \n",
    "def km_miles():\n",
    "    km = float(input('Enter the km : '))\n",
    "    miles = km / 1.609\n",
    "    print(f'\\nDistance in miles is {miles}')\n",
    "    \n",
    "def miles_km():\n",
    "    miles = float(input('Enter the miles : '))\n",
    "    km = miles * 1.609\n",
    "    print(f'\\nDistance in km is {km}')\n",
    "    \n",
    "if __name__ == '__main__':\n",
    "    printer()\n",
    "    choice = input('Which conversion would you want ? : ')\n",
    "    if choice == '1':\n",
    "        km_miles()\n",
    "    if choice == '2':\n",
    "        miles_km()\n",
    "else:\n",
    "    print('Choose between these two')\n",
    "    \n"
   ]
  },
  {
   "cell_type": "code",
   "execution_count": 1,
   "metadata": {},
   "outputs": [],
   "source": [
    "# roots of an equation"
   ]
  },
  {
   "cell_type": "code",
   "execution_count": 7,
   "metadata": {},
   "outputs": [
    {
     "name": "stdout",
     "output_type": "stream",
     "text": [
      "Enter coefficient of x^2 : 1\n",
      "Enter coefficient of x : -6\n",
      "Enter constant : 9\n",
      "Roots are : 3.0, 3.0\n"
     ]
    }
   ],
   "source": [
    "def roots(a,b,c):\n",
    "    \n",
    "    D = (b*b - 4*a*c) ** 0.5\n",
    "    x1 = (-b + D) / (2*a)\n",
    "    x2 = (-b - D) / (2 * a)\n",
    "    \n",
    "    print(f\"Roots are : {x1}, {x2}\")\n",
    "    \n",
    "if __name__ == '__main__':\n",
    "    a = float(input(\"Enter coefficient of x^2 : \"))\n",
    "    b = float(input(\"Enter coefficient of x : \"))\n",
    "    c = float(input(\"Enter constant : \"))\n",
    "    \n",
    "    roots(a,b,c)\n",
    "    "
   ]
  },
  {
   "cell_type": "code",
   "execution_count": null,
   "metadata": {},
   "outputs": [],
   "source": []
  },
  {
   "cell_type": "markdown",
   "metadata": {},
   "source": [
    "# exercise"
   ]
  },
  {
   "cell_type": "markdown",
   "metadata": {},
   "source": [
    "even odd ending machine "
   ]
  },
  {
   "cell_type": "code",
   "execution_count": 1,
   "metadata": {},
   "outputs": [
    {
     "name": "stdout",
     "output_type": "stream",
     "text": [
      "Enter number : 4\n",
      "Even\n",
      "4\n",
      "6\n",
      "8\n",
      "10\n",
      "12\n",
      "14\n",
      "16\n",
      "18\n",
      "20\n",
      "22\n"
     ]
    }
   ],
   "source": [
    "num = float(input('Enter number : '))\n",
    "if num.is_integer():\n",
    "    if num % 2 == 0:\n",
    "        print('Even')\n",
    "    elif num == 0:\n",
    "        print(\"Even\")\n",
    "    else:\n",
    "        print('Odd')\n",
    "    for i in range(int(num), int(num)+19,2):\n",
    "        print(i)\n",
    "else:\n",
    "    print('Not an integer')\n",
    "    \n"
   ]
  },
  {
   "cell_type": "code",
   "execution_count": null,
   "metadata": {},
   "outputs": [],
   "source": []
  },
  {
   "cell_type": "code",
   "execution_count": 3,
   "metadata": {},
   "outputs": [
    {
     "name": "stdout",
     "output_type": "stream",
     "text": [
      "Enter the count of table: 12\n",
      "Enter the number of table you want : 5\n",
      "5 x 1 = 5\n",
      "5 x 2 = 10\n",
      "5 x 3 = 15\n",
      "5 x 4 = 20\n",
      "5 x 5 = 25\n",
      "5 x 6 = 30\n",
      "5 x 7 = 35\n",
      "5 x 8 = 40\n",
      "5 x 9 = 45\n",
      "5 x 10 = 50\n",
      "5 x 11 = 55\n",
      "5 x 12 = 60\n"
     ]
    }
   ],
   "source": [
    "# enhancced table generator\n",
    "\n",
    "count = int(input('Enter the count of table: '))\n",
    "num = int(input('Enter the number of table you want : '))\n",
    "\n",
    "for i in range(1, count+1):\n",
    "    print(f'{num} x {i} = {num * i}')"
   ]
  },
  {
   "cell_type": "code",
   "execution_count": 4,
   "metadata": {},
   "outputs": [],
   "source": [
    "# fractions claculator "
   ]
  },
  {
   "cell_type": "code",
   "execution_count": 12,
   "metadata": {},
   "outputs": [
    {
     "name": "stdout",
     "output_type": "stream",
     "text": [
      "Enter first fraction : 3/5\n",
      "Enter second fraction : 2/6\n",
      "Choose operation : + , - , * , /: /\n",
      "Result of division : 9/5\n"
     ]
    }
   ],
   "source": [
    "from fractions import Fraction\n",
    "\n",
    "def add(a,b):\n",
    "    print(f'Result of addition : {a+b}')\n",
    "def diff(a,b):\n",
    "    print(f\"Result of Subtraction : {a-b}\")\n",
    "def multi(a,b):\n",
    "    print(f\"Result of multiplication : {a*b}\")\n",
    "def div(a,b):\n",
    "    print(f\"Result of division : {a/b}\")\n",
    "    \n",
    "if __name__ == '__main__':\n",
    "    a = Fraction(input(\"Enter first fraction : \"))\n",
    "    b = Fraction(input(\"Enter second fraction : \"))\n",
    "    out = input('Choose operation : + , - , * , /: ')\n",
    "    if out == '+':\n",
    "        add(a,b)\n",
    "    elif out == '-':\n",
    "        diff(a,b)\n",
    "    elif out == '*':\n",
    "        multi(a,b)\n",
    "    elif out == '/':\n",
    "        div(a,b)\n",
    "    else:\n",
    "        print('Failed ot catch reply')\n",
    "                \n",
    "            "
   ]
  },
  {
   "cell_type": "code",
   "execution_count": null,
   "metadata": {},
   "outputs": [],
   "source": []
  },
  {
   "cell_type": "code",
   "execution_count": 18,
   "metadata": {},
   "outputs": [],
   "source": [
    "def fun():\n",
    "    print('I am stuck in endless loop')\n",
    "\n",
    "    if __name__ == \"__main__\":\n",
    "        while True:\n",
    "            fun()\n",
    "            answer = input('Do you want to exit? (y) for yes ')\n",
    "            if answer == 'yes':\n",
    "                break \n",
    "# dont run this loop... its fucking ram sucking "
   ]
  },
  {
   "cell_type": "code",
   "execution_count": null,
   "metadata": {},
   "outputs": [],
   "source": []
  }
 ],
 "metadata": {
  "kernelspec": {
   "display_name": "Python 3",
   "language": "python",
   "name": "python3"
  },
  "language_info": {
   "codemirror_mode": {
    "name": "ipython",
    "version": 3
   },
   "file_extension": ".py",
   "mimetype": "text/x-python",
   "name": "python",
   "nbconvert_exporter": "python",
   "pygments_lexer": "ipython3",
   "version": "3.8.5"
  }
 },
 "nbformat": 4,
 "nbformat_minor": 4
}
