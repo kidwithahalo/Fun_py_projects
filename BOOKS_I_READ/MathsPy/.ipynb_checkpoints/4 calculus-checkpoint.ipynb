{
 "cells": [
  {
   "cell_type": "code",
   "execution_count": 1,
   "metadata": {},
   "outputs": [
    {
     "data": {
      "text/latex": [
       "$\\displaystyle \\lim_{x \\to \\infty} \\frac{1}{x}$"
      ],
      "text/plain": [
       "Limit(1/x, x, oo, dir='-')"
      ]
     },
     "execution_count": 1,
     "metadata": {},
     "output_type": "execute_result"
    }
   ],
   "source": [
    "# limiting value \n",
    "\n",
    "from sympy import Limit, Symbol, S\n",
    "# S is the special class that contains definition of infinity\n",
    "\n",
    "x = Symbol('x')\n",
    "Limit(1/x,x,S.Infinity)\n",
    "# three arguments , 1/x , x , and func limit ie S.Infinity\n"
   ]
  },
  {
   "cell_type": "code",
   "execution_count": 2,
   "metadata": {},
   "outputs": [
    {
     "data": {
      "text/latex": [
       "$\\displaystyle 0$"
      ],
      "text/plain": [
       "0"
      ]
     },
     "execution_count": 2,
     "metadata": {},
     "output_type": "execute_result"
    }
   ],
   "source": [
    "l = Limit(1/x , x , S.Infinity)\n",
    "l.doit()"
   ]
  },
  {
   "cell_type": "code",
   "execution_count": 3,
   "metadata": {},
   "outputs": [
    {
     "data": {
      "text/latex": [
       "$\\displaystyle \\infty$"
      ],
      "text/plain": [
       "oo"
      ]
     },
     "execution_count": 3,
     "metadata": {},
     "output_type": "execute_result"
    }
   ],
   "source": [
    "Limit(1/x,x,0,dir='+').doit()"
   ]
  },
  {
   "cell_type": "markdown",
   "metadata": {},
   "source": [
    "if we approach 0 form +ve side of x , we get this"
   ]
  },
  {
   "cell_type": "code",
   "execution_count": 4,
   "metadata": {},
   "outputs": [
    {
     "data": {
      "text/latex": [
       "$\\displaystyle -\\infty$"
      ],
      "text/plain": [
       "-oo"
      ]
     },
     "execution_count": 4,
     "metadata": {},
     "output_type": "execute_result"
    }
   ],
   "source": [
    "Limit(1/x,x,0,dir='-').doit()\n"
   ]
  },
  {
   "cell_type": "markdown",
   "metadata": {},
   "source": [
    "approaching 0 form -ve x gives this"
   ]
  },
  {
   "cell_type": "code",
   "execution_count": 5,
   "metadata": {},
   "outputs": [
    {
     "data": {
      "text/latex": [
       "$\\displaystyle \\lim_{x \\to 0^+}\\left(\\frac{\\sin{\\left(x \\right)}}{x}\\right)$"
      ],
      "text/plain": [
       "Limit(sin(x)/x, x, 0)"
      ]
     },
     "execution_count": 5,
     "metadata": {},
     "output_type": "execute_result"
    }
   ],
   "source": [
    "from sympy import Symbol, sin\n",
    "x = Symbol('x')\n",
    "Limit(sin(x)/x,x,0)\n"
   ]
  },
  {
   "cell_type": "code",
   "execution_count": 6,
   "metadata": {},
   "outputs": [
    {
     "data": {
      "text/latex": [
       "$\\displaystyle 1$"
      ],
      "text/plain": [
       "1"
      ]
     },
     "execution_count": 6,
     "metadata": {},
     "output_type": "execute_result"
    }
   ],
   "source": [
    "Limit(sin(x)/x,x,0).doit()"
   ]
  },
  {
   "cell_type": "code",
   "execution_count": 7,
   "metadata": {},
   "outputs": [
    {
     "data": {
      "text/latex": [
       "$\\displaystyle \\lim_{n \\to \\infty} \\left(1 + \\frac{1}{n}\\right)^{n}$"
      ],
      "text/plain": [
       "Limit((1 + 1/n)**n, n, oo, dir='-')"
      ]
     },
     "execution_count": 7,
     "metadata": {},
     "output_type": "execute_result"
    }
   ],
   "source": [
    "# continous compound interest\n",
    "\n",
    "from sympy import Symbol, Limit, S\n",
    "\n",
    "n = Symbol('n')\n",
    "A = Limit((1+ 1/n)**n, n, S.Infinity)\n",
    "A"
   ]
  },
  {
   "cell_type": "code",
   "execution_count": 8,
   "metadata": {},
   "outputs": [
    {
     "data": {
      "text/latex": [
       "$\\displaystyle e$"
      ],
      "text/plain": [
       "E"
      ]
     },
     "execution_count": 8,
     "metadata": {},
     "output_type": "execute_result"
    }
   ],
   "source": [
    "A.doit()"
   ]
  },
  {
   "cell_type": "code",
   "execution_count": 9,
   "metadata": {},
   "outputs": [
    {
     "data": {
      "text/latex": [
       "$\\displaystyle \\lim_{n \\to \\infty}\\left(p \\left(1 + \\frac{r}{n}\\right)^{n t}\\right)$"
      ],
      "text/plain": [
       "Limit(p*(1 + r/n)**(n*t), n, oo, dir='-')"
      ]
     },
     "execution_count": 9,
     "metadata": {},
     "output_type": "execute_result"
    }
   ],
   "source": [
    "p = Symbol('p', positive = True)\n",
    "r = Symbol('r', positive = True)\n",
    "t = Symbol('t', positive = True)\n",
    "\n",
    "A = Limit(p*(1+r/n)**(n*t), n, S.Infinity)\n",
    "A"
   ]
  },
  {
   "cell_type": "code",
   "execution_count": 10,
   "metadata": {},
   "outputs": [
    {
     "data": {
      "text/latex": [
       "$\\displaystyle p e^{r t}$"
      ],
      "text/plain": [
       "p*exp(r*t)"
      ]
     },
     "execution_count": 10,
     "metadata": {},
     "output_type": "execute_result"
    }
   ],
   "source": [
    "A.doit()"
   ]
  },
  {
   "cell_type": "code",
   "execution_count": 11,
   "metadata": {},
   "outputs": [
    {
     "data": {
      "text/latex": [
       "$\\displaystyle 2 \\delta_{t} + 2 t + 5 \\left(\\delta_{t} + t\\right)^{2} + 8$"
      ],
      "text/plain": [
       "2*delta_t + 2*t + 5*(delta_t + t)**2 + 8"
      ]
     },
     "execution_count": 11,
     "metadata": {},
     "output_type": "execute_result"
    }
   ],
   "source": [
    "# Instantaneous rate of change \n",
    "\n",
    "from sympy import Symbol, Limit\n",
    "t = Symbol('t')\n",
    "St = 5*t**2 + 2*t + 8\n",
    "\n",
    "t1 = Symbol('t')\n",
    "delta_t = Symbol('delta_t')\n",
    "\n",
    "St1 = St.subs({t: t1})\n",
    "St1_delta = St.subs({t: t1 + delta_t})\n",
    "\n",
    "St1_delta\n",
    "\n",
    "\n"
   ]
  },
  {
   "cell_type": "code",
   "execution_count": 12,
   "metadata": {},
   "outputs": [
    {
     "data": {
      "text/latex": [
       "$\\displaystyle 10 t + 2$"
      ],
      "text/plain": [
       "10*t + 2"
      ]
     },
     "execution_count": 12,
     "metadata": {},
     "output_type": "execute_result"
    }
   ],
   "source": [
    "Limit((St1_delta-St1)/delta_t, delta_t, 0).doit()"
   ]
  },
  {
   "cell_type": "markdown",
   "metadata": {},
   "source": [
    "# finding derivative of Function "
   ]
  },
  {
   "cell_type": "code",
   "execution_count": 13,
   "metadata": {},
   "outputs": [
    {
     "data": {
      "text/latex": [
       "$\\displaystyle \\frac{d}{d t} \\left(5 t^{2} + 2 t + 8\\right)$"
      ],
      "text/plain": [
       "Derivative(5*t**2 + 2*t + 8, t)"
      ]
     },
     "execution_count": 13,
     "metadata": {},
     "output_type": "execute_result"
    }
   ],
   "source": [
    "from sympy import Symbol, Derivative\n",
    "\n",
    "t = Symbol('t')\n",
    "St = 5*t**2 + 2*t + 8\n",
    "\n",
    "Derivative(St, t)"
   ]
  },
  {
   "cell_type": "code",
   "execution_count": 14,
   "metadata": {},
   "outputs": [
    {
     "data": {
      "text/latex": [
       "$\\displaystyle 10 t + 2$"
      ],
      "text/plain": [
       "10*t + 2"
      ]
     },
     "execution_count": 14,
     "metadata": {},
     "output_type": "execute_result"
    }
   ],
   "source": [
    "d = Derivative(St, t)\n",
    "d.doit()"
   ]
  },
  {
   "cell_type": "code",
   "execution_count": 15,
   "metadata": {},
   "outputs": [
    {
     "data": {
      "text/latex": [
       "$\\displaystyle 10 t + 2$"
      ],
      "text/plain": [
       "10*t + 2"
      ]
     },
     "execution_count": 15,
     "metadata": {},
     "output_type": "execute_result"
    }
   ],
   "source": [
    "d.doit().subs({t:t1})"
   ]
  },
  {
   "cell_type": "code",
   "execution_count": 16,
   "metadata": {},
   "outputs": [
    {
     "data": {
      "text/latex": [
       "$\\displaystyle 12$"
      ],
      "text/plain": [
       "12"
      ]
     },
     "execution_count": 16,
     "metadata": {},
     "output_type": "execute_result"
    }
   ],
   "source": [
    "d.doit().subs({t:1})\n",
    "\n",
    "# t substituted for t = 1"
   ]
  },
  {
   "cell_type": "code",
   "execution_count": 17,
   "metadata": {},
   "outputs": [
    {
     "data": {
      "text/latex": [
       "$\\displaystyle \\left(x^{2} + x\\right) \\left(x^{3} + x^{2} + x\\right)$"
      ],
      "text/plain": [
       "(x**2 + x)*(x**3 + x**2 + x)"
      ]
     },
     "execution_count": 17,
     "metadata": {},
     "output_type": "execute_result"
    }
   ],
   "source": [
    "x = Symbol('x')\n",
    "\n",
    "f = (x**3 + x**2 + x)*(x**2+x)\n",
    "f"
   ]
  },
  {
   "cell_type": "code",
   "execution_count": 18,
   "metadata": {},
   "outputs": [
    {
     "data": {
      "text/latex": [
       "$\\displaystyle \\frac{d}{d x} \\left(x^{2} + x\\right) \\left(x^{3} + x^{2} + x\\right)$"
      ],
      "text/plain": [
       "Derivative((x**2 + x)*(x**3 + x**2 + x), x)"
      ]
     },
     "execution_count": 18,
     "metadata": {},
     "output_type": "execute_result"
    }
   ],
   "source": [
    "dt = Derivative(f, x)\n",
    "dt"
   ]
  },
  {
   "cell_type": "code",
   "execution_count": 19,
   "metadata": {},
   "outputs": [
    {
     "data": {
      "text/latex": [
       "$\\displaystyle \\left(2 x + 1\\right) \\left(x^{3} + x^{2} + x\\right) + \\left(x^{2} + x\\right) \\left(3 x^{2} + 2 x + 1\\right)$"
      ],
      "text/plain": [
       "(2*x + 1)*(x**3 + x**2 + x) + (x**2 + x)*(3*x**2 + 2*x + 1)"
      ]
     },
     "execution_count": 19,
     "metadata": {},
     "output_type": "execute_result"
    }
   ],
   "source": [
    "dt.doit()"
   ]
  },
  {
   "cell_type": "markdown",
   "metadata": {},
   "source": [
    "# A derivative calculator"
   ]
  },
  {
   "cell_type": "code",
   "execution_count": 20,
   "metadata": {},
   "outputs": [
    {
     "name": "stdout",
     "output_type": "stream",
     "text": [
      "Enter the function: d**3 + d*r**4 + 3*d*r\n",
      "Enter the variable to differentiate wrt : r\n",
      "     3      \n",
      "4⋅d⋅r  + 3⋅d\n"
     ]
    }
   ],
   "source": [
    "from sympy import Symbol, Derivative , sympify, pprint\n",
    "from sympy.core.sympify import SympifyError\n",
    "\n",
    "def derivative(f, var):\n",
    "    var = Symbol(var)\n",
    "    d = Derivative(f, var).doit()\n",
    "    pprint(d)\n",
    "    \n",
    "if __name__ == \"__main__\":\n",
    "    \n",
    "    f = input(\"Enter the function: \")\n",
    "    var = input(\"Enter the variable to differentiate wrt : \")\n",
    "    \n",
    "    try:\n",
    "        f = sympify(f)\n",
    "    except SympifyError:\n",
    "        print('Invalid Entry')\n",
    "    else:\n",
    "        derivative(f, var)"
   ]
  },
  {
   "cell_type": "markdown",
   "metadata": {},
   "source": [
    "calculating partial derivative can easily be carried out the same way \n",
    "\n"
   ]
  },
  {
   "cell_type": "code",
   "execution_count": 22,
   "metadata": {},
   "outputs": [
    {
     "data": {
      "text/latex": [
       "$\\displaystyle \\frac{d}{d x} \\left(x^{5} - 30 x^{3} + 50 x\\right)$"
      ],
      "text/plain": [
       "Derivative(x**5 - 30*x**3 + 50*x, x)"
      ]
     },
     "execution_count": 22,
     "metadata": {},
     "output_type": "execute_result"
    }
   ],
   "source": [
    "# Higher order derivatives and finding maxima-minima\n",
    "\n",
    "from sympy import Symbol, solve , Derivative \n",
    "x = Symbol('x')\n",
    "f = x**5 - 30*x**3 + 50*x\n",
    "d1 = Derivative(f, x)\n",
    "d1"
   ]
  },
  {
   "cell_type": "code",
   "execution_count": 28,
   "metadata": {},
   "outputs": [
    {
     "data": {
      "text/latex": [
       "$\\displaystyle 5 x^{4} - 90 x^{2} + 50$"
      ],
      "text/plain": [
       "5*x**4 - 90*x**2 + 50"
      ]
     },
     "execution_count": 28,
     "metadata": {},
     "output_type": "execute_result"
    }
   ],
   "source": [
    "d2 = d1.doit()\n",
    "d2"
   ]
  },
  {
   "cell_type": "code",
   "execution_count": 32,
   "metadata": {},
   "outputs": [
    {
     "name": "stdout",
     "output_type": "stream",
     "text": [
      "⎡   _________    _________     _________    _________⎤\n",
      "⎣-╲╱ 9 - √71 , ╲╱ 9 - √71 , -╲╱ √71 + 9 , ╲╱ √71 + 9 ⎦\n"
     ]
    }
   ],
   "source": [
    "critical_points = (solve(d2))\n",
    "critical_points\n",
    "pprint(critical_points)"
   ]
  },
  {
   "cell_type": "code",
   "execution_count": 39,
   "metadata": {},
   "outputs": [
    {
     "data": {
      "text/latex": [
       "$\\displaystyle 20 x \\left(x^{2} - 9\\right)$"
      ],
      "text/plain": [
       "20*x*(x**2 - 9)"
      ]
     },
     "execution_count": 39,
     "metadata": {},
     "output_type": "execute_result"
    }
   ],
   "source": [
    "at1  = Derivative(f,x,2).doit()\n",
    "# here, 2 in the argument denotes that we are solving (2-1) order of derivative \n",
    "# for 3 , we will be performing second order derivative\n",
    "\n",
    "at1"
   ]
  },
  {
   "cell_type": "code",
   "execution_count": 41,
   "metadata": {},
   "outputs": [
    {
     "data": {
      "text/latex": [
       "$\\displaystyle -200$"
      ],
      "text/plain": [
       "-200"
      ]
     },
     "execution_count": 41,
     "metadata": {},
     "output_type": "execute_result"
    }
   ],
   "source": [
    "at1.subs({x:2})"
   ]
  },
  {
   "cell_type": "code",
   "execution_count": 43,
   "metadata": {},
   "outputs": [
    {
     "data": {
      "text/latex": [
       "$\\displaystyle 127.661060789073$"
      ],
      "text/plain": [
       "127.661060789073"
      ]
     },
     "execution_count": 43,
     "metadata": {},
     "output_type": "execute_result"
    }
   ],
   "source": [
    "# or one more methodology that we can employ\n",
    "\n",
    "A = critical_points[2]\n",
    "B = critical_points[0]\n",
    "C = critical_points[1]\n",
    "D = critical_points[3]\n",
    "# we are checking if at such points we have maxima or minima\n",
    "# at 2, we have value as 127, i.e minima, cant say anything about global\n",
    "\n",
    "d2 = Derivative(f,x,2).doit()\n",
    "\n",
    "d2.subs({x:B}).evalf()"
   ]
  },
  {
   "cell_type": "code",
   "execution_count": 44,
   "metadata": {},
   "outputs": [
    {
     "data": {
      "text/latex": [
       "$\\displaystyle -703.493179468151$"
      ],
      "text/plain": [
       "-703.493179468151"
      ]
     },
     "execution_count": 44,
     "metadata": {},
     "output_type": "execute_result"
    }
   ],
   "source": [
    "d2.subs({x:A}).evalf()"
   ]
  },
  {
   "cell_type": "code",
   "execution_count": 45,
   "metadata": {},
   "outputs": [
    {
     "data": {
      "text/latex": [
       "$\\displaystyle -127.661060789073$"
      ],
      "text/plain": [
       "-127.661060789073"
      ]
     },
     "execution_count": 45,
     "metadata": {},
     "output_type": "execute_result"
    }
   ],
   "source": [
    "d2.subs({x:C}).evalf()"
   ]
  },
  {
   "cell_type": "code",
   "execution_count": 48,
   "metadata": {},
   "outputs": [
    {
     "data": {
      "text/latex": [
       "$\\displaystyle 703.493179468151$"
      ],
      "text/plain": [
       "703.493179468151"
      ]
     },
     "execution_count": 48,
     "metadata": {},
     "output_type": "execute_result"
    }
   ],
   "source": [
    "d2.subs({x:D}).evalf()"
   ]
  },
  {
   "cell_type": "markdown",
   "metadata": {},
   "source": [
    "# Gradient Ascent"
   ]
  },
  {
   "cell_type": "markdown",
   "metadata": {},
   "source": [
    "i did not understand it well as of 24th april 2021"
   ]
  },
  {
   "cell_type": "code",
   "execution_count": 64,
   "metadata": {},
   "outputs": [
    {
     "name": "stdout",
     "output_type": "stream",
     "text": [
      "Enter a function in one variable: cos(y)\n",
      "Enter the variable to differentiate wrt : y\n",
      "Enter the initial values of variables: 0.01\n",
      "y : 0.00999900001666658\n",
      "Maximum Value : 0.999950010415832\n"
     ]
    }
   ],
   "source": [
    "# finding maxima using gradient ascent \n",
    "\n",
    "# angle at which the projectile has maximum range for a fixed velocity, 25m/s\n",
    "\n",
    "import math\n",
    "from sympy import Derivative, Symbol, sin, sympify\n",
    "\n",
    "def grad_ascent(x0, f1x, x):\n",
    "    epsilon = 1e-6    #10**(-6)\n",
    "    step_size = 1e-4\n",
    "    x_old = x0\n",
    "    x_new = x_old + step_size*f1x.subs({x:x_old}).evalf()\n",
    "    \n",
    "    while abs(x_old - x_new) > epsilon:\n",
    "        X_old = x_new\n",
    "        x_new =  X_old + step_size*f1x.subs({x:x_old}).evalf()\n",
    "        \n",
    "    return x_new\n",
    "\n",
    "\n",
    "if __name__ == \"__main__\":\n",
    "    \n",
    "    f = input(\"Enter a function in one variable: \")\n",
    "    var = input(\"Enter the variable to differentiate wrt : \")\n",
    "    var0 = float(input(\"Enter the initial values of variables: \"))\n",
    "    \n",
    "    f = sympify(f)\n",
    "    d = Derivative(f, var).doit()\n",
    "    var_max = grad_ascent(var0,d,var)\n",
    "    \n",
    "    print(\"{0} : {1}\".format(var, var_max))\n",
    "    print(\"Maximum Value : {0}\".format(f.subs({var:var_max})))"
   ]
  },
  {
   "cell_type": "markdown",
   "metadata": {},
   "source": [
    "# Integrals"
   ]
  },
  {
   "cell_type": "code",
   "execution_count": 67,
   "metadata": {},
   "outputs": [
    {
     "data": {
      "text/latex": [
       "$\\displaystyle \\int k x\\, dx$"
      ],
      "text/plain": [
       "Integral(k*x, x)"
      ]
     },
     "execution_count": 67,
     "metadata": {},
     "output_type": "execute_result"
    }
   ],
   "source": [
    "from sympy import Integral, Symbol\n",
    "\n",
    "x = Symbol('x')\n",
    "k = Symbol('k')\n",
    "\n",
    "i = Integral(k*x, x)\n",
    "i"
   ]
  },
  {
   "cell_type": "code",
   "execution_count": 68,
   "metadata": {},
   "outputs": [
    {
     "data": {
      "text/latex": [
       "$\\displaystyle \\frac{k x^{2}}{2}$"
      ],
      "text/plain": [
       "k*x**2/2"
      ]
     },
     "execution_count": 68,
     "metadata": {},
     "output_type": "execute_result"
    }
   ],
   "source": [
    "i.doit()"
   ]
  },
  {
   "cell_type": "code",
   "execution_count": 71,
   "metadata": {},
   "outputs": [
    {
     "data": {
      "text/latex": [
       "$\\displaystyle \\frac{\\partial}{\\partial x} \\int k x\\, dx$"
      ],
      "text/plain": [
       "Derivative(Integral(k*x, x), x)"
      ]
     },
     "execution_count": 71,
     "metadata": {},
     "output_type": "execute_result"
    }
   ],
   "source": [
    "Derivative(i,x)"
   ]
  },
  {
   "cell_type": "code",
   "execution_count": 72,
   "metadata": {},
   "outputs": [
    {
     "data": {
      "text/latex": [
       "$\\displaystyle k x$"
      ],
      "text/plain": [
       "k*x"
      ]
     },
     "execution_count": 72,
     "metadata": {},
     "output_type": "execute_result"
    }
   ],
   "source": [
    "Derivative(i,x).doit()"
   ]
  },
  {
   "cell_type": "code",
   "execution_count": 74,
   "metadata": {},
   "outputs": [
    {
     "data": {
      "text/latex": [
       "$\\displaystyle \\int\\limits_{0}^{2} k x\\, dx$"
      ],
      "text/plain": [
       "Integral(k*x, (x, 0, 2))"
      ]
     },
     "execution_count": 74,
     "metadata": {},
     "output_type": "execute_result"
    }
   ],
   "source": [
    "# specifying the lower and upper limit\n",
    "\n",
    "Integral(k*x, (x,0,2))"
   ]
  },
  {
   "cell_type": "code",
   "execution_count": 76,
   "metadata": {},
   "outputs": [
    {
     "data": {
      "text/latex": [
       "$\\displaystyle 2 k$"
      ],
      "text/plain": [
       "2*k"
      ]
     },
     "execution_count": 76,
     "metadata": {},
     "output_type": "execute_result"
    }
   ],
   "source": [
    "Integral(k*x, (x,0,2)).doit()"
   ]
  },
  {
   "cell_type": "code",
   "execution_count": 77,
   "metadata": {},
   "outputs": [
    {
     "data": {
      "text/latex": [
       "$\\displaystyle \\int x\\, dx$"
      ],
      "text/plain": [
       "Integral(x, x)"
      ]
     },
     "execution_count": 77,
     "metadata": {},
     "output_type": "execute_result"
    }
   ],
   "source": [
    "Integral(x,x)"
   ]
  },
  {
   "cell_type": "code",
   "execution_count": 79,
   "metadata": {},
   "outputs": [
    {
     "data": {
      "text/latex": [
       "$\\displaystyle \\int\\limits_{2}^{4} x\\, dx$"
      ],
      "text/plain": [
       "Integral(x, (x, 2, 4))"
      ]
     },
     "execution_count": 79,
     "metadata": {},
     "output_type": "execute_result"
    }
   ],
   "source": [
    "from  sympy import Integral, Symbol\n",
    "\n",
    "x = Symbol('x')\n",
    "d = Integral(x, (x,2,4))\n",
    "d"
   ]
  },
  {
   "cell_type": "code",
   "execution_count": 80,
   "metadata": {},
   "outputs": [
    {
     "data": {
      "text/latex": [
       "$\\displaystyle 6$"
      ],
      "text/plain": [
       "6"
      ]
     },
     "execution_count": 80,
     "metadata": {},
     "output_type": "execute_result"
    }
   ],
   "source": [
    "d.doit()"
   ]
  },
  {
   "cell_type": "markdown",
   "metadata": {},
   "source": [
    "# probability density function"
   ]
  },
  {
   "cell_type": "code",
   "execution_count": 92,
   "metadata": {},
   "outputs": [
    {
     "data": {
      "text/latex": [
       "$\\displaystyle \\frac{\\sqrt{2} e^{- \\frac{\\left(x - 10\\right)^{2}}{2}}}{2 \\sqrt{\\pi}}$"
      ],
      "text/plain": [
       "sqrt(2)*exp(-(x - 10)**2/2)/(2*sqrt(pi))"
      ]
     },
     "execution_count": 92,
     "metadata": {},
     "output_type": "execute_result"
    }
   ],
   "source": [
    "from sympy import Symbol, exp, sqrt, pi, Integral\n",
    "\n",
    "x = Symbol('x')\n",
    "p = exp(-(x - 10)**2/2)/(sqrt(2*pi))\n",
    "# we are assuming the mean is at 10 i this function\n",
    "p"
   ]
  },
  {
   "cell_type": "code",
   "execution_count": 93,
   "metadata": {},
   "outputs": [
    {
     "data": {
      "text/latex": [
       "$\\displaystyle \\int\\limits_{11}^{12} \\frac{\\sqrt{2} e^{- \\frac{\\left(x - 10\\right)^{2}}{2}}}{2 \\sqrt{\\pi}}\\, dx$"
      ],
      "text/plain": [
       "Integral(sqrt(2)*exp(-(x - 10)**2/2)/(2*sqrt(pi)), (x, 11, 12))"
      ]
     },
     "execution_count": 93,
     "metadata": {},
     "output_type": "execute_result"
    }
   ],
   "source": [
    "ans = Integral(p,(x,11,12))\n",
    "ans"
   ]
  },
  {
   "cell_type": "code",
   "execution_count": 94,
   "metadata": {},
   "outputs": [
    {
     "data": {
      "text/latex": [
       "$\\displaystyle - \\frac{\\operatorname{erf}{\\left(\\frac{\\sqrt{2}}{2} \\right)}}{2} + \\frac{\\operatorname{erf}{\\left(\\sqrt{2} \\right)}}{2}$"
      ],
      "text/plain": [
       "-erf(sqrt(2)/2)/2 + erf(sqrt(2))/2"
      ]
     },
     "execution_count": 94,
     "metadata": {},
     "output_type": "execute_result"
    }
   ],
   "source": [
    "ans.doit()"
   ]
  },
  {
   "cell_type": "code",
   "execution_count": 95,
   "metadata": {},
   "outputs": [
    {
     "data": {
      "text/latex": [
       "$\\displaystyle 0.135905121983278$"
      ],
      "text/plain": [
       "0.135905121983278"
      ]
     },
     "execution_count": 95,
     "metadata": {},
     "output_type": "execute_result"
    }
   ],
   "source": [
    "ans.doit().evalf()\n",
    "\n",
    "# evalf() is used to get the numerical value of functions"
   ]
  },
  {
   "cell_type": "markdown",
   "metadata": {},
   "source": [
    "the probability of x in x=11 to x=12 with mean at x=10 is 0.13"
   ]
  },
  {
   "cell_type": "code",
   "execution_count": 97,
   "metadata": {},
   "outputs": [
    {
     "data": {
      "text/latex": [
       "$\\displaystyle \\int\\limits_{-\\infty}^{\\infty} \\frac{\\sqrt{2} e^{- \\frac{\\left(x - 10\\right)^{2}}{2}}}{2 \\sqrt{\\pi}}\\, dx$"
      ],
      "text/plain": [
       "Integral(sqrt(2)*exp(-(x - 10)**2/2)/(2*sqrt(pi)), (x, -oo, oo))"
      ]
     },
     "execution_count": 97,
     "metadata": {},
     "output_type": "execute_result"
    }
   ],
   "source": [
    "# checking cummulative mass function of probability\n",
    "\n",
    "from sympy import Symbol, exp, sqrt, pi, Integral, S\n",
    "\n",
    "x = Symbol('x')\n",
    "p = exp(-(x-10)**2/2)/sqrt(2*pi)\n",
    "t = Integral(p, (x, S.NegativeInfinity, S.Infinity))\n",
    "t"
   ]
  },
  {
   "cell_type": "code",
   "execution_count": 98,
   "metadata": {},
   "outputs": [
    {
     "data": {
      "text/latex": [
       "$\\displaystyle 1.0$"
      ],
      "text/plain": [
       "1.00000000000000"
      ]
     },
     "execution_count": 98,
     "metadata": {},
     "output_type": "execute_result"
    }
   ],
   "source": [
    "t.doit().evalf()"
   ]
  },
  {
   "cell_type": "code",
   "execution_count": null,
   "metadata": {},
   "outputs": [],
   "source": []
  },
  {
   "cell_type": "markdown",
   "metadata": {},
   "source": [
    "# Exercises"
   ]
  },
  {
   "cell_type": "code",
   "execution_count": 2,
   "metadata": {},
   "outputs": [
    {
     "name": "stdout",
     "output_type": "stream",
     "text": [
      "Enter an expression to factorize: x**2 + 5*x + 6\n",
      "(x + 2)*(x + 3)\n"
     ]
    }
   ],
   "source": [
    "# Factor Finder \n",
    "\n",
    "from sympy import factor, sympify, SympifyError\n",
    "\n",
    "def factorize(expr):\n",
    "    return factor(expr)\n",
    "\n",
    "if __name__ == \"__main__\":\n",
    "    expr = input(\"Enter an expression to factorize: \")\n",
    "    try:\n",
    "        expr_obj = sympify(expr)\n",
    "    except SympifyError:\n",
    "        print(\"Invalid expression entered as input\")\n",
    "    else:\n",
    "        print(factorize(expr_obj))"
   ]
  },
  {
   "cell_type": "code",
   "execution_count": 6,
   "metadata": {},
   "outputs": [
    {
     "name": "stdout",
     "output_type": "stream",
     "text": [
      "Enter your first equation: 3*x + 2*y - 3\n",
      "Enter your second equation: 2*x + 3*y - 2\n",
      "x: 1 , y: 0\n"
     ]
    },
    {
     "data": {
      "image/png": "[encoded data removed]",
      "text/plain": [
       "<Figure size 432x288 with 1 Axes>"
      ]
     },
     "metadata": {
      "needs_background": "light"
     },
     "output_type": "display_data"
    }
   ],
   "source": [
    "# Graphical Equation Solver\n",
    "\n",
    "from sympy import Symbol, sympify, solve , SympifyError\n",
    "from sympy.plotting import plot\n",
    "\n",
    "def solve_plot_equations(eq1 , eq2 , x, y):\n",
    "    solution = solve((eq1, eq2), dict = True)\n",
    "    if solution:\n",
    "        print(f\"x: {solution[0][x]} , y: {solution[0][y]}\")\n",
    "    else:\n",
    "        print(\"No solution found\")\n",
    "\n",
    "    eq1_y = solve(eq1, 'y')[0]\n",
    "    eq2_y = solve(eq2 , 'y')[0]\n",
    "    plot(eq1_y, eq2_y, legend = True)\n",
    "    \n",
    "if __name__ == \"__main__\":\n",
    "    \n",
    "    eq1 = input(\"Enter your first equation: \")\n",
    "    eq2 = input(\"Enter your second equation: \")\n",
    "    \n",
    "    try:\n",
    "        eq1 = sympify(eq1)\n",
    "        eq2 = sympify(eq2)\n",
    "    except SympifyError:\n",
    "        print(\"Invalid input\")\n",
    "    else:\n",
    "        x = Symbol('x')\n",
    "        y = Symbol('y')\n",
    "        \n",
    "#         check if expression only contain two variables \n",
    "        eq1_symbols = eq1.atoms(Symbol)\n",
    "        eq2_symbols = eq2.atoms(Symbol)\n",
    "        \n",
    "        if len(eq1_symbols)> 2 or len(eq2_symbols) > 2:\n",
    "            print('The equations must have only two variables  - x and y')\n",
    "        elif x not in eq1_symbols or y not in eq2_symbols:\n",
    "            print('First equation must have only x and y variables')\n",
    "        elif x not in eq2_symbols or y not in eq2_symbols:\n",
    "            print(\"Second equation must have only x and y variables\")\n",
    "        else:\n",
    "            solve_plot_equations(eq1, eq2, x , y)\n",
    "\n"
   ]
  },
  {
   "cell_type": "code",
   "execution_count": 10,
   "metadata": {},
   "outputs": [
    {
     "name": "stdout",
     "output_type": "stream",
     "text": [
      "Enter the nth term : 3\n",
      "Enter the number of terms: 4\n",
      "12\n"
     ]
    }
   ],
   "source": [
    "# Summing a Series \n",
    "\n",
    "from sympy import summation, sympify, Symbol, pprint\n",
    "def find_sum(n_term, num_terms):\n",
    "    \n",
    "    n = Symbol('n')\n",
    "    s = summation(n_term, (n, 1, num_terms))\n",
    "    pprint(s)\n",
    "    \n",
    "    \n",
    "if __name__ == \"__main__\":\n",
    "    n_term = sympify(input(\"Enter the nth term : \"))\n",
    "    num_terms = int(input(\"Enter the number of terms: \"))\n",
    "    \n",
    "    find_sum(n_term, num_terms)\n",
    "    \n",
    "    \n",
    "# Total sum is sum of n digits and n itself"
   ]
  },
  {
   "cell_type": "code",
   "execution_count": 13,
   "metadata": {},
   "outputs": [
    {
     "name": "stdout",
     "output_type": "stream",
     "text": [
      "Enter the inequality to solve : -x**2 + 4 < 0\n",
      "[Interval.open(-oo, -2), Interval.open(2, oo)]\n"
     ]
    }
   ],
   "source": [
    "# Solving Single Variable Inequalities \n",
    "\n",
    "from sympy import Symbol, sympify, SympifyError\n",
    "from sympy import solve_poly_inequality, solve_rational_inequalities\n",
    "from sympy import solve_univariate_inequality, Poly\n",
    "from sympy.core.relational import Relational, Equality\n",
    "\n",
    "def isolve(ineq_obj):\n",
    "    x = Symbol('x')\n",
    "    \n",
    "    expr = ineq_obj.lhs\n",
    "    rel = ineq_obj.rel_op\n",
    "    \n",
    "    if expr.is_polynomial():\n",
    "        p = Poly(expr, x)\n",
    "        return solve_poly_inequality(p,rel)\n",
    "    elif expr.is_rational_function():\n",
    "        p1, p2 = expr.as_numer_denom()\n",
    "        num = Poly(p1)\n",
    "        denom = Poly(p2)\n",
    "        return solve_rational_inequalities([[((num, denom), rel)]])\n",
    "    else:\n",
    "        return solve_univariate_inequality(ineq_obj , x, relational = False)\n",
    "    \n",
    "if __name__ == \"__main__\":\n",
    "    ineq = input('Enter the inequality to solve : ')\n",
    "    try:\n",
    "        ineq_obj = sympify(ineq)\n",
    "    except SympifyError:\n",
    "        print(\"Invalid inequality\")\n",
    "    else:\n",
    "#         we check if the input expression is an inequlaity here \n",
    "        \n",
    "        if isinstance(ineq_obj, Relational) and not isinstance(ineq_obj, Equality):\n",
    "            print(isolve(ineq_obj))\n",
    "        else:\n",
    "            print('Invalid inequality')        "
   ]
  },
  {
   "cell_type": "code",
   "execution_count": null,
   "metadata": {},
   "outputs": [],
   "source": []
  }
 ],
 "metadata": {
  "kernelspec": {
   "display_name": "Python 3",
   "language": "python",
   "name": "python3"
  },
  "language_info": {
   "codemirror_mode": {
    "name": "ipython",
    "version": 3
   },
   "file_extension": ".py",
   "mimetype": "text/x-python",
   "name": "python",
   "nbconvert_exporter": "python",
   "pygments_lexer": "ipython3",
   "version": "3.8.5"
  }
 },
 "nbformat": 4,
 "nbformat_minor": 4
}
