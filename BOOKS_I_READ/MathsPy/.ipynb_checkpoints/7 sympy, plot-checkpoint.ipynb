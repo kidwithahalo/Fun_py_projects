{
 "cells": [
  {
   "cell_type": "code",
   "execution_count": 1,
   "metadata": {},
   "outputs": [
    {
     "data": {
      "text/plain": [
       "3"
      ]
     },
     "execution_count": 1,
     "metadata": {},
     "output_type": "execute_result"
    }
   ],
   "source": [
    "x = 1\n",
    "x + x + 1"
   ]
  },
  {
   "cell_type": "code",
   "execution_count": 2,
   "metadata": {},
   "outputs": [],
   "source": [
    "from sympy import Symbol"
   ]
  },
  {
   "cell_type": "code",
   "execution_count": 3,
   "metadata": {},
   "outputs": [
    {
     "data": {
      "text/latex": [
       "$\\displaystyle 2 x + 1$"
      ],
      "text/plain": [
       "2*x + 1"
      ]
     },
     "execution_count": 3,
     "metadata": {},
     "output_type": "execute_result"
    }
   ],
   "source": [
    "x = Symbol('x')\n",
    "x+x+1\n",
    "\n",
    "# the choice of writing x+x+1 as 2x + 1 is served by symbols"
   ]
  },
  {
   "cell_type": "markdown",
   "metadata": {},
   "source": [
    "in terms of x"
   ]
  },
  {
   "cell_type": "code",
   "execution_count": 4,
   "metadata": {},
   "outputs": [
    {
     "data": {
      "text/latex": [
       "$\\displaystyle 2 a + 3$"
      ],
      "text/plain": [
       "2*a + 3"
      ]
     },
     "execution_count": 4,
     "metadata": {},
     "output_type": "execute_result"
    }
   ],
   "source": [
    "a = Symbol('a')\n",
    "a + a + 3\n",
    "\n",
    "# symbols always gotta be specified by the string"
   ]
  },
  {
   "cell_type": "code",
   "execution_count": 5,
   "metadata": {},
   "outputs": [
    {
     "data": {
      "text/plain": [
       "'a'"
      ]
     },
     "execution_count": 5,
     "metadata": {},
     "output_type": "execute_result"
    }
   ],
   "source": [
    "a.name\n",
    "# to know the actual symbol it stands for \n",
    "# it is easier here as we are using same symbol i.e 'a'"
   ]
  },
  {
   "cell_type": "code",
   "execution_count": 6,
   "metadata": {},
   "outputs": [
    {
     "data": {
      "text/latex": [
       "$\\displaystyle x \\left(x + y + z\\right)$"
      ],
      "text/plain": [
       "x*(x + y + z)"
      ]
     },
     "execution_count": 6,
     "metadata": {},
     "output_type": "execute_result"
    }
   ],
   "source": [
    "# multiple symbols \n",
    "\n",
    "from sympy import symbols\n",
    "x,y,z = symbols('x,y,z')\n",
    "v = x*y*z**2\n",
    "t = x*(x+y+z)\n",
    "t"
   ]
  },
  {
   "cell_type": "code",
   "execution_count": 7,
   "metadata": {},
   "outputs": [
    {
     "data": {
      "text/latex": [
       "$\\displaystyle x y z^{2}$"
      ],
      "text/plain": [
       "x*y*z**2"
      ]
     },
     "execution_count": 7,
     "metadata": {},
     "output_type": "execute_result"
    }
   ],
   "source": [
    "v"
   ]
  },
  {
   "cell_type": "code",
   "execution_count": 8,
   "metadata": {},
   "outputs": [
    {
     "data": {
      "text/latex": [
       "$\\displaystyle \\left(x + 1\\right) \\left(z + 1\\right)$"
      ],
      "text/plain": [
       "(x + 1)*(z + 1)"
      ]
     },
     "execution_count": 8,
     "metadata": {},
     "output_type": "execute_result"
    }
   ],
   "source": [
    "p = (x+1)*(1+z)\n",
    "p"
   ]
  },
  {
   "cell_type": "code",
   "execution_count": 9,
   "metadata": {},
   "outputs": [
    {
     "data": {
      "text/latex": [
       "$\\displaystyle x z + x + z + 1$"
      ],
      "text/plain": [
       "x*z + x + z + 1"
      ]
     },
     "execution_count": 9,
     "metadata": {},
     "output_type": "execute_result"
    }
   ],
   "source": [
    "p.expand()\n",
    "# incase you wanna solve "
   ]
  },
  {
   "cell_type": "code",
   "execution_count": 10,
   "metadata": {},
   "outputs": [
    {
     "data": {
      "text/latex": [
       "$\\displaystyle \\left(x - y\\right) \\left(x + y\\right)$"
      ],
      "text/plain": [
       "(x - y)*(x + y)"
      ]
     },
     "execution_count": 10,
     "metadata": {},
     "output_type": "execute_result"
    }
   ],
   "source": [
    "# factors and expansion\n",
    "\n",
    "from sympy import Symbol\n",
    "x = Symbol('x')\n",
    "y = Symbol('y')\n",
    "\n",
    "from sympy import factor\n",
    "expr = x**2 - y**2\n",
    "factor(expr)"
   ]
  },
  {
   "cell_type": "code",
   "execution_count": 11,
   "metadata": {},
   "outputs": [
    {
     "data": {
      "text/latex": [
       "$\\displaystyle x^{2} - y^{2}$"
      ],
      "text/plain": [
       "x**2 - y**2"
      ]
     },
     "execution_count": 11,
     "metadata": {},
     "output_type": "execute_result"
    }
   ],
   "source": [
    "expr"
   ]
  },
  {
   "cell_type": "code",
   "execution_count": 12,
   "metadata": {},
   "outputs": [
    {
     "data": {
      "text/latex": [
       "$\\displaystyle \\left(x - y\\right) \\left(x + y\\right)$"
      ],
      "text/plain": [
       "(x - y)*(x + y)"
      ]
     },
     "execution_count": 12,
     "metadata": {},
     "output_type": "execute_result"
    }
   ],
   "source": [
    "expr1 = x**3 + 3*x**2*y + 3*x*y**2 +y**3\n",
    "factors = factor(expr)\n",
    "factors"
   ]
  },
  {
   "cell_type": "code",
   "execution_count": 13,
   "metadata": {},
   "outputs": [
    {
     "data": {
      "text/latex": [
       "$\\displaystyle x^{3} + 3 x^{2} y + 3 x y^{2} + y^{3}$"
      ],
      "text/plain": [
       "x**3 + 3*x**2*y + 3*x*y**2 + y**3"
      ]
     },
     "execution_count": 13,
     "metadata": {},
     "output_type": "execute_result"
    }
   ],
   "source": [
    "expr1"
   ]
  },
  {
   "cell_type": "code",
   "execution_count": 14,
   "metadata": {},
   "outputs": [
    {
     "data": {
      "text/latex": [
       "$\\displaystyle \\left(x + y\\right)^{3}$"
      ],
      "text/plain": [
       "(x + y)**3"
      ]
     },
     "execution_count": 14,
     "metadata": {},
     "output_type": "execute_result"
    }
   ],
   "source": [
    "factor(expr1)"
   ]
  },
  {
   "cell_type": "code",
   "execution_count": 15,
   "metadata": {},
   "outputs": [
    {
     "data": {
      "text/latex": [
       "$\\displaystyle x^{2} - y^{2}$"
      ],
      "text/plain": [
       "x**2 - y**2"
      ]
     },
     "execution_count": 15,
     "metadata": {},
     "output_type": "execute_result"
    }
   ],
   "source": [
    "factors.expand()"
   ]
  },
  {
   "cell_type": "code",
   "execution_count": 16,
   "metadata": {},
   "outputs": [
    {
     "name": "stdout",
     "output_type": "stream",
     "text": [
      " 3      2          2    3\n",
      "x  + 3⋅x ⋅y + 3⋅x⋅y  + y \n"
     ]
    }
   ],
   "source": [
    "from sympy import pprint\n",
    "pprint(expr1)"
   ]
  },
  {
   "cell_type": "code",
   "execution_count": 17,
   "metadata": {},
   "outputs": [
    {
     "data": {
      "text/latex": [
       "$\\displaystyle 2 x^{2} + 2 x + 1$"
      ],
      "text/plain": [
       "2*x**2 + 2*x + 1"
      ]
     },
     "execution_count": 17,
     "metadata": {},
     "output_type": "execute_result"
    }
   ],
   "source": [
    "exprs = 1 + 2*x + 2*x**2\n",
    "exprs"
   ]
  },
  {
   "cell_type": "code",
   "execution_count": 18,
   "metadata": {},
   "outputs": [
    {
     "data": {
      "image/png": "[encoded data removed]",
      "text/latex": [
       "$\\displaystyle x^{3} + 3 x^{2} y + 3 x y^{2} + y^{3}$"
      ],
      "text/plain": [
       " 3        2      2      3\n",
       "y  + 3⋅x⋅y  + 3⋅x ⋅y + x "
      ]
     },
     "execution_count": 18,
     "metadata": {},
     "output_type": "execute_result"
    }
   ],
   "source": [
    "from sympy import init_printing\n",
    "init_printing(order = 'rev-lex')\n",
    "expr1"
   ]
  },
  {
   "cell_type": "code",
   "execution_count": 19,
   "metadata": {},
   "outputs": [
    {
     "name": "stdout",
     "output_type": "stream",
     "text": [
      "Enter the n for series : 4\n",
      "     2    3    4\n",
      "    x    x    x \n",
      "x + ── + ── + ──\n",
      "    2    3    4 \n"
     ]
    }
   ],
   "source": [
    "# printing the series\n",
    "\n",
    "from sympy import Symbol,pprint,init_printing\n",
    "def print_series(n):\n",
    "    \n",
    "#     intialise printing system with reverse order\n",
    "    init_printing(order = 'rev-lex')\n",
    "    \n",
    "    x = Symbol('x')\n",
    "    series = x\n",
    "    for i in range(2,n+1):\n",
    "        series = series + (x**i)/i\n",
    "    pprint(series)\n",
    "    \n",
    "if __name__ ==\"__main__\":\n",
    "    n = input('Enter the n for series : ')\n",
    "    print_series(int(n))"
   ]
  },
  {
   "cell_type": "code",
   "execution_count": 20,
   "metadata": {},
   "outputs": [
    {
     "data": {
      "image/png": "[encoded data removed]",
      "text/latex": [
       "$\\displaystyle x^{2} + y^{2} + z^{2}$"
      ],
      "text/plain": [
       " 2    2    2\n",
       "z  + y  + x "
      ]
     },
     "execution_count": 20,
     "metadata": {},
     "output_type": "execute_result"
    }
   ],
   "source": [
    "# substituting the values\n",
    "\n",
    "x = Symbol('x')\n",
    "y = Symbol('y')\n",
    "z = Symbol('z')\n",
    "\n",
    "expr2 = x*x + y*y + z*z\n",
    "expr2"
   ]
  },
  {
   "cell_type": "code",
   "execution_count": 21,
   "metadata": {},
   "outputs": [
    {
     "data": {
      "image/png": "[encoded data removed]",
      "text/latex": [
       "$\\displaystyle 5.36$"
      ],
      "text/plain": [
       "5.36000000000000"
      ]
     },
     "execution_count": 21,
     "metadata": {},
     "output_type": "execute_result"
    }
   ],
   "source": [
    "ans = expr2.subs({x:1,y:2,z:0.6})\n",
    "ans"
   ]
  },
  {
   "cell_type": "code",
   "execution_count": 22,
   "metadata": {},
   "outputs": [
    {
     "data": {
      "image/png": "[encoded data removed]",
      "text/latex": [
       "$\\displaystyle y^{2} + \\frac{z^{2}}{4} + \\left(y - 1\\right)^{2}$"
      ],
      "text/plain": [
       "             2     \n",
       "        2   z     2\n",
       "(-1 + y)  + ── + y \n",
       "            4      "
      ]
     },
     "execution_count": 22,
     "metadata": {},
     "output_type": "execute_result"
    }
   ],
   "source": [
    "# or substitution can be done about other terms\n",
    "expr_ans = expr2.subs({x:y-1, z:z/2})\n",
    "expr_ans"
   ]
  },
  {
   "cell_type": "code",
   "execution_count": 23,
   "metadata": {},
   "outputs": [],
   "source": [
    "from sympy import simplify\n"
   ]
  },
  {
   "cell_type": "code",
   "execution_count": 24,
   "metadata": {},
   "outputs": [
    {
     "data": {
      "image/png": "[encoded data removed]",
      "text/latex": [
       "$\\displaystyle y^{2} + \\frac{z^{2}}{4} + \\left(y - 1\\right)^{2}$"
      ],
      "text/plain": [
       "             2     \n",
       "        2   z     2\n",
       "(-1 + y)  + ── + y \n",
       "            4      "
      ]
     },
     "execution_count": 24,
     "metadata": {},
     "output_type": "execute_result"
    }
   ],
   "source": [
    "expr_ans.simplify()\n",
    "\n",
    "# idky but simplify is not working here "
   ]
  },
  {
   "cell_type": "code",
   "execution_count": 25,
   "metadata": {},
   "outputs": [
    {
     "name": "stdout",
     "output_type": "stream",
     "text": [
      "Enter the number of series you want: 5\n",
      "Enter the value of x to be substituted : 4\n",
      "     2    3    4    5\n",
      "    x    x    x    x \n",
      "x + ── + ── + ── + ──\n",
      "    2    3    4    5 \n",
      "Value of series at x=4.0 : 302.133333333333\n"
     ]
    }
   ],
   "source": [
    "from sympy import Symbol,pprint,init_printing\n",
    "def print_series(n, x_value):\n",
    "#     look that now print_series takes two args\n",
    "    \n",
    "#     intialise printing system with reverse order\n",
    "    init_printing(order = 'rev-lex')\n",
    "    \n",
    "    x = Symbol('x')\n",
    "    series = x\n",
    "    for i in range(2,n+1):\n",
    "        series = series + (x**i)/i\n",
    "    pprint(series)\n",
    "\n",
    "\n",
    "# calculating series sum at x\n",
    "\n",
    "    series_value = series.subs({x:x_value})\n",
    "\n",
    "    print(f\"Value of series at x={(x_value)} : {series_value}\")\n",
    "\n",
    "if __name__ == \"__main__\":\n",
    "    n = input('Enter the number of series you want: ')\n",
    "    x_value = input('Enter the value of x to be substituted : ')\n",
    "    \n",
    "    print_series(int(n), float(x_value))"
   ]
  },
  {
   "cell_type": "code",
   "execution_count": 26,
   "metadata": {},
   "outputs": [
    {
     "name": "stdout",
     "output_type": "stream",
     "text": [
      "Enter a mathematical expression: x**2\n"
     ]
    },
    {
     "data": {
      "image/png": "[encoded data removed]",
      "text/latex": [
       "$\\displaystyle x^{2}$"
      ],
      "text/plain": [
       " 2\n",
       "x "
      ]
     },
     "execution_count": 26,
     "metadata": {},
     "output_type": "execute_result"
    }
   ],
   "source": [
    "# converting strings to mathematical expressions\n",
    "\n",
    "from sympy import sympify\n",
    "expr4 = input('Enter a mathematical expression: ')\n",
    "sympify(expr4)"
   ]
  },
  {
   "cell_type": "code",
   "execution_count": 27,
   "metadata": {},
   "outputs": [
    {
     "data": {
      "image/png": "[encoded data removed]",
      "text/latex": [
       "$\\displaystyle x^{2}$"
      ],
      "text/plain": [
       " 2\n",
       "x "
      ]
     },
     "execution_count": 27,
     "metadata": {},
     "output_type": "execute_result"
    }
   ],
   "source": [
    "sympify(expr4)"
   ]
  },
  {
   "cell_type": "code",
   "execution_count": 28,
   "metadata": {},
   "outputs": [
    {
     "data": {
      "image/png": "[encoded data removed]",
      "text/latex": [
       "$\\displaystyle 2 x^{2}$"
      ],
      "text/plain": [
       "   2\n",
       "2⋅x "
      ]
     },
     "execution_count": 28,
     "metadata": {},
     "output_type": "execute_result"
    }
   ],
   "source": [
    "2 * sympify(expr4)"
   ]
  },
  {
   "cell_type": "markdown",
   "metadata": {},
   "source": [
    "## solving the equation"
   ]
  },
  {
   "cell_type": "code",
   "execution_count": 30,
   "metadata": {},
   "outputs": [
    {
     "data": {
      "image/png": "[encoded data removed]",
      "text/latex": [
       "$\\displaystyle \\left[ 12\\right]$"
      ],
      "text/plain": [
       "[12]"
      ]
     },
     "execution_count": 30,
     "metadata": {},
     "output_type": "execute_result"
    }
   ],
   "source": [
    "# solving equations\n",
    "\n",
    "from sympy import Symbol, solve\n",
    "x = Symbol('x')\n",
    "expr = x - 5 - 7\n",
    "solve(expr)"
   ]
  },
  {
   "cell_type": "code",
   "execution_count": 36,
   "metadata": {},
   "outputs": [
    {
     "data": {
      "image/png": "[encoded data removed]",
      "text/latex": [
       "$\\displaystyle \\left[ -4, \\  -1\\right]$"
      ],
      "text/plain": [
       "[-4, -1]"
      ]
     },
     "execution_count": 36,
     "metadata": {},
     "output_type": "execute_result"
    }
   ],
   "source": [
    "expr5 = x**2 + 5*x + 4\n",
    "solve(expr5)"
   ]
  },
  {
   "cell_type": "code",
   "execution_count": 37,
   "metadata": {},
   "outputs": [
    {
     "data": {
      "image/png": "[encoded data removed]",
      "text/latex": [
       "$\\displaystyle \\left[ \\left\\{ x : -4\\right\\}, \\  \\left\\{ x : -1\\right\\}\\right]$"
      ],
      "text/plain": [
       "[{x: -4}, {x: -1}]"
      ]
     },
     "execution_count": 37,
     "metadata": {},
     "output_type": "execute_result"
    }
   ],
   "source": [
    "solve(expr5, dict = True)"
   ]
  },
  {
   "cell_type": "code",
   "execution_count": 39,
   "metadata": {},
   "outputs": [
    {
     "data": {
      "image/png": "[encoded data removed]",
      "text/latex": [
       "$\\displaystyle \\left[ \\left\\{ a : - \\frac{b x + c}{x^{2}}\\right\\}\\right]$"
      ],
      "text/plain": [
       "⎡⎧   -(c + b⋅x) ⎫⎤\n",
       "⎢⎪a: ───────────⎪⎥\n",
       "⎢⎨         2    ⎬⎥\n",
       "⎢⎪        x     ⎪⎥\n",
       "⎣⎩              ⎭⎦"
      ]
     },
     "execution_count": 39,
     "metadata": {},
     "output_type": "execute_result"
    }
   ],
   "source": [
    "# solving one variable in terms of other\n",
    "\n",
    "x = Symbol('x')\n",
    "a = Symbol('a')\n",
    "b = Symbol('b')\n",
    "c = Symbol('c')\n",
    "\n",
    "expr6 = a*x**2 + b*x + c\n",
    "solve(expr6, dict = True)\n"
   ]
  },
  {
   "cell_type": "code",
   "execution_count": 41,
   "metadata": {},
   "outputs": [
    {
     "data": {
      "image/png": "[encoded data removed]",
      "text/latex": [
       "$\\displaystyle 3 x^{2} + 5 x + 10$"
      ],
      "text/plain": [
       "              2\n",
       "10 + 5⋅x + 3⋅x "
      ]
     },
     "execution_count": 41,
     "metadata": {},
     "output_type": "execute_result"
    }
   ],
   "source": [
    "expr6_subs = expr6.subs({a:3,b:5,c:10})\n",
    "expr6_subs"
   ]
  },
  {
   "cell_type": "code",
   "execution_count": 43,
   "metadata": {},
   "outputs": [
    {
     "data": {
      "image/png": "[encoded data removed]",
      "text/latex": [
       "$\\displaystyle \\left[ \\left\\{ x : - \\frac{5}{6} - \\frac{\\sqrt{95} i}{6}\\right\\}, \\  \\left\\{ x : - \\frac{5}{6} + \\frac{\\sqrt{95} i}{6}\\right\\}\\right]$"
      ],
      "text/plain": [
       "⎡⎧     √95⋅ⅈ   5⎫  ⎧   √95⋅ⅈ   5⎫⎤\n",
       "⎢⎨x: - ───── - ─⎬, ⎨x: ───── - ─⎬⎥\n",
       "⎣⎩       6     6⎭  ⎩     6     6⎭⎦"
      ]
     },
     "execution_count": 43,
     "metadata": {},
     "output_type": "execute_result"
    }
   ],
   "source": [
    "solve(expr6_subs, x , dict = True)\n",
    "\n",
    "# though the argument is shown taking x , but it works otherwise fine"
   ]
  },
  {
   "cell_type": "code",
   "execution_count": 48,
   "metadata": {},
   "outputs": [
    {
     "name": "stdout",
     "output_type": "stream",
     "text": [
      "⎡⎧                      ______________    ⎫  ⎧    ⎛                   ________\n",
      "⎢⎪                     ╱      2           ⎪  ⎪    ⎜                  ╱      2 \n",
      "⎢⎨   1.4142135623731⋅╲╱  0.5⋅u  + a⋅s  - u⎬  ⎨   -⎝1.4142135623731⋅╲╱  0.5⋅u  \n",
      "⎢⎪t: ─────────────────────────────────────⎪, ⎪t: ─────────────────────────────\n",
      "⎣⎩                     a                  ⎭  ⎩                       a        \n",
      "\n",
      "______    ⎞ ⎫⎤\n",
      "          ⎟ ⎪⎥\n",
      "+ a⋅s  + u⎠ ⎬⎥\n",
      "────────────⎪⎥\n",
      "            ⎭⎦\n"
     ]
    }
   ],
   "source": [
    "from sympy import Symbol, solve ,pprint\n",
    "\n",
    "s = Symbol('s')\n",
    "u = Symbol('u')\n",
    "t = Symbol('t')\n",
    "a = Symbol('a')\n",
    "\n",
    "expr7 = u*t + (1/2)*a*(t**2) - s \n",
    "t_expr7 = solve(expr7,t, dict= True) #in terms of t\n",
    "pprint(t_expr7)"
   ]
  },
  {
   "cell_type": "code",
   "execution_count": 50,
   "metadata": {},
   "outputs": [
    {
     "data": {
      "image/png": "[encoded data removed]",
      "text/latex": [
       "$\\displaystyle \\left[ \\left\\{ a : 2.0 s - 2.0\\right\\}\\right]$"
      ],
      "text/plain": [
       "[{a: -2.0 + 2.0⋅s}]"
      ]
     },
     "execution_count": 50,
     "metadata": {},
     "output_type": "execute_result"
    }
   ],
   "source": [
    "expr7_subs = expr7.subs({u:1,t:1})\n",
    "solve(expr7_subs, dict = True)\n"
   ]
  },
  {
   "cell_type": "markdown",
   "metadata": {},
   "source": []
  }
 ],
 "metadata": {
  "kernelspec": {
   "display_name": "Python 3",
   "language": "python",
   "name": "python3"
  },
  "language_info": {
   "codemirror_mode": {
    "name": "ipython",
    "version": 3
   },
   "file_extension": ".py",
   "mimetype": "text/x-python",
   "name": "python",
   "nbconvert_exporter": "python",
   "pygments_lexer": "ipython3",
   "version": "3.8.5"
  }
 },
 "nbformat": 4,
 "nbformat_minor": 4
}
