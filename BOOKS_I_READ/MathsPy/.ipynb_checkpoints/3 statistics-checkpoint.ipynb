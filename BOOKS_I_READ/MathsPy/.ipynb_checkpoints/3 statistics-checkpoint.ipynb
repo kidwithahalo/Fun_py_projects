{
 "cells": [
  {
   "cell_type": "code",
   "execution_count": 47,
   "metadata": {},
   "outputs": [
    {
     "data": {
      "image/png": "[encoded data removed]",
      "text/plain": [
       "<Figure size 432x288 with 1 Axes>"
      ]
     },
     "metadata": {
      "needs_background": "light"
     },
     "output_type": "display_data"
    }
   ],
   "source": [
    "x = [3,6,12]\n",
    "y = [4,7,45]\n",
    "\n",
    "from pylab import plot, show, legend, title, axis\n",
    "plot(x,y, marker = 'o')\n",
    "legend(['start'])\n",
    "title('STFU')\n",
    "axis(ymin = 0, xmin = 0, xmax = 17, ymax = 50)\n",
    "show()"
   ]
  },
  {
   "cell_type": "code",
   "execution_count": null,
   "metadata": {},
   "outputs": [],
   "source": []
  },
  {
   "cell_type": "code",
   "execution_count": 48,
   "metadata": {},
   "outputs": [
    {
     "data": {
      "text/plain": [
       "17.5"
      ]
     },
     "execution_count": 48,
     "metadata": {},
     "output_type": "execute_result"
    }
   ],
   "source": [
    "short = [1.5,5,6,5]\n",
    "sum(short)"
   ]
  },
  {
   "cell_type": "code",
   "execution_count": 49,
   "metadata": {},
   "outputs": [
    {
     "data": {
      "text/plain": [
       "4"
      ]
     },
     "execution_count": 49,
     "metadata": {},
     "output_type": "execute_result"
    }
   ],
   "source": [
    "len(short)"
   ]
  },
  {
   "cell_type": "code",
   "execution_count": 50,
   "metadata": {},
   "outputs": [
    {
     "data": {
      "text/plain": [
       "[1.5, 5, 5, 6]"
      ]
     },
     "execution_count": 50,
     "metadata": {},
     "output_type": "execute_result"
    }
   ],
   "source": [
    "short.sort()\n",
    "short"
   ]
  },
  {
   "cell_type": "code",
   "execution_count": 51,
   "metadata": {},
   "outputs": [
    {
     "data": {
      "text/plain": [
       "[1.5, 5, 5, 6]"
      ]
     },
     "execution_count": 51,
     "metadata": {},
     "output_type": "execute_result"
    }
   ],
   "source": [
    "sorted(short)"
   ]
  },
  {
   "cell_type": "code",
   "execution_count": 52,
   "metadata": {},
   "outputs": [],
   "source": [
    "# calculating median"
   ]
  },
  {
   "cell_type": "code",
   "execution_count": 53,
   "metadata": {},
   "outputs": [
    {
     "name": "stdout",
     "output_type": "stream",
     "text": [
      "Median donation of last 12 days is 500.0 \n"
     ]
    }
   ],
   "source": [
    "'''calculating median'''\n",
    "\n",
    "def median(num):\n",
    "    n = len(num)\n",
    "    num.sort()\n",
    "    \n",
    "    if n % 2 == 0:\n",
    "        m1 = n/2\n",
    "        m2 = (n/2) + 1\n",
    "        \n",
    "        m1 = int(m1) - 1\n",
    "        m2 = int(m2) - 1\n",
    "        median = (num[m1] + num[m2])/2\n",
    "    else:\n",
    "        m = (n+1)/2\n",
    "        m = int(m) - 1 \n",
    "        median = (num[m])\n",
    "    \n",
    "    return median\n",
    "\n",
    "if __name__ == \"__main__\":\n",
    "    donations = [100, 60, 70, 900, 100, 200, 500, 500, 503, 600, 1000, 1200]\n",
    "    \n",
    "    median = median(donations)\n",
    "    n = len(donations)\n",
    "    \n",
    "    print(f\"Median donation of last {n} days is {median} \")"
   ]
  },
  {
   "cell_type": "code",
   "execution_count": null,
   "metadata": {},
   "outputs": [],
   "source": []
  },
  {
   "cell_type": "code",
   "execution_count": 54,
   "metadata": {},
   "outputs": [
    {
     "data": {
      "text/plain": [
       "[60, 70, 100, 100, 200, 500, 500, 503, 600, 900, 1000, 1200]"
      ]
     },
     "execution_count": 54,
     "metadata": {},
     "output_type": "execute_result"
    }
   ],
   "source": [
    "donations"
   ]
  },
  {
   "cell_type": "code",
   "execution_count": 55,
   "metadata": {},
   "outputs": [],
   "source": [
    "from collections import Counter"
   ]
  },
  {
   "cell_type": "code",
   "execution_count": 56,
   "metadata": {},
   "outputs": [
    {
     "data": {
      "text/plain": [
       "[(100, 2),\n",
       " (500, 2),\n",
       " (60, 1),\n",
       " (70, 1),\n",
       " (200, 1),\n",
       " (503, 1),\n",
       " (600, 1),\n",
       " (900, 1),\n",
       " (1000, 1),\n",
       " (1200, 1)]"
      ]
     },
     "execution_count": 56,
     "metadata": {},
     "output_type": "execute_result"
    }
   ],
   "source": [
    "c = Counter(donations)\n",
    "c.most_common()\n",
    "# most top in list of common\n",
    "# heed that this system will have two modes"
   ]
  },
  {
   "cell_type": "code",
   "execution_count": 57,
   "metadata": {},
   "outputs": [
    {
     "data": {
      "text/plain": [
       "[(100, 2)]"
      ]
     },
     "execution_count": 57,
     "metadata": {},
     "output_type": "execute_result"
    }
   ],
   "source": [
    "mode = c.most_common(1)\n",
    "mode"
   ]
  },
  {
   "cell_type": "code",
   "execution_count": 58,
   "metadata": {},
   "outputs": [
    {
     "data": {
      "text/plain": [
       "100"
      ]
     },
     "execution_count": 58,
     "metadata": {},
     "output_type": "execute_result"
    }
   ],
   "source": [
    "mode[0][0]"
   ]
  },
  {
   "cell_type": "code",
   "execution_count": 59,
   "metadata": {},
   "outputs": [
    {
     "name": "stdout",
     "output_type": "stream",
     "text": [
      "The mode(s) of the list are: \n",
      "100\n",
      "500\n"
     ]
    }
   ],
   "source": [
    "def mode(n):\n",
    "    c = Counter(n)\n",
    "    max_num = c.most_common()\n",
    "    max_count = max_num[0][1]\n",
    "    \n",
    "    modes = []\n",
    "    for num in max_num:\n",
    "        if num[1] == max_count:\n",
    "            modes.append(num[0])\n",
    "    return(modes)\n",
    "\n",
    "if __name__ == \"__main__\":\n",
    "    modes  = mode(donations)\n",
    "    print(\"The mode(s) of the list are: \")\n",
    "    for m in modes:\n",
    "        print(m)"
   ]
  },
  {
   "cell_type": "code",
   "execution_count": 60,
   "metadata": {},
   "outputs": [],
   "source": [
    "# generating frequency table"
   ]
  },
  {
   "cell_type": "code",
   "execution_count": 61,
   "metadata": {},
   "outputs": [
    {
     "name": "stdout",
     "output_type": "stream",
     "text": [
      "Numbers\t\tFrequency\n",
      "100\t\t\t2\n",
      "500\t\t\t2\n",
      "60\t\t\t1\n",
      "70\t\t\t1\n",
      "200\t\t\t1\n",
      "503\t\t\t1\n",
      "600\t\t\t1\n",
      "900\t\t\t1\n",
      "1000\t\t\t1\n",
      "1200\t\t\t1\n"
     ]
    }
   ],
   "source": [
    "def ft(num):\n",
    "    table = Counter(num)\n",
    "    print(('Numbers\\t\\tFrequency'))\n",
    "    for number in table.most_common():\n",
    "        print(f\"{number[0]}\\t\\t\\t{number[1]}\")\n",
    "\n",
    "if __name__ == \"__main__\":\n",
    "    ft(donations)"
   ]
  },
  {
   "cell_type": "code",
   "execution_count": 62,
   "metadata": {},
   "outputs": [
    {
     "data": {
      "text/plain": [
       "[60, 70, 100, 100, 200, 500, 500, 503, 600, 900, 1000, 1200]"
      ]
     },
     "execution_count": 62,
     "metadata": {},
     "output_type": "execute_result"
    }
   ],
   "source": [
    "donations"
   ]
  },
  {
   "cell_type": "code",
   "execution_count": 63,
   "metadata": {},
   "outputs": [],
   "source": [
    "donations.reverse()"
   ]
  },
  {
   "cell_type": "code",
   "execution_count": 64,
   "metadata": {},
   "outputs": [
    {
     "data": {
      "text/plain": [
       "[1200, 1000, 900, 600, 503, 500, 500, 200, 100, 100, 70, 60]"
      ]
     },
     "execution_count": 64,
     "metadata": {},
     "output_type": "execute_result"
    }
   ],
   "source": [
    "donations "
   ]
  },
  {
   "cell_type": "code",
   "execution_count": 65,
   "metadata": {},
   "outputs": [
    {
     "name": "stdout",
     "output_type": "stream",
     "text": [
      "Lowest : 60, Highest : 1200, Range : 1140\n"
     ]
    }
   ],
   "source": [
    "'''finding the range'''\n",
    "\n",
    "def ranges(num):\n",
    "    \n",
    "    low = min(num)\n",
    "    high = max(num)\n",
    "    r = high - low\n",
    "    \n",
    "    return low, high, r\n",
    "\n",
    "if __name__ == \"__main__\":\n",
    "    low , high, r = ranges(donations)\n",
    "    print(f\"Lowest : {low}, Highest : {high}, Range : {r}\")\n",
    "    "
   ]
  },
  {
   "cell_type": "code",
   "execution_count": 66,
   "metadata": {},
   "outputs": [],
   "source": [
    "# standard deviation"
   ]
  },
  {
   "cell_type": "code",
   "execution_count": 67,
   "metadata": {},
   "outputs": [
    {
     "name": "stdout",
     "output_type": "stream",
     "text": [
      "Variance : 141047.35416666666\n",
      "Standard Deviation : 375.5627166887931\n"
     ]
    }
   ],
   "source": [
    "'''Standard deviation and Variance'''\n",
    "\n",
    "def mean(num):\n",
    "    s = sum(num)\n",
    "    N = len(num)\n",
    "    mean = s/N\n",
    "    \n",
    "    return mean\n",
    "\n",
    "def find_diff(num):\n",
    "    mn = mean(num)\n",
    "    \n",
    "    diff = []\n",
    "    for n in num:\n",
    "        diff.append(n - mn)\n",
    "    return diff\n",
    "\n",
    "def variance(num):\n",
    "    \n",
    "    diff = find_diff(num)\n",
    "    squared_diff = []\n",
    "    \n",
    "    for d in diff:\n",
    "        squared_diff.append(d**2)\n",
    "        \n",
    "    sum_squared_diff = sum(squared_diff)\n",
    "    variance = sum_squared_diff/len(num)\n",
    "    return variance\n",
    "\n",
    "if __name__ == \"__main__\":\n",
    "    variance = variance(donations)\n",
    "    print(f\"Variance : {variance}\")\n",
    "    \n",
    "    std = variance ** 0.5\n",
    "    print(f\"Standard Deviation : {std}\")\n",
    "    "
   ]
  },
  {
   "cell_type": "code",
   "execution_count": 68,
   "metadata": {},
   "outputs": [],
   "source": [
    "# zip function"
   ]
  },
  {
   "cell_type": "code",
   "execution_count": 69,
   "metadata": {},
   "outputs": [
    {
     "name": "stdout",
     "output_type": "stream",
     "text": [
      "1 2\n",
      "2 4\n",
      "3 6\n"
     ]
    }
   ],
   "source": [
    "l1 = [1,2,3]\n",
    "l2 = [2,4,6]\n",
    "for x , y in zip(l1,l2):\n",
    "    print(x,y)"
   ]
  },
  {
   "cell_type": "code",
   "execution_count": 70,
   "metadata": {},
   "outputs": [
    {
     "data": {
      "text/plain": [
       "<matplotlib.image.AxesImage at 0x7fb95574a430>"
      ]
     },
     "execution_count": 70,
     "metadata": {},
     "output_type": "execute_result"
    },
    {
     "data": {
      "image/png": "[encoded data removed]",
      "text/plain": [
       "<Figure size 432x288 with 1 Axes>"
      ]
     },
     "metadata": {
      "needs_background": "light"
     },
     "output_type": "display_data"
    }
   ],
   "source": [
    "# finding correlation \n",
    "# given below is the formula to it\n",
    "\n",
    "import matplotlib.pyplot as plt\n",
    "\n",
    "import matplotlib.image as mpimg\n",
    "\n",
    "img = mpimg.imread(\"CodeCogsEqn.gif\")\n",
    "\n",
    "plt.imshow(img)"
   ]
  },
  {
   "cell_type": "code",
   "execution_count": 71,
   "metadata": {},
   "outputs": [],
   "source": [
    "def find_corr_x_y(x,y):\n",
    "    n = len(x)\n",
    "    \n",
    "#     finding the sum of the products\n",
    "    prod = []\n",
    "    for xi, yi in zip(x,y):\n",
    "        prod.append(xi * yi)\n",
    "        \n",
    "    sum_prod_x_y = sum(prod)\n",
    "    sum_x = sum(x)\n",
    "    sum_y = sum(y)\n",
    "    squared_sum_x = (sum_x)**2\n",
    "    squared_sum_y = sum_y ** 2\n",
    "    \n",
    "    x_squared = []\n",
    "    for xi in x:\n",
    "        x_squared.append(xi**2)\n",
    "#         now finding sum\n",
    "    x_square_sum = sum(x_squared)\n",
    "    \n",
    "    \n",
    "    y_squared = []\n",
    "    for yi in y:\n",
    "        y_squared.append(yi**2)\n",
    "#         now finding sum\n",
    "    y_square_sum = sum(y_squared)\n",
    "    \n",
    "    \n",
    "#     using formula to calculate correlation\n",
    "\n",
    "    numerator = n*sum_prod_x_y - sum_x*sum_y\n",
    "    denominator_term1 = n*x_square_sum - squared_sum_x\n",
    "    denominator_term2 = n*y_square_sum - squared_sum_y\n",
    "    \n",
    "    denominator = (denominator_term1 * denominator_term2) ** 0.5\n",
    "    correlation = numerator/denominator\n",
    "    \n",
    "    return correlation"
   ]
  },
  {
   "cell_type": "code",
   "execution_count": 72,
   "metadata": {},
   "outputs": [
    {
     "data": {
      "text/plain": [
       "1.0"
      ]
     },
     "execution_count": 72,
     "metadata": {},
     "output_type": "execute_result"
    }
   ],
   "source": [
    "find_corr_x_y(donations, donations)"
   ]
  },
  {
   "cell_type": "code",
   "execution_count": 73,
   "metadata": {},
   "outputs": [
    {
     "data": {
      "text/plain": [
       "0.3183785775683751"
      ]
     },
     "execution_count": 73,
     "metadata": {},
     "output_type": "execute_result"
    }
   ],
   "source": [
    "high_school = [90,92,95,96,87,87,90,95,98,96]\n",
    "college = [85,87,86,97,96,88,89,98,98,87]\n",
    "\n",
    "find_corr_x_y(high_school, college)"
   ]
  },
  {
   "cell_type": "code",
   "execution_count": 74,
   "metadata": {},
   "outputs": [
    {
     "data": {
      "text/plain": [
       "Text(0.5, 0, 'Schools')"
      ]
     },
     "execution_count": 74,
     "metadata": {},
     "output_type": "execute_result"
    },
    {
     "data": {
      "image/png": "[encoded data removed]",
      "text/plain": [
       "<Figure size 432x288 with 1 Axes>"
      ]
     },
     "metadata": {
      "needs_background": "light"
     },
     "output_type": "display_data"
    }
   ],
   "source": [
    "import matplotlib.pyplot as mth\n",
    "mth.plot(high_school, college, 'o')\n",
    "mth.ylabel('college')\n",
    "mth.xlabel('Schools')"
   ]
  },
  {
   "cell_type": "code",
   "execution_count": 75,
   "metadata": {},
   "outputs": [
    {
     "data": {
      "text/plain": [
       "0.9989633063220916"
      ]
     },
     "execution_count": 75,
     "metadata": {},
     "output_type": "execute_result"
    }
   ],
   "source": [
    "school_mth = [83,85,84,96,94,86,87,97,97,85]\n",
    "college_mth = [85,87,86,97,96,88,89,98,98,87]\n",
    "\n",
    "find_corr_x_y(school_mth, college_mth)"
   ]
  },
  {
   "cell_type": "code",
   "execution_count": 76,
   "metadata": {},
   "outputs": [
    {
     "data": {
      "text/plain": [
       "[<matplotlib.lines.Line2D at 0x7fb9557dc340>]"
      ]
     },
     "execution_count": 76,
     "metadata": {},
     "output_type": "execute_result"
    },
    {
     "data": {
      "image/png": "[encoded data removed]",
      "text/plain": [
       "<Figure size 432x288 with 1 Axes>"
      ]
     },
     "metadata": {
      "needs_background": "light"
     },
     "output_type": "display_data"
    }
   ],
   "source": [
    "plot(school_mth, college_mth, marker = 'o')\n"
   ]
  },
  {
   "cell_type": "code",
   "execution_count": 77,
   "metadata": {},
   "outputs": [
    {
     "data": {
      "text/plain": [
       "<matplotlib.collections.PathCollection at 0x7fb953ae7b50>"
      ]
     },
     "execution_count": 77,
     "metadata": {},
     "output_type": "execute_result"
    },
    {
     "data": {
      "image/png": "[encoded data removed]",
      "text/plain": [
       "<Figure size 432x288 with 1 Axes>"
      ]
     },
     "metadata": {
      "needs_background": "light"
     },
     "output_type": "display_data"
    }
   ],
   "source": [
    "mth.scatter(school_mth, college_mth)\n",
    "\n",
    "# here we used scatter function instead of plot function"
   ]
  },
  {
   "cell_type": "code",
   "execution_count": null,
   "metadata": {},
   "outputs": [],
   "source": []
  },
  {
   "cell_type": "code",
   "execution_count": 78,
   "metadata": {},
   "outputs": [],
   "source": [
    "# Anscombe's Quartet"
   ]
  },
  {
   "cell_type": "code",
   "execution_count": 79,
   "metadata": {},
   "outputs": [
    {
     "name": "stdout",
     "output_type": "stream",
     "text": [
      "Mean is 9.0\n",
      "Standard Deviation is 3.1622776601683795\n"
     ]
    },
    {
     "data": {
      "image/png": "[encoded data removed]",
      "text/plain": [
       "<Figure size 432x288 with 1 Axes>"
      ]
     },
     "metadata": {
      "needs_background": "light"
     },
     "output_type": "display_data"
    }
   ],
   "source": [
    "x1 = [10,8,13,9,11,14,6,4,12,7,5]\n",
    "y1 = [8.04,6.95,7.58,8.81, 8.33,9.96,7.24,4.26,10.84,4.82,5.68]\n",
    "\n",
    "# y1 is same as x1\n",
    "y2 = [9.14, 8.14, 8.74,8.77,9.26,8.10,6.13,3.10,9.13,7.26,4.74]\n",
    "\n",
    "y3 = [7.46,6.77,12.74,7.11,7.81,8.84,6.08,5.39,8.15,6.42,5.73]\n",
    "\n",
    "y4 = [6.58,5.76,7.71,8.84,8.47,7.04,5.25,12.50,5.56,7.91,6.89]\n",
    "import matplotlib.pyplot as plt\n",
    "import numpy as np\n",
    "plt.scatter(x1,y1)\n",
    "mean = sum(x1)/(len(x1))\n",
    "print(f\"Mean is {mean}\")\n",
    "\n",
    "std = np.std(x1)\n",
    "print(f\"Standard Deviation is {std}\")\n"
   ]
  },
  {
   "cell_type": "code",
   "execution_count": 80,
   "metadata": {},
   "outputs": [
    {
     "data": {
      "text/plain": [
       "<matplotlib.collections.PathCollection at 0x7fb953d4e730>"
      ]
     },
     "execution_count": 80,
     "metadata": {},
     "output_type": "execute_result"
    },
    {
     "data": {
      "image/png": "[encoded data removed]",
      "text/plain": [
       "<Figure size 432x288 with 1 Axes>"
      ]
     },
     "metadata": {
      "needs_background": "light"
     },
     "output_type": "display_data"
    }
   ],
   "source": [
    "plt.scatter(x1, y2)"
   ]
  },
  {
   "cell_type": "code",
   "execution_count": 81,
   "metadata": {},
   "outputs": [
    {
     "data": {
      "text/plain": [
       "<matplotlib.collections.PathCollection at 0x7fb9542c7e80>"
      ]
     },
     "execution_count": 81,
     "metadata": {},
     "output_type": "execute_result"
    },
    {
     "data": {
      "image/png": "[encoded data removed]",
      "text/plain": [
       "<Figure size 432x288 with 1 Axes>"
      ]
     },
     "metadata": {
      "needs_background": "light"
     },
     "output_type": "display_data"
    }
   ],
   "source": [
    "plt.scatter(x1, y3)"
   ]
  },
  {
   "cell_type": "code",
   "execution_count": 82,
   "metadata": {},
   "outputs": [
    {
     "data": {
      "text/plain": [
       "<matplotlib.collections.PathCollection at 0x7fb954ca9580>"
      ]
     },
     "execution_count": 82,
     "metadata": {},
     "output_type": "execute_result"
    },
    {
     "data": {
      "image/png": "[encoded data removed]",
      "text/plain": [
       "<Figure size 432x288 with 1 Axes>"
      ]
     },
     "metadata": {
      "needs_background": "light"
     },
     "output_type": "display_data"
    }
   ],
   "source": [
    "plt.scatter(x1, y4)"
   ]
  },
  {
   "cell_type": "markdown",
   "metadata": {},
   "source": [
    "looking at the traditional statistics , the data looks identical but only \n",
    "when we see the scatter plot we realsie how different they all are "
   ]
  },
  {
   "cell_type": "code",
   "execution_count": 83,
   "metadata": {},
   "outputs": [],
   "source": [
    "# Reading a CSV file "
   ]
  },
  {
   "cell_type": "code",
   "execution_count": 84,
   "metadata": {},
   "outputs": [
    {
     "name": "stdout",
     "output_type": "stream",
     "text": [
      "100\n",
      " cummulated to 100.0\n",
      "\n",
      "60\n",
      " cummulated to 160.0\n",
      "\n",
      "70\n",
      " cummulated to 230.0\n",
      "\n",
      "900\n",
      " cummulated to 1130.0\n",
      "\n",
      "100\n",
      " cummulated to 1230.0\n",
      "\n",
      "200\n",
      " cummulated to 1430.0\n",
      "\n",
      "500\n",
      " cummulated to 1930.0\n",
      "\n",
      "500\n",
      " cummulated to 2430.0\n",
      "\n",
      "503\n",
      " cummulated to 2933.0\n",
      "\n",
      "600\n",
      " cummulated to 3533.0\n",
      "\n",
      "1000\n",
      " cummulated to 4533.0\n",
      "\n",
      "1200\n",
      " cummulated to 5733.0\n",
      "\n",
      "Sum of numbers is 5733.0\n"
     ]
    }
   ],
   "source": [
    "# finding the sum of the numbers stored in \n",
    "# a CSV file\n",
    "\n",
    "def sum_data(file):\n",
    "    s = 0\n",
    "    with open(file) as f:\n",
    "        for line in f:\n",
    "            s = s + float(line)\n",
    "            print(f\"{line} cummulated to {s}\\n\")\n",
    "    print(f\"Sum of numbers is {s}\")\n",
    "    \n",
    "if __name__ == \"__main__\":\n",
    "    \n",
    "    sum_data('mydata.txt')"
   ]
  },
  {
   "cell_type": "code",
   "execution_count": 85,
   "metadata": {},
   "outputs": [
    {
     "name": "stdout",
     "output_type": "stream",
     "text": [
      "Mean : 477.75\n"
     ]
    }
   ],
   "source": [
    "'''calculating the mean of the \n",
    "    numbers stored in a file'''\n",
    "\n",
    "def read_data(filename):\n",
    "    numbers = []\n",
    "    with open(filename) as f:\n",
    "        for line in f:\n",
    "            numbers.append(float(line))\n",
    "            \n",
    "    return numbers\n",
    "\n",
    "def calculate_mean(numbers):\n",
    "    s = sum(numbers)\n",
    "    n = len(numbers)\n",
    "    mean = s/n\n",
    "    \n",
    "    return mean\n",
    "\n",
    "if __name__ == \"__main__\":\n",
    "    data = read_data(\"mydata.txt\")\n",
    "    mean = calculate_mean(data)\n",
    "    print(f\"Mean : {mean}\")"
   ]
  },
  {
   "cell_type": "code",
   "execution_count": 86,
   "metadata": {},
   "outputs": [],
   "source": [
    "# Reading data from csv file"
   ]
  },
  {
   "cell_type": "code",
   "execution_count": 87,
   "metadata": {},
   "outputs": [
    {
     "data": {
      "image/png": "[encoded data removed]",
      "text/plain": [
       "<Figure size 432x288 with 1 Axes>"
      ]
     },
     "metadata": {
      "needs_background": "light"
     },
     "output_type": "display_data"
    }
   ],
   "source": [
    "import csv\n",
    "import matplotlib.pyplot as plt\n",
    "\n",
    "def scatter_plot(x,y):\n",
    "    plt.scatter(x,y)\n",
    "    plt.xlabel('Number')\n",
    "    plt.ylabel('Squared')\n",
    "    plt.show()\n",
    "    \n",
    "    \n",
    "def read_csv(filename):\n",
    "    numbers = []\n",
    "    squared = []\n",
    "    \n",
    "    with open(filename) as f:\n",
    "        reader = csv.reader(f) \n",
    "        next(reader)   \n",
    "        #skipping the header\n",
    "        \n",
    "        for row in reader:\n",
    "            numbers.append(int(row[0]))\n",
    "            squared.append(int(row[1]))\n",
    "            \n",
    "        return numbers,squared\n",
    "    \n",
    "if __name__ == \"__main__\":\n",
    "    numbers,squared = read_csv('numbers.csv')\n",
    "    scatter_plot(numbers,squared)"
   ]
  },
  {
   "cell_type": "code",
   "execution_count": 88,
   "metadata": {},
   "outputs": [],
   "source": [
    "def read_csv(filename):\n",
    "    \n",
    "    with open(filename) as f:\n",
    "        reader = csv.reader(f)\n",
    "        next(reader)\n",
    "        \n",
    "        '''started to read the file \n",
    "            set the reader to file \n",
    "            and then skipped the reader to next line'''\n",
    "        \n",
    "        summer= []\n",
    "        highest_correlated = []\n",
    "        for row in reader:\n",
    "            summer.append(float(row[1]))\n",
    "            highest_correlated.append(float(row[2]))\n",
    "            \n",
    "# we are now reading the second and third member of each list\n",
    "            \n",
    "    return summer, highest_correlated"
   ]
  },
  {
   "cell_type": "code",
   "execution_count": 91,
   "metadata": {},
   "outputs": [
    {
     "name": "stdout",
     "output_type": "stream",
     "text": [
      "Highest correlation : 0.9605138954331739\n"
     ]
    },
    {
     "data": {
      "image/png": "[encoded data removed]",
      "text/plain": [
       "<Figure size 432x288 with 1 Axes>"
      ]
     },
     "metadata": {
      "needs_background": "light"
     },
     "output_type": "display_data"
    }
   ],
   "source": [
    "import matplotlib.pyplot as plt\n",
    "import csv\n",
    "\n",
    "if __name__ == \"__main__\":\n",
    "    summer, highest_correlated = read_csv('correlate-summer.csv')\n",
    "#     reading the csv file\n",
    "    corr = find_corr_x_y(summer, highest_correlated)\n",
    "    print('Highest correlation : {0}'.format(corr))\n",
    "    scatter_plot(summer, highest_correlated)\n",
    "    "
   ]
  },
  {
   "cell_type": "code",
   "execution_count": null,
   "metadata": {},
   "outputs": [],
   "source": []
  },
  {
   "cell_type": "markdown",
   "metadata": {},
   "source": [
    "# Exercises"
   ]
  },
  {
   "cell_type": "code",
   "execution_count": 1,
   "metadata": {},
   "outputs": [],
   "source": [
    "# better coefficient finding program "
   ]
  },
  {
   "cell_type": "code",
   "execution_count": 2,
   "metadata": {},
   "outputs": [],
   "source": [
    "def find_corr_x_y(x,y):\n",
    "    \n",
    "    if len(x) != len(y):\n",
    "        print(\"The two sets are of unequal size\")\n",
    "        return None\n",
    "    \n",
    "    n = len(x)\n",
    "    \n",
    "#     find the sum of the products\n",
    "    prod = [xi * yi for xi, yi in zip(x,y)]\n",
    "    sum_prod_x_y = sum(prod)\n",
    "    \n",
    "#     sum of numbers in x\n",
    "    sum_x = sum(x)\n",
    "#     sum of the numbers in y\n",
    "    sum_y = sum(y)\n",
    "    \n",
    "    \n",
    "#     square of the sum of the numbers in x\n",
    "    squared_sum_x = sum_x ** 2\n",
    "#     square of the sum of numbers in y\n",
    "    squared_sum_y = sum_y ** 2\n",
    "    \n",
    "    \n",
    "#     find the squares of the number in y and the squares sum\n",
    "    x_square = [xi**2 for xi in x]\n",
    "    x_square_sum = sum(x_square)\n",
    "    \n",
    "#     find the same as above for y\n",
    "    y_square = [yi**2 for yi in y]\n",
    "    y_square_sum = sum(y_square)\n",
    "    \n",
    "#     numerator\n",
    "    numerator = n*sum_prod_x_y - sum_x*sum_y\n",
    "    denominator_term1 = n*x_square_sum - squared_sum_x\n",
    "    denominator_term2 = n*y_square_sum - squared_sum_y\n",
    "    denominator = (denominator_term1*denomintor_term2)**0.5\n",
    "    \n",
    "    correlation = numerator / denominator \n",
    "    return correlation\n",
    "        "
   ]
  },
  {
   "cell_type": "code",
   "execution_count": null,
   "metadata": {},
   "outputs": [],
   "source": []
  },
  {
   "cell_type": "code",
   "execution_count": 3,
   "metadata": {},
   "outputs": [],
   "source": [
    "# statistics calculator\n",
    "\n",
    "# Reads from file mydata.txt and calculates various \n",
    "# statistical mrasures "
   ]
  },
  {
   "cell_type": "code",
   "execution_count": 3,
   "metadata": {},
   "outputs": [
    {
     "name": "stdout",
     "output_type": "stream",
     "text": [
      "Mean :477.75000\n",
      "Median : 500.00000\n",
      "Mode : 100.00000\n",
      "Standard Deviation : 392.26246\n"
     ]
    }
   ],
   "source": [
    "from statistics import mean, median , mode, stdev, variance\n",
    "\n",
    "def read_data(filename):\n",
    "    numbers = []\n",
    "    with open(filename) as f :\n",
    "        for line in f:\n",
    "            numbers.append(float(line))\n",
    "            \n",
    "    return numbers\n",
    "\n",
    "if __name__ == \"__main__\":\n",
    "    data = read_data('mydata.txt')\n",
    "    m = mean(data)\n",
    "    median = median(data)\n",
    "    mode = mode(data)\n",
    "    var = variance(data)\n",
    "    std = stdev(data)\n",
    "    \n",
    "    \n",
    "    print(f\"Mean :{m:.5f}\")\n",
    "    print(f\"Median : {median:.5f}\")\n",
    "    print(f\"Mode : {mode:.5f}\")\n",
    "    print(f\"Standard Deviation : {std:.5f}\")\n",
    "    "
   ]
  },
  {
   "cell_type": "code",
   "execution_count": null,
   "metadata": {},
   "outputs": [],
   "source": []
  },
  {
   "cell_type": "code",
   "execution_count": 13,
   "metadata": {},
   "outputs": [],
   "source": [
    "# More experiments on data\n",
    "\n",
    "# namely US_POP_TOTL\n",
    "\n",
    "# Read the US population data from a CSV file, \n",
    "# calculate the growth in population in consecutive\n",
    "# years, and compute various statistical measures\n",
    "# Also creates two graphs - one showing the total \n",
    "# population over the years andthe other showing the \n",
    "# change between consecutive years"
   ]
  },
  {
   "cell_type": "code",
   "execution_count": 49,
   "metadata": {},
   "outputs": [
    {
     "name": "stdout",
     "output_type": "stream",
     "text": [
      "Mean growth : 2562366.15385\n",
      "Median growth : 2476370.00000\n",
      "Variance growth : 192691153868.13272\n"
     ]
    },
    {
     "data": {
      "image/png": "[encoded data removed]",
      "text/plain": [
       "<Figure size 432x288 with 1 Axes>"
      ]
     },
     "metadata": {
      "needs_background": "light"
     },
     "output_type": "display_data"
    },
    {
     "data": {
      "image/png": "[encoded data removed]",
      "text/plain": [
       "<Figure size 432x288 with 1 Axes>"
      ]
     },
     "metadata": {
      "needs_background": "light"
     },
     "output_type": "display_data"
    }
   ],
   "source": [
    "import matplotlib.pyplot as plt\n",
    "import csv\n",
    "from statistics import mean, median, variance\n",
    "\n",
    "def read_csv(filename):\n",
    "    \n",
    "    years = []\n",
    "    population = []\n",
    "    \n",
    "    with open(filename) as f:\n",
    "        reader = csv.reader(f)\n",
    "        next(reader)\n",
    "        \n",
    "        summer = []\n",
    "        highest_correlated = []\n",
    "        \n",
    "        for row in reader:\n",
    "            #extract only the year from date\n",
    "            year = row[0].split('-')[0]\n",
    "            years.append(year)\n",
    "            population.append(float(row[1]))\n",
    "            \n",
    "#     reverse the list because the original data lists the most recent year first\n",
    "    population.reverse()\n",
    "    years.reverse()\n",
    "    \n",
    "    return population, years\n",
    "\n",
    "def plot_population(population, years):\n",
    "    plt.figure(1)\n",
    "    xaxis_positions = range(0, len(years))\n",
    "    \n",
    "    plt.plot(population, 'r')\n",
    "    plt.title('Total population in US')\n",
    "    plt.xlabel('Year')\n",
    "    plt.ylabel(\"Population\")\n",
    "    plt.xticks(xaxis_positions , years, rotation=45)\n",
    "    \n",
    "def calculate_stats(population):\n",
    "    \n",
    "#     find the growth in popuation in consecutive years\n",
    "    growth = []\n",
    "    for i in range(0,len(population)-1):\n",
    "        growth.append(population[i+1] - population[i])\n",
    "        \n",
    "    print(f\"Mean growth : {mean(growth):.5f}\")\n",
    "    print(f\"Median growth : {median(growth):.5f}\")\n",
    "    print(f\"Variance growth : {variance(growth):.5f}\")\n",
    "    return growth\n",
    "    \n",
    "def plot_population_diff(growth, years):\n",
    "    \n",
    "    xaxis_position = range(0,len(years)-1)\n",
    "    xaxis_label = ['{0}-{1}'.format(years[i], years[i+1]) for i in range(len(years)-1)]\n",
    "    \n",
    "    plt.figure(2)\n",
    "    plt.plot(growth , 'r')\n",
    "    plt.title(\"Population growth in consective years\")\n",
    "    plt.ylabel(\"Population Growth\")\n",
    "    plt.xticks(xaxis_position, xaxis_label, rotation = 45)\n",
    "    \n",
    "if __name__ == \"__main__\":\n",
    "    population, years = read_csv('USA_POP_TOTL.csv')\n",
    "    plot_population(population, years)\n",
    "    growth = calculate_stats(population)\n",
    "    plot_population_diff(growth, years)\n",
    "    plt.show()"
   ]
  },
  {
   "cell_type": "code",
   "execution_count": null,
   "metadata": {},
   "outputs": [],
   "source": []
  },
  {
   "cell_type": "markdown",
   "metadata": {},
   "source": [
    "Example of split"
   ]
  },
  {
   "cell_type": "code",
   "execution_count": 26,
   "metadata": {},
   "outputs": [
    {
     "name": "stdout",
     "output_type": "stream",
     "text": [
      "16 2021\n"
     ]
    }
   ],
   "source": [
    "d = '16-05-2021' #today's date\n",
    "p = list(d.split('-'))\n",
    "print(p[0], p[2])"
   ]
  },
  {
   "cell_type": "code",
   "execution_count": 40,
   "metadata": {},
   "outputs": [
    {
     "data": {
      "text/plain": [
       "['05', '16', '2021']"
      ]
     },
     "execution_count": 40,
     "metadata": {},
     "output_type": "execute_result"
    }
   ],
   "source": [
    "p.sort()\n",
    "p"
   ]
  },
  {
   "cell_type": "code",
   "execution_count": null,
   "metadata": {},
   "outputs": [],
   "source": []
  },
  {
   "cell_type": "markdown",
   "metadata": {},
   "source": [
    "# Percentile"
   ]
  },
  {
   "cell_type": "code",
   "execution_count": 5,
   "metadata": {},
   "outputs": [
    {
     "name": "stdout",
     "output_type": "stream",
     "text": [
      "Enter percentile to be calculated: 98\n",
      "The score at 98.0 percentile : 20.0\n"
     ]
    }
   ],
   "source": [
    "# Finding the percentile score\n",
    "\n",
    "# Calculating the number from the list of numbers that corresponds to a specific percentile\n",
    "\n",
    "def find_percentile_score(data , percentile):\n",
    "    if percentile < 0 or percentile > 100:\n",
    "        return None\n",
    "    \n",
    "    data.sort()\n",
    "    if percentile == 0:\n",
    "        return data[0]\n",
    "    if percentile == 100:\n",
    "        return data[-1]\n",
    "    \n",
    "    n = len(data)\n",
    "    i = ((n*percentile)/100)+0.5      #why tho ???\n",
    "    \n",
    "    if i.is_integer():\n",
    "        real_idx = int(i-1)\n",
    "        return data[real_idx]\n",
    "    else:\n",
    "        k = int(i)\n",
    "        f = i - k\n",
    "        real_idx_1 = k - 1\n",
    "        real_idx_2 = k\n",
    "        return (1-f)*data[real_idx_1] + f*data[real_idx_2]\n",
    "    \n",
    "def read_data(filename):\n",
    "    numbers = []\n",
    "    with open(filename) as f:\n",
    "        for line in f:\n",
    "            numbers.append(float(line))\n",
    "    return numbers\n",
    "\n",
    "if __name__ == \"__main__\":\n",
    "    percentile = float(input(\"Enter percentile to be calculated: \"))\n",
    "    data = read_data('marks.txt')\n",
    "    percentile_score = find_percentile_score(data, percentile)\n",
    "    \n",
    "    if percentile_score:\n",
    "        print('The score at {0} percentile : {1}'.format(percentile, percentile_score))\n",
    "    else:\n",
    "        print(f\"Couls not find the score corresponding to {percentile} percentile\")\n",
    "    \n",
    "    "
   ]
  },
  {
   "cell_type": "code",
   "execution_count": null,
   "metadata": {},
   "outputs": [],
   "source": []
  },
  {
   "cell_type": "code",
   "execution_count": 13,
   "metadata": {},
   "outputs": [
    {
     "name": "stdout",
     "output_type": "stream",
     "text": [
      "Enter the number of classes: 10\n",
      "10.50 - 11.45 \t 3\n",
      "11.45 - 12.40 \t 0\n",
      "12.40 - 13.35 \t 1\n",
      "13.35 - 14.30 \t 2\n",
      "14.30 - 15.25 \t 2\n",
      "15.25 - 16.20 \t 3\n",
      "16.20 - 17.15 \t 4\n",
      "17.15 - 18.10 \t 5\n",
      "18.10 - 19.05 \t 1\n",
      "19.05 - 20.00 \t 2\n",
      "20.00 - 21.00 \t 2\n"
     ]
    }
   ],
   "source": [
    "# Grouped Frequent Table\n",
    "\n",
    "def create_classes(numbers, n):\n",
    "    low = min(numbers)\n",
    "    high = max(numbers)\n",
    "    \n",
    "#     width of each class\n",
    "    width = (high-low)/n\n",
    "    classes = []\n",
    "    a = low\n",
    "    b = low + width \n",
    "    classes = []\n",
    "    while a < (high- width):\n",
    "        classes.append((a,b))\n",
    "        a = b \n",
    "        b = a + width\n",
    "        \n",
    "#         the last class may be of size less than width\n",
    "    classes.append((a, high+1))\n",
    "    return classes\n",
    "\n",
    "def classify(numbers, classes):\n",
    "    \n",
    "#     create a list with the same numbers of elements as the number of classes \n",
    "    count = [0]*len(classes)\n",
    "    for n in numbers:\n",
    "        for index, c in enumerate(classes):\n",
    "            if n >= c[0] and n < c[1]:\n",
    "                count[index] += 1\n",
    "                break\n",
    "    return count\n",
    "\n",
    "def read_data(filename):\n",
    "    numbers = []\n",
    "    with open(filename) as f:\n",
    "        for line in f:\n",
    "            numbers.append(float(line))\n",
    "    return numbers\n",
    "\n",
    "\n",
    "if __name__ == \"__main__\":\n",
    "    num_classes = int(input(\"Enter the number of classes: \"))\n",
    "    numbers = read_data('marks.txt')\n",
    "    \n",
    "    classes = create_classes(numbers, num_classes)\n",
    "    count = classify(numbers, classes)\n",
    "    for c , cnt  in zip(classes, count):\n",
    "        print(f\"{c[0]:.2f} - {c[1]:.2f} \\t {cnt}\")\n",
    "        "
   ]
  },
  {
   "cell_type": "markdown",
   "metadata": {},
   "source": []
  }
 ],
 "metadata": {
  "kernelspec": {
   "display_name": "Python 3",
   "language": "python",
   "name": "python3"
  },
  "language_info": {
   "codemirror_mode": {
    "name": "ipython",
    "version": 3
   },
   "file_extension": ".py",
   "mimetype": "text/x-python",
   "name": "python",
   "nbconvert_exporter": "python",
   "pygments_lexer": "ipython3",
   "version": "3.8.5"
  }
 },
 "nbformat": 4,
 "nbformat_minor": 4
}
