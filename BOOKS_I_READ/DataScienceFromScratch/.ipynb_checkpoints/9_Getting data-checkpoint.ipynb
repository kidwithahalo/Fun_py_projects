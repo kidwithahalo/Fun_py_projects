{
 "cells": [
  {
   "cell_type": "markdown",
   "id": "a0788884",
   "metadata": {},
   "source": [
    "## Basics of Text File"
   ]
  },
  {
   "cell_type": "markdown",
   "id": "f000afd2",
   "metadata": {},
   "source": [
    "    'r' means read only\n",
    "    'w' means write/overwirte\n",
    "    'a' means append, at end"
   ]
  },
  {
   "cell_type": "code",
   "execution_count": 3,
   "id": "8b941702",
   "metadata": {},
   "outputs": [],
   "source": [
    "with open('tab_delimited_stock_prices.txt', 'w') as f:\n",
    "    f.write(\"\"\"6/20/2014\\tAAPL\\t90.91\n",
    "6/20/2014\\tMSFT\\t41.68\n",
    "6/20/2014\\tFB\\t64.5\n",
    "6/19/2014\\tAAPL\\t91.86\n",
    "6/19/2014\\tMSFT\\t41.51\n",
    "6/19/2014\\tFB\\t64.34\n",
    "\"\"\")"
   ]
  },
  {
   "cell_type": "code",
   "execution_count": 6,
   "id": "91b0a844",
   "metadata": {},
   "outputs": [],
   "source": [
    "def process(date: str, symbol: str, closing_price: float) -> None:\n",
    "\n",
    "    assert closing_price > 0.0"
   ]
  },
  {
   "cell_type": "code",
   "execution_count": 7,
   "id": "ebb185b6",
   "metadata": {},
   "outputs": [],
   "source": [
    "import csv\n",
    "\n",
    "with open('tab_delimited_stock_prices.txt') as f:\n",
    "    tab_reader = csv.reader(f, delimiter='\\t')\n",
    "    for row in tab_reader:\n",
    "        date = row[0]\n",
    "        symbol = row[1]\n",
    "        closing_price = float(row[2])\n",
    "        process(date, symbol, closing_price)\n"
   ]
  },
  {
   "cell_type": "code",
   "execution_count": 8,
   "id": "eacf5f26",
   "metadata": {},
   "outputs": [],
   "source": [
    "with open('colon_delimited_stock_prices.txt', 'w') as f:\n",
    "    f.write(\"\"\"date:symbol:closing_price\n",
    "6/20/2014:AAPL:90.91\n",
    "6/20/2014:MSFT:41.68\n",
    "6/20/2014:FB:64.5\n",
    "\"\"\")\n",
    "\n",
    "\n",
    "with open('colon_delimited_stock_prices.txt') as f:\n",
    "    colon_reader = csv.DictReader(f, delimiter=':')\n",
    "    for dict_row in colon_reader:\n",
    "        date = dict_row[\"date\"]\n",
    "        symbol = dict_row[\"symbol\"]\n",
    "        closing_price = float(dict_row[\"closing_price\"])\n",
    "        process(date, symbol, closing_price)\n"
   ]
  },
  {
   "cell_type": "markdown",
   "id": "6fc459dd",
   "metadata": {},
   "source": [
    "# Scrapping Web"
   ]
  },
  {
   "cell_type": "code",
   "execution_count": 12,
   "id": "c0567cf7",
   "metadata": {},
   "outputs": [],
   "source": [
    "from bs4 import BeautifulSoup\n",
    "import requests\n",
    "\n",
    "url = (\"https://raw.githubusercontent.com/joelgrus/data/master/getting-data.html\")\n",
    "\n",
    "html = requests.get(url).text\n",
    "soup = BeautifulSoup(html,'html5lib')"
   ]
  },
  {
   "cell_type": "markdown",
   "id": "377c9c91",
   "metadata": {},
   "source": [
    "## \n",
    "    find the first tag (and its contents)"
   ]
  },
  {
   "cell_type": "code",
   "execution_count": 14,
   "id": "fcc34396",
   "metadata": {},
   "outputs": [
    {
     "data": {
      "text/plain": [
       "<p id=\"p1\">This is the first paragraph.</p>"
      ]
     },
     "execution_count": 14,
     "metadata": {},
     "output_type": "execute_result"
    }
   ],
   "source": [
    "first_paragraph = soup.find('p')     # or just soup.p\n",
    "first_paragraph"
   ]
  },
  {
   "cell_type": "code",
   "execution_count": 15,
   "id": "d8f5e961",
   "metadata": {},
   "outputs": [
    {
     "data": {
      "text/plain": [
       "('This is the first paragraph.', ['This', 'is', 'the', 'first', 'paragraph.'])"
      ]
     },
     "execution_count": 15,
     "metadata": {},
     "output_type": "execute_result"
    }
   ],
   "source": [
    "first_paragraph_text = soup.p.text\n",
    "# now getting the text contents from the content called\n",
    "\n",
    "first_paragraph_words = soup.p.text.split()\n",
    "\n",
    "first_paragraph_text, first_paragraph_words"
   ]
  },
  {
   "cell_type": "code",
   "execution_count": 6,
   "id": "126f6e70",
   "metadata": {},
   "outputs": [
    {
     "data": {
      "text/plain": [
       "('p1', 'p1')"
      ]
     },
     "execution_count": 6,
     "metadata": {},
     "output_type": "execute_result"
    }
   ],
   "source": [
    "# extracting tag's attribute \n",
    "\n",
    "first_paragraph_id = soup.p['id']       # raises KeyError if no 'id'\n",
    "first_paragraph_id2 = soup.p.get('id')  # returns None if no 'id'\n",
    "\n",
    "first_paragraph_id, first_paragraph_id2"
   ]
  },
  {
   "cell_type": "markdown",
   "id": "02685690",
   "metadata": {},
   "source": [
    "    Multiple tags at once"
   ]
  },
  {
   "cell_type": "code",
   "execution_count": 17,
   "id": "cc73e1cc",
   "metadata": {},
   "outputs": [
    {
     "data": {
      "text/plain": [
       "([<p id=\"p1\">This is the first paragraph.</p>,\n",
       "  <p class=\"important\">This is the second paragraph.</p>],\n",
       " [<p id=\"p1\">This is the first paragraph.</p>])"
      ]
     },
     "execution_count": 17,
     "metadata": {},
     "output_type": "execute_result"
    }
   ],
   "source": [
    "all_paragraphs = soup.find_all('p')\n",
    "paragraphs_with_ids = [p for p in soup('p') if p.get('id')]\n",
    "\n",
    "all_paragraphs,paragraphs_with_ids"
   ]
  },
  {
   "cell_type": "markdown",
   "id": "760416bb",
   "metadata": {},
   "source": [
    "### Tags with specified classes"
   ]
  },
  {
   "cell_type": "code",
   "execution_count": 18,
   "id": "1fc5d689",
   "metadata": {},
   "outputs": [
    {
     "data": {
      "text/plain": [
       "([<p class=\"important\">This is the second paragraph.</p>],\n",
       " [<p class=\"important\">This is the second paragraph.</p>],\n",
       " [<p class=\"important\">This is the second paragraph.</p>])"
      ]
     },
     "execution_count": 18,
     "metadata": {},
     "output_type": "execute_result"
    }
   ],
   "source": [
    "important_paragraphs = soup('p', {'class':'important'})\n",
    "important_paragraphs2 = soup('p', 'important')\n",
    "important_paragraphs3 = [p for p in soup('p') if 'important' in p.get('class',[])]\n",
    "\n",
    "important_paragraphs,important_paragraphs2, important_paragraphs3"
   ]
  },
  {
   "cell_type": "markdown",
   "id": "3051cef7",
   "metadata": {},
   "source": [
    "## Congress Votes DataSet"
   ]
  },
  {
   "cell_type": "code",
   "execution_count": 19,
   "id": "24b2a8a3",
   "metadata": {},
   "outputs": [
    {
     "name": "stdout",
     "output_type": "stream",
     "text": [
      "967\n"
     ]
    }
   ],
   "source": [
    "from bs4 import BeautifulSoup\n",
    "import requests\n",
    "\n",
    "url = \"https://www.house.gov/representatives\"\n",
    "text = requests.get(url).text\n",
    "soup = BeautifulSoup(text, 'html5lib')\n",
    "\n",
    "all_urls = [a['href'] for a in soup('a') if a.has_attr('href')]\n",
    "\n",
    "print(len((all_urls)))"
   ]
  },
  {
   "cell_type": "markdown",
   "id": "b6355ba1",
   "metadata": {},
   "source": [
    "If you look at them, the ones we want start with either **http://** or **https://**, have some kind of name, and end with either .house.gov or .house.gov/."
   ]
  },
  {
   "cell_type": "code",
   "execution_count": 21,
   "id": "aa15ea57",
   "metadata": {},
   "outputs": [
    {
     "name": "stdout",
     "output_type": "stream",
     "text": [
      "878\n"
     ]
    }
   ],
   "source": [
    "import re\n",
    "    \n",
    "    # Must start with http:// or https://\n",
    "    # Must end with .house.gov or .house.gov/\n",
    "regex = r\"^https?://.*\\.house\\.gov/?$\"\n",
    "    \n",
    "    # Let's write some tests!\n",
    "assert re.match(regex, \"http://joel.house.gov\")\n",
    "assert re.match(regex, \"https://joel.house.gov\")\n",
    "assert re.match(regex, \"http://joel.house.gov/\")\n",
    "assert re.match(regex, \"https://joel.house.gov/\")\n",
    "assert not re.match(regex, \"joel.house.gov\")\n",
    "assert not re.match(regex, \"http://joel.house.com\")\n",
    "assert not re.match(regex, \"https://joel.house.gov/biography\")\n",
    "    \n",
    "    # And now apply\n",
    "good_urls = [url for url in all_urls if re.match(regex, url)]\n",
    "    \n",
    "print(len(good_urls))  # still 862 for me\n",
    "    "
   ]
  },
  {
   "cell_type": "markdown",
   "id": "aacf3871",
   "metadata": {},
   "source": [
    "    Eliminating duplicate elements by putting them in a set"
   ]
  },
  {
   "cell_type": "code",
   "execution_count": 22,
   "id": "2b6aa7dd",
   "metadata": {},
   "outputs": [
    {
     "name": "stdout",
     "output_type": "stream",
     "text": [
      "{'https://jayapal.house.gov/category/press-releases/', 'https://jayapal.house.gov/category/news/'}\n"
     ]
    }
   ],
   "source": [
    "html = requests.get('https://jayapal.house.gov').text\n",
    "soup = BeautifulSoup(html, 'html5lib')\n",
    "    \n",
    "# Use a set because the links might appear multiple times.\n",
    "links = {a['href'] for a in soup('a') if 'press releases' in a.text.lower()}\n",
    "    \n",
    "print(links) # {'/media/press-releases'}\n",
    "    \n",
    "    "
   ]
  },
  {
   "cell_type": "code",
   "execution_count": 23,
   "id": "fea79c14",
   "metadata": {},
   "outputs": [
    {
     "name": "stdout",
     "output_type": "stream",
     "text": [
      "after sampling, left with ['https://degette.house.gov', 'https://bush.house.gov', 'https://newman.house.gov', 'https://wassermanschultz.house.gov/', 'https://bera.house.gov']\n"
     ]
    }
   ],
   "source": [
    "    # I don't want this file to scrape all 400+ websites every time it runs.\n",
    "    # So I'm going to randomly throw out most of the urls.\n",
    "    # The code in the book doesn't do this.\n",
    "import random\n",
    "good_urls = random.sample(good_urls, 5)\n",
    "print(f\"after sampling, left with {good_urls}\")\n",
    "    "
   ]
  },
  {
   "cell_type": "code",
   "execution_count": 24,
   "id": "2c1bf649",
   "metadata": {},
   "outputs": [
    {
     "name": "stdout",
     "output_type": "stream",
     "text": [
      "https://degette.house.gov: {'/newsroom/press-releases'}\n",
      "https://bush.house.gov: {'/media/press-releases'}\n",
      "https://newman.house.gov: {'/media/press-releases'}\n",
      "https://wassermanschultz.house.gov/: {'/news/documentquery.aspx?DocumentTypeID=27'}\n",
      "https://bera.house.gov: {'/media-center/press-releases'}\n"
     ]
    }
   ],
   "source": [
    "from typing import Dict, Set\n",
    "    \n",
    "press_releases: Dict[str, Set[str]] = {}\n",
    "    \n",
    "for house_url in good_urls:\n",
    "    html = requests.get(house_url).text\n",
    "    soup = BeautifulSoup(html, 'html5lib')\n",
    "    pr_links = {a['href'] for a in soup('a') if 'press releases' in a.text.lower()}\n",
    "    print(f\"{house_url}: {pr_links}\")\n",
    "    press_releases[house_url] = pr_links"
   ]
  },
  {
   "cell_type": "code",
   "execution_count": 25,
   "id": "13dc5ec4",
   "metadata": {},
   "outputs": [],
   "source": [
    "def paragraph_mentions(text: str, keyword: str) -> bool:\n",
    "    \"\"\"\n",
    "    Returns True if a <p> inside the text mentions {keyword}\n",
    "    \"\"\"\n",
    "    soup = BeautifulSoup(text, 'html5lib')\n",
    "    paragraphs = [p.get_text() for p in soup('p')]\n",
    "\n",
    "    return any(keyword.lower() in paragraph.lower()\n",
    "               for paragraph in paragraphs)\n"
   ]
  },
  {
   "cell_type": "code",
   "execution_count": 26,
   "id": "df4c5b76",
   "metadata": {},
   "outputs": [
    {
     "data": {
      "text/plain": [
       "(True, False)"
      ]
     },
     "execution_count": 26,
     "metadata": {},
     "output_type": "execute_result"
    }
   ],
   "source": [
    "text = \"\"\"<body><h1>Facebook</h1><p>Twitter</p>\"\"\"\n",
    "assert paragraph_mentions(text, \"twitter\")       # is inside a <p>\n",
    "assert not paragraph_mentions(text, \"facebook\")  # not inside a <p>\n",
    "\n",
    "paragraph_mentions(text, 'twitter'),paragraph_mentions(text, 'facebook')"
   ]
  },
  {
   "cell_type": "code",
   "execution_count": 27,
   "id": "b0b367a3",
   "metadata": {},
   "outputs": [],
   "source": [
    "for house_url, pr_links in press_releases.items():\n",
    "    for pr_link in pr_links:\n",
    "        url = f\"{house_url}/{pr_link}\"\n",
    "        text = requests.get(url).text\n",
    "    \n",
    "        if paragraph_mentions(text, 'data'):\n",
    "            print(f\"{house_url}\")\n",
    "            break  # done with this house_url\n",
    "            "
   ]
  },
  {
   "cell_type": "markdown",
   "id": "d2f6dd89",
   "metadata": {},
   "source": [
    "# Using API"
   ]
  },
  {
   "cell_type": "code",
   "execution_count": 30,
   "id": "b426b9ff",
   "metadata": {},
   "outputs": [
    {
     "data": {
      "text/plain": [
       "[{'id': 401086239,\n",
       "  'node_id': 'MDEwOlJlcG9zaXRvcnk0MDEwODYyMzk=',\n",
       "  'name': 'Computational_physics_phy473',\n",
       "  'full_name': 'kidwithahalo/Computational_physics_phy473',\n",
       "  'private': False,\n",
       "  'owner': {'login': 'kidwithahalo',\n",
       "   'id': 67169034,\n",
       "   'node_id': 'MDQ6VXNlcjY3MTY5MDM0',\n",
       "   'avatar_url': 'https://avatars.githubusercontent.com/u/67169034?v=4',\n",
       "   'gravatar_id': '',\n",
       "   'url': 'https://api.github.com/users/kidwithahalo',\n",
       "   'html_url': 'https://github.com/kidwithahalo',\n",
       "   'followers_url': 'https://api.github.com/users/kidwithahalo/followers',\n",
       "   'following_url': 'https://api.github.com/users/kidwithahalo/following{/other_user}',\n",
       "   'gists_url': 'https://api.github.com/users/kidwithahalo/gists{/gist_id}',\n",
       "   'starred_url': 'https://api.github.com/users/kidwithahalo/starred{/owner}{/repo}',\n",
       "   'subscriptions_url': 'https://api.github.com/users/kidwithahalo/subscriptions',\n",
       "   'organizations_url': 'https://api.github.com/users/kidwithahalo/orgs',\n",
       "   'repos_url': 'https://api.github.com/users/kidwithahalo/repos',\n",
       "   'events_url': 'https://api.github.com/users/kidwithahalo/events{/privacy}',\n",
       "   'received_events_url': 'https://api.github.com/users/kidwithahalo/received_events',\n",
       "   'type': 'User',\n",
       "   'site_admin': False},\n",
       "  'html_url': 'https://github.com/kidwithahalo/Computational_physics_phy473',\n",
       "  'description': 'Fall Semester Course ',\n",
       "  'fork': False,\n",
       "  'url': 'https://api.github.com/repos/kidwithahalo/Computational_physics_phy473',\n",
       "  'forks_url': 'https://api.github.com/repos/kidwithahalo/Computational_physics_phy473/forks',\n",
       "  'keys_url': 'https://api.github.com/repos/kidwithahalo/Computational_physics_phy473/keys{/key_id}',\n",
       "  'collaborators_url': 'https://api.github.com/repos/kidwithahalo/Computational_physics_phy473/collaborators{/collaborator}',\n",
       "  'teams_url': 'https://api.github.com/repos/kidwithahalo/Computational_physics_phy473/teams',\n",
       "  'hooks_url': 'https://api.github.com/repos/kidwithahalo/Computational_physics_phy473/hooks',\n",
       "  'issue_events_url': 'https://api.github.com/repos/kidwithahalo/Computational_physics_phy473/issues/events{/number}',\n",
       "  'events_url': 'https://api.github.com/repos/kidwithahalo/Computational_physics_phy473/events',\n",
       "  'assignees_url': 'https://api.github.com/repos/kidwithahalo/Computational_physics_phy473/assignees{/user}',\n",
       "  'branches_url': 'https://api.github.com/repos/kidwithahalo/Computational_physics_phy473/branches{/branch}',\n",
       "  'tags_url': 'https://api.github.com/repos/kidwithahalo/Computational_physics_phy473/tags',\n",
       "  'blobs_url': 'https://api.github.com/repos/kidwithahalo/Computational_physics_phy473/git/blobs{/sha}',\n",
       "  'git_tags_url': 'https://api.github.com/repos/kidwithahalo/Computational_physics_phy473/git/tags{/sha}',\n",
       "  'git_refs_url': 'https://api.github.com/repos/kidwithahalo/Computational_physics_phy473/git/refs{/sha}',\n",
       "  'trees_url': 'https://api.github.com/repos/kidwithahalo/Computational_physics_phy473/git/trees{/sha}',\n",
       "  'statuses_url': 'https://api.github.com/repos/kidwithahalo/Computational_physics_phy473/statuses/{sha}',\n",
       "  'languages_url': 'https://api.github.com/repos/kidwithahalo/Computational_physics_phy473/languages',\n",
       "  'stargazers_url': 'https://api.github.com/repos/kidwithahalo/Computational_physics_phy473/stargazers',\n",
       "  'contributors_url': 'https://api.github.com/repos/kidwithahalo/Computational_physics_phy473/contributors',\n",
       "  'subscribers_url': 'https://api.github.com/repos/kidwithahalo/Computational_physics_phy473/subscribers',\n",
       "  'subscription_url': 'https://api.github.com/repos/kidwithahalo/Computational_physics_phy473/subscription',\n",
       "  'commits_url': 'https://api.github.com/repos/kidwithahalo/Computational_physics_phy473/commits{/sha}',\n",
       "  'git_commits_url': 'https://api.github.com/repos/kidwithahalo/Computational_physics_phy473/git/commits{/sha}',\n",
       "  'comments_url': 'https://api.github.com/repos/kidwithahalo/Computational_physics_phy473/comments{/number}',\n",
       "  'issue_comment_url': 'https://api.github.com/repos/kidwithahalo/Computational_physics_phy473/issues/comments{/number}',\n",
       "  'contents_url': 'https://api.github.com/repos/kidwithahalo/Computational_physics_phy473/contents/{+path}',\n",
       "  'compare_url': 'https://api.github.com/repos/kidwithahalo/Computational_physics_phy473/compare/{base}...{head}',\n",
       "  'merges_url': 'https://api.github.com/repos/kidwithahalo/Computational_physics_phy473/merges',\n",
       "  'archive_url': 'https://api.github.com/repos/kidwithahalo/Computational_physics_phy473/{archive_format}{/ref}',\n",
       "  'downloads_url': 'https://api.github.com/repos/kidwithahalo/Computational_physics_phy473/downloads',\n",
       "  'issues_url': 'https://api.github.com/repos/kidwithahalo/Computational_physics_phy473/issues{/number}',\n",
       "  'pulls_url': 'https://api.github.com/repos/kidwithahalo/Computational_physics_phy473/pulls{/number}',\n",
       "  'milestones_url': 'https://api.github.com/repos/kidwithahalo/Computational_physics_phy473/milestones{/number}',\n",
       "  'notifications_url': 'https://api.github.com/repos/kidwithahalo/Computational_physics_phy473/notifications{?since,all,participating}',\n",
       "  'labels_url': 'https://api.github.com/repos/kidwithahalo/Computational_physics_phy473/labels{/name}',\n",
       "  'releases_url': 'https://api.github.com/repos/kidwithahalo/Computational_physics_phy473/releases{/id}',\n",
       "  'deployments_url': 'https://api.github.com/repos/kidwithahalo/Computational_physics_phy473/deployments',\n",
       "  'created_at': '2021-08-29T16:13:55Z',\n",
       "  'updated_at': '2021-08-29T20:13:14Z',\n",
       "  'pushed_at': '2021-08-29T20:13:12Z',\n",
       "  'git_url': 'git://github.com/kidwithahalo/Computational_physics_phy473.git',\n",
       "  'ssh_url': 'git@github.com:kidwithahalo/Computational_physics_phy473.git',\n",
       "  'clone_url': 'https://github.com/kidwithahalo/Computational_physics_phy473.git',\n",
       "  'svn_url': 'https://github.com/kidwithahalo/Computational_physics_phy473',\n",
       "  'homepage': None,\n",
       "  'size': 9,\n",
       "  'stargazers_count': 0,\n",
       "  'watchers_count': 0,\n",
       "  'language': 'Python',\n",
       "  'has_issues': True,\n",
       "  'has_projects': True,\n",
       "  'has_downloads': True,\n",
       "  'has_wiki': True,\n",
       "  'has_pages': False,\n",
       "  'forks_count': 0,\n",
       "  'mirror_url': None,\n",
       "  'archived': False,\n",
       "  'disabled': False,\n",
       "  'open_issues_count': 0,\n",
       "  'license': None,\n",
       "  'allow_forking': True,\n",
       "  'is_template': False,\n",
       "  'topics': [],\n",
       "  'visibility': 'public',\n",
       "  'forks': 0,\n",
       "  'open_issues': 0,\n",
       "  'watchers': 0,\n",
       "  'default_branch': 'master'},\n",
       " {'id': 346650491,\n",
       "  'node_id': 'MDEwOlJlcG9zaXRvcnkzNDY2NTA0OTE=',\n",
       "  'name': 'CtCI-6th-Edition-Python',\n",
       "  'full_name': 'kidwithahalo/CtCI-6th-Edition-Python',\n",
       "  'private': False,\n",
       "  'owner': {'login': 'kidwithahalo',\n",
       "   'id': 67169034,\n",
       "   'node_id': 'MDQ6VXNlcjY3MTY5MDM0',\n",
       "   'avatar_url': 'https://avatars.githubusercontent.com/u/67169034?v=4',\n",
       "   'gravatar_id': '',\n",
       "   'url': 'https://api.github.com/users/kidwithahalo',\n",
       "   'html_url': 'https://github.com/kidwithahalo',\n",
       "   'followers_url': 'https://api.github.com/users/kidwithahalo/followers',\n",
       "   'following_url': 'https://api.github.com/users/kidwithahalo/following{/other_user}',\n",
       "   'gists_url': 'https://api.github.com/users/kidwithahalo/gists{/gist_id}',\n",
       "   'starred_url': 'https://api.github.com/users/kidwithahalo/starred{/owner}{/repo}',\n",
       "   'subscriptions_url': 'https://api.github.com/users/kidwithahalo/subscriptions',\n",
       "   'organizations_url': 'https://api.github.com/users/kidwithahalo/orgs',\n",
       "   'repos_url': 'https://api.github.com/users/kidwithahalo/repos',\n",
       "   'events_url': 'https://api.github.com/users/kidwithahalo/events{/privacy}',\n",
       "   'received_events_url': 'https://api.github.com/users/kidwithahalo/received_events',\n",
       "   'type': 'User',\n",
       "   'site_admin': False},\n",
       "  'html_url': 'https://github.com/kidwithahalo/CtCI-6th-Edition-Python',\n",
       "  'description': 'Cracking the Coding Interview 6th Ed. Python Solutions',\n",
       "  'fork': True,\n",
       "  'url': 'https://api.github.com/repos/kidwithahalo/CtCI-6th-Edition-Python',\n",
       "  'forks_url': 'https://api.github.com/repos/kidwithahalo/CtCI-6th-Edition-Python/forks',\n",
       "  'keys_url': 'https://api.github.com/repos/kidwithahalo/CtCI-6th-Edition-Python/keys{/key_id}',\n",
       "  'collaborators_url': 'https://api.github.com/repos/kidwithahalo/CtCI-6th-Edition-Python/collaborators{/collaborator}',\n",
       "  'teams_url': 'https://api.github.com/repos/kidwithahalo/CtCI-6th-Edition-Python/teams',\n",
       "  'hooks_url': 'https://api.github.com/repos/kidwithahalo/CtCI-6th-Edition-Python/hooks',\n",
       "  'issue_events_url': 'https://api.github.com/repos/kidwithahalo/CtCI-6th-Edition-Python/issues/events{/number}',\n",
       "  'events_url': 'https://api.github.com/repos/kidwithahalo/CtCI-6th-Edition-Python/events',\n",
       "  'assignees_url': 'https://api.github.com/repos/kidwithahalo/CtCI-6th-Edition-Python/assignees{/user}',\n",
       "  'branches_url': 'https://api.github.com/repos/kidwithahalo/CtCI-6th-Edition-Python/branches{/branch}',\n",
       "  'tags_url': 'https://api.github.com/repos/kidwithahalo/CtCI-6th-Edition-Python/tags',\n",
       "  'blobs_url': 'https://api.github.com/repos/kidwithahalo/CtCI-6th-Edition-Python/git/blobs{/sha}',\n",
       "  'git_tags_url': 'https://api.github.com/repos/kidwithahalo/CtCI-6th-Edition-Python/git/tags{/sha}',\n",
       "  'git_refs_url': 'https://api.github.com/repos/kidwithahalo/CtCI-6th-Edition-Python/git/refs{/sha}',\n",
       "  'trees_url': 'https://api.github.com/repos/kidwithahalo/CtCI-6th-Edition-Python/git/trees{/sha}',\n",
       "  'statuses_url': 'https://api.github.com/repos/kidwithahalo/CtCI-6th-Edition-Python/statuses/{sha}',\n",
       "  'languages_url': 'https://api.github.com/repos/kidwithahalo/CtCI-6th-Edition-Python/languages',\n",
       "  'stargazers_url': 'https://api.github.com/repos/kidwithahalo/CtCI-6th-Edition-Python/stargazers',\n",
       "  'contributors_url': 'https://api.github.com/repos/kidwithahalo/CtCI-6th-Edition-Python/contributors',\n",
       "  'subscribers_url': 'https://api.github.com/repos/kidwithahalo/CtCI-6th-Edition-Python/subscribers',\n",
       "  'subscription_url': 'https://api.github.com/repos/kidwithahalo/CtCI-6th-Edition-Python/subscription',\n",
       "  'commits_url': 'https://api.github.com/repos/kidwithahalo/CtCI-6th-Edition-Python/commits{/sha}',\n",
       "  'git_commits_url': 'https://api.github.com/repos/kidwithahalo/CtCI-6th-Edition-Python/git/commits{/sha}',\n",
       "  'comments_url': 'https://api.github.com/repos/kidwithahalo/CtCI-6th-Edition-Python/comments{/number}',\n",
       "  'issue_comment_url': 'https://api.github.com/repos/kidwithahalo/CtCI-6th-Edition-Python/issues/comments{/number}',\n",
       "  'contents_url': 'https://api.github.com/repos/kidwithahalo/CtCI-6th-Edition-Python/contents/{+path}',\n",
       "  'compare_url': 'https://api.github.com/repos/kidwithahalo/CtCI-6th-Edition-Python/compare/{base}...{head}',\n",
       "  'merges_url': 'https://api.github.com/repos/kidwithahalo/CtCI-6th-Edition-Python/merges',\n",
       "  'archive_url': 'https://api.github.com/repos/kidwithahalo/CtCI-6th-Edition-Python/{archive_format}{/ref}',\n",
       "  'downloads_url': 'https://api.github.com/repos/kidwithahalo/CtCI-6th-Edition-Python/downloads',\n",
       "  'issues_url': 'https://api.github.com/repos/kidwithahalo/CtCI-6th-Edition-Python/issues{/number}',\n",
       "  'pulls_url': 'https://api.github.com/repos/kidwithahalo/CtCI-6th-Edition-Python/pulls{/number}',\n",
       "  'milestones_url': 'https://api.github.com/repos/kidwithahalo/CtCI-6th-Edition-Python/milestones{/number}',\n",
       "  'notifications_url': 'https://api.github.com/repos/kidwithahalo/CtCI-6th-Edition-Python/notifications{?since,all,participating}',\n",
       "  'labels_url': 'https://api.github.com/repos/kidwithahalo/CtCI-6th-Edition-Python/labels{/name}',\n",
       "  'releases_url': 'https://api.github.com/repos/kidwithahalo/CtCI-6th-Edition-Python/releases{/id}',\n",
       "  'deployments_url': 'https://api.github.com/repos/kidwithahalo/CtCI-6th-Edition-Python/deployments',\n",
       "  'created_at': '2021-03-11T09:40:02Z',\n",
       "  'updated_at': '2021-08-29T16:34:48Z',\n",
       "  'pushed_at': '2021-03-08T23:56:42Z',\n",
       "  'git_url': 'git://github.com/kidwithahalo/CtCI-6th-Edition-Python.git',\n",
       "  'ssh_url': 'git@github.com:kidwithahalo/CtCI-6th-Edition-Python.git',\n",
       "  'clone_url': 'https://github.com/kidwithahalo/CtCI-6th-Edition-Python.git',\n",
       "  'svn_url': 'https://github.com/kidwithahalo/CtCI-6th-Edition-Python',\n",
       "  'homepage': '',\n",
       "  'size': 251,\n",
       "  'stargazers_count': 0,\n",
       "  'watchers_count': 0,\n",
       "  'language': None,\n",
       "  'has_issues': False,\n",
       "  'has_projects': True,\n",
       "  'has_downloads': True,\n",
       "  'has_wiki': False,\n",
       "  'has_pages': False,\n",
       "  'forks_count': 0,\n",
       "  'mirror_url': None,\n",
       "  'archived': True,\n",
       "  'disabled': False,\n",
       "  'open_issues_count': 0,\n",
       "  'license': None,\n",
       "  'allow_forking': True,\n",
       "  'is_template': False,\n",
       "  'topics': [],\n",
       "  'visibility': 'public',\n",
       "  'forks': 0,\n",
       "  'open_issues': 0,\n",
       "  'watchers': 0,\n",
       "  'default_branch': 'master'},\n",
       " {'id': 400945573,\n",
       "  'node_id': 'MDEwOlJlcG9zaXRvcnk0MDA5NDU1NzM=',\n",
       "  'name': 'PhyProject_RandomWalk',\n",
       "  'full_name': 'kidwithahalo/PhyProject_RandomWalk',\n",
       "  'private': False,\n",
       "  'owner': {'login': 'kidwithahalo',\n",
       "   'id': 67169034,\n",
       "   'node_id': 'MDQ6VXNlcjY3MTY5MDM0',\n",
       "   'avatar_url': 'https://avatars.githubusercontent.com/u/67169034?v=4',\n",
       "   'gravatar_id': '',\n",
       "   'url': 'https://api.github.com/users/kidwithahalo',\n",
       "   'html_url': 'https://github.com/kidwithahalo',\n",
       "   'followers_url': 'https://api.github.com/users/kidwithahalo/followers',\n",
       "   'following_url': 'https://api.github.com/users/kidwithahalo/following{/other_user}',\n",
       "   'gists_url': 'https://api.github.com/users/kidwithahalo/gists{/gist_id}',\n",
       "   'starred_url': 'https://api.github.com/users/kidwithahalo/starred{/owner}{/repo}',\n",
       "   'subscriptions_url': 'https://api.github.com/users/kidwithahalo/subscriptions',\n",
       "   'organizations_url': 'https://api.github.com/users/kidwithahalo/orgs',\n",
       "   'repos_url': 'https://api.github.com/users/kidwithahalo/repos',\n",
       "   'events_url': 'https://api.github.com/users/kidwithahalo/events{/privacy}',\n",
       "   'received_events_url': 'https://api.github.com/users/kidwithahalo/received_events',\n",
       "   'type': 'User',\n",
       "   'site_admin': False},\n",
       "  'html_url': 'https://github.com/kidwithahalo/PhyProject_RandomWalk',\n",
       "  'description': 'Scholastic Project ',\n",
       "  'fork': False,\n",
       "  'url': 'https://api.github.com/repos/kidwithahalo/PhyProject_RandomWalk',\n",
       "  'forks_url': 'https://api.github.com/repos/kidwithahalo/PhyProject_RandomWalk/forks',\n",
       "  'keys_url': 'https://api.github.com/repos/kidwithahalo/PhyProject_RandomWalk/keys{/key_id}',\n",
       "  'collaborators_url': 'https://api.github.com/repos/kidwithahalo/PhyProject_RandomWalk/collaborators{/collaborator}',\n",
       "  'teams_url': 'https://api.github.com/repos/kidwithahalo/PhyProject_RandomWalk/teams',\n",
       "  'hooks_url': 'https://api.github.com/repos/kidwithahalo/PhyProject_RandomWalk/hooks',\n",
       "  'issue_events_url': 'https://api.github.com/repos/kidwithahalo/PhyProject_RandomWalk/issues/events{/number}',\n",
       "  'events_url': 'https://api.github.com/repos/kidwithahalo/PhyProject_RandomWalk/events',\n",
       "  'assignees_url': 'https://api.github.com/repos/kidwithahalo/PhyProject_RandomWalk/assignees{/user}',\n",
       "  'branches_url': 'https://api.github.com/repos/kidwithahalo/PhyProject_RandomWalk/branches{/branch}',\n",
       "  'tags_url': 'https://api.github.com/repos/kidwithahalo/PhyProject_RandomWalk/tags',\n",
       "  'blobs_url': 'https://api.github.com/repos/kidwithahalo/PhyProject_RandomWalk/git/blobs{/sha}',\n",
       "  'git_tags_url': 'https://api.github.com/repos/kidwithahalo/PhyProject_RandomWalk/git/tags{/sha}',\n",
       "  'git_refs_url': 'https://api.github.com/repos/kidwithahalo/PhyProject_RandomWalk/git/refs{/sha}',\n",
       "  'trees_url': 'https://api.github.com/repos/kidwithahalo/PhyProject_RandomWalk/git/trees{/sha}',\n",
       "  'statuses_url': 'https://api.github.com/repos/kidwithahalo/PhyProject_RandomWalk/statuses/{sha}',\n",
       "  'languages_url': 'https://api.github.com/repos/kidwithahalo/PhyProject_RandomWalk/languages',\n",
       "  'stargazers_url': 'https://api.github.com/repos/kidwithahalo/PhyProject_RandomWalk/stargazers',\n",
       "  'contributors_url': 'https://api.github.com/repos/kidwithahalo/PhyProject_RandomWalk/contributors',\n",
       "  'subscribers_url': 'https://api.github.com/repos/kidwithahalo/PhyProject_RandomWalk/subscribers',\n",
       "  'subscription_url': 'https://api.github.com/repos/kidwithahalo/PhyProject_RandomWalk/subscription',\n",
       "  'commits_url': 'https://api.github.com/repos/kidwithahalo/PhyProject_RandomWalk/commits{/sha}',\n",
       "  'git_commits_url': 'https://api.github.com/repos/kidwithahalo/PhyProject_RandomWalk/git/commits{/sha}',\n",
       "  'comments_url': 'https://api.github.com/repos/kidwithahalo/PhyProject_RandomWalk/comments{/number}',\n",
       "  'issue_comment_url': 'https://api.github.com/repos/kidwithahalo/PhyProject_RandomWalk/issues/comments{/number}',\n",
       "  'contents_url': 'https://api.github.com/repos/kidwithahalo/PhyProject_RandomWalk/contents/{+path}',\n",
       "  'compare_url': 'https://api.github.com/repos/kidwithahalo/PhyProject_RandomWalk/compare/{base}...{head}',\n",
       "  'merges_url': 'https://api.github.com/repos/kidwithahalo/PhyProject_RandomWalk/merges',\n",
       "  'archive_url': 'https://api.github.com/repos/kidwithahalo/PhyProject_RandomWalk/{archive_format}{/ref}',\n",
       "  'downloads_url': 'https://api.github.com/repos/kidwithahalo/PhyProject_RandomWalk/downloads',\n",
       "  'issues_url': 'https://api.github.com/repos/kidwithahalo/PhyProject_RandomWalk/issues{/number}',\n",
       "  'pulls_url': 'https://api.github.com/repos/kidwithahalo/PhyProject_RandomWalk/pulls{/number}',\n",
       "  'milestones_url': 'https://api.github.com/repos/kidwithahalo/PhyProject_RandomWalk/milestones{/number}',\n",
       "  'notifications_url': 'https://api.github.com/repos/kidwithahalo/PhyProject_RandomWalk/notifications{?since,all,participating}',\n",
       "  'labels_url': 'https://api.github.com/repos/kidwithahalo/PhyProject_RandomWalk/labels{/name}',\n",
       "  'releases_url': 'https://api.github.com/repos/kidwithahalo/PhyProject_RandomWalk/releases{/id}',\n",
       "  'deployments_url': 'https://api.github.com/repos/kidwithahalo/PhyProject_RandomWalk/deployments',\n",
       "  'created_at': '2021-08-29T03:58:02Z',\n",
       "  'updated_at': '2021-08-29T11:29:09Z',\n",
       "  'pushed_at': '2021-08-29T11:23:47Z',\n",
       "  'git_url': 'git://github.com/kidwithahalo/PhyProject_RandomWalk.git',\n",
       "  'ssh_url': 'git@github.com:kidwithahalo/PhyProject_RandomWalk.git',\n",
       "  'clone_url': 'https://github.com/kidwithahalo/PhyProject_RandomWalk.git',\n",
       "  'svn_url': 'https://github.com/kidwithahalo/PhyProject_RandomWalk',\n",
       "  'homepage': None,\n",
       "  'size': 6,\n",
       "  'stargazers_count': 0,\n",
       "  'watchers_count': 0,\n",
       "  'language': 'Python',\n",
       "  'has_issues': True,\n",
       "  'has_projects': True,\n",
       "  'has_downloads': True,\n",
       "  'has_wiki': True,\n",
       "  'has_pages': False,\n",
       "  'forks_count': 0,\n",
       "  'mirror_url': None,\n",
       "  'archived': False,\n",
       "  'disabled': False,\n",
       "  'open_issues_count': 0,\n",
       "  'license': None,\n",
       "  'allow_forking': True,\n",
       "  'is_template': False,\n",
       "  'topics': [],\n",
       "  'visibility': 'public',\n",
       "  'forks': 0,\n",
       "  'open_issues': 0,\n",
       "  'watchers': 0,\n",
       "  'default_branch': 'main'},\n",
       " {'id': 297256349,\n",
       "  'node_id': 'MDEwOlJlcG9zaXRvcnkyOTcyNTYzNDk=',\n",
       "  'name': 'PoemStacks',\n",
       "  'full_name': 'kidwithahalo/PoemStacks',\n",
       "  'private': False,\n",
       "  'owner': {'login': 'kidwithahalo',\n",
       "   'id': 67169034,\n",
       "   'node_id': 'MDQ6VXNlcjY3MTY5MDM0',\n",
       "   'avatar_url': 'https://avatars.githubusercontent.com/u/67169034?v=4',\n",
       "   'gravatar_id': '',\n",
       "   'url': 'https://api.github.com/users/kidwithahalo',\n",
       "   'html_url': 'https://github.com/kidwithahalo',\n",
       "   'followers_url': 'https://api.github.com/users/kidwithahalo/followers',\n",
       "   'following_url': 'https://api.github.com/users/kidwithahalo/following{/other_user}',\n",
       "   'gists_url': 'https://api.github.com/users/kidwithahalo/gists{/gist_id}',\n",
       "   'starred_url': 'https://api.github.com/users/kidwithahalo/starred{/owner}{/repo}',\n",
       "   'subscriptions_url': 'https://api.github.com/users/kidwithahalo/subscriptions',\n",
       "   'organizations_url': 'https://api.github.com/users/kidwithahalo/orgs',\n",
       "   'repos_url': 'https://api.github.com/users/kidwithahalo/repos',\n",
       "   'events_url': 'https://api.github.com/users/kidwithahalo/events{/privacy}',\n",
       "   'received_events_url': 'https://api.github.com/users/kidwithahalo/received_events',\n",
       "   'type': 'User',\n",
       "   'site_admin': False},\n",
       "  'html_url': 'https://github.com/kidwithahalo/PoemStacks',\n",
       "  'description': None,\n",
       "  'fork': False,\n",
       "  'url': 'https://api.github.com/repos/kidwithahalo/PoemStacks',\n",
       "  'forks_url': 'https://api.github.com/repos/kidwithahalo/PoemStacks/forks',\n",
       "  'keys_url': 'https://api.github.com/repos/kidwithahalo/PoemStacks/keys{/key_id}',\n",
       "  'collaborators_url': 'https://api.github.com/repos/kidwithahalo/PoemStacks/collaborators{/collaborator}',\n",
       "  'teams_url': 'https://api.github.com/repos/kidwithahalo/PoemStacks/teams',\n",
       "  'hooks_url': 'https://api.github.com/repos/kidwithahalo/PoemStacks/hooks',\n",
       "  'issue_events_url': 'https://api.github.com/repos/kidwithahalo/PoemStacks/issues/events{/number}',\n",
       "  'events_url': 'https://api.github.com/repos/kidwithahalo/PoemStacks/events',\n",
       "  'assignees_url': 'https://api.github.com/repos/kidwithahalo/PoemStacks/assignees{/user}',\n",
       "  'branches_url': 'https://api.github.com/repos/kidwithahalo/PoemStacks/branches{/branch}',\n",
       "  'tags_url': 'https://api.github.com/repos/kidwithahalo/PoemStacks/tags',\n",
       "  'blobs_url': 'https://api.github.com/repos/kidwithahalo/PoemStacks/git/blobs{/sha}',\n",
       "  'git_tags_url': 'https://api.github.com/repos/kidwithahalo/PoemStacks/git/tags{/sha}',\n",
       "  'git_refs_url': 'https://api.github.com/repos/kidwithahalo/PoemStacks/git/refs{/sha}',\n",
       "  'trees_url': 'https://api.github.com/repos/kidwithahalo/PoemStacks/git/trees{/sha}',\n",
       "  'statuses_url': 'https://api.github.com/repos/kidwithahalo/PoemStacks/statuses/{sha}',\n",
       "  'languages_url': 'https://api.github.com/repos/kidwithahalo/PoemStacks/languages',\n",
       "  'stargazers_url': 'https://api.github.com/repos/kidwithahalo/PoemStacks/stargazers',\n",
       "  'contributors_url': 'https://api.github.com/repos/kidwithahalo/PoemStacks/contributors',\n",
       "  'subscribers_url': 'https://api.github.com/repos/kidwithahalo/PoemStacks/subscribers',\n",
       "  'subscription_url': 'https://api.github.com/repos/kidwithahalo/PoemStacks/subscription',\n",
       "  'commits_url': 'https://api.github.com/repos/kidwithahalo/PoemStacks/commits{/sha}',\n",
       "  'git_commits_url': 'https://api.github.com/repos/kidwithahalo/PoemStacks/git/commits{/sha}',\n",
       "  'comments_url': 'https://api.github.com/repos/kidwithahalo/PoemStacks/comments{/number}',\n",
       "  'issue_comment_url': 'https://api.github.com/repos/kidwithahalo/PoemStacks/issues/comments{/number}',\n",
       "  'contents_url': 'https://api.github.com/repos/kidwithahalo/PoemStacks/contents/{+path}',\n",
       "  'compare_url': 'https://api.github.com/repos/kidwithahalo/PoemStacks/compare/{base}...{head}',\n",
       "  'merges_url': 'https://api.github.com/repos/kidwithahalo/PoemStacks/merges',\n",
       "  'archive_url': 'https://api.github.com/repos/kidwithahalo/PoemStacks/{archive_format}{/ref}',\n",
       "  'downloads_url': 'https://api.github.com/repos/kidwithahalo/PoemStacks/downloads',\n",
       "  'issues_url': 'https://api.github.com/repos/kidwithahalo/PoemStacks/issues{/number}',\n",
       "  'pulls_url': 'https://api.github.com/repos/kidwithahalo/PoemStacks/pulls{/number}',\n",
       "  'milestones_url': 'https://api.github.com/repos/kidwithahalo/PoemStacks/milestones{/number}',\n",
       "  'notifications_url': 'https://api.github.com/repos/kidwithahalo/PoemStacks/notifications{?since,all,participating}',\n",
       "  'labels_url': 'https://api.github.com/repos/kidwithahalo/PoemStacks/labels{/name}',\n",
       "  'releases_url': 'https://api.github.com/repos/kidwithahalo/PoemStacks/releases{/id}',\n",
       "  'deployments_url': 'https://api.github.com/repos/kidwithahalo/PoemStacks/deployments',\n",
       "  'created_at': '2020-09-21T07:05:13Z',\n",
       "  'updated_at': '2021-08-29T16:34:03Z',\n",
       "  'pushed_at': '2021-08-29T16:34:00Z',\n",
       "  'git_url': 'git://github.com/kidwithahalo/PoemStacks.git',\n",
       "  'ssh_url': 'git@github.com:kidwithahalo/PoemStacks.git',\n",
       "  'clone_url': 'https://github.com/kidwithahalo/PoemStacks.git',\n",
       "  'svn_url': 'https://github.com/kidwithahalo/PoemStacks',\n",
       "  'homepage': None,\n",
       "  'size': 2,\n",
       "  'stargazers_count': 0,\n",
       "  'watchers_count': 0,\n",
       "  'language': None,\n",
       "  'has_issues': True,\n",
       "  'has_projects': True,\n",
       "  'has_downloads': True,\n",
       "  'has_wiki': True,\n",
       "  'has_pages': True,\n",
       "  'forks_count': 0,\n",
       "  'mirror_url': None,\n",
       "  'archived': False,\n",
       "  'disabled': False,\n",
       "  'open_issues_count': 0,\n",
       "  'license': None,\n",
       "  'allow_forking': True,\n",
       "  'is_template': False,\n",
       "  'topics': [],\n",
       "  'visibility': 'public',\n",
       "  'forks': 0,\n",
       "  'open_issues': 0,\n",
       "  'watchers': 0,\n",
       "  'default_branch': 'gh-pages'},\n",
       " {'id': 297250574,\n",
       "  'node_id': 'MDEwOlJlcG9zaXRvcnkyOTcyNTA1NzQ=',\n",
       "  'name': 'puzzles',\n",
       "  'full_name': 'kidwithahalo/puzzles',\n",
       "  'private': False,\n",
       "  'owner': {'login': 'kidwithahalo',\n",
       "   'id': 67169034,\n",
       "   'node_id': 'MDQ6VXNlcjY3MTY5MDM0',\n",
       "   'avatar_url': 'https://avatars.githubusercontent.com/u/67169034?v=4',\n",
       "   'gravatar_id': '',\n",
       "   'url': 'https://api.github.com/users/kidwithahalo',\n",
       "   'html_url': 'https://github.com/kidwithahalo',\n",
       "   'followers_url': 'https://api.github.com/users/kidwithahalo/followers',\n",
       "   'following_url': 'https://api.github.com/users/kidwithahalo/following{/other_user}',\n",
       "   'gists_url': 'https://api.github.com/users/kidwithahalo/gists{/gist_id}',\n",
       "   'starred_url': 'https://api.github.com/users/kidwithahalo/starred{/owner}{/repo}',\n",
       "   'subscriptions_url': 'https://api.github.com/users/kidwithahalo/subscriptions',\n",
       "   'organizations_url': 'https://api.github.com/users/kidwithahalo/orgs',\n",
       "   'repos_url': 'https://api.github.com/users/kidwithahalo/repos',\n",
       "   'events_url': 'https://api.github.com/users/kidwithahalo/events{/privacy}',\n",
       "   'received_events_url': 'https://api.github.com/users/kidwithahalo/received_events',\n",
       "   'type': 'User',\n",
       "   'site_admin': False},\n",
       "  'html_url': 'https://github.com/kidwithahalo/puzzles',\n",
       "  'description': None,\n",
       "  'fork': False,\n",
       "  'url': 'https://api.github.com/repos/kidwithahalo/puzzles',\n",
       "  'forks_url': 'https://api.github.com/repos/kidwithahalo/puzzles/forks',\n",
       "  'keys_url': 'https://api.github.com/repos/kidwithahalo/puzzles/keys{/key_id}',\n",
       "  'collaborators_url': 'https://api.github.com/repos/kidwithahalo/puzzles/collaborators{/collaborator}',\n",
       "  'teams_url': 'https://api.github.com/repos/kidwithahalo/puzzles/teams',\n",
       "  'hooks_url': 'https://api.github.com/repos/kidwithahalo/puzzles/hooks',\n",
       "  'issue_events_url': 'https://api.github.com/repos/kidwithahalo/puzzles/issues/events{/number}',\n",
       "  'events_url': 'https://api.github.com/repos/kidwithahalo/puzzles/events',\n",
       "  'assignees_url': 'https://api.github.com/repos/kidwithahalo/puzzles/assignees{/user}',\n",
       "  'branches_url': 'https://api.github.com/repos/kidwithahalo/puzzles/branches{/branch}',\n",
       "  'tags_url': 'https://api.github.com/repos/kidwithahalo/puzzles/tags',\n",
       "  'blobs_url': 'https://api.github.com/repos/kidwithahalo/puzzles/git/blobs{/sha}',\n",
       "  'git_tags_url': 'https://api.github.com/repos/kidwithahalo/puzzles/git/tags{/sha}',\n",
       "  'git_refs_url': 'https://api.github.com/repos/kidwithahalo/puzzles/git/refs{/sha}',\n",
       "  'trees_url': 'https://api.github.com/repos/kidwithahalo/puzzles/git/trees{/sha}',\n",
       "  'statuses_url': 'https://api.github.com/repos/kidwithahalo/puzzles/statuses/{sha}',\n",
       "  'languages_url': 'https://api.github.com/repos/kidwithahalo/puzzles/languages',\n",
       "  'stargazers_url': 'https://api.github.com/repos/kidwithahalo/puzzles/stargazers',\n",
       "  'contributors_url': 'https://api.github.com/repos/kidwithahalo/puzzles/contributors',\n",
       "  'subscribers_url': 'https://api.github.com/repos/kidwithahalo/puzzles/subscribers',\n",
       "  'subscription_url': 'https://api.github.com/repos/kidwithahalo/puzzles/subscription',\n",
       "  'commits_url': 'https://api.github.com/repos/kidwithahalo/puzzles/commits{/sha}',\n",
       "  'git_commits_url': 'https://api.github.com/repos/kidwithahalo/puzzles/git/commits{/sha}',\n",
       "  'comments_url': 'https://api.github.com/repos/kidwithahalo/puzzles/comments{/number}',\n",
       "  'issue_comment_url': 'https://api.github.com/repos/kidwithahalo/puzzles/issues/comments{/number}',\n",
       "  'contents_url': 'https://api.github.com/repos/kidwithahalo/puzzles/contents/{+path}',\n",
       "  'compare_url': 'https://api.github.com/repos/kidwithahalo/puzzles/compare/{base}...{head}',\n",
       "  'merges_url': 'https://api.github.com/repos/kidwithahalo/puzzles/merges',\n",
       "  'archive_url': 'https://api.github.com/repos/kidwithahalo/puzzles/{archive_format}{/ref}',\n",
       "  'downloads_url': 'https://api.github.com/repos/kidwithahalo/puzzles/downloads',\n",
       "  'issues_url': 'https://api.github.com/repos/kidwithahalo/puzzles/issues{/number}',\n",
       "  'pulls_url': 'https://api.github.com/repos/kidwithahalo/puzzles/pulls{/number}',\n",
       "  'milestones_url': 'https://api.github.com/repos/kidwithahalo/puzzles/milestones{/number}',\n",
       "  'notifications_url': 'https://api.github.com/repos/kidwithahalo/puzzles/notifications{?since,all,participating}',\n",
       "  'labels_url': 'https://api.github.com/repos/kidwithahalo/puzzles/labels{/name}',\n",
       "  'releases_url': 'https://api.github.com/repos/kidwithahalo/puzzles/releases{/id}',\n",
       "  'deployments_url': 'https://api.github.com/repos/kidwithahalo/puzzles/deployments',\n",
       "  'created_at': '2020-09-21T06:38:17Z',\n",
       "  'updated_at': '2021-08-29T16:33:29Z',\n",
       "  'pushed_at': '2021-08-29T16:33:27Z',\n",
       "  'git_url': 'git://github.com/kidwithahalo/puzzles.git',\n",
       "  'ssh_url': 'git@github.com:kidwithahalo/puzzles.git',\n",
       "  'clone_url': 'https://github.com/kidwithahalo/puzzles.git',\n",
       "  'svn_url': 'https://github.com/kidwithahalo/puzzles',\n",
       "  'homepage': None,\n",
       "  'size': 7,\n",
       "  'stargazers_count': 0,\n",
       "  'watchers_count': 0,\n",
       "  'language': 'Python',\n",
       "  'has_issues': True,\n",
       "  'has_projects': True,\n",
       "  'has_downloads': True,\n",
       "  'has_wiki': True,\n",
       "  'has_pages': False,\n",
       "  'forks_count': 0,\n",
       "  'mirror_url': None,\n",
       "  'archived': False,\n",
       "  'disabled': False,\n",
       "  'open_issues_count': 0,\n",
       "  'license': None,\n",
       "  'allow_forking': True,\n",
       "  'is_template': False,\n",
       "  'topics': [],\n",
       "  'visibility': 'public',\n",
       "  'forks': 0,\n",
       "  'open_issues': 0,\n",
       "  'watchers': 0,\n",
       "  'default_branch': 'master'}]"
      ]
     },
     "execution_count": 30,
     "metadata": {},
     "output_type": "execute_result"
    }
   ],
   "source": [
    "import requests, json\n",
    "    \n",
    "github_user = \"kidwithahalo\"\n",
    "endpoint = f\"https://api.github.com/users/{github_user}/repos\"\n",
    "    \n",
    "repos = json.loads(requests.get(endpoint).text)\n",
    "repos"
   ]
  },
  {
   "cell_type": "code",
   "execution_count": 32,
   "id": "753aa3f8",
   "metadata": {},
   "outputs": [
    {
     "data": {
      "text/plain": [
       "(Counter({8: 2, 3: 1, 9: 2}), Counter({6: 2, 3: 1, 0: 2}))"
      ]
     },
     "execution_count": 32,
     "metadata": {},
     "output_type": "execute_result"
    }
   ],
   "source": [
    "from collections import Counter\n",
    "from dateutil.parser import parse\n",
    "\n",
    "dates = [parse(repo['created_at']) for repo in repos]\n",
    "\n",
    "month_count = Counter(date.month for date in dates)\n",
    "weekly_counts = Counter(date.weekday() for date in dates)\n",
    "\n",
    "\n",
    "month_count, weekly_counts"
   ]
  },
  {
   "cell_type": "code",
   "execution_count": 36,
   "id": "1617d038",
   "metadata": {
    "scrolled": true
   },
   "outputs": [
    {
     "data": {
      "text/plain": [
       "({'id': 297250574,\n",
       "  'node_id': 'MDEwOlJlcG9zaXRvcnkyOTcyNTA1NzQ=',\n",
       "  'name': 'puzzles',\n",
       "  'full_name': 'kidwithahalo/puzzles',\n",
       "  'private': False,\n",
       "  'owner': {'login': 'kidwithahalo',\n",
       "   'id': 67169034,\n",
       "   'node_id': 'MDQ6VXNlcjY3MTY5MDM0',\n",
       "   'avatar_url': 'https://avatars.githubusercontent.com/u/67169034?v=4',\n",
       "   'gravatar_id': '',\n",
       "   'url': 'https://api.github.com/users/kidwithahalo',\n",
       "   'html_url': 'https://github.com/kidwithahalo',\n",
       "   'followers_url': 'https://api.github.com/users/kidwithahalo/followers',\n",
       "   'following_url': 'https://api.github.com/users/kidwithahalo/following{/other_user}',\n",
       "   'gists_url': 'https://api.github.com/users/kidwithahalo/gists{/gist_id}',\n",
       "   'starred_url': 'https://api.github.com/users/kidwithahalo/starred{/owner}{/repo}',\n",
       "   'subscriptions_url': 'https://api.github.com/users/kidwithahalo/subscriptions',\n",
       "   'organizations_url': 'https://api.github.com/users/kidwithahalo/orgs',\n",
       "   'repos_url': 'https://api.github.com/users/kidwithahalo/repos',\n",
       "   'events_url': 'https://api.github.com/users/kidwithahalo/events{/privacy}',\n",
       "   'received_events_url': 'https://api.github.com/users/kidwithahalo/received_events',\n",
       "   'type': 'User',\n",
       "   'site_admin': False},\n",
       "  'html_url': 'https://github.com/kidwithahalo/puzzles',\n",
       "  'description': None,\n",
       "  'fork': False,\n",
       "  'url': 'https://api.github.com/repos/kidwithahalo/puzzles',\n",
       "  'forks_url': 'https://api.github.com/repos/kidwithahalo/puzzles/forks',\n",
       "  'keys_url': 'https://api.github.com/repos/kidwithahalo/puzzles/keys{/key_id}',\n",
       "  'collaborators_url': 'https://api.github.com/repos/kidwithahalo/puzzles/collaborators{/collaborator}',\n",
       "  'teams_url': 'https://api.github.com/repos/kidwithahalo/puzzles/teams',\n",
       "  'hooks_url': 'https://api.github.com/repos/kidwithahalo/puzzles/hooks',\n",
       "  'issue_events_url': 'https://api.github.com/repos/kidwithahalo/puzzles/issues/events{/number}',\n",
       "  'events_url': 'https://api.github.com/repos/kidwithahalo/puzzles/events',\n",
       "  'assignees_url': 'https://api.github.com/repos/kidwithahalo/puzzles/assignees{/user}',\n",
       "  'branches_url': 'https://api.github.com/repos/kidwithahalo/puzzles/branches{/branch}',\n",
       "  'tags_url': 'https://api.github.com/repos/kidwithahalo/puzzles/tags',\n",
       "  'blobs_url': 'https://api.github.com/repos/kidwithahalo/puzzles/git/blobs{/sha}',\n",
       "  'git_tags_url': 'https://api.github.com/repos/kidwithahalo/puzzles/git/tags{/sha}',\n",
       "  'git_refs_url': 'https://api.github.com/repos/kidwithahalo/puzzles/git/refs{/sha}',\n",
       "  'trees_url': 'https://api.github.com/repos/kidwithahalo/puzzles/git/trees{/sha}',\n",
       "  'statuses_url': 'https://api.github.com/repos/kidwithahalo/puzzles/statuses/{sha}',\n",
       "  'languages_url': 'https://api.github.com/repos/kidwithahalo/puzzles/languages',\n",
       "  'stargazers_url': 'https://api.github.com/repos/kidwithahalo/puzzles/stargazers',\n",
       "  'contributors_url': 'https://api.github.com/repos/kidwithahalo/puzzles/contributors',\n",
       "  'subscribers_url': 'https://api.github.com/repos/kidwithahalo/puzzles/subscribers',\n",
       "  'subscription_url': 'https://api.github.com/repos/kidwithahalo/puzzles/subscription',\n",
       "  'commits_url': 'https://api.github.com/repos/kidwithahalo/puzzles/commits{/sha}',\n",
       "  'git_commits_url': 'https://api.github.com/repos/kidwithahalo/puzzles/git/commits{/sha}',\n",
       "  'comments_url': 'https://api.github.com/repos/kidwithahalo/puzzles/comments{/number}',\n",
       "  'issue_comment_url': 'https://api.github.com/repos/kidwithahalo/puzzles/issues/comments{/number}',\n",
       "  'contents_url': 'https://api.github.com/repos/kidwithahalo/puzzles/contents/{+path}',\n",
       "  'compare_url': 'https://api.github.com/repos/kidwithahalo/puzzles/compare/{base}...{head}',\n",
       "  'merges_url': 'https://api.github.com/repos/kidwithahalo/puzzles/merges',\n",
       "  'archive_url': 'https://api.github.com/repos/kidwithahalo/puzzles/{archive_format}{/ref}',\n",
       "  'downloads_url': 'https://api.github.com/repos/kidwithahalo/puzzles/downloads',\n",
       "  'issues_url': 'https://api.github.com/repos/kidwithahalo/puzzles/issues{/number}',\n",
       "  'pulls_url': 'https://api.github.com/repos/kidwithahalo/puzzles/pulls{/number}',\n",
       "  'milestones_url': 'https://api.github.com/repos/kidwithahalo/puzzles/milestones{/number}',\n",
       "  'notifications_url': 'https://api.github.com/repos/kidwithahalo/puzzles/notifications{?since,all,participating}',\n",
       "  'labels_url': 'https://api.github.com/repos/kidwithahalo/puzzles/labels{/name}',\n",
       "  'releases_url': 'https://api.github.com/repos/kidwithahalo/puzzles/releases{/id}',\n",
       "  'deployments_url': 'https://api.github.com/repos/kidwithahalo/puzzles/deployments',\n",
       "  'created_at': '2020-09-21T06:38:17Z',\n",
       "  'updated_at': '2021-08-29T16:33:29Z',\n",
       "  'pushed_at': '2021-08-29T16:33:27Z',\n",
       "  'git_url': 'git://github.com/kidwithahalo/puzzles.git',\n",
       "  'ssh_url': 'git@github.com:kidwithahalo/puzzles.git',\n",
       "  'clone_url': 'https://github.com/kidwithahalo/puzzles.git',\n",
       "  'svn_url': 'https://github.com/kidwithahalo/puzzles',\n",
       "  'homepage': None,\n",
       "  'size': 7,\n",
       "  'stargazers_count': 0,\n",
       "  'watchers_count': 0,\n",
       "  'language': 'Python',\n",
       "  'has_issues': True,\n",
       "  'has_projects': True,\n",
       "  'has_downloads': True,\n",
       "  'has_wiki': True,\n",
       "  'has_pages': False,\n",
       "  'forks_count': 0,\n",
       "  'mirror_url': None,\n",
       "  'archived': False,\n",
       "  'disabled': False,\n",
       "  'open_issues_count': 0,\n",
       "  'license': None,\n",
       "  'allow_forking': True,\n",
       "  'is_template': False,\n",
       "  'topics': [],\n",
       "  'visibility': 'public',\n",
       "  'forks': 0,\n",
       "  'open_issues': 0,\n",
       "  'watchers': 0,\n",
       "  'default_branch': 'master'},\n",
       " 'Python')"
      ]
     },
     "execution_count": 36,
     "metadata": {},
     "output_type": "execute_result"
    }
   ],
   "source": [
    "last_5_repositories = sorted(repos, key = lambda r: r['pushed_at'], reverse=True)[:5]\n",
    "\n",
    "last_5_languages = [repo['language'] for repo in last_5_repositories]\n",
    "\n",
    "last_5_repositories[2],last_5_languages[2]"
   ]
  },
  {
   "cell_type": "code",
   "execution_count": null,
   "id": "0780dce7",
   "metadata": {},
   "outputs": [],
   "source": []
  }
 ],
 "metadata": {
  "kernelspec": {
   "display_name": "Python 3 (ipykernel)",
   "language": "python",
   "name": "python3"
  },
  "language_info": {
   "codemirror_mode": {
    "name": "ipython",
    "version": 3
   },
   "file_extension": ".py",
   "mimetype": "text/x-python",
   "name": "python",
   "nbconvert_exporter": "python",
   "pygments_lexer": "ipython3",
   "version": "3.8.11"
  }
 },
 "nbformat": 4,
 "nbformat_minor": 5
}
