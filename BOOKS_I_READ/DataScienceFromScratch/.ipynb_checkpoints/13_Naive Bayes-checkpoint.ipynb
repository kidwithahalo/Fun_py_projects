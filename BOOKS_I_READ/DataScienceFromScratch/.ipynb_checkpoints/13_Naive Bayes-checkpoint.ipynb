{
 "cells": [
  {
   "cell_type": "markdown",
   "id": "846fe102",
   "metadata": {},
   "source": [
    "    It is well for the heart to be naive and for the mind not to be.\n",
    "                                                    —Anatole France"
   ]
  },
  {
   "cell_type": "markdown",
   "id": "48bb6f5f",
   "metadata": {},
   "source": [
    "### Tokenizing messages into distinct words"
   ]
  },
  {
   "cell_type": "code",
   "execution_count": 6,
   "id": "c76484b9",
   "metadata": {},
   "outputs": [
    {
     "data": {
      "text/plain": [
       "{'a', 'data', 'is', 'science'}"
      ]
     },
     "execution_count": 6,
     "metadata": {},
     "output_type": "execute_result"
    }
   ],
   "source": [
    "from typing import  Set\n",
    "import re\n",
    "\n",
    "def tokenize(text:str) -> Set[str]:\n",
    "    text = text.lower()\n",
    "    all_words = re.findall('[a-z0-9]+', text)\n",
    "    # extracted the words and removed duplicates\n",
    "    return set(all_words)\n",
    "\n",
    "tokenize('Data Science is a science')"
   ]
  },
  {
   "cell_type": "code",
   "execution_count": 7,
   "id": "2e3bed9b",
   "metadata": {},
   "outputs": [],
   "source": [
    "# Defining typo for our Training Data\n",
    "\n",
    "from typing import NamedTuple\n",
    "\n",
    "class Message(NamedTuple):\n",
    "    text:str\n",
    "    is_spam: bool"
   ]
  },
  {
   "cell_type": "markdown",
   "id": "389660c4",
   "metadata": {},
   "source": [
    "    spam - which is spam\n",
    "    ham - nonspam"
   ]
  },
  {
   "cell_type": "code",
   "execution_count": 33,
   "id": "ee710c14",
   "metadata": {},
   "outputs": [],
   "source": [
    "from typing import List, Tuple, Dict, Iterable\n",
    "import math\n",
    "from collections import defaultdict\n",
    "\n",
    "class NaiveBayesClassifier:\n",
    "    def __init__(self, k:float=0.5) -> None:\n",
    "        self.k = k #smoothing factor\n",
    "\n",
    "        self.tokens: Set[str] = set()\n",
    "        self.token_spam_counts: Dict[str,int] = defaultdict(int)\n",
    "        self.token_ham_counts : Dict[str,int] = defaultdict(int)\n",
    "        self.spam_messages = self.ham_messages = 0\n",
    "      \n",
    "    \n",
    "    def train(self, messages: Iterable[Message]) -> None:\n",
    "        for message in messages:\n",
    "            # Increment message counts\n",
    "            if message.is_spam:\n",
    "                self.spam_messages += 1\n",
    "            else:\n",
    "                self.ham_messages += 1\n",
    "\n",
    "                # Increment word counts\n",
    "            for token in tokenize(message.text):\n",
    "                self.tokens.add(token)\n",
    "                if message.is_spam:\n",
    "                    self.token_spam_counts[token] += 1\n",
    "                else:\n",
    "                    self.token_ham_counts[token] += 1\n",
    "     \n",
    "    \n",
    "    \n",
    "    def predict(self, text: str) -> float:\n",
    "        text_tokens = tokenize(text)\n",
    "        log_prob_if_spam = log_prob_if_ham = 0.0\n",
    "\n",
    "            # Iterate through each word in our vocabulary.\n",
    "        for token in self.tokens:\n",
    "            prob_if_spam, prob_if_ham = self._probabilities(token)\n",
    "\n",
    "                # If *token* appears in the message,\n",
    "                # add the log probability of seeing it;\n",
    "            if token in text_tokens:\n",
    "                log_prob_if_spam += math.log(prob_if_spam)\n",
    "                log_prob_if_ham += math.log(prob_if_ham)\n",
    "\n",
    "                # otherwise add the log probability of _not_ seeing it\n",
    "                # which is log(1 - probability of seeing it)\n",
    "            else:\n",
    "                log_prob_if_spam += math.log(1.0 - prob_if_spam)\n",
    "                log_prob_if_ham += math.log(1.0 - prob_if_ham)\n",
    "\n",
    "        prob_if_spam = math.exp(log_prob_if_spam)\n",
    "        prob_if_ham = math.exp(log_prob_if_ham)\n",
    "        return prob_if_spam / (prob_if_spam + prob_if_ham)\n",
    "\n",
    "    \n",
    "    \n",
    "    def _probabilities(self, token: str) -> Tuple[float, float]:\n",
    "        \"\"\"returns P(token | spam) and P(token | not spam)\"\"\"\n",
    "        spam = self.token_spam_counts[token]\n",
    "        ham = self.token_ham_counts[token]\n",
    "\n",
    "        p_token_spam = (spam + self.k) / (self.spam_messages + 2 * self.k)\n",
    "        p_token_ham = (ham + self.k) / (self.ham_messages + 2 * self.k)\n",
    "\n",
    "        return p_token_spam, p_token_ham\n",
    "\n"
   ]
  },
  {
   "cell_type": "markdown",
   "id": "5a20402a",
   "metadata": {},
   "source": [
    "    rather than multiplying together lots of small probabilities, we’ll instead sum up the log probabilities:"
   ]
  },
  {
   "cell_type": "code",
   "execution_count": 34,
   "id": "7d4e88f1",
   "metadata": {},
   "outputs": [],
   "source": [
    "messages = [Message(\"spam rules\", is_spam=True),\n",
    "            Message(\"ham rules\", is_spam=False),\n",
    "            Message(\"hello ham\", is_spam=False)]\n",
    "\n",
    "model = NaiveBayesClassifier(k=0.5)\n",
    "model.train(messages)\n",
    "\n",
    "assert model.tokens == {\"spam\", \"ham\", \"rules\", \"hello\"}\n",
    "assert model.spam_messages == 1\n",
    "assert model.ham_messages == 2\n",
    "assert model.token_spam_counts == {\"spam\": 1, \"rules\": 1}\n",
    "assert model.token_ham_counts == {\"ham\": 2, \"rules\": 1, \"hello\": 1}"
   ]
  },
  {
   "cell_type": "code",
   "execution_count": 35,
   "id": "296824b9",
   "metadata": {},
   "outputs": [
    {
     "data": {
      "text/plain": [
       "({'ham', 'hello', 'rules', 'spam'},\n",
       " 1,\n",
       " 2,\n",
       " defaultdict(int, {'rules': 1, 'spam': 1}),\n",
       " defaultdict(int, {'ham': 2, 'rules': 1, 'hello': 1}))"
      ]
     },
     "execution_count": 35,
     "metadata": {},
     "output_type": "execute_result"
    }
   ],
   "source": [
    "model.tokens, model.spam_messages, model.ham_messages, model.token_spam_counts, model.token_ham_counts"
   ]
  },
  {
   "cell_type": "code",
   "execution_count": null,
   "id": "210d4823",
   "metadata": {},
   "outputs": [],
   "source": []
  },
  {
   "cell_type": "code",
   "execution_count": 36,
   "id": "b5a7c122",
   "metadata": {},
   "outputs": [],
   "source": [
    "text = \"hello spam\"\n",
    "\n",
    "probs_if_spam = [\n",
    "    (1 + 0.5) / (1 + 2 * 0.5),      # \"spam\"  (present)\n",
    "    1 - (0 + 0.5) / (1 + 2 * 0.5),  # \"ham\"   (not present)\n",
    "    1 - (1 + 0.5) / (1 + 2 * 0.5),  # \"rules\" (not present)\n",
    "    (0 + 0.5) / (1 + 2 * 0.5)       # \"hello\" (present)\n",
    "]\n",
    "\n",
    "probs_if_ham = [\n",
    "    (0 + 0.5) / (2 + 2 * 0.5),      # \"spam\"  (present)\n",
    "    1 - (2 + 0.5) / (2 + 2 * 0.5),  # \"ham\"   (not present)\n",
    "    1 - (1 + 0.5) / (2 + 2 * 0.5),  # \"rules\" (not present)\n",
    "    (1 + 0.5) / (2 + 2 * 0.5),      # \"hello\" (present)\n",
    "]\n",
    "\n",
    "p_if_spam = math.exp(sum(math.log(p) for p in probs_if_spam))\n",
    "p_if_ham = math.exp(sum(math.log(p) for p in probs_if_ham))\n",
    "\n",
    "# Should be about 0.83\n",
    "assert model.predict(text) == p_if_spam / (p_if_spam + p_if_ham)"
   ]
  },
  {
   "cell_type": "code",
   "execution_count": 37,
   "id": "c5a0bc59",
   "metadata": {},
   "outputs": [
    {
     "data": {
      "text/plain": [
       "0.8350515463917525"
      ]
     },
     "execution_count": 37,
     "metadata": {},
     "output_type": "execute_result"
    }
   ],
   "source": [
    "model.predict(text)"
   ]
  },
  {
   "cell_type": "markdown",
   "id": "3f1ab25a",
   "metadata": {},
   "source": [
    "## Working on real data"
   ]
  },
  {
   "cell_type": "code",
   "execution_count": null,
   "id": "558d87bb",
   "metadata": {},
   "outputs": [],
   "source": []
  }
 ],
 "metadata": {
  "kernelspec": {
   "display_name": "Python 3 (ipykernel)",
   "language": "python",
   "name": "python3"
  },
  "language_info": {
   "codemirror_mode": {
    "name": "ipython",
    "version": 3
   },
   "file_extension": ".py",
   "mimetype": "text/x-python",
   "name": "python",
   "nbconvert_exporter": "python",
   "pygments_lexer": "ipython3",
   "version": "3.8.11"
  }
 },
 "nbformat": 4,
 "nbformat_minor": 5
}
