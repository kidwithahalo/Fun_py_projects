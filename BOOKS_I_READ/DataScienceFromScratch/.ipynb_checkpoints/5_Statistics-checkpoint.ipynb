{
 "cells": [
  {
   "cell_type": "markdown",
   "id": "36aeebfc",
   "metadata": {},
   "source": [
    "### A must needed concept"
   ]
  },
  {
   "cell_type": "code",
   "execution_count": 3,
   "id": "f0b809f6",
   "metadata": {},
   "outputs": [],
   "source": [
    "num_friends = [100,49,41,40,25,21,21,19,19,18,18,16,15,15,15,15,14,14,13,13,13,13,12,12,11,10,10,10,10,10,10,10,10,10,10,10,10,10,10,10,9,9,9,9,9,9,9,9,9,9,9,9,9,9,9,9,9,9,8,8,8,8,8,8,8,8,8,8,8,8,8,7,7,7,7,7,7,7,7,7,7,7,7,7,7,7,6,6,6,6,6,6,6,6,6,6,6,6,6,6,6,6,6,6,6,6,6,6,5,5,5,5,5,5,5,5,5,5,5,5,5,5,5,5,5,4,4,4,4,4,4,4,4,4,4,4,4,4,4,4,4,4,4,4,4,3,3,3,3,3,3,3,3,3,3,3,3,3,3,3,3,3,3,3,3,2,2,2,2,2,2,2,2,2,2,2,2,2,2,2,2,2,1,1,1,1,1,1,1,1,1,1,1,1,1,1,1,1,1,1,1,1,1,1]"
   ]
  },
  {
   "cell_type": "code",
   "execution_count": 6,
   "id": "3cbfd026",
   "metadata": {},
   "outputs": [
    {
     "data": {
      "image/png": "[encoded data removed]",
      "text/plain": [
       "<Figure size 432x288 with 1 Axes>"
      ]
     },
     "metadata": {
      "needs_background": "light"
     },
     "output_type": "display_data"
    }
   ],
   "source": [
    "from collections import Counter\n",
    "import matplotlib.pyplot as plt\n",
    "\n",
    "friends_count = Counter(num_friends)\n",
    "xs = range(101)\n",
    "ys = [friends_count[x] for x in xs]   #number of friends\n",
    "\n",
    "plt.bar(xs,ys)\n",
    "plt.title(\"Histogram of friends count\")\n",
    "plt.axis([0,101,0,25])\n",
    "plt.xlabel(\"# of friends\")\n",
    "plt.ylabel(\"# of people\")\n",
    "plt.show()"
   ]
  },
  {
   "cell_type": "markdown",
   "id": "27a5d0c9",
   "metadata": {},
   "source": [
    "To make it more communicable, we will simplify some elements"
   ]
  },
  {
   "cell_type": "code",
   "execution_count": 10,
   "id": "c0aa35fd",
   "metadata": {},
   "outputs": [
    {
     "data": {
      "text/plain": [
       "(204, 100, 1)"
      ]
     },
     "execution_count": 10,
     "metadata": {},
     "output_type": "execute_result"
    }
   ],
   "source": [
    "num_points = len(num_friends)\n",
    "\n",
    "largest_value = max(num_friends)\n",
    "smallest_value = min(num_friends)\n",
    "\n",
    "num_points, largest_value, smallest_value"
   ]
  },
  {
   "cell_type": "code",
   "execution_count": 11,
   "id": "70a01622",
   "metadata": {},
   "outputs": [
    {
     "data": {
      "text/plain": [
       "(1, 1, 49)"
      ]
     },
     "execution_count": 11,
     "metadata": {},
     "output_type": "execute_result"
    }
   ],
   "source": [
    "sorted_values = sorted(num_friends)\n",
    "smallest_value = sorted_values[0]\n",
    "second_smallest_value = sorted_values[1]\n",
    "second_largest_value = sorted_values[-2]\n",
    "\n",
    "smallest_value, second_smallest_value, second_largest_value"
   ]
  },
  {
   "cell_type": "code",
   "execution_count": 12,
   "id": "305cb9ed",
   "metadata": {},
   "outputs": [
    {
     "data": {
      "text/plain": [
       "7.333333333333333"
      ]
     },
     "execution_count": 12,
     "metadata": {},
     "output_type": "execute_result"
    }
   ],
   "source": [
    "def mean(xs):\n",
    "    return sum(xs)/len(xs)\n",
    "\n",
    "\n",
    "mean(num_friends)"
   ]
  },
  {
   "cell_type": "code",
   "execution_count": 23,
   "id": "b6c31725",
   "metadata": {},
   "outputs": [
    {
     "name": "stdout",
     "output_type": "stream",
     "text": [
      "6.0\n"
     ]
    }
   ],
   "source": [
    "'''\n",
    "We will also be interested in media of data set \n",
    "We know that if the len(xs) is odd, median is simply middle element,\n",
    "else sum of elements when even\n",
    "'''\n",
    "\n",
    "def _median_odd(xs):\n",
    "    return sorted(xs)[len(xs) // 2]\n",
    "\n",
    "def _median_even(xs):\n",
    "    sorted_xs = sorted(xs)\n",
    "    midpoint = len(xs) // 2\n",
    "    return (sorted_xs[midpoint-1] + sorted_xs[midpoint])/2\n",
    "\n",
    "def median(v):\n",
    "    return (_median_even(v) if len(v) % 2 == 0 else _median_odd(v))\n",
    "\n",
    "assert median([1,10,2,9,5]) == 5\n",
    "assert median([1,9,2,10]) == (2+9)/2 \n",
    "\n",
    "\n",
    "\n",
    "# testing the code\n",
    "print(median(num_friends))"
   ]
  },
  {
   "cell_type": "markdown",
   "id": "2434c901",
   "metadata": {},
   "source": [
    "##### If we have $n$ data points and one of them increases by some small quantity $e$, then necessarily the mean will increase by $e/n$"
   ]
  },
  {
   "cell_type": "markdown",
   "id": "c7f6f4a4",
   "metadata": {},
   "source": [
    "<font color = 'darkpink'>The generalisation of the median is the **quantile**, which means the value under which a certain percentile of the data lies( the median represents the value under which $50\\%$ of the data lies)"
   ]
  },
  {
   "cell_type": "markdown",
   "id": "0b69f4fd",
   "metadata": {},
   "source": [
    "## Quantiles"
   ]
  },
  {
   "cell_type": "code",
   "execution_count": 27,
   "id": "b618e016",
   "metadata": {},
   "outputs": [
    {
     "name": "stdout",
     "output_type": "stream",
     "text": [
      "7\n"
     ]
    }
   ],
   "source": [
    "def quantile(xs, p):\n",
    "# p is the p-th percentile value in x\n",
    "    p_index = int(p* len(xs))\n",
    "    return sorted(xs)[p_index]\n",
    "\n",
    "assert quantile(num_friends, 0.10) == 1\n",
    "assert quantile(num_friends, 0.25) == 3\n",
    "assert quantile(num_friends, 0.75) == 9\n",
    "assert quantile(num_friends, 0.90) == 13\n",
    "\n",
    "print(quantile(num_friends, 0.6))"
   ]
  },
  {
   "cell_type": "markdown",
   "id": "9d8bf2af",
   "metadata": {},
   "source": [
    "## Mode\n",
    "Most commonly occuring value"
   ]
  },
  {
   "cell_type": "code",
   "execution_count": 29,
   "id": "259c0cb5",
   "metadata": {},
   "outputs": [
    {
     "name": "stdout",
     "output_type": "stream",
     "text": [
      "[6, 1]\n"
     ]
    }
   ],
   "source": [
    "def mode(x):\n",
    "    \n",
    "    counts = Counter(x)\n",
    "    max_count = max(counts.values())\n",
    "    return [x_i for x_i, count in counts.items()\n",
    "           if count == max_count]\n",
    "\n",
    "assert set(mode(num_friends)) == {1,6}\n",
    "\n",
    "print(mode(num_friends))"
   ]
  },
  {
   "cell_type": "markdown",
   "id": "9b4944b6",
   "metadata": {},
   "source": [
    "## Dispersion \n",
    "Dispersion talks of the spread of the data i.e. how far the data is spread.<br>\n",
    "Range in statistics mean difference between largest and smallest number.<br>\n",
    "\n",
    "<font color = 'indigo'> Variance is a complex measure of dispersion"
   ]
  },
  {
   "cell_type": "code",
   "execution_count": 30,
   "id": "174238a4",
   "metadata": {},
   "outputs": [
    {
     "name": "stdout",
     "output_type": "stream",
     "text": [
      "99\n"
     ]
    }
   ],
   "source": [
    "def _range(xs):\n",
    "    return max(xs) - min(xs)\n",
    "\n",
    "print(_range(num_friends))"
   ]
  },
  {
   "cell_type": "code",
   "execution_count": 34,
   "id": "198a304a",
   "metadata": {},
   "outputs": [
    {
     "data": {
      "text/plain": [
       "(81.14379084967321, 9.007984838446012)"
      ]
     },
     "execution_count": 34,
     "metadata": {},
     "output_type": "execute_result"
    }
   ],
   "source": [
    "import numpy as np\n",
    "\n",
    "variance_value = np.var(num_friends)\n",
    "standard_deviation = np.std(num_friends)\n",
    "\n",
    "variance_value, standard_deviation"
   ]
  },
  {
   "cell_type": "code",
   "execution_count": null,
   "id": "0387f676",
   "metadata": {},
   "outputs": [],
   "source": []
  },
  {
   "cell_type": "markdown",
   "id": "0259ec2a",
   "metadata": {},
   "source": [
    "## Correlation\n",
    "For correlation, we deal with $covariance$ - paired analogue of variance. <br>\n",
    "Whereas variance measures how a single variable deviates from its mean, covariance measures how two variables vary in tandem from their means."
   ]
  },
  {
   "cell_type": "markdown",
   "id": "3fdd2b7b",
   "metadata": {},
   "source": [
    "Recall that **dot** sums up the products of corresponding pairs of elements. When corresponding elements of and are either both above their means\n",
    "or both below their means, a positive number enters the sum. When one is above its mean and the other below, a negative number enters the sum.\n",
    "<br>Accordingly, a **“large” positive covariance** means that $x$ tends to be large when $y$ is large and small when $y$ is small. A “large” negative covariance means the opposite—that $x$ tends to be small when $y$ is large and vice versa. A covariance close to zero means that no such relationship exists."
   ]
  },
  {
   "cell_type": "markdown",
   "id": "151ef11e",
   "metadata": {},
   "source": [
    "<font color = 'teal'> <br>Correlation is unitless and always lies between –1 (perfect anticorrelation) and 1 (perfect correlation). Outliers are very sensitive to correlations."
   ]
  },
  {
   "cell_type": "markdown",
   "id": "9ec38276",
   "metadata": {},
   "source": [
    "## Simpson's Paradox\n",
    "\n",
    "Data conclusion can be derived from the same data set depending upon the modality of distribution chosen. "
   ]
  },
  {
   "cell_type": "markdown",
   "id": "77cca942",
   "metadata": {},
   "source": [
    "<font color ='brown'> Correlation is not causation. Only through randomised trials the above statement should be confirmed."
   ]
  },
  {
   "cell_type": "code",
   "execution_count": null,
   "id": "f54db1c7",
   "metadata": {},
   "outputs": [],
   "source": []
  }
 ],
 "metadata": {
  "kernelspec": {
   "display_name": "Python 3 (ipykernel)",
   "language": "python",
   "name": "python3"
  },
  "language_info": {
   "codemirror_mode": {
    "name": "ipython",
    "version": 3
   },
   "file_extension": ".py",
   "mimetype": "text/x-python",
   "name": "python",
   "nbconvert_exporter": "python",
   "pygments_lexer": "ipython3",
   "version": "3.8.11"
  }
 },
 "nbformat": 4,
 "nbformat_minor": 5
}
