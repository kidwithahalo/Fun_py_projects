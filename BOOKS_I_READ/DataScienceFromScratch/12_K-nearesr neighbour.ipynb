{
 "cells": [
  {
   "cell_type": "markdown",
   "id": "5a6a6e68",
   "metadata": {},
   "source": [
    "## Nearest neighbors\n",
    "    one of the simplest predictive models there is. It makes no mathematical assumptions, and it doesn’t require any sort of heavy machinery. The only things it requires are:\n",
    "    - Some notion of distance\n",
    "    - An assumption that points that are close to one another are similar"
   ]
  },
  {
   "cell_type": "markdown",
   "id": "ad7ebe0e",
   "metadata": {},
   "source": [
    "#### Counting Votes "
   ]
  },
  {
   "cell_type": "code",
   "execution_count": 1,
   "id": "27076747",
   "metadata": {},
   "outputs": [
    {
     "name": "stdout",
     "output_type": "stream",
     "text": [
      "c\n"
     ]
    }
   ],
   "source": [
    "from typing import List\n",
    "from collections import Counter\n",
    "\n",
    "\n",
    "def raw_majority_vote(labels: List[str]) -> str:\n",
    "    votes = Counter(labels)\n",
    "    winner, _ = votes.most_common(1)[0]\n",
    "    return winner\n",
    "\n",
    "\n",
    "print(raw_majority_vote(['a', 'b', 'c', 'b', 'c','c']))"
   ]
  },
  {
   "cell_type": "markdown",
   "id": "b2e982ee",
   "metadata": {},
   "source": [
    "### Reducing k to find unique result"
   ]
  },
  {
   "cell_type": "code",
   "execution_count": 4,
   "id": "3f4168bd",
   "metadata": {},
   "outputs": [
    {
     "name": "stdout",
     "output_type": "stream",
     "text": [
      "b\n"
     ]
    }
   ],
   "source": [
    "from typing import List\n",
    "from collections import Counter\n",
    "\n",
    "def majority_vote(labels : List[str]) -> str:\n",
    "    votes_count = Counter(labels)\n",
    "    winner, winner_count = votes_count.most_common(1)[0]\n",
    "    num_winners = len([count for count in votes_count.values() if count == winner_count])\n",
    "\n",
    "    if num_winners == 1:\n",
    "        return  winner       #unique winner, len = 1\n",
    "    else:\n",
    "        return majority_vote(labels[:-1])\n",
    "\n",
    "# look that there is a tie here, but if we consider only first 4, it's b'\n",
    "print(majority_vote(['a','b','c','b','a']))"
   ]
  },
  {
   "cell_type": "code",
   "execution_count": 2,
   "id": "0f550845",
   "metadata": {},
   "outputs": [],
   "source": [
    "from typing import NamedTuple, List\n",
    "from scratch.linear_algebra import Vector, distance\n",
    "\n",
    "class LabeledPoint(NamedTuple):\n",
    "    point: Vector\n",
    "    label: str\n",
    "\n",
    "def knn_classify(k: int,\n",
    "                 labeled_points: List[LabeledPoint],\n",
    "                 new_point: Vector) -> str:\n",
    "\n",
    "    # Order the labeled points from nearest to farthest.\n",
    "    by_distance = sorted(labeled_points,\n",
    "                         key=lambda lp: distance(lp.point, new_point))\n",
    "\n",
    "    # Find the labels for the k closest\n",
    "    k_nearest_labels = [lp.label for lp in by_distance[:k]]\n",
    "\n",
    "    # and let them vote.\n",
    "    return majority_vote(k_nearest_labels)\n"
   ]
  },
  {
   "cell_type": "markdown",
   "id": "07b20c48",
   "metadata": {},
   "source": [
    "### Example Data Set"
   ]
  },
  {
   "cell_type": "code",
   "execution_count": 12,
   "id": "21a5079c",
   "metadata": {},
   "outputs": [
    {
     "data": {
      "text/plain": [
       "<Response [200]>"
      ]
     },
     "execution_count": 12,
     "metadata": {},
     "output_type": "execute_result"
    }
   ],
   "source": [
    "import requests\n",
    "\n",
    "data = requests.get('https://archive.ics.uci.edu/ml/datasets/iris/iris.data')\n",
    "with open('iris.data', 'w') as f:\n",
    "    f.write(data.text)\n",
    "\n",
    "data"
   ]
  },
  {
   "cell_type": "markdown",
   "id": "85f0b991",
   "metadata": {},
   "source": [
    "### Our model will predict the species of flower from given 4 attributes"
   ]
  },
  {
   "cell_type": "code",
   "execution_count": null,
   "id": "5b8a1ff2",
   "metadata": {},
   "outputs": [],
   "source": []
  },
  {
   "cell_type": "code",
   "execution_count": null,
   "id": "f5acb982",
   "metadata": {},
   "outputs": [],
   "source": []
  },
  {
   "cell_type": "code",
   "execution_count": null,
   "id": "431f1c61",
   "metadata": {},
   "outputs": [],
   "source": []
  },
  {
   "cell_type": "code",
   "execution_count": 14,
   "id": "e4f04e29",
   "metadata": {},
   "outputs": [],
   "source": [
    "import random\n",
    "\n",
    "def random_point(dim: int) -> Vector:\n",
    "    return [random.random() for _ in range(dim)]\n",
    "\n",
    "def random_distances(dim: int, num_pairs: int) -> List[float]:\n",
    "    return [distance(random_point(dim), random_point(dim))\n",
    "            for _ in range(num_pairs)]\n"
   ]
  },
  {
   "cell_type": "markdown",
   "id": "c322f259",
   "metadata": {},
   "source": [
    "For every dimension from 1 to 100, we’ll compute 10,000 distances and use those to compute the average distance between points and the minimum distance between points in each dimension"
   ]
  },
  {
   "cell_type": "code",
   "execution_count": 16,
   "id": "7bfe860a",
   "metadata": {},
   "outputs": [
    {
     "name": "stderr",
     "output_type": "stream",
     "text": [
      "Curse of Dimensionality: 100%|████████████████| 100/100 [00:17<00:00,  5.86it/s]\n"
     ]
    }
   ],
   "source": [
    "import tqdm\n",
    "dimensions = range(1, 101)\n",
    "    \n",
    "avg_distances = []\n",
    "min_distances = []\n",
    "    \n",
    "random.seed(0)\n",
    "for dim in tqdm.tqdm(dimensions, desc=\"Curse of Dimensionality\"):\n",
    "    \n",
    "    distances = random_distances(dim, 10000)      # 10,000 random pairs\n",
    "    avg_distances.append(sum(distances) / 10000)  # track the average\n",
    "    min_distances.append(min(distances))          # track the minimum\n",
    "    \n",
    "min_avg_ratio = [min_dist / avg_dist\n",
    "                     for min_dist, avg_dist in zip(min_distances, avg_distances)]\n"
   ]
  },
  {
   "cell_type": "markdown",
   "id": "920968a3",
   "metadata": {},
   "source": [
    "    As the number of dimensions increases, the average distance between points increases."
   ]
  },
  {
   "cell_type": "markdown",
   "id": "02ebd695",
   "metadata": {},
   "source": [
    "Ratio between the closeset distance and average distance"
   ]
  },
  {
   "cell_type": "code",
   "execution_count": 17,
   "id": "335443ff",
   "metadata": {
    "scrolled": true
   },
   "outputs": [
    {
     "data": {
      "text/plain": [
       "[2.4010264196729895e-05,\n",
       " 0.012375993376885747,\n",
       " 0.05866675835687187,\n",
       " 0.052702840066952916,\n",
       " 0.13806017036605744,\n",
       " 0.16706667538692488,\n",
       " 0.13946376694501153,\n",
       " 0.21627918375769406,\n",
       " 0.2584599213183403,\n",
       " 0.269306360063673,\n",
       " 0.27670626780046326,\n",
       " 0.3706318741676572,\n",
       " 0.26499940923263887,\n",
       " 0.3552552587706282,\n",
       " 0.3474871534632107,\n",
       " 0.42834610882474056,\n",
       " 0.42466657369159216,\n",
       " 0.4446491710023277,\n",
       " 0.535207240511332,\n",
       " 0.34176993540037365,\n",
       " 0.5388246061126235,\n",
       " 0.5058621513898754,\n",
       " 0.5347436432023157,\n",
       " 0.5444461514254334,\n",
       " 0.47597755191184377,\n",
       " 0.4905464153431202,\n",
       " 0.5867979218606769,\n",
       " 0.5123632294260677,\n",
       " 0.5424819954205379,\n",
       " 0.5742090130686824,\n",
       " 0.5897087379993046,\n",
       " 0.5775736849502905,\n",
       " 0.5673715611211803,\n",
       " 0.5449292858365001,\n",
       " 0.5796885476098184,\n",
       " 0.6480053723471617,\n",
       " 0.6602812580026879,\n",
       " 0.6289471963191565,\n",
       " 0.6418344464162202,\n",
       " 0.6158132408201428,\n",
       " 0.6091619742363008,\n",
       " 0.664640030446849,\n",
       " 0.6564359615197871,\n",
       " 0.6539490799106948,\n",
       " 0.6429102073843518,\n",
       " 0.64757033619389,\n",
       " 0.6497423009935857,\n",
       " 0.6922096494805685,\n",
       " 0.6654622352030737,\n",
       " 0.6841615012950715,\n",
       " 0.6805715011946835,\n",
       " 0.6763645006707869,\n",
       " 0.6173723985281541,\n",
       " 0.7176032767331746,\n",
       " 0.6979759146573928,\n",
       " 0.6892249324613505,\n",
       " 0.7032008257759207,\n",
       " 0.7125069334846613,\n",
       " 0.6993681100595657,\n",
       " 0.7052481142485983,\n",
       " 0.6996150905946833,\n",
       " 0.7284265042700763,\n",
       " 0.7097894203833652,\n",
       " 0.633547773482255,\n",
       " 0.7266742553117559,\n",
       " 0.6850962938781573,\n",
       " 0.7021058776025672,\n",
       " 0.7337448703941295,\n",
       " 0.7023953092732939,\n",
       " 0.7400337279265842,\n",
       " 0.7223413747648559,\n",
       " 0.7325715996069667,\n",
       " 0.7229944167039344,\n",
       " 0.741064830994298,\n",
       " 0.6709960935665151,\n",
       " 0.7030740125822046,\n",
       " 0.7545017650234418,\n",
       " 0.7233302367790145,\n",
       " 0.7313662376277709,\n",
       " 0.7586188883283429,\n",
       " 0.6861838638270648,\n",
       " 0.7681673955812997,\n",
       " 0.7467136457037874,\n",
       " 0.7349458527615983,\n",
       " 0.7591750046271778,\n",
       " 0.789165465082094,\n",
       " 0.7634323982682764,\n",
       " 0.7813982097201326,\n",
       " 0.7779074088857534,\n",
       " 0.7722421901595525,\n",
       " 0.7692880285123773,\n",
       " 0.7157941308141306,\n",
       " 0.7399366447494983,\n",
       " 0.7476672754962702,\n",
       " 0.775445724732948,\n",
       " 0.7655585120233188,\n",
       " 0.7830486753820856,\n",
       " 0.7642086067341342,\n",
       " 0.7650515864168062,\n",
       " 0.7747211852441415]"
      ]
     },
     "execution_count": 17,
     "metadata": {},
     "output_type": "execute_result"
    }
   ],
   "source": [
    "min_avg_ratio = [min_dist/avg_dist for min_dist, avg_dist in zip(min_distances, avg_distances)]\n",
    "min_avg_ratio"
   ]
  },
  {
   "cell_type": "code",
   "execution_count": 25,
   "id": "bcec4aab",
   "metadata": {},
   "outputs": [
    {
     "data": {
      "image/png": "[encoded data removed]",
      "text/plain": [
       "<Figure size 432x288 with 1 Axes>"
      ]
     },
     "metadata": {
      "needs_background": "light"
     },
     "output_type": "display_data"
    }
   ],
   "source": [
    "import matplotlib.pyplot as plt\n",
    "import numpy as np\n",
    "\n",
    "dim = np.arange(len(min_avg_ratio))\n",
    "plt.scatter(min_avg_ratio,dim)\n",
    "plt.show()"
   ]
  },
  {
   "cell_type": "code",
   "execution_count": null,
   "id": "8ae3c052",
   "metadata": {},
   "outputs": [],
   "source": []
  }
 ],
 "metadata": {
  "kernelspec": {
   "display_name": "Python 3 (ipykernel)",
   "language": "python",
   "name": "python3"
  },
  "language_info": {
   "codemirror_mode": {
    "name": "ipython",
    "version": 3
   },
   "file_extension": ".py",
   "mimetype": "text/x-python",
   "name": "python",
   "nbconvert_exporter": "python",
   "pygments_lexer": "ipython3",
   "version": "3.8.11"
  }
 },
 "nbformat": 4,
 "nbformat_minor": 5
}
