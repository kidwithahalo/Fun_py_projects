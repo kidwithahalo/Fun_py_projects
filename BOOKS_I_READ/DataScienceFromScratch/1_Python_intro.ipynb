{
 "cells": [
  {
   "cell_type": "code",
   "execution_count": 1,
   "id": "e821f8b5",
   "metadata": {},
   "outputs": [
    {
     "name": "stdout",
     "output_type": "stream",
     "text": [
      "The Zen of Python, by Tim Peters\n",
      "\n",
      "Beautiful is better than ugly.\n",
      "Explicit is better than implicit.\n",
      "Simple is better than complex.\n",
      "Complex is better than complicated.\n",
      "Flat is better than nested.\n",
      "Sparse is better than dense.\n",
      "Readability counts.\n",
      "Special cases aren't special enough to break the rules.\n",
      "Although practicality beats purity.\n",
      "Errors should never pass silently.\n",
      "Unless explicitly silenced.\n",
      "In the face of ambiguity, refuse the temptation to guess.\n",
      "There should be one-- and preferably only one --obvious way to do it.\n",
      "Although that way may not be obvious at first unless you're Dutch.\n",
      "Now is better than never.\n",
      "Although never is often better than *right* now.\n",
      "If the implementation is hard to explain, it's a bad idea.\n",
      "If the implementation is easy to explain, it may be a good idea.\n",
      "Namespaces are one honking great idea -- let's do more of those!\n"
     ]
    }
   ],
   "source": [
    "import this"
   ]
  },
  {
   "cell_type": "code",
   "execution_count": 3,
   "id": "7e57b8bd-e0f7-4e50-80a4-724194a35456",
   "metadata": {},
   "outputs": [
    {
     "name": "stdout",
     "output_type": "stream",
     "text": [
      "Can't divide by zero , dick\n"
     ]
    }
   ],
   "source": [
    "try:\n",
    "    print(0/0)\n",
    "except ZeroDivisionError:\n",
    "    print(\"Can't divide by zero , dick\" )"
   ]
  },
  {
   "cell_type": "code",
   "execution_count": 4,
   "id": "f4ca194c-8ad5-4d0c-848c-b83d843ec8de",
   "metadata": {},
   "outputs": [
    {
     "data": {
      "text/plain": [
       "[1, 2, 3, 5]"
      ]
     },
     "execution_count": 4,
     "metadata": {},
     "output_type": "execute_result"
    }
   ],
   "source": [
    "a = [1,2,3,5]\n",
    "b = a[:]\n",
    "b\n",
    "\n",
    "# making a deep copy of a list"
   ]
  },
  {
   "cell_type": "markdown",
   "id": "bb4b65a9",
   "metadata": {},
   "source": [
    "## List"
   ]
  },
  {
   "cell_type": "code",
   "execution_count": 2,
   "id": "ec19676c",
   "metadata": {},
   "outputs": [
    {
     "data": {
      "text/plain": [
       "[1, 2, 3, 4, 5, 6]"
      ]
     },
     "execution_count": 2,
     "metadata": {},
     "output_type": "execute_result"
    }
   ],
   "source": [
    "x = [1,2,3]\n",
    "x.extend([4,5,6])\n",
    "x"
   ]
  },
  {
   "cell_type": "code",
   "execution_count": 6,
   "id": "65326041",
   "metadata": {},
   "outputs": [
    {
     "data": {
      "text/plain": [
       "(1, 2)"
      ]
     },
     "execution_count": 6,
     "metadata": {},
     "output_type": "execute_result"
    }
   ],
   "source": [
    "x, y = [1,2]\n",
    "x,y"
   ]
  },
  {
   "cell_type": "code",
   "execution_count": 5,
   "id": "1b1946da",
   "metadata": {},
   "outputs": [
    {
     "data": {
      "text/plain": [
       "(5, 3)"
      ]
     },
     "execution_count": 5,
     "metadata": {},
     "output_type": "execute_result"
    }
   ],
   "source": [
    "# common approach is to use underscore (_) for the values which we are later going to throw away\n",
    "\n",
    "_, z = [3,5]\n",
    "z, _"
   ]
  },
  {
   "cell_type": "markdown",
   "id": "309a1497-894c-4fe9-8b3a-f8b0dc279439",
   "metadata": {},
   "source": [
    "### Tuples are convenient way of returning values "
   ]
  },
  {
   "cell_type": "code",
   "execution_count": 6,
   "id": "5e8e597d-0947-4ac4-ad11-662c613e4c5e",
   "metadata": {},
   "outputs": [],
   "source": [
    "def add_and_product(x,y):\n",
    "    return (x+y), (x*y)\n",
    "\n",
    "sp = add_and_product(4,5)\n",
    "s,p = add_and_product(4,5)"
   ]
  },
  {
   "cell_type": "code",
   "execution_count": 7,
   "id": "3811b678-ec9f-4402-ac38-90b7c88685d8",
   "metadata": {},
   "outputs": [
    {
     "data": {
      "text/plain": [
       "((9, 20), 9, 20)"
      ]
     },
     "execution_count": 7,
     "metadata": {},
     "output_type": "execute_result"
    }
   ],
   "source": [
    "sp, s,p"
   ]
  },
  {
   "cell_type": "code",
   "execution_count": 8,
   "id": "8bd5df77-48e8-4a78-b532-a9f86f483bff",
   "metadata": {},
   "outputs": [],
   "source": [
    "x, y = 1,2\n",
    "x,y = y,x\n",
    "\n",
    "# values are swapped now "
   ]
  },
  {
   "cell_type": "code",
   "execution_count": 9,
   "id": "c88b10c9-0fc2-4d07-af84-9bfce536b89e",
   "metadata": {},
   "outputs": [
    {
     "data": {
      "text/plain": [
       "(2, 1)"
      ]
     },
     "execution_count": 9,
     "metadata": {},
     "output_type": "execute_result"
    }
   ],
   "source": [
    "x,y"
   ]
  },
  {
   "cell_type": "markdown",
   "id": "c7fd7497",
   "metadata": {},
   "source": [
    "## Dictionaries"
   ]
  },
  {
   "cell_type": "markdown",
   "id": "1fede3c2",
   "metadata": {},
   "source": [
    "`values, items, keys` command for getting values of Dictionary"
   ]
  },
  {
   "cell_type": "code",
   "execution_count": 11,
   "id": "76764317-0a6b-4340-b8e7-f483322d5890",
   "metadata": {},
   "outputs": [
    {
     "data": {
      "text/plain": [
       "dict_keys(['user', 'text', 'retweet_count', 'hastags'])"
      ]
     },
     "execution_count": 11,
     "metadata": {},
     "output_type": "execute_result"
    }
   ],
   "source": [
    "tweet = {\n",
    "    'user' : 'sillyhead',\n",
    "    'text':'Data Science is awesome', \n",
    "    'retweet_count' : 100,\n",
    "    'hastags' : ['#data','#science','#datascience','#awesome']\n",
    "}\n",
    "\n",
    "\n",
    "tweet_keys = tweet.keys()\n",
    "tweet_values = tweet.values()\n",
    "tweet_item = tweet.items()\n",
    "\n",
    "tweet_keys"
   ]
  },
  {
   "cell_type": "code",
   "execution_count": 12,
   "id": "1f376e2d-1854-408b-bb63-8a9a93e03bf6",
   "metadata": {},
   "outputs": [
    {
     "data": {
      "text/plain": [
       "dict_values(['sillyhead', 'Data Science is awesome', 100, ['#data', '#science', '#datascience', '#awesome']])"
      ]
     },
     "execution_count": 12,
     "metadata": {},
     "output_type": "execute_result"
    }
   ],
   "source": [
    " tweet_values"
   ]
  },
  {
   "cell_type": "code",
   "execution_count": 13,
   "id": "69bd835d-e8c0-45c7-a561-054943160400",
   "metadata": {},
   "outputs": [
    {
     "data": {
      "text/plain": [
       "dict_items([('user', 'sillyhead'), ('text', 'Data Science is awesome'), ('retweet_count', 100), ('hastags', ['#data', '#science', '#datascience', '#awesome'])])"
      ]
     },
     "execution_count": 13,
     "metadata": {},
     "output_type": "execute_result"
    }
   ],
   "source": [
    "tweet_item"
   ]
  },
  {
   "cell_type": "code",
   "execution_count": 15,
   "id": "cc5fd1f3-3410-4609-9098-3bc4643cf10f",
   "metadata": {},
   "outputs": [
    {
     "data": {
      "text/plain": [
       "['#data', '#science', '#datascience', '#awesome']"
      ]
     },
     "execution_count": 15,
     "metadata": {},
     "output_type": "execute_result"
    }
   ],
   "source": [
    "# Accesing the data`\n",
    "tweet['hastags']"
   ]
  },
  {
   "cell_type": "code",
   "execution_count": 29,
   "id": "e3eb714f-711b-4043-a1f9-5be42f6b59b8",
   "metadata": {},
   "outputs": [
    {
     "data": {
      "text/plain": [
       "['#data', '#science', '#datascience', '#awesome']"
      ]
     },
     "execution_count": 29,
     "metadata": {},
     "output_type": "execute_result"
    }
   ],
   "source": [
    "tweet.get('hastags')"
   ]
  },
  {
   "cell_type": "code",
   "execution_count": 30,
   "id": "41e7fe8a-f57e-48f6-b3c6-5d05ee094d20",
   "metadata": {},
   "outputs": [
    {
     "data": {
      "text/plain": [
       "True"
      ]
     },
     "execution_count": 30,
     "metadata": {},
     "output_type": "execute_result"
    }
   ],
   "source": [
    "'user' in tweet\n",
    "# use this way to check for entries in dictionary"
   ]
  },
  {
   "cell_type": "markdown",
   "id": "a67e508a",
   "metadata": {},
   "source": [
    "<font color = 'yellow'> A `defaultdict` is like a regular dictinary, except that when you try to look up a key it doesn't contain, \n",
    "it first adds a value for it using a zero argument function. It requires importing `collections`"
   ]
  },
  {
   "cell_type": "markdown",
   "id": "afc1c50e",
   "metadata": {},
   "source": [
    "### <font color = 'aqua'> `Sets operations are very fast. So for fast search and check , convert the document into set and then apply the code`"
   ]
  },
  {
   "cell_type": "code",
   "execution_count": null,
   "id": "c30c971a-b872-4cac-9a41-278edeef6633",
   "metadata": {},
   "outputs": [],
   "source": []
  },
  {
   "cell_type": "markdown",
   "id": "9a1f31a9",
   "metadata": {},
   "source": [
    "## Truth Values"
   ]
  },
  {
   "cell_type": "code",
   "execution_count": 16,
   "id": "8aad6f47",
   "metadata": {},
   "outputs": [
    {
     "data": {
      "text/plain": [
       "True"
      ]
     },
     "execution_count": 16,
     "metadata": {},
     "output_type": "execute_result"
    }
   ],
   "source": [
    "all([True, 1, {3}])\n",
    "# All are true"
   ]
  },
  {
   "cell_type": "code",
   "execution_count": 17,
   "id": "48415afc",
   "metadata": {},
   "outputs": [
    {
     "data": {
      "text/plain": [
       "False"
      ]
     },
     "execution_count": 17,
     "metadata": {},
     "output_type": "execute_result"
    }
   ],
   "source": [
    "all([True, 1, {}])\n",
    "# not all are True"
   ]
  },
  {
   "cell_type": "code",
   "execution_count": 18,
   "id": "dcb57a17-a6d5-474b-bfcf-8b41ee0702ec",
   "metadata": {},
   "outputs": [
    {
     "data": {
      "text/plain": [
       "True"
      ]
     },
     "execution_count": 18,
     "metadata": {},
     "output_type": "execute_result"
    }
   ],
   "source": [
    "any([True, 1, {}])\n",
    "# at least one is(are) True"
   ]
  },
  {
   "cell_type": "code",
   "execution_count": 19,
   "id": "c2f0d9f8",
   "metadata": {},
   "outputs": [
    {
     "data": {
      "text/plain": [
       "False"
      ]
     },
     "execution_count": 19,
     "metadata": {},
     "output_type": "execute_result"
    }
   ],
   "source": [
    "bool(0)"
   ]
  },
  {
   "cell_type": "code",
   "execution_count": 21,
   "id": "670271ff-5b96-4633-afe1-2381ea90a2ad",
   "metadata": {},
   "outputs": [
    {
     "data": {
      "text/plain": [
       "True"
      ]
     },
     "execution_count": 21,
     "metadata": {},
     "output_type": "execute_result"
    }
   ],
   "source": [
    "all([])\n",
    "# we ask if it is true that if there is no false value in it and indeed since there is no value at all ,so no false\n",
    "# but at same time if we define a list within that list , it will say False"
   ]
  },
  {
   "cell_type": "code",
   "execution_count": 22,
   "id": "d3fbb931",
   "metadata": {},
   "outputs": [
    {
     "data": {
      "text/plain": [
       "False"
      ]
     },
     "execution_count": 22,
     "metadata": {},
     "output_type": "execute_result"
    }
   ],
   "source": [
    "all([[]])"
   ]
  },
  {
   "cell_type": "code",
   "execution_count": 24,
   "id": "dd79e2ac",
   "metadata": {},
   "outputs": [
    {
     "data": {
      "text/plain": [
       "False"
      ]
     },
     "execution_count": 24,
     "metadata": {},
     "output_type": "execute_result"
    }
   ],
   "source": [
    "any([])\n",
    "# no truth element in list"
   ]
  },
  {
   "cell_type": "markdown",
   "id": "c491524f",
   "metadata": {},
   "source": [
    "## <font color = 'aqua'>Sorting"
   ]
  },
  {
   "cell_type": "code",
   "execution_count": 24,
   "id": "7014f468",
   "metadata": {},
   "outputs": [
    {
     "data": {
      "text/plain": [
       "[2, 3, 5, 6, 7]"
      ]
     },
     "execution_count": 24,
     "metadata": {},
     "output_type": "execute_result"
    }
   ],
   "source": [
    "x = [2,5,3,6,7]\n",
    "y = sorted(x)\n",
    "y"
   ]
  },
  {
   "cell_type": "markdown",
   "id": "7ba1faac-bcf0-4704-b36d-64f6e5e0eba5",
   "metadata": {},
   "source": [
    "`sorted does not change the value of x`"
   ]
  },
  {
   "cell_type": "code",
   "execution_count": 26,
   "id": "1bb9a25d",
   "metadata": {},
   "outputs": [
    {
     "data": {
      "text/plain": [
       "[2, 3, 5, 6, 7]"
      ]
     },
     "execution_count": 26,
     "metadata": {},
     "output_type": "execute_result"
    }
   ],
   "source": [
    "x.sort()\n",
    "x"
   ]
  },
  {
   "cell_type": "markdown",
   "id": "d464c29d-2f95-4103-b623-1aea684bfb60",
   "metadata": {},
   "source": [
    "`sort changes the value of x`"
   ]
  },
  {
   "cell_type": "code",
   "execution_count": 29,
   "id": "646e879b",
   "metadata": {},
   "outputs": [
    {
     "data": {
      "text/plain": [
       "[7, 6, 5, 3, 2]"
      ]
     },
     "execution_count": 29,
     "metadata": {},
     "output_type": "execute_result"
    }
   ],
   "source": [
    "x = sorted([2,5,3,6,7],key = abs, reverse= True)\n",
    "x"
   ]
  },
  {
   "cell_type": "markdown",
   "id": "ddd6d535",
   "metadata": {},
   "source": [
    "`key` parameter to specify a function (or other callable) to be called on each list element prior to making comparisons."
   ]
  },
  {
   "cell_type": "markdown",
   "id": "b21c253e-d4c0-4115-9559-a17a8bc19766",
   "metadata": {},
   "source": [
    "##### List comprehension on dictionaries"
   ]
  },
  {
   "cell_type": "code",
   "execution_count": 31,
   "id": "47815ae7-122b-49f6-93fc-2558540bf2ec",
   "metadata": {},
   "outputs": [
    {
     "data": {
      "text/plain": [
       "{0, 1, 4, 9, 16}"
      ]
     },
     "execution_count": 31,
     "metadata": {},
     "output_type": "execute_result"
    }
   ],
   "source": [
    "sq = {i**2 for i in range(5)}\n",
    "sq"
   ]
  },
  {
   "cell_type": "code",
   "execution_count": 38,
   "id": "32c77a32-c424-453c-b572-37d292024192",
   "metadata": {},
   "outputs": [
    {
     "data": {
      "text/plain": [
       "{0: 0, 1: 1, 2: 4, 3: 9, 4: 16}"
      ]
     },
     "execution_count": 38,
     "metadata": {},
     "output_type": "execute_result"
    }
   ],
   "source": [
    "sq = {i:i**2 for i in range(5)}\n",
    "sq"
   ]
  },
  {
   "cell_type": "code",
   "execution_count": 42,
   "id": "7ca445b6-1ebd-4667-9c94-401b7c3e47c4",
   "metadata": {},
   "outputs": [
    {
     "data": {
      "text/plain": [
       "{1, 4}"
      ]
     },
     "execution_count": 42,
     "metadata": {},
     "output_type": "execute_result"
    }
   ],
   "source": [
    "sq = {i**2 for i in [-1,2,-2]}\n",
    "sq\n",
    "\n",
    "# notice that dictionaries does not allow duplicates which is a great feature"
   ]
  },
  {
   "cell_type": "code",
   "execution_count": 44,
   "id": "ae4b827a-f3a0-4d6c-adac-8d3b8bbe4dde",
   "metadata": {},
   "outputs": [
    {
     "data": {
      "text/plain": [
       "[(0, 1),\n",
       " (0, 2),\n",
       " (0, 3),\n",
       " (0, 4),\n",
       " (1, 2),\n",
       " (1, 3),\n",
       " (1, 4),\n",
       " (2, 3),\n",
       " (2, 4),\n",
       " (3, 4)]"
      ]
     },
     "execution_count": 44,
     "metadata": {},
     "output_type": "execute_result"
    }
   ],
   "source": [
    "increasing_pairs = [(x,y) for x in range(5)\n",
    "                   for y in range(x+1,5)]\n",
    "increasing_pairs"
   ]
  },
  {
   "cell_type": "code",
   "execution_count": 49,
   "id": "f9a3c96c-1a1d-4358-a3f9-c6dce31953b2",
   "metadata": {},
   "outputs": [
    {
     "name": "stdout",
     "output_type": "stream",
     "text": [
      "name 0 is angad\n",
      "name 1 is bali\n",
      "name 2 is maarich\n",
      "name 3 is dasrath\n"
     ]
    }
   ],
   "source": [
    "names = ['angad','bali','maarich','dasrath']\n",
    "\n",
    "for i, name in enumerate(names):\n",
    "    print(f'name {i} is {name}')"
   ]
  },
  {
   "cell_type": "markdown",
   "id": "9e217bc6",
   "metadata": {},
   "source": [
    "# Randomness"
   ]
  },
  {
   "cell_type": "code",
   "execution_count": 51,
   "id": "ccaa16bd",
   "metadata": {},
   "outputs": [
    {
     "data": {
      "text/plain": [
       "[0.4745706786885481,\n",
       " 0.6574725026572553,\n",
       " 0.6664104711248381,\n",
       " 0.14260035292536777]"
      ]
     },
     "execution_count": 51,
     "metadata": {},
     "output_type": "execute_result"
    }
   ],
   "source": [
    "import random\n",
    "random.seed(12)\n",
    "\n",
    "four_uniform_randoms = [random.random() for _ in range(4)]\n",
    "# uniformlay distributed numbers from [0,1]\n",
    "four_uniform_randoms"
   ]
  },
  {
   "cell_type": "markdown",
   "id": "5941d9d2",
   "metadata": {},
   "source": [
    "#### random.randrange()"
   ]
  },
  {
   "cell_type": "code",
   "execution_count": 55,
   "id": "8c2f8dae",
   "metadata": {},
   "outputs": [
    {
     "data": {
      "text/plain": [
       "-2"
      ]
     },
     "execution_count": 55,
     "metadata": {},
     "output_type": "execute_result"
    }
   ],
   "source": [
    "random.randrange(start = -10, stop = 10)\n",
    "\n",
    "# randomly choosing from given range"
   ]
  },
  {
   "cell_type": "code",
   "execution_count": 56,
   "id": "e7f4f171",
   "metadata": {},
   "outputs": [
    {
     "data": {
      "text/plain": [
       "8"
      ]
     },
     "execution_count": 56,
     "metadata": {},
     "output_type": "execute_result"
    }
   ],
   "source": [
    "random.randrange(start=5,stop=9)"
   ]
  },
  {
   "cell_type": "code",
   "execution_count": 57,
   "id": "b7427c2c",
   "metadata": {},
   "outputs": [
    {
     "data": {
      "text/plain": [
       "[1, 2, 3, 4, 5, 6, 7, 8, 9, 10]"
      ]
     },
     "execution_count": 57,
     "metadata": {},
     "output_type": "execute_result"
    }
   ],
   "source": [
    "import numpy as np\n",
    "up_to_ten = [ 1,  2,  3,  4,  5,  6,  7,  8,  9, 10]\n",
    "up_to_ten"
   ]
  },
  {
   "cell_type": "markdown",
   "id": "566c092f",
   "metadata": {},
   "source": [
    "#### <font color = 'darkorange'> random.shuffle"
   ]
  },
  {
   "cell_type": "code",
   "execution_count": 66,
   "id": "bac5abc5",
   "metadata": {},
   "outputs": [
    {
     "name": "stdout",
     "output_type": "stream",
     "text": [
      "[2, 7, 1, 9, 4, 5, 10, 8, 3, 6]\n"
     ]
    }
   ],
   "source": [
    "random.shuffle(up_to_ten)\n",
    "print(up_to_ten)\n",
    "\n",
    "# keep the buzz on with permutation and combinations .. yayyy"
   ]
  },
  {
   "cell_type": "markdown",
   "id": "afaea0fa",
   "metadata": {},
   "source": [
    "#### <font color = 'darkorange'> random.choice"
   ]
  },
  {
   "cell_type": "code",
   "execution_count": 73,
   "id": "8dd2fe4c",
   "metadata": {},
   "outputs": [
    {
     "name": "stdout",
     "output_type": "stream",
     "text": [
      "Bobby\n"
     ]
    }
   ],
   "source": [
    "my_best_friend = random.choice(['Akbar', 'Bobby', 'khushnuma'])\n",
    "print(my_best_friend)"
   ]
  },
  {
   "cell_type": "markdown",
   "id": "7224683d",
   "metadata": {},
   "source": [
    "#### <font color = 'darkorange'>samples without replacement "
   ]
  },
  {
   "cell_type": "code",
   "execution_count": 75,
   "id": "49636ccd",
   "metadata": {},
   "outputs": [
    {
     "data": {
      "text/plain": [
       "[42, 23, 8, 29, 49, 15, 28, 39]"
      ]
     },
     "execution_count": 75,
     "metadata": {},
     "output_type": "execute_result"
    }
   ],
   "source": [
    "lottery_numbers = range(60)\n",
    "winnig_numbers = random.sample(lottery_numbers, 8)\n",
    "\n",
    "winnig_numbers"
   ]
  },
  {
   "cell_type": "markdown",
   "id": "ece3b6b7",
   "metadata": {},
   "source": [
    "#### <font color = 'darkorange'> sample with replacement "
   ]
  },
  {
   "cell_type": "code",
   "execution_count": 39,
   "id": "8674af3d",
   "metadata": {},
   "outputs": [
    {
     "name": "stdout",
     "output_type": "stream",
     "text": [
      "[0, 8, 7, 5]\n"
     ]
    }
   ],
   "source": [
    "four_with_replacement = [random.choice(range(10)) for _ in range(4)]\n",
    "print(four_with_replacement)"
   ]
  },
  {
   "cell_type": "markdown",
   "id": "5ae0b9ed",
   "metadata": {},
   "source": [
    "# <font color = 'aqua'>Zipping and argument unpacking"
   ]
  },
  {
   "cell_type": "markdown",
   "id": "b1f02c56",
   "metadata": {},
   "source": [
    "`They provide a way of searching text. Quite fast and useful`"
   ]
  },
  {
   "cell_type": "code",
   "execution_count": 40,
   "id": "88761b24",
   "metadata": {},
   "outputs": [
    {
     "data": {
      "text/plain": [
       "[('a', 1), ('b', 2), ('c', 3), ('d', 4)]"
      ]
     },
     "execution_count": 40,
     "metadata": {},
     "output_type": "execute_result"
    }
   ],
   "source": [
    "list1 = ['a','b','c','d']\n",
    "list2 = [1,2,3,4]\n",
    "\n",
    "[pair for pair in zip(list1,list2)]"
   ]
  },
  {
   "cell_type": "code",
   "execution_count": 79,
   "id": "ba7895b0",
   "metadata": {},
   "outputs": [
    {
     "data": {
      "text/plain": [
       "(('a', 'b', 'c', 'd'), (1, 2, 3, 4))"
      ]
     },
     "execution_count": 79,
     "metadata": {},
     "output_type": "execute_result"
    }
   ],
   "source": [
    "# unzipping \n",
    "\n",
    "pairs = [('a', 1), ('b', 2), ('c', 3), ('d', 4)]\n",
    "letters, numbers = zip(*pairs)\n",
    "# ''*'' helps in argument unpacking\n",
    "\n",
    "letters, numbers"
   ]
  },
  {
   "cell_type": "code",
   "execution_count": 80,
   "id": "86e35698",
   "metadata": {},
   "outputs": [
    {
     "data": {
      "text/plain": [
       "(('a', 'b', 'c', 'd'), (1, 2, 3, 4))"
      ]
     },
     "execution_count": 80,
     "metadata": {},
     "output_type": "execute_result"
    }
   ],
   "source": [
    "letters, num = zip(('a', 1), ('b', 2), ('c', 3), ('d', 4))\n",
    "\n",
    "letters, num"
   ]
  },
  {
   "cell_type": "markdown",
   "id": "c94393aa-6efd-4033-b553-897c904784f3",
   "metadata": {},
   "source": [
    "## <font color = 'aqua'> **args and **kwargs"
   ]
  },
  {
   "cell_type": "code",
   "execution_count": 86,
   "id": "382d893c-7826-4ab5-942d-74ea64053670",
   "metadata": {},
   "outputs": [],
   "source": [
    "def magic(*a, **kwa):\n",
    "    print(f'unnamed arguments : {a}')\n",
    "    print(f'unnamed keywords : {kwa}')\n",
    "    "
   ]
  },
  {
   "cell_type": "markdown",
   "id": "0b9147b7-c93b-44b9-9c8f-bc0bb7078bfb",
   "metadata": {},
   "source": [
    "`What we need is a way to specify a function that takes arbitrary arguments.`\n",
    "<br>`args is a tuple of its unnamed arguments and is a of its named arguments.`"
   ]
  },
  {
   "cell_type": "code",
   "execution_count": 87,
   "id": "5bdc7907-a6a1-431e-9ab0-faba28c2946f",
   "metadata": {},
   "outputs": [
    {
     "name": "stdout",
     "output_type": "stream",
     "text": [
      "unnamed arguments : (1, 4)\n",
      "unnamed keywords : {'key': 'word', 'key2': 'magic'}\n"
     ]
    }
   ],
   "source": [
    "magic(1,4,key = 'word', key2 = 'magic')"
   ]
  },
  {
   "cell_type": "markdown",
   "id": "70b03fdb-9896-4810-bb49-54c0d98ffc0a",
   "metadata": {},
   "source": [
    "## <font color = 'cyan'> Type Annotations "
   ]
  },
  {
   "cell_type": "code",
   "execution_count": 88,
   "id": "3e63c0a9-59c8-4e5d-a338-a351a4862c52",
   "metadata": {},
   "outputs": [],
   "source": [
    "def total(xs: list) -> float:\n",
    "    return sum(xs)"
   ]
  },
  {
   "cell_type": "code",
   "execution_count": 89,
   "id": "866b1bd8-5b83-47d5-926c-5df692c8d560",
   "metadata": {},
   "outputs": [
    {
     "data": {
      "text/plain": [
       "6"
      ]
     },
     "execution_count": 89,
     "metadata": {},
     "output_type": "execute_result"
    }
   ],
   "source": [
    "total([1,2,3])"
   ]
  },
  {
   "cell_type": "markdown",
   "id": "eb518527-b1fc-465d-9da2-76d8a9127c69",
   "metadata": {},
   "source": [
    "#### <font color = 'darkorange'>making it more fun with typing module"
   ]
  },
  {
   "cell_type": "code",
   "execution_count": 90,
   "id": "fb187d87-f822-4bcb-a7d5-2e85538fc00b",
   "metadata": {},
   "outputs": [],
   "source": [
    "from typing import List"
   ]
  },
  {
   "cell_type": "code",
   "execution_count": 91,
   "id": "9c2c7c76-b2a2-4faf-9d33-1db71675208a",
   "metadata": {},
   "outputs": [],
   "source": [
    "def total(xs: List[int]) -> float:\n",
    "    return sum(xs)"
   ]
  },
  {
   "cell_type": "code",
   "execution_count": 92,
   "id": "ab3fa600-dfe5-4229-a1ed-d1b66ff6bad1",
   "metadata": {},
   "outputs": [
    {
     "data": {
      "text/plain": [
       "10.4"
      ]
     },
     "execution_count": 92,
     "metadata": {},
     "output_type": "execute_result"
    }
   ],
   "source": [
    "total([1,3,6.4])"
   ]
  },
  {
   "cell_type": "markdown",
   "id": "d0217269-92c9-45c7-ac68-67c7591a6f14",
   "metadata": {},
   "source": [
    "#### <font color = 'darkorange'> type annotations for parameters and variables"
   ]
  },
  {
   "cell_type": "code",
   "execution_count": 93,
   "id": "47d98e6d-f3c0-47ae-a657-2b3e1c2042f1",
   "metadata": {},
   "outputs": [],
   "source": [
    "from typing import Optional"
   ]
  },
  {
   "cell_type": "code",
   "execution_count": 94,
   "id": "7fd2f296-22f2-4b4c-95ba-08c4519d527a",
   "metadata": {},
   "outputs": [],
   "source": [
    "values : List[int] = []\n",
    "parameters : Optional[float] = None  # allowed to be float or None"
   ]
  },
  {
   "cell_type": "code",
   "execution_count": 97,
   "id": "e8cae52b-40e5-46e1-8cd3-3b81ca24ea71",
   "metadata": {},
   "outputs": [
    {
     "data": {
      "text/plain": [
       "[]"
      ]
     },
     "execution_count": 97,
     "metadata": {},
     "output_type": "execute_result"
    }
   ],
   "source": [
    "values"
   ]
  },
  {
   "cell_type": "code",
   "execution_count": 96,
   "id": "71bb286e-e819-4e60-97a1-db98c01eb2c1",
   "metadata": {},
   "outputs": [],
   "source": [
    "parameters"
   ]
  },
  {
   "cell_type": "code",
   "execution_count": null,
   "id": "59722afb-1855-4176-b6d0-3436ff321946",
   "metadata": {},
   "outputs": [],
   "source": []
  }
 ],
 "metadata": {
  "kernelspec": {
   "display_name": "Python 3 (ipykernel)",
   "language": "python",
   "name": "python3"
  },
  "language_info": {
   "codemirror_mode": {
    "name": "ipython",
    "version": 3
   },
   "file_extension": ".py",
   "mimetype": "text/x-python",
   "name": "python",
   "nbconvert_exporter": "python",
   "pygments_lexer": "ipython3",
   "version": "3.8.12"
  }
 },
 "nbformat": 4,
 "nbformat_minor": 5
}
