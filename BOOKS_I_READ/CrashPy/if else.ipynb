{
 "cells": [
  {
   "cell_type": "code",
   "execution_count": 7,
   "metadata": {},
   "outputs": [],
   "source": [
    "cars = ['bmw', 'audi','toyota','ford']"
   ]
  },
  {
   "cell_type": "code",
   "execution_count": 8,
   "metadata": {},
   "outputs": [
    {
     "name": "stdout",
     "output_type": "stream",
     "text": [
      "Bmw\n",
      "Baklar cars : AUDI\n",
      "Baklar cars : TOYOTA\n",
      "Baklar cars : FORD\n"
     ]
    }
   ],
   "source": [
    "for car in cars:\n",
    "    if car == 'bmw':\n",
    "        print(car.title())\n",
    "    else:\n",
    "        print(f'Baklar cars : {car.upper()}')"
   ]
  },
  {
   "cell_type": "code",
   "execution_count": 9,
   "metadata": {},
   "outputs": [],
   "source": [
    "banned = ['andrew','caroline','david']\n",
    "user = 'marie'"
   ]
  },
  {
   "cell_type": "code",
   "execution_count": 10,
   "metadata": {},
   "outputs": [
    {
     "name": "stdout",
     "output_type": "stream",
     "text": [
      "Marie, you can report if you wish.\n"
     ]
    }
   ],
   "source": [
    "if user not in banned:\n",
    "    print(f'{user.title()}, you can report if you wish.')"
   ]
  },
  {
   "cell_type": "code",
   "execution_count": null,
   "metadata": {},
   "outputs": [],
   "source": []
  },
  {
   "cell_type": "code",
   "execution_count": 13,
   "metadata": {},
   "outputs": [
    {
     "name": "stdout",
     "output_type": "stream",
     "text": [
      "Is car the 'subaru'? I predict True.\n",
      "True\n",
      "\n",
      "Is car the 'audi'? I predict False.\n",
      "False\n"
     ]
    }
   ],
   "source": [
    "car = 'subaru'\n",
    "print(\"Is car the 'subaru'? I predict True.\")\n",
    "print(car == 'subaru')\n",
    "print(\"\\nIs car the 'audi'? I predict False.\")\n",
    "print(car == 'audi')"
   ]
  },
  {
   "cell_type": "code",
   "execution_count": 17,
   "metadata": {},
   "outputs": [
    {
     "data": {
      "text/plain": [
       "True"
      ]
     },
     "execution_count": 17,
     "metadata": {},
     "output_type": "execute_result"
    }
   ],
   "source": [
    "rk = 'batasha'\n",
    "rk == 'batasha'"
   ]
  },
  {
   "cell_type": "code",
   "execution_count": 24,
   "metadata": {},
   "outputs": [
    {
     "data": {
      "text/plain": [
       "True"
      ]
     },
     "execution_count": 24,
     "metadata": {},
     "output_type": "execute_result"
    }
   ],
   "source": [
    "5 > 2 and 3.5 <= 3.5"
   ]
  },
  {
   "cell_type": "raw",
   "metadata": {},
   "source": [
    "car"
   ]
  },
  {
   "cell_type": "code",
   "execution_count": 25,
   "metadata": {},
   "outputs": [
    {
     "name": "stdout",
     "output_type": "stream",
     "text": [
      "['andrew', 'caroline', 'david']\n"
     ]
    }
   ],
   "source": [
    "print(banned)"
   ]
  },
  {
   "cell_type": "code",
   "execution_count": 29,
   "metadata": {},
   "outputs": [
    {
     "name": "stdout",
     "output_type": "stream",
     "text": [
      "You are old enough to drink!\n",
      "Did you bought your booze?\n"
     ]
    }
   ],
   "source": [
    "age = 19\n",
    "if age >= 19:\n",
    "    print('You are old enough to drink!')\n",
    "    print('Did you bought your booze?')"
   ]
  },
  {
   "cell_type": "code",
   "execution_count": 36,
   "metadata": {},
   "outputs": [
    {
     "name": "stdout",
     "output_type": "stream",
     "text": [
      "Your admission cost is $25\n"
     ]
    }
   ],
   "source": [
    "age = 13\n",
    "           \n",
    "if age < 4:\n",
    "    price = 0\n",
    "elif age < 18:\n",
    "    price = 25\n",
    "else:\n",
    "    price = 40 \n",
    "    \n",
    "print(f'Your admission cost is ${price}')"
   ]
  },
  {
   "cell_type": "code",
   "execution_count": 37,
   "metadata": {},
   "outputs": [
    {
     "name": "stdout",
     "output_type": "stream",
     "text": [
      "['andrew', 'caroline', 'david']\n"
     ]
    }
   ],
   "source": [
    "print(banned)"
   ]
  },
  {
   "cell_type": "code",
   "execution_count": 39,
   "metadata": {},
   "outputs": [
    {
     "name": "stdout",
     "output_type": "stream",
     "text": [
      "Kick andrew\n",
      "Kick caroline\n",
      "Kick david\n",
      "\n",
      "Finished kicking\n"
     ]
    }
   ],
   "source": [
    "for ban in banned:\n",
    "    print(f'Kick {ban}')\n",
    "    \n",
    "print('\\nFinished kicking')"
   ]
  },
  {
   "cell_type": "code",
   "execution_count": null,
   "metadata": {},
   "outputs": [],
   "source": [
    "# exercise"
   ]
  },
  {
   "cell_type": "code",
   "execution_count": 41,
   "metadata": {},
   "outputs": [
    {
     "name": "stdout",
     "output_type": "stream",
     "text": [
      "Game is lost!\n"
     ]
    }
   ],
   "source": [
    "alien_color = 'green'\n",
    "if alien_color == 'blue':\n",
    "    print('Player just earned 5 points')\n",
    "else:\n",
    "    print('Game is lost!')"
   ]
  },
  {
   "cell_type": "code",
   "execution_count": 42,
   "metadata": {},
   "outputs": [
    {
     "name": "stdout",
     "output_type": "stream",
     "text": [
      "person is a kid\n"
     ]
    }
   ],
   "source": [
    "age = 10\n",
    "if age < 2:\n",
    "    print('Person is a baby')\n",
    "elif age >=2 and age < 4:\n",
    "    print('Person is a toddler')\n",
    "elif age >=4 and age < 13:\n",
    "    print('person is a kid')\n",
    "elif age >=13 and age < 20:\n",
    "    print('perosn is a teenager')"
   ]
  },
  {
   "cell_type": "code",
   "execution_count": 43,
   "metadata": {},
   "outputs": [
    {
     "name": "stdout",
     "output_type": "stream",
     "text": [
      "You really like guava!\n",
      "You really like berry!\n",
      "You really like  mango!\n"
     ]
    }
   ],
   "source": [
    "fruits = ['guava', 'berry',' mango']\n",
    "for each in fruits:\n",
    "    print(f'You really like {each}!')"
   ]
  },
  {
   "cell_type": "code",
   "execution_count": 49,
   "metadata": {},
   "outputs": [
    {
     "name": "stdout",
     "output_type": "stream",
     "text": [
      "You sure want to continue empty?\n"
     ]
    }
   ],
   "source": [
    "requested = []\n",
    "\n",
    "#the if statement will be right skipped here.\n",
    "\n",
    "if requested:\n",
    "    for request in requested:\n",
    "        print(f'Adding {request}')\n",
    "    print('\\nFinished making product')\n",
    "else:\n",
    "    print('You sure want to continue empty?')"
   ]
  },
  {
   "cell_type": "code",
   "execution_count": null,
   "metadata": {},
   "outputs": [],
   "source": []
  },
  {
   "cell_type": "code",
   "execution_count": 59,
   "metadata": {},
   "outputs": [
    {
     "name": "stdout",
     "output_type": "stream",
     "text": [
      "Adding mushroom\n",
      "Sorry , we don't have fries\n",
      "Adding cheese\n",
      "\n",
      "Finished making pizza\n"
     ]
    }
   ],
   "source": [
    "available = ['mushroom','olives','peppers','pepperoni',\n",
    "            'pineapple','cheese']\n",
    "\n",
    "requested = ['mushroom','fries','cheese']\n",
    "\n",
    "for request in requested:\n",
    "    if request in available:\n",
    "        print(f'Adding {request}')\n",
    "    else:\n",
    "        print(f\"Sorry , we don't have {request}\")\n",
    "print('\\nFinished making pizza')"
   ]
  },
  {
   "cell_type": "markdown",
   "metadata": {},
   "source": []
  },
  {
   "cell_type": "code",
   "execution_count": 87,
   "metadata": {},
   "outputs": [
    {
     "name": "stdout",
     "output_type": "stream",
     "text": [
      "Hello garrel, thanks for logging\n",
      "Hello admin, would you like status report?\n",
      "Hello local, thanks for logging\n",
      "Hello diesel, thanks for logging\n",
      "Hello broke, thanks for logging\n"
     ]
    }
   ],
   "source": [
    "users = ['garrel','admin','local','diesel','broke']\n",
    "\n",
    "for user in users:\n",
    "    if user == 'admin':\n",
    "        print(f'Hello {user}, would you like status report?')\n",
    "    else:\n",
    "        print(f'Hello {user}, thanks for logging')\n"
   ]
  },
  {
   "cell_type": "code",
   "execution_count": 96,
   "metadata": {},
   "outputs": [
    {
     "data": {
      "text/plain": [
       "['garrel', 'admin', 'local']"
      ]
     },
     "execution_count": 96,
     "metadata": {},
     "output_type": "execute_result"
    }
   ],
   "source": [
    "users"
   ]
  },
  {
   "cell_type": "code",
   "execution_count": 97,
   "metadata": {},
   "outputs": [
    {
     "data": {
      "text/plain": [
       "['garrel', 'admin']"
      ]
     },
     "execution_count": 97,
     "metadata": {},
     "output_type": "execute_result"
    }
   ],
   "source": [
    "users.pop()\n",
    "users"
   ]
  },
  {
   "cell_type": "raw",
   "metadata": {},
   "source": []
  },
  {
   "cell_type": "code",
   "execution_count": 99,
   "metadata": {},
   "outputs": [
    {
     "data": {
      "text/plain": [
       "[]"
      ]
     },
     "execution_count": 99,
     "metadata": {},
     "output_type": "execute_result"
    }
   ],
   "source": [
    "users.clear()\n",
    "users"
   ]
  },
  {
   "cell_type": "code",
   "execution_count": 109,
   "metadata": {},
   "outputs": [
    {
     "name": "stdout",
     "output_type": "stream",
     "text": [
      "Not Enough Users\n"
     ]
    }
   ],
   "source": [
    "if users:\n",
    "    print('good to go')\n",
    "else:\n",
    "    print('not enough users'.title())"
   ]
  },
  {
   "cell_type": "code",
   "execution_count": 5,
   "metadata": {},
   "outputs": [
    {
     "name": "stdout",
     "output_type": "stream",
     "text": [
      "1st\n",
      "2nd\n",
      "3rd\n",
      "4th\n",
      "5th\n",
      "6th\n",
      "7th\n",
      "8th\n",
      "9th\n"
     ]
    }
   ],
   "source": [
    "num = [1,2,3,4,5,6,7,8,9]\n",
    "for i in num:\n",
    "    if i == 1:\n",
    "        print(f'{i}st')\n",
    "    elif i == 2:\n",
    "        print(f'{i}nd')\n",
    "    elif i == 3:\n",
    "        print(f'{i}rd')\n",
    "    else:\n",
    "        print(f'{i}th')\n",
    "#     print('\\n')\n",
    "    "
   ]
  },
  {
   "cell_type": "code",
   "execution_count": null,
   "metadata": {},
   "outputs": [],
   "source": []
  }
 ],
 "metadata": {
  "kernelspec": {
   "display_name": "Python 3",
   "language": "python",
   "name": "python3"
  },
  "language_info": {
   "codemirror_mode": {
    "name": "ipython",
    "version": 3
   },
   "file_extension": ".py",
   "mimetype": "text/x-python",
   "name": "python",
   "nbconvert_exporter": "python",
   "pygments_lexer": "ipython3",
   "version": "3.8.5"
  }
 },
 "nbformat": 4,
 "nbformat_minor": 4
}
