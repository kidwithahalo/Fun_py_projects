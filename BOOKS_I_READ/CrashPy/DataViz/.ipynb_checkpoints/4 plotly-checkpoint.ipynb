{
 "cells": [
  {
   "cell_type": "code",
   "execution_count": 4,
   "metadata": {},
   "outputs": [
    {
     "name": "stdout",
     "output_type": "stream",
     "text": [
      "[5, 5, 4, 5, 3, 4, 6, 5, 3, 1, 6, 4, 5, 4, 3, 3, 4, 2, 1, 3, 6, 6, 2, 6, 5, 5, 4, 3, 5, 1, 1, 3, 4, 3, 1, 4, 2, 3, 4, 3, 2, 6, 1, 3, 5, 5, 2, 4, 4, 4, 3, 5, 3, 1, 5, 4, 2, 3, 4, 5, 6, 2, 1, 1, 4, 4, 5, 6, 2, 1, 4, 6, 5, 2, 2, 1, 4, 4, 6, 5, 5, 4, 1, 3, 1, 5, 6, 5, 5, 2, 2, 5, 6, 2, 6, 2, 1, 3, 3, 3, 5, 5, 1, 5, 3, 3, 3, 1, 6, 5, 1, 4, 6, 2, 2, 4, 4, 3, 3, 6, 6, 1, 4, 1, 5, 1, 4, 2, 1, 2, 5, 2, 3, 3, 3, 2, 6, 5, 6, 2, 1, 6, 3, 6, 5, 4, 2, 3, 1, 1, 2, 3, 5, 2, 5, 5, 1, 6, 5, 4, 5, 2, 3, 2, 4, 1, 1, 1, 3, 3, 1, 1, 3, 3, 5, 1, 5, 2, 3, 2, 1, 2, 4, 2, 3, 6, 6, 4, 4, 6, 2, 5, 1, 4, 5, 6, 3, 2, 5, 5]\n"
     ]
    }
   ],
   "source": [
    "# rolling a die 100 times\n",
    "\n",
    "from random  import randint\n",
    "\n",
    "class Die:\n",
    "    '''a class representing a single die'''\n",
    "\n",
    "    def __init__(self, num_sides = 6):\n",
    "        '''assume a six sided die'''\n",
    "        self.num_sides = num_sides\n",
    "\n",
    "    def roll(self):\n",
    "        '''return a random value between 1 and n sides'''\n",
    "        return randint(1,self.num_sides)\n",
    "\n",
    "# create a D6\n",
    "die = Die()\n",
    "\n",
    "# make some rolls, and store results in a list\n",
    "results = []\n",
    "for roll_num in range(200):\n",
    "    result = die.roll()\n",
    "    results.append(result)\n",
    "\n",
    "print(results)"
   ]
  },
  {
   "cell_type": "code",
   "execution_count": 11,
   "metadata": {},
   "outputs": [
    {
     "name": "stdout",
     "output_type": "stream",
     "text": [
      "[3, 4, 1, 4, 6, 5, 6, 1, 2, 6, 3, 3, 2, 6, 1, 6, 5, 4, 1, 3, 6, 3, 6, 4, 2, 3, 1, 6, 2, 4, 6, 6, 5, 2, 4, 6, 6, 1, 5, 1, 6, 4, 5, 4, 5, 2, 6, 5, 1, 3, 6, 1, 3, 1, 1, 1, 2, 6, 2, 2, 6, 6, 4, 5, 1, 5, 3, 3, 3, 3, 6, 2, 6, 2, 6, 1, 3, 5, 1, 4, 5, 6, 2, 4, 3, 1, 4, 6, 1, 3, 1, 4, 6, 2, 2, 2, 3, 1, 6, 3]\n",
      "\n",
      "Count of rolls : [19, 15, 17, 13, 11, 25]\n"
     ]
    }
   ],
   "source": [
    "# analysing thr result\n",
    "\n",
    "from random  import randint\n",
    "\n",
    "class Die:\n",
    "    '''a class representing a single die'''\n",
    "\n",
    "    def __init__(self, num_sides = 6):\n",
    "        '''assume a six sided die'''\n",
    "        self.num_sides = num_sides\n",
    "\n",
    "    def roll(self):\n",
    "        '''return a random value between 1 and n sides'''\n",
    "        return randint(1,self.num_sides)\n",
    "\n",
    "# create a D6\n",
    "die = Die()\n",
    "\n",
    "# make some rolls, and store results in a list\n",
    "results = []\n",
    "for roll_num in range(100):\n",
    "    result = die.roll()\n",
    "    results.append(result)\n",
    "\n",
    "print(results)\n",
    "\n",
    "# analyse the results\n",
    "\n",
    "frequencies = []\n",
    "for value in range(1, die.num_sides+1):\n",
    "    frequency = results.count(value)\n",
    "    frequencies.append(frequency)\n",
    "    \n",
    "print(f\"\\nCount of rolls : {frequencies}\")"
   ]
  },
  {
   "cell_type": "code",
   "execution_count": 13,
   "metadata": {},
   "outputs": [
    {
     "name": "stdout",
     "output_type": "stream",
     "text": [
      "Collecting plotly\n",
      "  Downloading plotly-4.14.3-py2.py3-none-any.whl (13.2 MB)\n",
      "\u001b[K     |████████████████████████████████| 13.2 MB 2.2 MB/s eta 0:00:01     |███████████████████████████████▏| 12.8 MB 2.2 MB/s eta 0:00:01\n",
      "\u001b[?25hCollecting retrying>=1.3.3\n",
      "  Downloading retrying-1.3.3.tar.gz (10 kB)\n",
      "Requirement already satisfied: six in /Users/pankajksingh/opt/anaconda3/lib/python3.8/site-packages (from plotly) (1.15.0)\n",
      "Building wheels for collected packages: retrying\n",
      "  Building wheel for retrying (setup.py) ... \u001b[?25ldone\n",
      "\u001b[?25h  Created wheel for retrying: filename=retrying-1.3.3-py3-none-any.whl size=11429 sha256=fc68830b4986dfa7cb963261a50d2ef3af8dfb1667cb74e69b654105b282910f\n",
      "  Stored in directory: /Users/pankajksingh/Library/Caches/pip/wheels/c4/a7/48/0a434133f6d56e878ca511c0e6c38326907c0792f67b476e56\n",
      "Successfully built retrying\n",
      "Installing collected packages: retrying, plotly\n",
      "Successfully installed plotly-4.14.3 retrying-1.3.3\n"
     ]
    }
   ],
   "source": [
    "!pip install plotly"
   ]
  },
  {
   "cell_type": "code",
   "execution_count": 14,
   "metadata": {},
   "outputs": [
    {
     "name": "stdout",
     "output_type": "stream",
     "text": [
      "[2, 6, 5, 6, 6, 5, 2, 2, 6, 1, 6, 2, 6, 3, 4, 4, 3, 3, 4, 3, 5, 2, 3, 3, 5, 4, 4, 4, 1, 5, 1, 3, 6, 5, 2, 6, 3, 1, 4, 4, 1, 3, 3, 5, 2, 1, 6, 6, 4, 6, 2, 1, 5, 3, 1, 3, 2, 5, 2, 6, 2, 6, 3, 1, 3, 6, 4, 5, 3, 6, 3, 6, 2, 2, 3, 4, 4, 5, 4, 1, 5, 1, 6, 4, 1, 5, 5, 6, 4, 2, 5, 2, 4, 6, 4, 6, 2, 4, 5, 6]\n"
     ]
    },
    {
     "data": {
      "text/plain": [
       "'d6.html'"
      ]
     },
     "execution_count": 14,
     "metadata": {},
     "output_type": "execute_result"
    }
   ],
   "source": [
    "# Making a Histrogram \n",
    "\n",
    "from random  import randint\n",
    "from plotly.graph_objs import Bar, Layout\n",
    "from plotly import offline\n",
    "\n",
    "\n",
    "class Die:\n",
    "    '''a class representing a single die'''\n",
    "\n",
    "    def __init__(self, num_sides = 6):\n",
    "        '''assume a six sided die'''\n",
    "        self.num_sides = num_sides\n",
    "\n",
    "    def roll(self):\n",
    "        '''return a random value between 1 and n sides'''\n",
    "        return randint(1,self.num_sides)\n",
    "\n",
    "# create a D6\n",
    "die = Die()\n",
    "\n",
    "# make some rolls, and store results in a list\n",
    "results = []\n",
    "for roll_num in range(100):\n",
    "    result = die.roll()\n",
    "    results.append(result)\n",
    "\n",
    "print(results)\n",
    "\n",
    "# analyse the results\n",
    "\n",
    "frequencies = []\n",
    "for value in range(1, die.num_sides+1):\n",
    "    frequency = results.count(value)\n",
    "    frequencies.append(frequency)\n",
    "\n",
    "# visualise the results\n",
    "x_values = list(range(1,die.num_sides+1))\n",
    "data = [Bar(x = x_values, y = frequencies)]\n",
    "\n",
    "x_axis_config = {'title' : 'Result'}\n",
    "y_axis_config = {'title' : 'Frequency of Result'}\n",
    "my_layout = Layout(title = 'Result of rolling one D6 1000 times',\n",
    "xaxis = x_axis_config, yaxis = y_axis_config)\n",
    "offline.plot({'data':data,'layout':my_layout} , filename = 'd6.html')\n"
   ]
  },
  {
   "cell_type": "code",
   "execution_count": 18,
   "metadata": {},
   "outputs": [
    {
     "data": {
      "text/plain": [
       "'d6_d6.html'"
      ]
     },
     "execution_count": 18,
     "metadata": {},
     "output_type": "execute_result"
    }
   ],
   "source": [
    "# rolling two dices \n",
    "\n",
    "from random  import randint\n",
    "from plotly.graph_objs import Bar, Layout\n",
    "from plotly import offline\n",
    "\n",
    "\n",
    "class Die:\n",
    "    '''a class representing a single die'''\n",
    "\n",
    "    def __init__(self, num_sides = 6):\n",
    "        '''assume a six sided die'''\n",
    "        self.num_sides = num_sides\n",
    "\n",
    "    def roll(self):\n",
    "        '''return a random value between 1 and n sides'''\n",
    "        return randint(1,self.num_sides)\n",
    "\n",
    "# create two die  D6\n",
    "die_1 = Die()\n",
    "die_2 = Die()\n",
    "\n",
    "# make some rolls, and store results in a list\n",
    "results = []\n",
    "for roll_num in range(1000):\n",
    "    result = die_1.roll() + die_2.roll()\n",
    "    results.append(result)\n",
    "\n",
    "# analyse the results\n",
    "\n",
    "frequencies = []\n",
    "max_result = die_1.num_sides + die_2.num_sides\n",
    "for value in range(2,max_result+1):\n",
    "    frequency = results.count(value)\n",
    "    frequencies.append(frequency)\n",
    "\n",
    "# visualise the results\n",
    "x_values = list(range(2, max_result+1))\n",
    "data = [Bar(x = x_values, y = frequencies)]\n",
    "\n",
    "x_axis_config = {'title' : 'Result', 'dtick':1}\n",
    "y_axis_config = {'title' : 'Frequency of Result'}\n",
    "my_layout = Layout(title = 'Result of rolling two D6 1000 times',\n",
    "xaxis = x_axis_config, yaxis = y_axis_config)\n",
    "offline.plot({'data':data,'layout':my_layout} ,\n",
    "filename = 'd6_d6.html')\n"
   ]
  },
  {
   "cell_type": "code",
   "execution_count": 1,
   "metadata": {},
   "outputs": [
    {
     "data": {
      "text/plain": [
       "'d6_d6.html'"
      ]
     },
     "execution_count": 1,
     "metadata": {},
     "output_type": "execute_result"
    }
   ],
   "source": [
    "# Rolling die of different sizes\n",
    "\n",
    "from random  import randint\n",
    "from plotly.graph_objs import Bar, Layout\n",
    "from plotly import offline\n",
    "\n",
    "\n",
    "class Die:\n",
    "    '''a class representing a single die'''\n",
    "\n",
    "    def __init__(self, num_sides = 6):\n",
    "        '''assume a six sided die'''\n",
    "        self.num_sides = num_sides\n",
    "\n",
    "    def roll(self):\n",
    "        '''return a random value between 1 and n sides'''\n",
    "        return randint(1,self.num_sides)\n",
    "\n",
    "# create a D6 and a D10\n",
    "die_1 = Die()\n",
    "die_2 = Die(10)\n",
    "# passed the argument as 10 for the roll of die\n",
    "\n",
    "\n",
    "# make some rolls, and store results in a list\n",
    "results = []\n",
    "for roll_num in range(50000):\n",
    "    result = die_1.roll() + die_2.roll()\n",
    "    results.append(result)\n",
    "\n",
    "\n",
    "# analyse the results\n",
    "frequencies = []\n",
    "max_result = die_1.num_sides + die_2.num_sides\n",
    "for value in range(2,max_result+1):\n",
    "    frequency = results.count(value)\n",
    "    frequencies.append(frequency)\n",
    "\n",
    "\n",
    "# visualise the results\n",
    "x_values = list(range(2,max_result+1))\n",
    "data = [Bar(x = x_values, y = frequencies)]\n",
    "\n",
    "x_axis_config = {'title' : 'Result', 'dtick' : 1} \n",
    "#ticks spacing tells plotly to label every tick mark\n",
    "y_axis_config = {'title' : 'Frequency of Result'}\n",
    "my_layout = Layout(title = 'Result of rolling a D6 and D10 50000 times',\n",
    "xaxis = x_axis_config, yaxis = y_axis_config)\n",
    "offline.plot({'data':data,'layout':my_layout} ,\n",
    "filename = 'd6_d10.html')\n"
   ]
  },
  {
   "cell_type": "code",
   "execution_count": 2,
   "metadata": {},
   "outputs": [],
   "source": [
    "# Try it yourself\n",
    "\n"
   ]
  },
  {
   "cell_type": "code",
   "execution_count": null,
   "metadata": {},
   "outputs": [],
   "source": []
  },
  {
   "cell_type": "code",
   "execution_count": null,
   "metadata": {},
   "outputs": [],
   "source": []
  },
  {
   "cell_type": "code",
   "execution_count": null,
   "metadata": {},
   "outputs": [],
   "source": []
  },
  {
   "cell_type": "code",
   "execution_count": null,
   "metadata": {},
   "outputs": [],
   "source": []
  }
 ],
 "metadata": {
  "kernelspec": {
   "display_name": "Python 3",
   "language": "python",
   "name": "python3"
  },
  "language_info": {
   "codemirror_mode": {
    "name": "ipython",
    "version": 3
   },
   "file_extension": ".py",
   "mimetype": "text/x-python",
   "name": "python",
   "nbconvert_exporter": "python",
   "pygments_lexer": "ipython3",
   "version": "3.8.5"
  }
 },
 "nbformat": 4,
 "nbformat_minor": 4
}
