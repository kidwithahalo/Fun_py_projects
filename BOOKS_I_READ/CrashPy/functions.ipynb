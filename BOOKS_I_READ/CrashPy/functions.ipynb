{
 "cells": [
  {
   "cell_type": "code",
   "execution_count": 9,
   "metadata": {},
   "outputs": [
    {
     "name": "stdout",
     "output_type": "stream",
     "text": [
      "Hello, Nunnu Bhai!\n"
     ]
    }
   ],
   "source": [
    "def greet(str):\n",
    "    print(f\"Hello, {str}\")\n",
    "    \n",
    "greet('nunnu bhai!'.title())"
   ]
  },
  {
   "cell_type": "code",
   "execution_count": 10,
   "metadata": {},
   "outputs": [
    {
     "name": "stdout",
     "output_type": "stream",
     "text": [
      "Hello, Alice in Wonderland\n"
     ]
    }
   ],
   "source": [
    "greet('Alice in Wonderland')"
   ]
  },
  {
   "cell_type": "code",
   "execution_count": 12,
   "metadata": {},
   "outputs": [
    {
     "name": "stdout",
     "output_type": "stream",
     "text": [
      "I have a Saarh\n",
      "My Saarh's name is Batasha\n"
     ]
    }
   ],
   "source": [
    "def describe_pet(types, name):\n",
    "    print(f\"I have a {types}\")\n",
    "    print(f\"My {types}'s name is {name.title()}\")\n",
    "    \n",
    "describe_pet(types = 'Saarh', name = 'batasha')"
   ]
  },
  {
   "cell_type": "code",
   "execution_count": 13,
   "metadata": {},
   "outputs": [
    {
     "name": "stdout",
     "output_type": "stream",
     "text": [
      "I have a Baiel\n",
      "My Baiel's name is Lotan\n"
     ]
    }
   ],
   "source": [
    "describe_pet(name = 'lotan', types = \"Baiel\")"
   ]
  },
  {
   "cell_type": "code",
   "execution_count": 15,
   "metadata": {},
   "outputs": [
    {
     "name": "stdout",
     "output_type": "stream",
     "text": [
      "Enter the first name of artist : atif\n",
      "Enter the last name of artist : aslam\n"
     ]
    },
    {
     "data": {
      "text/plain": [
       "'Atif Aslam'"
      ]
     },
     "execution_count": 15,
     "metadata": {},
     "output_type": "execute_result"
    }
   ],
   "source": [
    "def get_format_name(first_name, last_name):\n",
    "    \n",
    "    full_name = f\"{first_name} {last_name}\"\n",
    "    return full_name.title()\n",
    "\n",
    "fname = input('Enter the first name of artist : ')\n",
    "lname = input('Enter the last name of artist : ')\n",
    "\n",
    "get_format_name(fname, lname)"
   ]
  },
  {
   "cell_type": "code",
   "execution_count": 1,
   "metadata": {},
   "outputs": [],
   "source": [
    "# When you use keyword arguments, be sure to use the exact\n",
    "# names of the parameters in thefunction’s definition"
   ]
  },
  {
   "cell_type": "code",
   "execution_count": null,
   "metadata": {},
   "outputs": [],
   "source": []
  },
  {
   "cell_type": "code",
   "execution_count": 7,
   "metadata": {},
   "outputs": [
    {
     "name": "stdout",
     "output_type": "stream",
     "text": [
      "Enter the size : m\n",
      "Enter the to be printed text: boring par chalega\n",
      "\n",
      "\n",
      "Size : M\n",
      "Text : Boring Par Chalega\n"
     ]
    }
   ],
   "source": [
    "# Making tshirt\n",
    "\n",
    "def make_shirt(size , text):\n",
    "    print(f'Size : {size.upper()}')\n",
    "    print(f\"Text : {text.title()}\")\n",
    "    \n",
    "\n",
    "if __name__ == \"__main__\":\n",
    "    size = input(\"Enter the size : \")\n",
    "    text = input(\"Enter the to be printed text: \")\n",
    "    print(\"\\n\")\n",
    "    \n",
    "make_shirt(size, text)\n",
    "\n"
   ]
  },
  {
   "cell_type": "code",
   "execution_count": null,
   "metadata": {},
   "outputs": [],
   "source": []
  },
  {
   "cell_type": "code",
   "execution_count": 1,
   "metadata": {},
   "outputs": [
    {
     "name": "stdout",
     "output_type": "stream",
     "text": [
      "\n",
      "Plese tell me your name: \n",
      "(enter 'q' at any time to quit)\n",
      "First name: pankaj\n",
      "Last name: k\n",
      "\n",
      "Hello, Pankaj K!\n",
      "\n",
      "Plese tell me your name: \n",
      "(enter 'q' at any time to quit)\n",
      "First name: p\n",
      "Last name: k\n",
      "\n",
      "Hello, P K!\n",
      "\n",
      "Plese tell me your name: \n",
      "(enter 'q' at any time to quit)\n",
      "First name: q\n"
     ]
    }
   ],
   "source": [
    "def get_formatted_name(first_name, last_name):\n",
    "    full_name = f\"{first_name} {last_name}\"\n",
    "    return full_name.title()\n",
    "\n",
    "while True:\n",
    "    print(\"\\nPlese tell me your name: \")\n",
    "    print(\"(enter 'q' at any time to quit)\")\n",
    "    \n",
    "    f_name = input(\"First name: \")\n",
    "    if f_name == 'q':\n",
    "        break\n",
    "    \n",
    "    l_name = input(\"Last name: \")\n",
    "    if l_name == 'q':\n",
    "        break\n",
    "        \n",
    "    formatted_name = get_formatted_name(f_name, l_name)\n",
    "    print(f\"\\nHello, {formatted_name.title()}!\")"
   ]
  },
  {
   "cell_type": "code",
   "execution_count": null,
   "metadata": {},
   "outputs": [],
   "source": []
  },
  {
   "cell_type": "code",
   "execution_count": 4,
   "metadata": {},
   "outputs": [
    {
     "name": "stdout",
     "output_type": "stream",
     "text": [
      "Hello , Buck!\n",
      "Hello , Bijay!\n",
      "Hello , Lalu!\n"
     ]
    }
   ],
   "source": [
    "# passing the list\n",
    "\n",
    "def greet_users(names):\n",
    "#     printing the wwelcome message for all users\n",
    "    for name in names:\n",
    "        msg = f\"Hello , {name.title()}!\"\n",
    "        print(msg)\n",
    "        \n",
    "usernames = ['Buck', 'Bijay', 'Lalu']\n",
    "greet_users(usernames)"
   ]
  },
  {
   "cell_type": "code",
   "execution_count": 5,
   "metadata": {},
   "outputs": [
    {
     "name": "stdout",
     "output_type": "stream",
     "text": [
      "Printing Model : dodecahedron\n",
      "Printing Model : robot pendant\n",
      "Printing Model : phone case\n",
      "\n",
      "The following models have been printed: \n",
      "dodecahedron\n",
      "robot pendant\n",
      "phone case\n"
     ]
    }
   ],
   "source": [
    "# modifying the list in a function\n",
    "\n",
    "# start with some designs that need to be printed\n",
    "\n",
    "unprinted_designs = ['phone case', 'robot pendant' , 'dodecahedron']\n",
    "completed_models = []\n",
    "\n",
    "# simulate printing each design, until none is left\n",
    "# move each design to completed_models after printing\n",
    "\n",
    "while unprinted_designs:\n",
    "    current_designs = unprinted_designs.pop()\n",
    "    print(f\"Printing Model : {current_designs}\")\n",
    "    completed_models.append(current_designs)\n",
    "    \n",
    "# display all completed models\n",
    "\n",
    "print(f\"\\nThe following models have been printed: \")\n",
    "for model in completed_models:\n",
    "    print(model)"
   ]
  },
  {
   "cell_type": "code",
   "execution_count": 4,
   "metadata": {},
   "outputs": [
    {
     "name": "stdout",
     "output_type": "stream",
     "text": [
      "Prinitng Models : dodecahedron\n",
      "Prinitng Models : robot pendant\n",
      "Prinitng Models : phone case\n",
      "\n",
      "The following models have been printed: \n",
      "dodecahedron\n",
      "robot pendant\n",
      "phone case\n"
     ]
    }
   ],
   "source": [
    "# Reorganizing the same above code\n",
    "\n",
    "def print_models(unprinted_models, completed_models):\n",
    "    '''\n",
    "    Simulate printing each design, until none are left.\n",
    "    Move each desgin to completed_models after printing\n",
    "    '''\n",
    "    \n",
    "    while unprinted_models:\n",
    "        current_models = unprinted_models.pop()\n",
    "        print(f\"Prinitng Models : {current_models}\")\n",
    "        completed_models.append(current_models)\n",
    "        \n",
    "        \n",
    "def show_completed_models(completed_models):\n",
    "    '''Show all the models that were printed'''\n",
    "    print(\"\\nThe following models have been printed: \")\n",
    "    for model in completed_models:\n",
    "        print(model)\n",
    "        \n",
    "unprinted_models = ['phone case', 'robot pendant','dodecahedron']\n",
    "completed_models = []\n",
    "    \n",
    "print_models(unprinted_models, completed_models)\n",
    "show_completed_models(completed_models)\n",
    "    "
   ]
  },
  {
   "cell_type": "code",
   "execution_count": 6,
   "metadata": {},
   "outputs": [],
   "source": [
    "# You can send a copy of a list to a function like this \n",
    "\n",
    "# function_name(list_name[:])\n",
    "\n",
    "# : is slice notation"
   ]
  },
  {
   "cell_type": "code",
   "execution_count": 11,
   "metadata": {},
   "outputs": [
    {
     "name": "stdout",
     "output_type": "stream",
     "text": [
      "('pepperoni',)\n",
      "('mushroom', 'green papers', 'extra cheese')\n"
     ]
    }
   ],
   "source": [
    "# Arbitrary number of arguments\n",
    "\n",
    "def make_pizza(*toppings):\n",
    "    print(toppings)\n",
    "    \n",
    "make_pizza('pepperoni')\n",
    "make_pizza('mushroom','green papers','extra cheese')\n",
    "\n",
    "\n",
    "# The asterisk in the parameter name *toppings tells Python \n",
    "# to make an empty tuple called toppings and pack whatever \n",
    "# values it receives into this tuple. The print() call in \n",
    "# the function body produces output showing that Python can \n",
    "# handle a function call with one value and a call with \n",
    "# three values. It treats the different calls similarly.\n",
    "\n"
   ]
  },
  {
   "cell_type": "code",
   "execution_count": 12,
   "metadata": {},
   "outputs": [
    {
     "name": "stdout",
     "output_type": "stream",
     "text": [
      "\n",
      "Making a pizza with the following toppings:\n",
      "- pepperoni\n",
      "\n",
      "Making a pizza with the following toppings:\n",
      "- mushrooms\n",
      "- green peppers\n",
      "- extra cheese\n"
     ]
    }
   ],
   "source": [
    "def make_pizza(*toppings):\n",
    "    print(\"\\nMaking a pizza with the following toppings:\")\n",
    "    for top in toppings:\n",
    "        print(f\"- {top}\")\n",
    "        \n",
    "make_pizza('pepperoni')\n",
    "make_pizza('mushrooms','green peppers','extra cheese')"
   ]
  },
  {
   "cell_type": "markdown",
   "metadata": {},
   "source": [
    " Mixing positional and arbitrary arguments can be done to achieve results\n"
   ]
  },
  {
   "cell_type": "code",
   "execution_count": 14,
   "metadata": {},
   "outputs": [
    {
     "name": "stdout",
     "output_type": "stream",
     "text": [
      "{'location': 'princeton', 'field': 'physics', 'first_name': 'albert', 'last_name': 'einstein'}\n"
     ]
    }
   ],
   "source": [
    "# Using arbitrary number of Keywords arguments\n",
    "\n",
    "# write functions that accept as many key-value pairs as \n",
    "# the calling statement provides\n",
    "\n",
    "def build_profile(first, last, **user_info):\n",
    "    \n",
    "    user_info['first_name'] = first\n",
    "    user_info['last_name'] = last\n",
    "    return user_info\n",
    "\n",
    "user_profile = build_profile('albert' ,'einstein',\n",
    "                             location = 'princeton',\n",
    "                            field = 'physics')\n",
    "\n",
    "print(user_profile)\n",
    "\n",
    "# **kwargs used to collect non-specific keyword arguments."
   ]
  },
  {
   "cell_type": "code",
   "execution_count": 15,
   "metadata": {},
   "outputs": [],
   "source": [
    "# Modules and functions \n",
    "\n",
    "# module_name.function_name()"
   ]
  },
  {
   "cell_type": "code",
   "execution_count": null,
   "metadata": {},
   "outputs": [],
   "source": []
  },
  {
   "cell_type": "code",
   "execution_count": null,
   "metadata": {},
   "outputs": [],
   "source": []
  }
 ],
 "metadata": {
  "kernelspec": {
   "display_name": "Python 3",
   "language": "python",
   "name": "python3"
  },
  "language_info": {
   "codemirror_mode": {
    "name": "ipython",
    "version": 3
   },
   "file_extension": ".py",
   "mimetype": "text/x-python",
   "name": "python",
   "nbconvert_exporter": "python",
   "pygments_lexer": "ipython3",
   "version": "3.8.5"
  }
 },
 "nbformat": 4,
 "nbformat_minor": 4
}
