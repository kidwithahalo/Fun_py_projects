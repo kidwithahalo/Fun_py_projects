{
 "cells": [
  {
   "cell_type": "code",
   "execution_count": 1,
   "metadata": {},
   "outputs": [],
   "source": [
    "# using flag"
   ]
  },
  {
   "cell_type": "code",
   "execution_count": 2,
   "metadata": {},
   "outputs": [
    {
     "name": "stdout",
     "output_type": "stream",
     "text": [
      "\n",
      "Please enter the city you have visited:\n",
      "(Enter quit when finished.)hajipur\n",
      "I'd love going to Hajipur!\n",
      "\n",
      "Please enter the city you have visited:\n",
      "(Enter quit when finished.)quit\n"
     ]
    }
   ],
   "source": [
    "prompt = '\\nPlease enter the city you have visited:'\n",
    "prompt += '\\n(Enter quit when finished.)'\n",
    "\n",
    "while True:\n",
    "    city = input(prompt)\n",
    "    \n",
    "    if city == 'quit':\n",
    "        break\n",
    "    else:\n",
    "        print(f\"I'd love going to {city.title()}!\")"
   ]
  },
  {
   "cell_type": "code",
   "execution_count": 3,
   "metadata": {},
   "outputs": [
    {
     "name": "stdout",
     "output_type": "stream",
     "text": [
      "1\n",
      "3\n",
      "5\n",
      "7\n",
      "9\n"
     ]
    }
   ],
   "source": [
    "# printing all odd numbers\n",
    "\n",
    "\n",
    "current = 0\n",
    "while current < 10:\n",
    "    current += 1\n",
    "    if current % 2 == 0:\n",
    "        continue\n",
    "    \n",
    "    print(current)"
   ]
  },
  {
   "cell_type": "code",
   "execution_count": 4,
   "metadata": {},
   "outputs": [],
   "source": [
    "# pizza exercise"
   ]
  },
  {
   "cell_type": "code",
   "execution_count": 5,
   "metadata": {},
   "outputs": [
    {
     "name": "stdout",
     "output_type": "stream",
     "text": [
      "\n",
      "Please enter the topping you want! : \n",
      "Enter 'done' to get your pizza ordered :done\n"
     ]
    }
   ],
   "source": [
    "topp = '\\nPlease enter the topping you want! : '\n",
    "topp += \"\\nEnter 'done' to get your pizza ordered :\"\n",
    "\n",
    "tots = []\n",
    "while True:\n",
    "    add = input(topp)\n",
    "    tots.append(add)\n",
    "    if add == 'done':\n",
    "        break\n",
    "    else:\n",
    "        print(f\"Your pizza with {tots} is on way\")"
   ]
  },
  {
   "cell_type": "code",
   "execution_count": null,
   "metadata": {},
   "outputs": [],
   "source": []
  },
  {
   "cell_type": "code",
   "execution_count": 6,
   "metadata": {},
   "outputs": [],
   "source": [
    "# moving items from one list to another "
   ]
  },
  {
   "cell_type": "code",
   "execution_count": 7,
   "metadata": {},
   "outputs": [],
   "source": [
    "# start with the users that need to be verified\n",
    "# and an empty list to hold confirmed users"
   ]
  },
  {
   "cell_type": "code",
   "execution_count": 8,
   "metadata": {},
   "outputs": [
    {
     "name": "stdout",
     "output_type": "stream",
     "text": [
      "Verifying user: Candace\n",
      "Verifying user: Brian\n",
      "Verifying user: Alice\n",
      "\n",
      "The following usres have been confirmed: \n",
      "Candace\n",
      "Brian\n",
      "Alice\n"
     ]
    }
   ],
   "source": [
    "unconf_users = ['alice','brian','candace']\n",
    "conf_users = []\n",
    "\n",
    "while unconf_users:\n",
    "    current_users = unconf_users.pop()\n",
    "    \n",
    "    print(f\"Verifying user: {current_users.title()}\")\n",
    "    conf_users.append(current_users)\n",
    "    \n",
    "print(\"\\nThe following usres have been confirmed: \")\n",
    "for confirmed in conf_users:\n",
    "    print(confirmed.title())"
   ]
  },
  {
   "cell_type": "code",
   "execution_count": 9,
   "metadata": {},
   "outputs": [],
   "source": [
    "# removing all instances of specific valued from a list"
   ]
  },
  {
   "cell_type": "code",
   "execution_count": 22,
   "metadata": {},
   "outputs": [
    {
     "name": "stdout",
     "output_type": "stream",
     "text": [
      "['dogs', 'dog', 'goldfish', 'rabbit']\n",
      "3\n"
     ]
    }
   ],
   "source": [
    "pets = ['dogs','cats','dog','goldfish','rabbit','cats','cats']\n",
    "cats = []\n",
    "\n",
    "while 'cats' in pets:\n",
    "    no = pets.remove('cats')\n",
    "    cats.append(no)\n",
    "    \n",
    "print(pets)\n",
    "print(len(cats))  #how many cats were there"
   ]
  },
  {
   "cell_type": "code",
   "execution_count": 11,
   "metadata": {},
   "outputs": [],
   "source": [
    "# filling input in dictionary"
   ]
  },
  {
   "cell_type": "code",
   "execution_count": 19,
   "metadata": {},
   "outputs": [
    {
     "name": "stdout",
     "output_type": "stream",
     "text": [
      "\n",
      "What is your name? pk\n",
      "Which city would you like to visit someday? goa\n",
      "Would you like to let another person repsond? (yes/no) yes\n",
      "\n",
      "What is your name? prit\n",
      "Which city would you like to visit someday? pune\n",
      "Would you like to let another person repsond? (yes/no) no \n",
      "\n",
      "What is your name? raj\n",
      "Which city would you like to visit someday? kashmir\n",
      "Would you like to let another person repsond? (yes/no) no\n",
      "\n",
      "--Poll Results--\n",
      "Pk would like to visit Goa someday.\n",
      "Prit would like to visit Pune someday.\n",
      "Raj would like to visit Kashmir someday.\n"
     ]
    }
   ],
   "source": [
    "responses = {}\n",
    "\n",
    "# setting the flag for polling status\n",
    "polling_active = True\n",
    "\n",
    "while polling_active:\n",
    "    name = input('\\nWhat is your name? ')\n",
    "    response = input(\"Which city would you like to visit someday? \")\n",
    "    \n",
    "    responses[name] = response\n",
    "    \n",
    "#     find out if anyone else is going to take more polls\n",
    "    repeat = input(\"Would you like to let another person repsond? (yes/no) \")\n",
    "    if repeat == 'no':\n",
    "        polling_active = False\n",
    "        \n",
    "print(\"\\n--Poll Results--\")\n",
    "\n",
    "for name, response in responses.items():\n",
    "    print(f\"{name.title()} would like to visit {response.title()} someday.\")"
   ]
  },
  {
   "cell_type": "code",
   "execution_count": null,
   "metadata": {},
   "outputs": [],
   "source": []
  },
  {
   "cell_type": "markdown",
   "metadata": {},
   "source": [
    "# exercises"
   ]
  },
  {
   "cell_type": "code",
   "execution_count": null,
   "metadata": {},
   "outputs": [],
   "source": []
  }
 ],
 "metadata": {
  "kernelspec": {
   "display_name": "Python 3",
   "language": "python",
   "name": "python3"
  },
  "language_info": {
   "codemirror_mode": {
    "name": "ipython",
    "version": 3
   },
   "file_extension": ".py",
   "mimetype": "text/x-python",
   "name": "python",
   "nbconvert_exporter": "python",
   "pygments_lexer": "ipython3",
   "version": "3.8.5"
  }
 },
 "nbformat": 4,
 "nbformat_minor": 4
}
