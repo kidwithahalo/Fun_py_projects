{
 "cells": [
  {
   "cell_type": "markdown",
   "metadata": {},
   "source": [
    " Making an object from the class is called instantiation\n"
   ]
  },
  {
   "cell_type": "code",
   "execution_count": 2,
   "metadata": {},
   "outputs": [
    {
     "name": "stdout",
     "output_type": "stream",
     "text": [
      "My dog's name is Willie\n",
      "My dog is 6 years old\n"
     ]
    }
   ],
   "source": [
    "# Creating a dog class\n",
    "\n",
    "class Dog:\n",
    "    \"\"\"a simple attempt to model a dog\"\"\"\n",
    "    \n",
    "    def __init__(self, name, age):\n",
    "        # __inti__ is called method (function that is part of class)\n",
    "        '''Initialise name and age attributes'''\n",
    "        self.name = name\n",
    "        self.age = age\n",
    "        \n",
    "    def sit(self):\n",
    "        '''Simulate a dog sitting in response to a command'''\n",
    "        print(f\"{self.name} is now sitting\")\n",
    "    \n",
    "    def roll(self):\n",
    "        '''Simulate rolling over in response to a command'''\n",
    "        print(f\"{self.name} rolled over!\")\n",
    "        \n",
    "\n",
    "my_dog = Dog('willie', 6)\n",
    "# my_dog is the instance here; Dog is the class here\n",
    "\n",
    "print(f\"My dog's name is {my_dog.name.title()}\")\n",
    "print(f\"My dog is {my_dog.age} years old\")"
   ]
  },
  {
   "cell_type": "code",
   "execution_count": 3,
   "metadata": {},
   "outputs": [
    {
     "data": {
      "text/plain": [
       "'willie'"
      ]
     },
     "execution_count": 3,
     "metadata": {},
     "output_type": "execute_result"
    }
   ],
   "source": [
    "# Accessing Attributes\n",
    "\n",
    "my_dog.name"
   ]
  },
  {
   "cell_type": "code",
   "execution_count": 5,
   "metadata": {},
   "outputs": [
    {
     "name": "stdout",
     "output_type": "stream",
     "text": [
      "Willie is now sitting\n",
      "Willie rolled over!\n"
     ]
    }
   ],
   "source": [
    "my_dog = Dog('Willie', 6)\n",
    "my_dog.sit()\n",
    "my_dog.roll()"
   ]
  },
  {
   "cell_type": "code",
   "execution_count": 7,
   "metadata": {},
   "outputs": [
    {
     "name": "stdout",
     "output_type": "stream",
     "text": [
      "My dog's name is Willie\n",
      "My dog is 6 years old\n",
      "Willie is now sitting\n",
      "\n",
      "Your dog's name is Lucy\n",
      "Your dog is 3 years old\n",
      "Lucy is now sitting\n"
     ]
    }
   ],
   "source": [
    "# Creating multiple instances\n",
    "\n",
    "my_dog = Dog('Willie', 6)\n",
    "your_dog = Dog('Lucy', 3)\n",
    "\n",
    "print(f\"My dog's name is {my_dog.name.title()}\")\n",
    "print(f\"My dog is {my_dog.age} years old\")\n",
    "my_dog.sit()\n",
    "\n",
    "print(f\"\\nYour dog's name is {your_dog.name.title()}\")\n",
    "print(f\"Your dog is {your_dog.age} years old\")\n",
    "your_dog.sit()"
   ]
  },
  {
   "cell_type": "code",
   "execution_count": null,
   "metadata": {},
   "outputs": [],
   "source": []
  },
  {
   "cell_type": "code",
   "execution_count": 11,
   "metadata": {},
   "outputs": [
    {
     "name": "stdout",
     "output_type": "stream",
     "text": [
      "Baba Da Dhaba serves chilli\n",
      "Baba Da Dhaba is now open!!\n"
     ]
    }
   ],
   "source": [
    "# Try It Yourself \n",
    "\n",
    "class Restaurant:\n",
    "    \n",
    "    def __init__(self, restaurant_name, cuisine_type): #methods\n",
    "        self.name = restaurant_name\n",
    "        self.type = cuisine_type\n",
    "        \n",
    "    def describe_restaurant(self):\n",
    "        print(f\"{self.name} serves {self.type}\")\n",
    "        \n",
    "    def open_restaurant(self):\n",
    "        print(f\"{self.name} is now open!!\")\n",
    "        \n",
    "\n",
    "restaurant = Restaurant('Baba Da Dhaba', 'chilli') #instances\n",
    "\n",
    "restaurant.describe_restaurant()\n",
    "restaurant.open_restaurant()\n",
    "        \n",
    "        "
   ]
  },
  {
   "cell_type": "code",
   "execution_count": null,
   "metadata": {},
   "outputs": [],
   "source": []
  },
  {
   "cell_type": "code",
   "execution_count": 15,
   "metadata": {},
   "outputs": [
    {
     "name": "stdout",
     "output_type": "stream",
     "text": [
      "2019 Audi A4\n"
     ]
    }
   ],
   "source": [
    "# Working with Classes and Instances\n",
    "\n",
    "# Modifying the attributes associated with the instances\n",
    "\n",
    "class Car:\n",
    "    '''A simple attempt to represent a car'''\n",
    "    def __init__(self, make, model,year):\n",
    "        '''Initialize the attributes to describe car'''\n",
    "        self.make = make\n",
    "        self.model = model\n",
    "        self.year = year\n",
    "        \n",
    "    def get_descriptive_name(self):\n",
    "        '''Return a neatly formatted descriptive name.'''\n",
    "        long_name = f\"{self.year} {self.make} {self.model}\"\n",
    "        return long_name.title()\n",
    "    \n",
    "my_new_car = Car('audi','a4','2019')\n",
    "print(my_new_car.get_descriptive_name())\n",
    "\n",
    "        "
   ]
  },
  {
   "cell_type": "code",
   "execution_count": 21,
   "metadata": {},
   "outputs": [
    {
     "name": "stdout",
     "output_type": "stream",
     "text": [
      "2019 Audi A4\n",
      "This car drove 0 km till date.\n",
      "\n",
      "\n",
      "This car drove 23 km till date.\n"
     ]
    }
   ],
   "source": [
    "# Setting a Default Value for an Attribute\n",
    "\n",
    "\n",
    "class Car:\n",
    "    '''A simple attempt to represent a car'''\n",
    "    def __init__(self, make, model,year):\n",
    "        '''Initialize the attributes to describe car'''\n",
    "        self.make = make\n",
    "        self.model = model\n",
    "        self.year = year\n",
    "        self.odometer_reading = 0\n",
    "        \n",
    "    def get_descriptive_name(self):\n",
    "        '''Return a neatly formatted descriptive name.'''\n",
    "        long_name = f\"{self.year} {self.make} {self.model}\"\n",
    "        return long_name.title()\n",
    "    \n",
    "    def read_odometer(self):\n",
    "        print(f\"This car drove {self.odometer_reading} km till date.\")\n",
    "    \n",
    "my_new_car = Car('audi','a4','2019')\n",
    "print(my_new_car.get_descriptive_name())\n",
    "my_new_car.read_odometer()\n",
    "print(\"\\n\")\n",
    "my_new_car.odometer_reading = 23\n",
    "# modifications can be done as well\n",
    "my_new_car.read_odometer()"
   ]
  },
  {
   "cell_type": "code",
   "execution_count": 1,
   "metadata": {},
   "outputs": [],
   "source": [
    "# Try it Yourself"
   ]
  },
  {
   "cell_type": "code",
   "execution_count": null,
   "metadata": {},
   "outputs": [],
   "source": []
  },
  {
   "cell_type": "markdown",
   "metadata": {},
   "source": [
    "# Inheritance"
   ]
  },
  {
   "cell_type": "code",
   "execution_count": 3,
   "metadata": {},
   "outputs": [
    {
     "name": "stdout",
     "output_type": "stream",
     "text": [
      "Model-S Tesla 2019\n"
     ]
    }
   ],
   "source": [
    "# the __init__() method for a child class\n",
    "\n",
    "class Car:\n",
    "    '''a simple attempt to represent a car'''\n",
    "    \n",
    "    def __init__(self, make ,model, year):\n",
    "        self.make = make\n",
    "        self.model = model \n",
    "        self.year = year\n",
    "        self.odometer_reading = 0\n",
    "        \n",
    "    def get_descriptive_name(self):\n",
    "        long_name = f\"{self.model} {self.make} {self.year}\"\n",
    "        return long_name.title()\n",
    "    \n",
    "    def read_odometer(self):\n",
    "        print(f\"This car has {self.odometer_reading} km on it.\")\n",
    "        \n",
    "    def update_odometer(self, mileage):\n",
    "        if mileage >= self.odometer_reading:\n",
    "            self.odometer_reading = mileage \n",
    "        else:\n",
    "            print(\"You can't roll back an odometer.\")\n",
    "            \n",
    "    def increment_odometer(self, miles):\n",
    "        self.odometer_reading += miles\n",
    "        \n",
    "        \n",
    "\n",
    "\n",
    "class ElectricCar(Car):\n",
    "    '''Represents all aspects of car, specific to electric car'''\n",
    "    \n",
    "    def __init__(self, make, model , year):\n",
    "        '''initialise attributes of the parent class'''\n",
    "        super().__init__(make, model, year)\n",
    "        \n",
    "my_tesla = ElectricCar('tesla','model-S' , 2019)\n",
    "print(my_tesla.get_descriptive_name())"
   ]
  },
  {
   "cell_type": "code",
   "execution_count": 7,
   "metadata": {},
   "outputs": [
    {
     "name": "stdout",
     "output_type": "stream",
     "text": [
      "Model-S Tesla 2019\n",
      "\n",
      "This car had a 75-kWh battery.\n"
     ]
    }
   ],
   "source": [
    "# Defining attributes and methods for a child class\n",
    "\n",
    "# same code but with siginficant alterations\n",
    "\n",
    "# the __init__() method for a child class\n",
    "\n",
    "class Car:\n",
    "    '''a simple attempt to represent a car'''\n",
    "    \n",
    "    def __init__(self, make ,model, year):\n",
    "        self.make = make\n",
    "        self.model = model \n",
    "        self.year = year\n",
    "        self.odometer_reading = 0\n",
    "        \n",
    "    def get_descriptive_name(self):\n",
    "        long_name = f\"{self.model} {self.make} {self.year}\"\n",
    "        return long_name.title()\n",
    "    \n",
    "    def read_odometer(self):\n",
    "        print(f\"This car has {self.odometer_reading} km on it.\")\n",
    "        \n",
    "    def update_odometer(self, mileage):\n",
    "        if mileage >= self.odometer_reading:\n",
    "            self.odometer_reading = mileage \n",
    "        else:\n",
    "            print(\"You can't roll back an odometer.\")\n",
    "            \n",
    "    def increment_odometer(self, miles):\n",
    "        self.odometer_reading += miles\n",
    "        \n",
    "        \n",
    "\n",
    "\n",
    "class ElectricCar(Car):\n",
    "    '''Represents all aspects of car, specific to electric car'''\n",
    "    \n",
    "    def __init__(self, make, model , year):\n",
    "        '''initialise attributes of the parent class'''\n",
    "        super().__init__(make, model, year)\n",
    "        self.battery_size = 75\n",
    "        \n",
    "    def describe_battery(self):    \n",
    "        '''printing a statement describing my battery size'''\n",
    "        print(f\"\\nThis car had a {self.battery_size}-kWh battery.\")\n",
    "        \n",
    "        \n",
    "my_tesla = ElectricCar('tesla','model-S' , 2019)\n",
    "print(my_tesla.get_descriptive_name())\n",
    "(my_tesla.describe_battery())"
   ]
  },
  {
   "cell_type": "code",
   "execution_count": 11,
   "metadata": {},
   "outputs": [
    {
     "name": "stdout",
     "output_type": "stream",
     "text": [
      "Model-S Tesla 2019\n",
      "This car has a 75-kWh battery\n",
      "This car can go 260 miles in full charge\n"
     ]
    }
   ],
   "source": [
    "# Instances as attributes\n",
    "\n",
    "# the __init__() method for a child class\n",
    "\n",
    "class Car:\n",
    "    '''a simple attempt to represent a car'''\n",
    "    \n",
    "    def __init__(self, make ,model, year):\n",
    "        self.make = make\n",
    "        self.model = model \n",
    "        self.year = year\n",
    "        self.odometer_reading = 0\n",
    "        \n",
    "    def get_descriptive_name(self):\n",
    "        long_name = f\"{self.model} {self.make} {self.year}\"\n",
    "        return long_name.title()\n",
    "    \n",
    "    def read_odometer(self):\n",
    "        print(f\"This car has {self.odometer_reading} km on it.\")\n",
    "        \n",
    "    def update_odometer(self, mileage):\n",
    "        if mileage >= self.odometer_reading:\n",
    "            self.odometer_reading = mileage \n",
    "        else:\n",
    "            print(\"You can't roll back an odometer.\")\n",
    "            \n",
    "    def increment_odometer(self, miles):\n",
    "        self.odometer_reading += miles\n",
    "        \n",
    "        \n",
    "\n",
    "class Battery:\n",
    "    '''a simple attempt to model a battery for an electric car'''\n",
    "    \n",
    "    def __init__(self, battery_size = 75):\n",
    "        '''initialize the battery attributes'''\n",
    "        self.battery_size = battery_size\n",
    "        \n",
    "    def get_range(self):\n",
    "        '''print a statement about the range battery provides'''\n",
    "        if self.battery_size == 75:\n",
    "            range = 260\n",
    "        elif self.battery_size == 100:\n",
    "            range = 315\n",
    "        print(f\"This car can go {range} miles in full charge\")\n",
    "        \n",
    "    def describe_battery(self):\n",
    "        '''print a statement describing the battery size'''\n",
    "        print(f\"This car has a {self.battery_size}-kWh battery\")\n",
    "\n",
    "        \n",
    "        \n",
    "class ElectricCar(Car):\n",
    "    '''Represents all aspects of car, specific to electric car'''\n",
    "    \n",
    "    def __init__(self, make, model , year):\n",
    "        '''initialise attributes of the parent class'''\n",
    "        super().__init__(make, model, year)\n",
    "        self.battery = Battery()\n",
    "  \n",
    "\n",
    "\n",
    "my_tesla = ElectricCar('tesla','model-S' , 2019)\n",
    "print(my_tesla.get_descriptive_name())\n",
    "my_tesla.battery.describe_battery()\n",
    "my_tesla.battery.get_range()"
   ]
  },
  {
   "cell_type": "code",
   "execution_count": 12,
   "metadata": {},
   "outputs": [],
   "source": [
    "# Try it Yourself"
   ]
  },
  {
   "cell_type": "code",
   "execution_count": null,
   "metadata": {},
   "outputs": [],
   "source": []
  },
  {
   "cell_type": "code",
   "execution_count": null,
   "metadata": {},
   "outputs": [],
   "source": []
  },
  {
   "cell_type": "code",
   "execution_count": null,
   "metadata": {},
   "outputs": [],
   "source": []
  },
  {
   "cell_type": "code",
   "execution_count": 13,
   "metadata": {},
   "outputs": [],
   "source": [
    "# Try it Yourself"
   ]
  },
  {
   "cell_type": "code",
   "execution_count": null,
   "metadata": {},
   "outputs": [],
   "source": []
  },
  {
   "cell_type": "code",
   "execution_count": null,
   "metadata": {},
   "outputs": [],
   "source": []
  },
  {
   "cell_type": "code",
   "execution_count": null,
   "metadata": {},
   "outputs": [],
   "source": []
  },
  {
   "cell_type": "code",
   "execution_count": 15,
   "metadata": {},
   "outputs": [
    {
     "data": {
      "text/plain": [
       "1"
      ]
     },
     "execution_count": 15,
     "metadata": {},
     "output_type": "execute_result"
    }
   ],
   "source": [
    "# Python Standard Library\n",
    "\n",
    "from random import randint\n",
    "randint(1,6)"
   ]
  },
  {
   "cell_type": "code",
   "execution_count": 16,
   "metadata": {},
   "outputs": [
    {
     "data": {
      "text/plain": [
       "'eli'"
      ]
     },
     "execution_count": 16,
     "metadata": {},
     "output_type": "execute_result"
    }
   ],
   "source": [
    "from random import choice\n",
    "players = ['charles','martina','michael','florence','eli']\n",
    "first_up = choice(players)\n",
    "first_up"
   ]
  },
  {
   "cell_type": "code",
   "execution_count": 17,
   "metadata": {},
   "outputs": [],
   "source": [
    "# Try it Yourself"
   ]
  },
  {
   "cell_type": "code",
   "execution_count": null,
   "metadata": {},
   "outputs": [],
   "source": []
  },
  {
   "cell_type": "code",
   "execution_count": null,
   "metadata": {},
   "outputs": [],
   "source": []
  },
  {
   "cell_type": "code",
   "execution_count": null,
   "metadata": {},
   "outputs": [],
   "source": []
  },
  {
   "cell_type": "code",
   "execution_count": null,
   "metadata": {},
   "outputs": [],
   "source": []
  }
 ],
 "metadata": {
  "kernelspec": {
   "display_name": "Python 3",
   "language": "python",
   "name": "python3"
  },
  "language_info": {
   "codemirror_mode": {
    "name": "ipython",
    "version": 3
   },
   "file_extension": ".py",
   "mimetype": "text/x-python",
   "name": "python",
   "nbconvert_exporter": "python",
   "pygments_lexer": "ipython3",
   "version": "3.8.5"
  }
 },
 "nbformat": 4,
 "nbformat_minor": 4
}
