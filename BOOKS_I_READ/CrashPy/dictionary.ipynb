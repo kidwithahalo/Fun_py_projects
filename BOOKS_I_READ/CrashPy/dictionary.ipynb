{
 "cells": [
  {
   "cell_type": "code",
   "execution_count": 1,
   "metadata": {},
   "outputs": [
    {
     "name": "stdout",
     "output_type": "stream",
     "text": [
      "{'color': 'red', 'point': 5}\n"
     ]
    }
   ],
   "source": [
    "alien = {'color':'red', 'point': 5}\n",
    "print(alien)"
   ]
  },
  {
   "cell_type": "code",
   "execution_count": 2,
   "metadata": {},
   "outputs": [
    {
     "name": "stdout",
     "output_type": "stream",
     "text": [
      "red\n"
     ]
    }
   ],
   "source": [
    "print(alien['color'])"
   ]
  },
  {
   "cell_type": "code",
   "execution_count": 3,
   "metadata": {},
   "outputs": [],
   "source": [
    "del alien['color']\n",
    "\n",
    "# permanently removed key value pair"
   ]
  },
  {
   "cell_type": "code",
   "execution_count": 4,
   "metadata": {},
   "outputs": [
    {
     "name": "stdout",
     "output_type": "stream",
     "text": [
      "{'point': 5}\n"
     ]
    }
   ],
   "source": [
    "print(alien)"
   ]
  },
  {
   "cell_type": "code",
   "execution_count": 5,
   "metadata": {},
   "outputs": [
    {
     "name": "stdout",
     "output_type": "stream",
     "text": [
      "{'jen': 'python', 'sarah': 'c', 'ed': 'ruby', 'jude': 'python'}\n"
     ]
    }
   ],
   "source": [
    "language = {\n",
    "    'jen' : 'python',\n",
    "    'sarah' : 'c',\n",
    "    'ed' : 'ruby',\n",
    "    'jude' : 'python'\n",
    "}\n",
    "\n",
    "print(language)"
   ]
  },
  {
   "cell_type": "code",
   "execution_count": 24,
   "metadata": {},
   "outputs": [
    {
     "name": "stdout",
     "output_type": "stream",
     "text": [
      "Jen's favourite language is Python\n",
      "Sarah's favourite language is C\n",
      "Ed's favourite language is Ruby\n",
      "Jude's favourite language is Python\n"
     ]
    }
   ],
   "source": [
    "for i , j in language.items():\n",
    "    print(f\"{i.title()}'s favourite language is {j.title()}\")"
   ]
  },
  {
   "cell_type": "code",
   "execution_count": 26,
   "metadata": {},
   "outputs": [
    {
     "name": "stdout",
     "output_type": "stream",
     "text": [
      "Jen\n",
      "Sarah\n",
      "Ed\n",
      "Jude\n"
     ]
    }
   ],
   "source": [
    "for i in language:\n",
    "    print(i.title())"
   ]
  },
  {
   "cell_type": "code",
   "execution_count": 28,
   "metadata": {},
   "outputs": [
    {
     "name": "stdout",
     "output_type": "stream",
     "text": [
      "Python\n",
      "C\n",
      "Ruby\n",
      "Python\n"
     ]
    }
   ],
   "source": [
    "for j in language.values():\n",
    "    print(j.title())"
   ]
  },
  {
   "cell_type": "code",
   "execution_count": 6,
   "metadata": {},
   "outputs": [
    {
     "name": "stdout",
     "output_type": "stream",
     "text": [
      "python\n"
     ]
    }
   ],
   "source": [
    "print(language['jude'])"
   ]
  },
  {
   "cell_type": "code",
   "execution_count": 8,
   "metadata": {},
   "outputs": [
    {
     "name": "stdout",
     "output_type": "stream",
     "text": [
      "Sarah loves c language\n"
     ]
    }
   ],
   "source": [
    "print(f\"Sarah loves {language['sarah']} language\")"
   ]
  },
  {
   "cell_type": "code",
   "execution_count": 9,
   "metadata": {},
   "outputs": [
    {
     "data": {
      "text/plain": [
       "'c'"
      ]
     },
     "execution_count": 9,
     "metadata": {},
     "output_type": "execute_result"
    }
   ],
   "source": [
    "# we can use get() method to key value \n",
    "\n",
    "language.get('sarah')"
   ]
  },
  {
   "cell_type": "code",
   "execution_count": 12,
   "metadata": {},
   "outputs": [
    {
     "data": {
      "text/plain": [
       "'python'"
      ]
     },
     "execution_count": 12,
     "metadata": {},
     "output_type": "execute_result"
    }
   ],
   "source": [
    "language.get('jude')"
   ]
  },
  {
   "cell_type": "code",
   "execution_count": 13,
   "metadata": {},
   "outputs": [],
   "source": [
    "# exercises"
   ]
  },
  {
   "cell_type": "code",
   "execution_count": 17,
   "metadata": {},
   "outputs": [
    {
     "name": "stdout",
     "output_type": "stream",
     "text": [
      "21\n",
      "pune\n"
     ]
    }
   ],
   "source": [
    "suraj = {\n",
    "    'city' : 'hajipur',\n",
    "    'age' : '21',\n",
    "    'work' : 'bangalore'\n",
    "}\n",
    "\n",
    "prit = {\n",
    "    'city' : 'patna',\n",
    "    'age' : '22',\n",
    "    'work' : 'pune'\n",
    "}\n",
    "\n",
    "print(suraj.get('age'))\n",
    "print(prit.get('work'))"
   ]
  },
  {
   "cell_type": "code",
   "execution_count": 19,
   "metadata": {},
   "outputs": [
    {
     "data": {
      "text/plain": [
       "dict_items([('city', 'hajipur'), ('age', '21'), ('work', 'bangalore')])"
      ]
     },
     "execution_count": 19,
     "metadata": {},
     "output_type": "execute_result"
    }
   ],
   "source": [
    "# item() method\n",
    "\n",
    "suraj.items()"
   ]
  },
  {
   "cell_type": "code",
   "execution_count": 21,
   "metadata": {},
   "outputs": [
    {
     "name": "stdout",
     "output_type": "stream",
     "text": [
      "Key : username\n",
      "Value : efermi\n",
      "\n",
      "Key : first\n",
      "Value : enrico\n",
      "\n",
      "Key : last\n",
      "Value : fermi\n",
      "\n"
     ]
    }
   ],
   "source": [
    "user = {\n",
    "    'username' : 'efermi',\n",
    "    'first' : 'enrico',\n",
    "    'last' : 'fermi'\n",
    "}\n",
    "\n",
    "for i , j in user.items():\n",
    "    print(f\"Key : {i}\")\n",
    "    print(f\"Value : {j}\\n\")"
   ]
  },
  {
   "cell_type": "code",
   "execution_count": 31,
   "metadata": {},
   "outputs": [
    {
     "data": {
      "text/plain": [
       "{'jen': 'python', 'sarah': 'c', 'ed': 'ruby', 'jude': 'python'}"
      ]
     },
     "execution_count": 31,
     "metadata": {},
     "output_type": "execute_result"
    }
   ],
   "source": [
    "language"
   ]
  },
  {
   "cell_type": "code",
   "execution_count": 34,
   "metadata": {},
   "outputs": [
    {
     "name": "stdout",
     "output_type": "stream",
     "text": [
      "Jen\n",
      "Hey jen, I see you love Python\n",
      "Sarah\n",
      "Ed\n",
      "Hey ed, I see you love Ruby\n",
      "Jude\n"
     ]
    }
   ],
   "source": [
    "friends = ['jen', 'ed']\n",
    "for name in language.keys():\n",
    "    print(name.title())\n",
    "    \n",
    "    if name in friends:\n",
    "        new = language[name].title()\n",
    "        print(f\"Hey {name}, I see you love {new}\")"
   ]
  },
  {
   "cell_type": "code",
   "execution_count": 36,
   "metadata": {},
   "outputs": [
    {
     "data": {
      "text/plain": [
       "'c'"
      ]
     },
     "execution_count": 36,
     "metadata": {},
     "output_type": "execute_result"
    }
   ],
   "source": [
    "language['sarah']"
   ]
  },
  {
   "cell_type": "code",
   "execution_count": 38,
   "metadata": {},
   "outputs": [
    {
     "name": "stdout",
     "output_type": "stream",
     "text": [
      "python\n",
      "c\n",
      "ruby\n",
      "python\n"
     ]
    }
   ],
   "source": [
    "for lang in language.values():\n",
    "    print(lang)"
   ]
  },
  {
   "cell_type": "code",
   "execution_count": 37,
   "metadata": {},
   "outputs": [
    {
     "name": "stdout",
     "output_type": "stream",
     "text": [
      "Python\n",
      "Ruby\n",
      "C\n"
     ]
    }
   ],
   "source": [
    "# set() prints the union of all values\n",
    "\n",
    "for lang in set(language.values()):\n",
    "    print(lang.title())"
   ]
  },
  {
   "cell_type": "code",
   "execution_count": 1,
   "metadata": {},
   "outputs": [],
   "source": [
    "# exercises"
   ]
  },
  {
   "cell_type": "code",
   "execution_count": 9,
   "metadata": {},
   "outputs": [
    {
     "name": "stdout",
     "output_type": "stream",
     "text": [
      "Nile runs through Egypt\n",
      "Ganges runs through India\n",
      "Amazons runs through America\n"
     ]
    }
   ],
   "source": [
    "river = {'Egypt':'Nile','India':'Ganges', 'America':'Amazons'}\n",
    "for i,j in river.items():\n",
    "#     this distributes the key, values\n",
    "    print(f'{j} runs through {i}')"
   ]
  },
  {
   "cell_type": "code",
   "execution_count": 10,
   "metadata": {},
   "outputs": [
    {
     "name": "stdout",
     "output_type": "stream",
     "text": [
      "Nile\n",
      "Ganges\n",
      "Amazons\n"
     ]
    }
   ],
   "source": [
    "for i in river.values():\n",
    "    print(i)"
   ]
  },
  {
   "cell_type": "code",
   "execution_count": null,
   "metadata": {},
   "outputs": [],
   "source": []
  },
  {
   "cell_type": "code",
   "execution_count": 22,
   "metadata": {},
   "outputs": [
    {
     "name": "stdout",
     "output_type": "stream",
     "text": [
      "{'color': 'red', 'point': 5, 'speed': 'slow'}\n",
      "{'color': 'red', 'point': 5, 'speed': 'slow'}\n",
      "{'color': 'red', 'point': 5, 'speed': 'slow'}\n",
      "{'color': 'red', 'point': 5, 'speed': 'slow'}\n",
      "{'color': 'red', 'point': 5, 'speed': 'slow'}\n",
      "...\n",
      "Total aliens : 30\n"
     ]
    }
   ],
   "source": [
    "aliens = []\n",
    "\n",
    "for alien in range(30):\n",
    "    new_aliens = {'color':'red','point':5 , 'speed':'slow'}\n",
    "    aliens.append(new_aliens)\n",
    "\n",
    "\n",
    "\n",
    "# showing first 5 aliens \n",
    "for alien in aliens[:5]:\n",
    "    print(alien)\n",
    "    \n",
    "print('...')\n",
    "\n",
    "# showing how many aliens have been created\n",
    "print(f'Total aliens : {len(aliens)}')\n"
   ]
  },
  {
   "cell_type": "code",
   "execution_count": null,
   "metadata": {},
   "outputs": [],
   "source": []
  },
  {
   "cell_type": "code",
   "execution_count": 30,
   "metadata": {},
   "outputs": [
    {
     "name": "stdout",
     "output_type": "stream",
     "text": [
      "You ordered a thick-crust pizza with the following toppings :\n",
      "\tmushrooms\n",
      "\textra cheese\n"
     ]
    }
   ],
   "source": [
    "pizza = {\n",
    "    'crust':'thick',\n",
    "    'toppings':['mushrooms', 'extra cheese']\n",
    "}\n",
    "\n",
    "# summarizing the order\n",
    "\n",
    "print(f\"You ordered a {pizza['crust']}-crust pizza\"\n",
    "      \" with the following toppings :\")\n",
    "\n",
    "for top in pizza['toppings']:\n",
    "    print('\\t' + top)"
   ]
  },
  {
   "cell_type": "code",
   "execution_count": null,
   "metadata": {},
   "outputs": [],
   "source": []
  },
  {
   "cell_type": "code",
   "execution_count": 35,
   "metadata": {},
   "outputs": [
    {
     "name": "stdout",
     "output_type": "stream",
     "text": [
      "\n",
      "Jen likes : \n",
      "\tPython\n",
      "\tRuby\n",
      "\n",
      "Sarah likes : \n",
      "\tC\n",
      "\n",
      "Edward likes : \n",
      "\tRuby\n",
      "\tGo\n",
      "\n",
      "Phil likes : \n",
      "\tPython\n",
      "\tHaskell\n"
     ]
    }
   ],
   "source": [
    "fav_lan = {\n",
    "    'jen':['python','ruby'],\n",
    "    'sarah':['c'],\n",
    "    'edward':['ruby','go'],\n",
    "    'phil':['python', 'haskell']\n",
    "}\n",
    "\n",
    "for name, lang in fav_lan.items():\n",
    "    print(f\"\\n{name.title()} likes : \")\n",
    "    \n",
    "    for lan in lang:\n",
    "        print(f\"\\t{lan.title()}\")"
   ]
  },
  {
   "cell_type": "code",
   "execution_count": 3,
   "metadata": {},
   "outputs": [
    {
     "name": "stdout",
     "output_type": "stream",
     "text": [
      "\n",
      "Username : aeistein\n",
      "\tFull name: Albert Einstein\n",
      "\tLocation: Princeton\n",
      "\n",
      "Username : mcurie\n",
      "\tFull name: Marie Curie\n",
      "\tLocation: Paris\n"
     ]
    }
   ],
   "source": [
    "users = {\n",
    "    'aeistein' : {\n",
    "        'first' : 'albert',\n",
    "        'last' : 'einstein',\n",
    "        'location' : 'princeton'\n",
    "    },\n",
    "    \n",
    "    'mcurie' : {\n",
    "        'first' : 'marie',\n",
    "        'last' : 'curie',\n",
    "        'location' : 'paris'\n",
    "    }\n",
    "}\n",
    "\n",
    "for username , info in users.items():\n",
    "    print(f\"\\nUsername : {username}\")\n",
    "    fullname = f\"{info['first']} {info['last']}\"\n",
    "    location = f\"{info['location']}\"\n",
    "    \n",
    "    print(f\"\\tFull name: {fullname.title()}\")\n",
    "    print(f\"\\tLocation: {location.title()}\")"
   ]
  },
  {
   "cell_type": "code",
   "execution_count": 3,
   "metadata": {},
   "outputs": [
    {
     "name": "stdout",
     "output_type": "stream",
     "text": [
      "Jimi Hendrix\n"
     ]
    }
   ],
   "source": [
    "# returning a simple value when arguments are uncertain\n",
    "\n",
    "def get_formatted_name(first_name, last_name, middle_name = ''):\n",
    "    \n",
    "    if middle_name:\n",
    "        full_name = f\"{first_name} {middle_name} {last_name}\"\n",
    "    else:\n",
    "        full_name = f\"{first_name} {last_name}\"\n",
    "        \n",
    "    return full_name.title()\n",
    "\n",
    "musician = get_formatted_name('jimi', 'hendrix')\n",
    "print(musician)\n",
    "\n"
   ]
  },
  {
   "cell_type": "code",
   "execution_count": 4,
   "metadata": {},
   "outputs": [
    {
     "name": "stdout",
     "output_type": "stream",
     "text": [
      "{'first': 'jimi', 'last': 'hendrix'}\n"
     ]
    }
   ],
   "source": [
    "# returning a dictionary\n",
    "\n",
    "def build_person(first_name , last_name):\n",
    "    '''return a dictionary of info about people'''\n",
    "    \n",
    "    person = {'first' : first_name, 'last': last_name}\n",
    "    return person\n",
    "\n",
    "musician = build_person('jimi', 'hendrix')\n",
    "print(musician)"
   ]
  },
  {
   "cell_type": "code",
   "execution_count": 7,
   "metadata": {},
   "outputs": [
    {
     "name": "stdout",
     "output_type": "stream",
     "text": [
      "{'first': 'jimi', 'last': 'hendrix', 'age': 27}\n"
     ]
    }
   ],
   "source": [
    "\n",
    "def build_person(first_name , last_name, age = None):\n",
    "    '''return a dictionary of info about people\n",
    "    Special value None is used when a \n",
    "    variable has no specific value assigned to it'''\n",
    "    \n",
    "    person = {'first' : first_name, 'last': last_name}\n",
    "    if age:\n",
    "        person['age'] = age\n",
    "    return person\n",
    "\n",
    "musician = build_person('jimi', 'hendrix', 27)\n",
    "print(musician)"
   ]
  },
  {
   "cell_type": "code",
   "execution_count": 12,
   "metadata": {},
   "outputs": [
    {
     "name": "stdout",
     "output_type": "stream",
     "text": [
      "\n",
      "Please tell me your name: \n",
      "(enter 'q' to quit)\n",
      "First name: p\n",
      "Last name: k\n",
      "\n",
      "Hello , P K!\n",
      "\n",
      "Please tell me your name: \n",
      "(enter 'q' to quit)\n",
      "First name: q\n"
     ]
    }
   ],
   "source": [
    "# using function with a while loop\n",
    "\n",
    "def get_formatted_name(first_name, last_name):\n",
    "    \n",
    "    full_name = f\"{first_name} {last_name}\"\n",
    "    return full_name.title()\n",
    "\n",
    "while True:\n",
    "    print(\"\\nPlease tell me your name: \")\n",
    "    print(\"(enter 'q' to quit)\")\n",
    "    f_name = input(\"First name: \")\n",
    "    if f_name == 'q':\n",
    "        break\n",
    "        \n",
    "    l_name = input(\"Last name: \")\n",
    "    if l_name == 'q':\n",
    "        break\n",
    "    \n",
    "    formatted_name = get_formatted_name(f_name, l_name)\n",
    "    print(f\"\\nHello , {formatted_name}!\")"
   ]
  },
  {
   "cell_type": "code",
   "execution_count": 6,
   "metadata": {},
   "outputs": [
    {
     "name": "stdout",
     "output_type": "stream",
     "text": [
      "Printing Model: dodecahedron\n",
      "Printing Model: robot pendants\n",
      "Printing Model: phone case\n",
      "\n",
      "Following models have been printed: \n",
      "dodecahedron\n",
      "robot pendants\n",
      "phone case\n"
     ]
    }
   ],
   "source": [
    "# modifying a list in a function\n",
    "# we have divided the functions into two blocks for ease\n",
    "\n",
    "\n",
    "def print_models(unprinted_designs, completed_models):\n",
    "    while unprinted_designs:\n",
    "        current_designs = unprinted_designs.pop()\n",
    "        print(f\"Printing Model: {current_designs}\")\n",
    "        completed_models.append(current_designs)\n",
    "\n",
    "def show_completed_models(completed_models):\n",
    "    print((\"\\nFollowing models have been printed: \"))\n",
    "    for completed in completed_models:\n",
    "        print(completed)\n",
    "        \n",
    "unprinted_designs = ['phone case', 'robot pendants', 'dodecahedron']\n",
    "completed_models = []\n",
    "\n",
    "print_models(unprinted_designs, completed_models)\n",
    "show_completed_models(completed_models)"
   ]
  },
  {
   "cell_type": "code",
   "execution_count": 5,
   "metadata": {},
   "outputs": [
    {
     "data": {
      "text/plain": [
       "[]"
      ]
     },
     "execution_count": 5,
     "metadata": {},
     "output_type": "execute_result"
    }
   ],
   "source": [
    "unprinted_designs\n",
    "\n",
    "# we can see that the original list is gone and if we wanted for our records , we are screwed.\n",
    "# for that very purpose we can copy the whole list by function_name(listname[:])"
   ]
  },
  {
   "cell_type": "code",
   "execution_count": 10,
   "metadata": {},
   "outputs": [
    {
     "name": "stdout",
     "output_type": "stream",
     "text": [
      "Printing Model: dodecahedron\n",
      "Printing Model: robot pendants\n",
      "Printing Model: phone case\n",
      "\n",
      "Following models have been printed: \n",
      "dodecahedron\n",
      "robot pendants\n",
      "phone case\n"
     ]
    }
   ],
   "source": [
    "def print_models(unprinted_designs, completed_models):\n",
    "    while unprinted_designs:\n",
    "        current_designs = unprinted_designs.pop()\n",
    "        print(f\"Printing Model: {current_designs}\")\n",
    "        completed_models.append(current_designs)\n",
    "\n",
    "def show_completed_models(completed_models):\n",
    "    print((\"\\nFollowing models have been printed: \"))\n",
    "    for completed in completed_models:\n",
    "        print(completed)\n",
    "        \n",
    "unprinted_designs = ['phone case', 'robot pendants', 'dodecahedron']\n",
    "completed_models = []\n",
    "\n",
    "print_models(unprinted_designs[:], completed_models)\n",
    "# we kept the original list intact here. remember that we copy the list only when calling it ,\n",
    "# not in function when we write them\n",
    "\n",
    "show_completed_models(completed_models)"
   ]
  },
  {
   "cell_type": "code",
   "execution_count": 12,
   "metadata": {},
   "outputs": [
    {
     "data": {
      "text/plain": [
       "['phone case', 'robot pendants', 'dodecahedron']"
      ]
     },
     "execution_count": 12,
     "metadata": {},
     "output_type": "execute_result"
    }
   ],
   "source": [
    "unprinted_designs\n",
    "\n",
    "# list is retrieved"
   ]
  },
  {
   "cell_type": "code",
   "execution_count": 15,
   "metadata": {},
   "outputs": [
    {
     "name": "stdout",
     "output_type": "stream",
     "text": [
      "Hello, Pk\n",
      "Greetings, Arushi\n"
     ]
    }
   ],
   "source": [
    "show_messages = ['hello', 'greetings']\n",
    "names = ['pk', 'arushi']\n",
    "for show, name in zip(show_messages,names):\n",
    "    print(f\"{show.title()}, {name.title()}\")"
   ]
  },
  {
   "cell_type": "code",
   "execution_count": 16,
   "metadata": {},
   "outputs": [],
   "source": [
    "# passing arbitrary number of arguments"
   ]
  },
  {
   "cell_type": "code",
   "execution_count": null,
   "metadata": {},
   "outputs": [],
   "source": []
  }
 ],
 "metadata": {
  "kernelspec": {
   "display_name": "Python 3",
   "language": "python",
   "name": "python3"
  },
  "language_info": {
   "codemirror_mode": {
    "name": "ipython",
    "version": 3
   },
   "file_extension": ".py",
   "mimetype": "text/x-python",
   "name": "python",
   "nbconvert_exporter": "python",
   "pygments_lexer": "ipython3",
   "version": "3.8.5"
  }
 },
 "nbformat": 4,
 "nbformat_minor": 4
}
