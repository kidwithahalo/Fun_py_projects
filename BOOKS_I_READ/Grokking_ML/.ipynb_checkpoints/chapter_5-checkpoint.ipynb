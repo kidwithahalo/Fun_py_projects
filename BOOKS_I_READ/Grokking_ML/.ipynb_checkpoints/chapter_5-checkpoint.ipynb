{
 "cells": [
  {
   "cell_type": "markdown",
   "id": "14856123-2e7e-4067-870f-9d04a18c5469",
   "metadata": {},
   "source": [
    "# $$ \\text{Linear Classifier : The perceptron algorithm} $$"
   ]
  },
  {
   "cell_type": "markdown",
   "id": "9ccd9c5e-f216-4ed3-9346-aa129f0fb523",
   "metadata": {},
   "source": [
    "    The features correspond to two numbers corresponding to the appearances of aack and beep. The labels are 1 for the happy sentences and 0 for the sad ones.\n"
   ]
  },
  {
   "cell_type": "code",
   "execution_count": null,
   "id": "2f223786-f6d1-4de4-9fe9-95f2ca5e4988",
   "metadata": {},
   "outputs": [],
   "source": [
    "import numpy as np"
   ]
  }
 ],
 "metadata": {
  "kernelspec": {
   "display_name": "Python 3 (ipykernel)",
   "language": "python",
   "name": "python3"
  },
  "language_info": {
   "codemirror_mode": {
    "name": "ipython",
    "version": 3
   },
   "file_extension": ".py",
   "mimetype": "text/x-python",
   "name": "python",
   "nbconvert_exporter": "python",
   "pygments_lexer": "ipython3",
   "version": "3.8.12"
  }
 },
 "nbformat": 4,
 "nbformat_minor": 5
}
