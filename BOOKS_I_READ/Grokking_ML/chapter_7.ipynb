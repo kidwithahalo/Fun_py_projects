{
 "cells": [
  {
   "cell_type": "markdown",
   "source": [
    "# Naive Bayes"
   ],
   "metadata": {
    "collapsed": false
   }
  },
  {
   "cell_type": "markdown",
   "source": [
    "Bayes Formula is given as :\n",
    "$$ P(E|F) = \\frac{P(F|E)•P(E)}{P(F|E)•P(E) + P(F|E^c)•P(E^c)} $$"
   ],
   "metadata": {
    "collapsed": false
   }
  },
  {
   "cell_type": "code",
   "execution_count": 41,
   "outputs": [],
   "source": [
    "import pandas as pd\n",
    "import numpy as np"
   ],
   "metadata": {
    "collapsed": false
   }
  },
  {
   "cell_type": "code",
   "execution_count": 42,
   "outputs": [
    {
     "data": {
      "text/plain": "                                                   text  spam\n0     Subject: naturally irresistible your corporate...     1\n1     Subject: the stock trading gunslinger  fanny i...     1\n2     Subject: unbelievable new homes made easy  im ...     1\n3     Subject: 4 color printing special  request add...     1\n4     Subject: do not have money , get software cds ...     1\n...                                                 ...   ...\n5723  Subject: re : research and development charges...     0\n5724  Subject: re : receipts from visit  jim ,  than...     0\n5725  Subject: re : enron case study update  wow ! a...     0\n5726  Subject: re : interest  david ,  please , call...     0\n5727  Subject: news : aurora 5 . 2 update  aurora ve...     0\n\n[5728 rows x 2 columns]",
      "text/html": "<div>\n<style scoped>\n    .dataframe tbody tr th:only-of-type {\n        vertical-align: middle;\n    }\n\n    .dataframe tbody tr th {\n        vertical-align: top;\n    }\n\n    .dataframe thead th {\n        text-align: right;\n    }\n</style>\n<table border=\"1\" class=\"dataframe\">\n  <thead>\n    <tr style=\"text-align: right;\">\n      <th></th>\n      <th>text</th>\n      <th>spam</th>\n    </tr>\n  </thead>\n  <tbody>\n    <tr>\n      <th>0</th>\n      <td>Subject: naturally irresistible your corporate...</td>\n      <td>1</td>\n    </tr>\n    <tr>\n      <th>1</th>\n      <td>Subject: the stock trading gunslinger  fanny i...</td>\n      <td>1</td>\n    </tr>\n    <tr>\n      <th>2</th>\n      <td>Subject: unbelievable new homes made easy  im ...</td>\n      <td>1</td>\n    </tr>\n    <tr>\n      <th>3</th>\n      <td>Subject: 4 color printing special  request add...</td>\n      <td>1</td>\n    </tr>\n    <tr>\n      <th>4</th>\n      <td>Subject: do not have money , get software cds ...</td>\n      <td>1</td>\n    </tr>\n    <tr>\n      <th>...</th>\n      <td>...</td>\n      <td>...</td>\n    </tr>\n    <tr>\n      <th>5723</th>\n      <td>Subject: re : research and development charges...</td>\n      <td>0</td>\n    </tr>\n    <tr>\n      <th>5724</th>\n      <td>Subject: re : receipts from visit  jim ,  than...</td>\n      <td>0</td>\n    </tr>\n    <tr>\n      <th>5725</th>\n      <td>Subject: re : enron case study update  wow ! a...</td>\n      <td>0</td>\n    </tr>\n    <tr>\n      <th>5726</th>\n      <td>Subject: re : interest  david ,  please , call...</td>\n      <td>0</td>\n    </tr>\n    <tr>\n      <th>5727</th>\n      <td>Subject: news : aurora 5 . 2 update  aurora ve...</td>\n      <td>0</td>\n    </tr>\n  </tbody>\n</table>\n<p>5728 rows × 2 columns</p>\n</div>"
     },
     "execution_count": 42,
     "metadata": {},
     "output_type": "execute_result"
    }
   ],
   "source": [
    "emails = pd.read_csv('emails.csv')\n",
    "emails"
   ],
   "metadata": {
    "collapsed": false
   }
  },
  {
   "cell_type": "code",
   "execution_count": 43,
   "outputs": [
    {
     "data": {
      "text/plain": "'Subject: unbelievable new homes made easy  im wanting to show you this  homeowner  you have been pre - approved for a $ 454 , 169 home loan at a 3 . 72 fixed rate .  this offer is being extended to you unconditionally and your credit is in no way a factor .  to take advantage of this limited time opportunity  all we ask is that you visit our website and complete  the 1 minute post approval form  look foward to hearing from you ,  dorcas pittman'"
     },
     "execution_count": 43,
     "metadata": {},
     "output_type": "execute_result"
    }
   ],
   "source": [
    "emails.text[2]"
   ],
   "metadata": {
    "collapsed": false
   }
  },
  {
   "cell_type": "markdown",
   "source": [
    "## Data Preprocessing"
   ],
   "metadata": {
    "collapsed": false
   }
  },
  {
   "cell_type": "markdown",
   "source": [
    "> <font color = 'red'> Turning the text strings into the list of words"
   ],
   "metadata": {
    "collapsed": false
   }
  },
  {
   "cell_type": "code",
   "execution_count": 44,
   "outputs": [],
   "source": [
    "def process_email(text):\n",
    "    text = text.lower()\n",
    "    return list(set(text.split()))"
   ],
   "metadata": {
    "collapsed": false
   }
  },
  {
   "cell_type": "code",
   "execution_count": 45,
   "outputs": [],
   "source": [
    "# we will now apply this function to the entire column\n",
    "emails['words'] = emails.text.apply(process_email)"
   ],
   "metadata": {
    "collapsed": false
   }
  },
  {
   "cell_type": "code",
   "execution_count": 46,
   "outputs": [
    {
     "data": {
      "text/plain": "                                                   text  spam  \\\n0     Subject: naturally irresistible your corporate...     1   \n1     Subject: the stock trading gunslinger  fanny i...     1   \n2     Subject: unbelievable new homes made easy  im ...     1   \n3     Subject: 4 color printing special  request add...     1   \n4     Subject: do not have money , get software cds ...     1   \n...                                                 ...   ...   \n5723  Subject: re : research and development charges...     0   \n5724  Subject: re : receipts from visit  jim ,  than...     0   \n5725  Subject: re : enron case study update  wow ! a...     0   \n5726  Subject: re : interest  david ,  please , call...     0   \n5727  Subject: news : aurora 5 . 2 update  aurora ve...     0   \n\n                                                  words  \n0     [specially, through, nowadays, do, provide, pr...  \n1     [palfrey, but, optima, diffusion, deoxyribonuc...  \n2     [easy, your, $, extended, been, our, 454, made...  \n3     [/, 8090, fax, information, our, ca, graphix, ...  \n4     [great, it, best, finish, do, are, here, compa...  \n...                                                 ...  \n5723  [/, et, reviewing, 26, do, research, @, apodac...  \n5724  [/, r, la, fax, lot, following, dossier, reimb...  \n5725  [/, fax, meetings, following, do, box, slot, t...  \n5726  [/, time, @, set, up, re, 3528, discipline, gr...  \n5727  [powerful, section, /, carlo, provides, been, ...  \n\n[5728 rows x 3 columns]",
      "text/html": "<div>\n<style scoped>\n    .dataframe tbody tr th:only-of-type {\n        vertical-align: middle;\n    }\n\n    .dataframe tbody tr th {\n        vertical-align: top;\n    }\n\n    .dataframe thead th {\n        text-align: right;\n    }\n</style>\n<table border=\"1\" class=\"dataframe\">\n  <thead>\n    <tr style=\"text-align: right;\">\n      <th></th>\n      <th>text</th>\n      <th>spam</th>\n      <th>words</th>\n    </tr>\n  </thead>\n  <tbody>\n    <tr>\n      <th>0</th>\n      <td>Subject: naturally irresistible your corporate...</td>\n      <td>1</td>\n      <td>[specially, through, nowadays, do, provide, pr...</td>\n    </tr>\n    <tr>\n      <th>1</th>\n      <td>Subject: the stock trading gunslinger  fanny i...</td>\n      <td>1</td>\n      <td>[palfrey, but, optima, diffusion, deoxyribonuc...</td>\n    </tr>\n    <tr>\n      <th>2</th>\n      <td>Subject: unbelievable new homes made easy  im ...</td>\n      <td>1</td>\n      <td>[easy, your, $, extended, been, our, 454, made...</td>\n    </tr>\n    <tr>\n      <th>3</th>\n      <td>Subject: 4 color printing special  request add...</td>\n      <td>1</td>\n      <td>[/, 8090, fax, information, our, ca, graphix, ...</td>\n    </tr>\n    <tr>\n      <th>4</th>\n      <td>Subject: do not have money , get software cds ...</td>\n      <td>1</td>\n      <td>[great, it, best, finish, do, are, here, compa...</td>\n    </tr>\n    <tr>\n      <th>...</th>\n      <td>...</td>\n      <td>...</td>\n      <td>...</td>\n    </tr>\n    <tr>\n      <th>5723</th>\n      <td>Subject: re : research and development charges...</td>\n      <td>0</td>\n      <td>[/, et, reviewing, 26, do, research, @, apodac...</td>\n    </tr>\n    <tr>\n      <th>5724</th>\n      <td>Subject: re : receipts from visit  jim ,  than...</td>\n      <td>0</td>\n      <td>[/, r, la, fax, lot, following, dossier, reimb...</td>\n    </tr>\n    <tr>\n      <th>5725</th>\n      <td>Subject: re : enron case study update  wow ! a...</td>\n      <td>0</td>\n      <td>[/, fax, meetings, following, do, box, slot, t...</td>\n    </tr>\n    <tr>\n      <th>5726</th>\n      <td>Subject: re : interest  david ,  please , call...</td>\n      <td>0</td>\n      <td>[/, time, @, set, up, re, 3528, discipline, gr...</td>\n    </tr>\n    <tr>\n      <th>5727</th>\n      <td>Subject: news : aurora 5 . 2 update  aurora ve...</td>\n      <td>0</td>\n      <td>[powerful, section, /, carlo, provides, been, ...</td>\n    </tr>\n  </tbody>\n</table>\n<p>5728 rows × 3 columns</p>\n</div>"
     },
     "execution_count": 46,
     "metadata": {},
     "output_type": "execute_result"
    }
   ],
   "source": [
    "emails"
   ],
   "metadata": {
    "collapsed": false
   }
  },
  {
   "cell_type": "markdown",
   "source": [
    "> <font color = 'red'> Finding the priors -> finding the probability that email is spam (the prior)"
   ],
   "metadata": {
    "collapsed": false
   }
  },
  {
   "cell_type": "code",
   "execution_count": 47,
   "outputs": [
    {
     "data": {
      "text/plain": "0.2388268156424581"
     },
     "execution_count": 47,
     "metadata": {},
     "output_type": "execute_result"
    }
   ],
   "source": [
    "# prior would be the probability of spam that we have so far from our initial knowledge\n",
    "\n",
    "sum(emails['spam'])/len(emails)"
   ],
   "metadata": {
    "collapsed": false
   }
  },
  {
   "cell_type": "markdown",
   "source": [
    "> <font color = 'red'> Finding the posterior -> Prob. that spam or ham emails contain certain word"
   ],
   "metadata": {
    "collapsed": false
   }
  },
  {
   "cell_type": "code",
   "execution_count": 48,
   "outputs": [],
   "source": [
    "model = {}\n",
    "\n",
    "for index, email in emails.iterrows():\n",
    "    for word in email['words']:\n",
    "        if word not in model:\n",
    "            model[word] = {'spam':1, 'ham':1}\n",
    "        if word in model:\n",
    "            model[word]['spam'] += 1\n",
    "        else:\n",
    "            model[word]['ham'] += 1"
   ],
   "metadata": {
    "collapsed": false
   }
  },
  {
   "cell_type": "code",
   "execution_count": 49,
   "outputs": [
    {
     "data": {
      "text/plain": "{'spam': 9, 'ham': 1}"
     },
     "execution_count": 49,
     "metadata": {},
     "output_type": "execute_result"
    }
   ],
   "source": [
    "model['lottery']"
   ],
   "metadata": {
    "collapsed": false
   }
  },
  {
   "cell_type": "code",
   "execution_count": 50,
   "outputs": [
    {
     "data": {
      "text/plain": "{'spam': 101, 'ham': 1}"
     },
     "execution_count": 50,
     "metadata": {},
     "output_type": "execute_result"
    }
   ],
   "source": [
    "model['step']"
   ],
   "metadata": {
    "collapsed": false
   }
  },
  {
   "cell_type": "code",
   "execution_count": 51,
   "outputs": [
    {
     "data": {
      "text/plain": "{'spam': 14, 'ham': 1}"
     },
     "execution_count": 51,
     "metadata": {},
     "output_type": "execute_result"
    }
   ],
   "source": [
    "model['brother']"
   ],
   "metadata": {
    "collapsed": false
   }
  },
  {
   "cell_type": "code",
   "execution_count": 52,
   "outputs": [
    {
     "data": {
      "text/plain": "{'spam': 308, 'ham': 1}"
     },
     "execution_count": 52,
     "metadata": {},
     "output_type": "execute_result"
    }
   ],
   "source": [
    "model['reply']"
   ],
   "metadata": {
    "collapsed": false
   }
  },
  {
   "cell_type": "markdown",
   "source": [
    "> <font color = 'red'> Implementing the Naive Bayes"
   ],
   "metadata": {
    "collapsed": false
   }
  },
  {
   "cell_type": "code",
   "execution_count": 66,
   "outputs": [],
   "source": [
    "def predict_naive_bayes(email):\n",
    "    total = len(emails)\n",
    "    num_spam = sum(emails['spam'])\n",
    "    num_ham = total - num_spam\n",
    "    email = email.lower()\n",
    "    words = set(email.split())\n",
    "    spams = [1.0]\n",
    "    hams = [1.0]\n",
    "\n",
    "    for word in words:\n",
    "        if word in model:\n",
    "            spams.append(model[word]['spam']/num_spam * total)     #finding the conditional probability\n",
    "            hams.append(model[word]['ham']/num_ham * total)        #that email containing that word is spam\n",
    "\n",
    "    prod_spams = np.longlong(np.prod(spams)* num_spam)         #product of sums being seen as prior for\n",
    "    prod_hams = np.longlong(np.prod(hams)* num_ham)            #each words and long so that each time is long\n",
    "                                                           #enough for python to handle\n",
    "\n",
    "    return  prod_spams/(prod_spams + prod_hams)      # normalizing the probability\n"
   ],
   "metadata": {
    "collapsed": false
   }
  },
  {
   "cell_type": "code",
   "execution_count": 67,
   "outputs": [
    {
     "data": {
      "text/plain": "1.000000000000002"
     },
     "execution_count": 67,
     "metadata": {},
     "output_type": "execute_result"
    }
   ],
   "source": [
    "predict_naive_bayes('ready for tomorrow seeing you')"
   ],
   "metadata": {
    "collapsed": false
   }
  },
  {
   "cell_type": "code",
   "execution_count": 68,
   "outputs": [
    {
     "data": {
      "text/plain": "1.0000000000000042"
     },
     "execution_count": 68,
     "metadata": {},
     "output_type": "execute_result"
    }
   ],
   "source": [
    "predict_naive_bayes('enter the lottery to win three million dollars')"
   ],
   "metadata": {
    "collapsed": false
   }
  },
  {
   "cell_type": "code",
   "execution_count": 69,
   "outputs": [
    {
     "data": {
      "text/plain": "0.999999999863745"
     },
     "execution_count": 69,
     "metadata": {},
     "output_type": "execute_result"
    }
   ],
   "source": [
    "predict_naive_bayes('Grokking Machine Learning by Luis Serrano')"
   ],
   "metadata": {
    "collapsed": false
   }
  },
  {
   "cell_type": "code",
   "execution_count": null,
   "outputs": [],
   "source": [],
   "metadata": {
    "collapsed": false,
    "pycharm": {
     "is_executing": true
    }
   }
  },
  {
   "cell_type": "code",
   "execution_count": 61,
   "outputs": [],
   "source": [],
   "metadata": {
    "collapsed": false
   }
  }
 ],
 "metadata": {
  "kernelspec": {
   "display_name": "Python 3",
   "language": "python",
   "name": "python3"
  },
  "language_info": {
   "codemirror_mode": {
    "name": "ipython",
    "version": 2
   },
   "file_extension": ".py",
   "mimetype": "text/x-python",
   "name": "python",
   "nbconvert_exporter": "python",
   "pygments_lexer": "ipython2",
   "version": "2.7.6"
  }
 },
 "nbformat": 4,
 "nbformat_minor": 0
}
