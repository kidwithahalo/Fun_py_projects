{
 "cells": [
  {
   "cell_type": "code",
   "execution_count": 2,
   "metadata": {},
   "outputs": [
    {
     "name": "stdout",
     "output_type": "stream",
     "text": [
      "Enter the first word:cat\n",
      "Enter the second word:tac\n",
      "\n",
      "Yeah !! They are anagrams\n"
     ]
    }
   ],
   "source": [
    "# Anagrams \n",
    "\n",
    "str1 = input('Enter the first word:')\n",
    "str2 = input('Enter the second word:')\n",
    "\n",
    "s_str1 = sorted(str1)\n",
    "s_str2 = sorted(str2)\n",
    "\n",
    "if s_str1 == s_str2:\n",
    "    print('\\nYeah !! They are anagrams')\n",
    "else:\n",
    "    print('\\nSorry! They are not anagrams')\n"
   ]
  },
  {
   "cell_type": "code",
   "execution_count": 7,
   "metadata": {},
   "outputs": [
    {
     "name": "stdout",
     "output_type": "stream",
     "text": [
      "Enter the list length:2\n",
      "Enter entry :12\n",
      "Enter entry :32\n",
      "[12, 32]\n",
      "Enter the key:1\n",
      "Key not found\n"
     ]
    }
   ],
   "source": [
    "# Binary Search \n",
    "\n",
    "def BinarySearch(list1, key):\n",
    "    low = 0\n",
    "    high = len(list1) - 1\n",
    "    Found = False\n",
    "    while low <= high and not Found:\n",
    "        mid = (low+high)//2\n",
    "        if key == list1[mid]:\n",
    "            Found = True\n",
    "        elif key > list1[mid]:\n",
    "            low = mid + 1\n",
    "        else:\n",
    "            high = mid - 1\n",
    "    if Found == True:\n",
    "        print('Key is found')\n",
    "    else:\n",
    "        print('Key not found')\n",
    "\n",
    "num = int(input('Enter the list length:'))\n",
    "list1 = [int(input('Enter entry :')) for i in range(num)]\n",
    "\n",
    "list1.sort()\n",
    "print(list1)\n",
    "\n",
    "key = int(input('Enter the key:'))\n",
    "BinarySearch(list1, key)\n"
   ]
  },
  {
   "cell_type": "code",
   "execution_count": 9,
   "metadata": {},
   "outputs": [
    {
     "name": "stdout",
     "output_type": "stream",
     "text": [
      "Number 1:12\n",
      "Number 2:45\n",
      "भक्क बेंचो , ग़लत हैं\n"
     ]
    }
   ],
   "source": [
    "# Coprimes Check\n",
    "\n",
    "from math import gcd\n",
    "\n",
    "num1 = int(input('Number 1:'))\n",
    "num2 = int(input('Number 2:'))\n",
    "\n",
    "if gcd(num1,num2) == 1:\n",
    "    print('Hurray, numbers are co primes')\n",
    "else:\n",
    "    print('भक्क बेंचो , ग़लत हैं')\n"
   ]
  },
  {
   "cell_type": "code",
   "execution_count": 11,
   "metadata": {},
   "outputs": [
    {
     "name": "stdout",
     "output_type": "stream",
     "text": [
      "Enter the number:7\n",
      "7 is not a fibonaaci number\n"
     ]
    }
   ],
   "source": [
    "# Checking whether given entry is Fibonaaci Number\n",
    "\n",
    "import math\n",
    "def PerfectSqr(x):\n",
    "    s = int(math.sqrt(x))\n",
    "    return s*s == x  #means to say return if true\n",
    "\n",
    "n = int(input('Enter the number:'))\n",
    "result1 = 5*(n*n)+4\n",
    "result2 = 5*(n*n)-4\n",
    "\n",
    "if PerfectSqr(result1) or PerfectSqr(result2):\n",
    "    print(n,'is fibonacci number')\n",
    "else:\n",
    "    print(n,'is not a fibonaaci number')\n"
   ]
  },
  {
   "cell_type": "code",
   "execution_count": 17,
   "metadata": {},
   "outputs": [
    {
     "name": "stdout",
     "output_type": "stream",
     "text": [
      "Enter the first name:pdsg\n",
      "Enter the secon name:sdgs\n",
      "2\n",
      "relationship is Enemies\n"
     ]
    }
   ],
   "source": [
    "# FLAMES games \n",
    "\n",
    "name1 = input('Enter the first name:').lower()\n",
    "name2 = input('Enter the secon name:').lower()\n",
    "name1 = name1.replace(' ', '')\n",
    "name2 = name2.replace(' ', '')\n",
    "\n",
    "for i in name1:\n",
    "    for j in name2:\n",
    "        if i == j:\n",
    "            name1 = name1.replace(i, '',1)\n",
    "            name2 = name2.replace(j, '',1)\n",
    "            #string.replace(old, new, count)\n",
    "\n",
    "            break\n",
    "\n",
    "count = len(name1+name2)\n",
    "print (count)\n",
    "\n",
    "if count > 0:\n",
    "    list1 = ['Friends','Lovers','Affectionate','Marriage','Enemies','Siblings']\n",
    "    while len(list1) > 1:\n",
    "        c = count % len(list1)\n",
    "        s_index = c - 1\n",
    "#slicing of list1\n",
    "        if s_index >= 0:\n",
    "            left = list1[:s_index]\n",
    "            right = list1[s_index+1:]\n",
    "            list1 = right + left\n",
    "        else:\n",
    "            list1 = list1[:len(list1)-1]\n",
    "    print('relationship is', list1[0])\n",
    "else:\n",
    "    print('Enter different names')\n"
   ]
  },
  {
   "cell_type": "code",
   "execution_count": 19,
   "metadata": {},
   "outputs": [
    {
     "name": "stdout",
     "output_type": "stream",
     "text": [
      "Enter the year:2022\n",
      "2022 is not a leap year\n"
     ]
    }
   ],
   "source": [
    "# Checking if the given year is leap year \n",
    "\n",
    "year = int(input('Enter the year:'))\n",
    "if year % 4 == 0:\n",
    "    if year % 100 == 0:\n",
    "        if year % 400 == 0:\n",
    "            print(year, 'is leap year')\n",
    "        else:\n",
    "            print(year, 'is not leap year')\n",
    "    else:\n",
    "        print(year, 'is a leap year')\n",
    "else:\n",
    "    print(year, 'is not a leap year')\n",
    "    \n"
   ]
  },
  {
   "cell_type": "code",
   "execution_count": 20,
   "metadata": {},
   "outputs": [
    {
     "name": "stdout",
     "output_type": "stream",
     "text": [
      "How many numbers you want to enter? :3\n",
      "enter number:12\n",
      "enter number:53\n",
      "enter number:6\n",
      "[12, 53, 6]\n",
      "[6, 12, 53]\n"
     ]
    }
   ],
   "source": [
    "# Finding the minimum in list and then arranging in ascending\n",
    "\n",
    "num = int(input('How many numbers you want to enter? :'))\n",
    "list1 = [int(input('enter number:')) for x in range(num)]\n",
    "\n",
    "print(list1)\n",
    "\n",
    "for i in range(len(list1)):\n",
    "    min_value = min(list1[i:])\n",
    "    min_ind = list1.index(min_value,i)\n",
    "    list1[i], list1[min_ind] = list1[min_ind], list1[i] #swapping\n",
    "\n",
    "print(list1)\n"
   ]
  },
  {
   "cell_type": "code",
   "execution_count": 23,
   "metadata": {},
   "outputs": [
    {
     "name": "stdout",
     "output_type": "stream",
     "text": [
      "Enter the word:tit\n",
      "tit is palindrome\n"
     ]
    }
   ],
   "source": [
    "# Palindrome Check \n",
    "\n",
    "word = input('Enter the word:')\n",
    "rev_word = word[::-1]   #just reverses the string called slicing\n",
    "\n",
    "#for numbers word = str(word)\n",
    "\n",
    "if word == rev_word:\n",
    "    print(word, 'is palindrome')\n",
    "else:\n",
    "    print(word, 'is not palindorme')\n"
   ]
  },
  {
   "cell_type": "code",
   "execution_count": 26,
   "metadata": {},
   "outputs": [
    {
     "name": "stdout",
     "output_type": "stream",
     "text": [
      "Enter the number to check:22\n",
      "reversed: 22\n",
      "22 is not a prime number! but is a palindrome\n"
     ]
    }
   ],
   "source": [
    "# Palindromin Prime \n",
    "\n",
    "num = int(input('Enter the number to check:'))\n",
    "reverse = int(str(num)[::-1])\n",
    "print('reversed:',reverse)\n",
    "\n",
    "if num == reverse:\n",
    "    if num > 1:\n",
    "        for i in range(2, num):\n",
    "            if num % i == 0:\n",
    "                print(num, 'is not a prime number! but is a palindrome')\n",
    "                break\n",
    "        else:\n",
    "            print(num, 'is a prime  number! and a palindrome')\n",
    "else:\n",
    "    if num > 1:\n",
    "        for i in range(2, num):\n",
    "            if num % i == 0:\n",
    "                print(num, 'is not a prime number! as well not as a palindrome')\n",
    "                break\n",
    "        else:\n",
    "             print(num, 'is a prime  number! but not a palindrome')\n"
   ]
  },
  {
   "cell_type": "code",
   "execution_count": 31,
   "metadata": {},
   "outputs": [
    {
     "name": "stdout",
     "output_type": "stream",
     "text": [
      "Name:pk\n",
      "Hello Pk , welcome to the quiz world\n",
      "\n",
      "Which crop is sown on the largest area in India?\n",
      "a. Rice\n",
      "b. Wheat\n",
      "c. Sugarcane\n",
      "d. Maize\n",
      "\n",
      "Do you want to skip this question (yes/no):no\n",
      "Enter answer (a/b/c/d):a\n",
      "Correct answer, you scored 1 point\n",
      "Do you want to quit the quiz (yes/no):yes\n",
      "Your final socre: 1\n"
     ]
    }
   ],
   "source": [
    "# Designing a quiz \n",
    "\n",
    "# list of all questions with options\n",
    "q1 ='''\n",
    "Which crop is sown on the largest area in India?\n",
    "a. Rice\n",
    "b. Wheat\n",
    "c. Sugarcane\n",
    "d. Maize\n",
    "'''\n",
    "\n",
    "questions = {q1:'a'}\n",
    "\n",
    "name = input('Name:')\n",
    "print('Hello',name.title(), ', welcome to the quiz world')\n",
    "score = 0\n",
    "\n",
    "for i in questions:\n",
    "    print(i)\n",
    "    flag1 = input('Do you want to skip this question (yes/no):')\n",
    "    if flag1 == 'yes':\n",
    "        continue\n",
    "    ans = input('Enter answer (a/b/c/d):')\n",
    "    if ans == questions[i]:\n",
    "        print('Correct answer, you scored 1 point')\n",
    "        score += 1\n",
    "    else:\n",
    "        print('Wrong answer, you lost 1 point')\n",
    "        score -= 1\n",
    "    flag2 = input('Do you want to quit the quiz (yes/no):')\n",
    "    if flag2 == 'yes':\n",
    "        break\n",
    "print('\\nYour final socre:',score)\n"
   ]
  },
  {
   "cell_type": "code",
   "execution_count": 32,
   "metadata": {},
   "outputs": [
    {
     "name": "stdout",
     "output_type": "stream",
     "text": [
      "5\n",
      "[7, 9, 12, 5, 30, 15, 17, 7]\n"
     ]
    }
   ],
   "source": [
    "#printing numbers in form of triangle right angled\n",
    "\n",
    "list2 = []\n",
    "def get_max(list1):\n",
    "    for i in list1:\n",
    "        if type(i) == list:\n",
    "            get_max(i)\n",
    "        else:\n",
    "            list2.append(i)\n",
    "\n",
    "    return min(list2)\n",
    "\n",
    "list1 = [7,9,[12,5,[30,15],17],7]\n",
    "print(get_max(list1))\n",
    "print(list2)     \n",
    "#all the nested elements put in single list\n",
    "\n",
    "#excellent program of recursion\n"
   ]
  },
  {
   "cell_type": "code",
   "execution_count": 34,
   "metadata": {},
   "outputs": [
    {
     "name": "stdout",
     "output_type": "stream",
     "text": [
      "Enter the sentence:the world is a nice place \n",
      "the world is a nice place \n",
      "\n",
      "Number of vowels in given sentence is: 8\n"
     ]
    }
   ],
   "source": [
    "# Vowels \n",
    "\n",
    "sentence = input('Enter the sentence:')\n",
    "string = sentence.lower()\n",
    "print(string)\n",
    "count = 0\n",
    "\n",
    "list1 = ['a','e','i','o','u']\n",
    "for char in string:\n",
    "    if char in list1:\n",
    "        count += 1\n",
    "print('\\nNumber of vowels in given sentence is:', count)\n"
   ]
  },
  {
   "cell_type": "code",
   "execution_count": null,
   "metadata": {},
   "outputs": [],
   "source": []
  }
 ],
 "metadata": {
  "kernelspec": {
   "display_name": "Python 3",
   "language": "python",
   "name": "python3"
  },
  "language_info": {
   "codemirror_mode": {
    "name": "ipython",
    "version": 3
   },
   "file_extension": ".py",
   "mimetype": "text/x-python",
   "name": "python",
   "nbconvert_exporter": "python",
   "pygments_lexer": "ipython3",
   "version": "3.8.5"
  }
 },
 "nbformat": 4,
 "nbformat_minor": 4
}
