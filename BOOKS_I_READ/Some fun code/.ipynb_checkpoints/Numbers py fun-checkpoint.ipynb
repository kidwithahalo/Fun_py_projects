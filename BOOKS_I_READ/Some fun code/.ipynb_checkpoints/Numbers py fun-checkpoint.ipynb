{
 "cells": [
  {
   "cell_type": "code",
   "execution_count": 3,
   "metadata": {},
   "outputs": [
    {
     "name": "stdout",
     "output_type": "stream",
     "text": [
      "0\n",
      "1\n",
      "2\n",
      "3\n",
      "4\n",
      "5\n",
      "6\n",
      "7\n",
      "8\n",
      "9\n",
      "153\n",
      "370\n",
      "371\n",
      "407\n",
      "1634\n",
      "8208\n",
      "9474\n",
      "54748\n",
      "92727\n",
      "93084\n",
      "548834\n"
     ]
    }
   ],
   "source": [
    "# Armstrong Numbers\n",
    "# Armstrong numbers are numbers that are raised to the number of total digits in the numbers\n",
    "# i.e. in 153, each numbers will be raised to cube and added.\n",
    "\n",
    "for i in range(100**3):\n",
    "    num = i\n",
    "    result = 0\n",
    "    n = len(str(i))\n",
    "    while (i != 0):\n",
    "        last_d = i % 10\n",
    "        result += last_d ** n\n",
    "        i = i // 10\n",
    "    if num == result:\n",
    "        print(num)\n"
   ]
  },
  {
   "cell_type": "code",
   "execution_count": 4,
   "metadata": {},
   "outputs": [
    {
     "name": "stdout",
     "output_type": "stream",
     "text": [
      "inter the number:45\n",
      "Factorial of 45 is 119622220865480194561963161495657715064383733760000000000\n"
     ]
    }
   ],
   "source": [
    "# Finding Factorial of the numbers\n",
    "\n",
    "num = int(input('inter the number:'))\n",
    "result = 1\n",
    "\n",
    "if num < 0:\n",
    "    print('Factorial does not exist')\n",
    "elif num == 0:\n",
    "    print('Factorial of 0 is 1')\n",
    "else:\n",
    "    for i in range(1,num+1):\n",
    "        result = result * i\n",
    "    print('Factorial of' ,num, 'is' ,result)\n",
    "\n",
    "#math.factorial does the same.\n"
   ]
  },
  {
   "cell_type": "code",
   "execution_count": 5,
   "metadata": {},
   "outputs": [
    {
     "name": "stdout",
     "output_type": "stream",
     "text": [
      "1.0\n",
      "2.0\n",
      "1.5\n",
      "1.6666666666666667\n",
      "1.6\n",
      "1.625\n",
      "1.6153846153846154\n",
      "1.619047619047619\n",
      "1.6176470588235294\n",
      "1.6181818181818182\n",
      "1.6179775280898876\n",
      "1.6180555555555556\n",
      "1.6180257510729614\n",
      "1.6180371352785146\n",
      "1.618032786885246\n",
      "1.618034447821682\n",
      "1.6180338134001253\n",
      "1.618034055727554\n",
      "1.6180339631667064\n",
      "1.6180339985218033\n",
      "1.618033985017358\n",
      "1.6180339901755971\n",
      "1.618033988205325\n",
      "1.618033988957902\n",
      "1.6180339886704431\n",
      "1.6180339887802426\n",
      "1.618033988738303\n",
      "1.6180339887543225\n",
      "1.6180339887482036\n",
      "1.6180339887505408\n",
      "1.6180339887496482\n",
      "1.618033988749989\n",
      "1.618033988749859\n",
      "1.6180339887499087\n",
      "1.6180339887498896\n",
      "1.618033988749897\n",
      "1.618033988749894\n",
      "1.6180339887498951\n",
      "1.6180339887498947\n",
      "1.618033988749895\n",
      "1.618033988749895\n",
      "1.618033988749895\n",
      "1.618033988749895\n",
      "1.618033988749895\n",
      "1.618033988749895\n",
      "1.618033988749895\n",
      "1.618033988749895\n",
      "1.618033988749895\n",
      "1.618033988749895\n",
      "1.618033988749895\n",
      "1.618033988749895\n",
      "1.618033988749895\n",
      "1.618033988749895\n",
      "1.618033988749895\n",
      "1.618033988749895\n",
      "1.618033988749895\n",
      "1.618033988749895\n",
      "1.618033988749895\n",
      "1.618033988749895\n",
      "1.618033988749895\n",
      "1.618033988749895\n",
      "1.618033988749895\n",
      "1.618033988749895\n",
      "1.618033988749895\n",
      "1.618033988749895\n",
      "1.618033988749895\n",
      "1.618033988749895\n",
      "1.618033988749895\n",
      "1.618033988749895\n",
      "1.618033988749895\n",
      "1.618033988749895\n",
      "1.618033988749895\n",
      "1.618033988749895\n",
      "1.618033988749895\n",
      "1.618033988749895\n",
      "1.618033988749895\n",
      "1.618033988749895\n",
      "1.618033988749895\n",
      "1.618033988749895\n",
      "1.618033988749895\n",
      "1.618033988749895\n",
      "1.618033988749895\n",
      "1.618033988749895\n",
      "1.618033988749895\n",
      "1.618033988749895\n",
      "1.618033988749895\n",
      "1.618033988749895\n",
      "1.618033988749895\n",
      "1.618033988749895\n",
      "1.618033988749895\n",
      "1.618033988749895\n",
      "1.618033988749895\n",
      "1.618033988749895\n",
      "1.618033988749895\n",
      "1.618033988749895\n",
      "1.618033988749895\n",
      "1.618033988749895\n",
      "1.618033988749895\n",
      "1.618033988749895\n",
      "1.618033988749895\n"
     ]
    }
   ],
   "source": [
    "# Fibonacci Sequences and Golden Ration = int(input('enter the number of digits in series:'))\n",
    "if type(n) != int:\n",
    "    raise TypeError ('n must be an integer')\n",
    "if n < 0:\n",
    "    raise ValueError ('n must be positive')\n",
    "\n",
    "first = 0\n",
    "second = 1\n",
    "for i in range(1,n):\n",
    "    print(first)\n",
    "    temp = first\n",
    "    first = second\n",
    "    second = temp + second\n",
    "\n",
    "\n",
    "fibonacci_cache = {}\n",
    "\n",
    "def fibonacci(n):\n",
    "    if n in fibonacci_cache:\n",
    "        return fibonacci_cache[n]\n",
    "\n",
    "    if n == 1:\n",
    "        value = 1\n",
    "    elif n == 2:\n",
    "        value = 1\n",
    "    elif n > 2:\n",
    "        value = fibonacci(n-1) + fibonacci(n-2)\n",
    "\n",
    "    fibonacci_cache[n] = value\n",
    "    return value\n",
    "\n",
    "for n in range(1,101):\n",
    "    print(fibonacci(n+1)/fibonacci(n))\n",
    "    #print(n,':',fibonacci(n))\n"
   ]
  },
  {
   "cell_type": "code",
   "execution_count": 6,
   "metadata": {},
   "outputs": [
    {
     "name": "stdout",
     "output_type": "stream",
     "text": [
      "enter the number of digits in series:34\n",
      "0\n",
      "1\n",
      "1\n",
      "2\n",
      "3\n",
      "5\n",
      "8\n",
      "13\n",
      "21\n",
      "34\n",
      "55\n",
      "89\n",
      "144\n",
      "233\n",
      "377\n",
      "610\n",
      "987\n",
      "1597\n",
      "2584\n",
      "4181\n",
      "6765\n",
      "10946\n",
      "17711\n",
      "28657\n",
      "46368\n",
      "75025\n",
      "121393\n",
      "196418\n",
      "317811\n",
      "514229\n",
      "832040\n",
      "1346269\n",
      "2178309\n"
     ]
    }
   ],
   "source": [
    "# Writing a fibonacci sequence \n",
    "\n",
    "\n",
    "n = int(input('enter the number of digits in series:'))\n",
    "if type(n) != int:\n",
    "    raise TypeError ('n must be an integer')\n",
    "if n < 0:\n",
    "    raise ValueError ('n must be positive')\n",
    "\n",
    "first = 0\n",
    "second = 1\n",
    "for i in range(1,n):\n",
    "    print(first)\n",
    "    temp = first\n",
    "    first = second\n",
    "    second = temp + second\n"
   ]
  },
  {
   "cell_type": "code",
   "execution_count": 7,
   "metadata": {},
   "outputs": [
    {
     "name": "stdout",
     "output_type": "stream",
     "text": [
      "Enter the first number:45\n",
      "Enter the second number:34\n",
      "1\n"
     ]
    }
   ],
   "source": [
    "# Finding gcd using recursion \n",
    "\n",
    "num1 = int(input('Enter the first number:'))\n",
    "num2 = int(input('Enter the second number:'))\n",
    "\n",
    "def gcd(a,b):\n",
    "    if b == 0:\n",
    "        return a\n",
    "    else:\n",
    "        return gcd(b, a%b)  #recusrsion\n",
    "\n",
    "print (gcd(num1,num2))\n"
   ]
  },
  {
   "cell_type": "code",
   "execution_count": 9,
   "metadata": {},
   "outputs": [
    {
     "name": "stdout",
     "output_type": "stream",
     "text": [
      "Enter the number:24\n",
      "24 is NOT a perfect number\n"
     ]
    }
   ],
   "source": [
    "# # Perfect Numbers\n",
    "# a perfect number is a positive integer that is equal\n",
    "# to the sum of its positive divisors, excluding the \n",
    "# number itself. For instance, 6 has divisors 1, 2 \n",
    "# and 3, and 1 + 2 + 3 = 6, so 6 is a perfect number\n",
    "\n",
    "num = int(input('Enter the number:'))\n",
    "result = 0\n",
    "\n",
    "for i in range(1, num):\n",
    "    if num % i == 0:\n",
    "        result = result + i\n",
    "if result == num:\n",
    "    print(num ,'is perfect number')\n",
    "else:\n",
    "    print(num,'is NOT a perfect number')\n"
   ]
  },
  {
   "cell_type": "code",
   "execution_count": 10,
   "metadata": {},
   "outputs": [
    {
     "name": "stdout",
     "output_type": "stream",
     "text": [
      "Enter the number to check:45\n",
      "False\n"
     ]
    }
   ],
   "source": [
    "# Checking if the number is a prime\n",
    "\n",
    "num = int(input('Enter the number to check:'))\n",
    "if num > 1:\n",
    "    for i in range(2, num):\n",
    "        if num % i == 0:\n",
    "            print(False)\n",
    "            break\n",
    "            \n",
    "    else:\n",
    "        print(True)\n",
    "else:\n",
    "    print(False)\n"
   ]
  },
  {
   "cell_type": "code",
   "execution_count": 12,
   "metadata": {},
   "outputs": [
    {
     "name": "stdout",
     "output_type": "stream",
     "text": [
      "Enter the upper interval:45\n",
      "Enter the lower interval:2\n",
      "2\n",
      "3\n",
      "5\n",
      "7\n",
      "11\n",
      "13\n",
      "17\n",
      "19\n",
      "23\n",
      "29\n",
      "31\n",
      "37\n",
      "41\n",
      "43\n"
     ]
    }
   ],
   "source": [
    "# Printing all prime numbers in the given interval\n",
    "\n",
    "n_up = int(input('Enter the upper interval:'))\n",
    "n_low = int(input('Enter the lower interval:'))\n",
    "\n",
    "for num in range(n_low,n_up+1):\n",
    "    if num > 1:\n",
    "        for i in range(2,num):\n",
    "            if num % i == 0:\n",
    "                break\n",
    "        else:\n",
    "            print(num)\n",
    "\n",
    "            \n",
    "# other version of execution includes checking only until the square root of number\n"
   ]
  },
  {
   "cell_type": "code",
   "execution_count": 14,
   "metadata": {},
   "outputs": [
    {
     "name": "stdout",
     "output_type": "stream",
     "text": [
      "Enter the input:hello\n",
      "Reversed string is : olleh\n"
     ]
    }
   ],
   "source": [
    "# Reversing a string \n",
    "\n",
    "def reverse(string):\n",
    "    revered_str = ''\n",
    "    for i in string:\n",
    "        revered_str = i + revered_str\n",
    "    print('Reversed string is :', revered_str)\n",
    "\n",
    "str = input('Enter the input:')\n",
    "reverse(str)\n"
   ]
  },
  {
   "cell_type": "code",
   "execution_count": 28,
   "metadata": {},
   "outputs": [
    {
     "name": "stdout",
     "output_type": "stream",
     "text": [
      "Enter the number:12\n",
      "Sum is 3\n"
     ]
    }
   ],
   "source": [
    "# Sum of all digits of the numbers \n",
    "\n",
    "num = int(input('Enter the number:'))\n",
    "result = 0\n",
    "while num > 0:\n",
    "    digit = num % 10\n",
    "    result = result + digit\n",
    "    num = num // 10\n",
    "print('Sum is',result)\n"
   ]
  },
  {
   "cell_type": "code",
   "execution_count": 30,
   "metadata": {},
   "outputs": [
    {
     "name": "stdout",
     "output_type": "stream",
     "text": [
      "Enter the a:34\n",
      "Enter the b:45\n",
      "after swapping:\n",
      "a is 45\n",
      "b is 34\n"
     ]
    }
   ],
   "source": [
    "# Swapping the numbers\n",
    "\n",
    "a = int(input('Enter the a:'))\n",
    "b = int(input('Enter the b:'))\n",
    "temp = a\n",
    "a = b\n",
    "b = temp\n",
    "\n",
    "print('after swapping:')\n",
    "print('a is', a)\n",
    "print('b is',b)\n"
   ]
  },
  {
   "cell_type": "code",
   "execution_count": null,
   "metadata": {},
   "outputs": [],
   "source": []
  },
  {
   "cell_type": "code",
   "execution_count": null,
   "metadata": {},
   "outputs": [],
   "source": []
  }
 ],
 "metadata": {
  "kernelspec": {
   "display_name": "Python 3",
   "language": "python",
   "name": "python3"
  },
  "language_info": {
   "codemirror_mode": {
    "name": "ipython",
    "version": 3
   },
   "file_extension": ".py",
   "mimetype": "text/x-python",
   "name": "python",
   "nbconvert_exporter": "python",
   "pygments_lexer": "ipython3",
   "version": "3.8.5"
  }
 },
 "nbformat": 4,
 "nbformat_minor": 4
}
