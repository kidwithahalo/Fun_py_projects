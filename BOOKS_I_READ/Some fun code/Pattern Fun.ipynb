{
 "cells": [
  {
   "cell_type": "markdown",
   "metadata": {},
   "source": [
    "Few patterns with numbers and elements for the fun sake"
   ]
  },
  {
   "cell_type": "code",
   "execution_count": 1,
   "metadata": {},
   "outputs": [
    {
     "name": "stdout",
     "output_type": "stream",
     "text": [
      "Number of rows:6\n",
      "111 \n",
      "111 222 \n",
      "111 222 333 \n",
      "111 222 333 444 \n",
      "111 222 333 444 555 \n",
      "111 222 333 444 555 666 \n"
     ]
    }
   ],
   "source": [
    "# 111\n",
    "\n",
    "num = int(input('Number of rows:'))\n",
    "for i in range(num):\n",
    "    k = 111\n",
    "    for j in range(i+1):\n",
    "        print(k, end=' ')\n",
    "        k = k + 111\n",
    "    print()\n"
   ]
  },
  {
   "cell_type": "code",
   "execution_count": 8,
   "metadata": {},
   "outputs": [
    {
     "name": "stdout",
     "output_type": "stream",
     "text": [
      "    *    \n",
      "  *  *  \n",
      "*      *\n",
      "  *  *  \n",
      "    *    \n"
     ]
    }
   ],
   "source": [
    "# Diamond design\n",
    "\n",
    "for row in range(5):\n",
    "    for col in range(5):\n",
    "        if row+col == 2 or col-row == 2 or row-col == 2 or row+col == 6:\n",
    "            print('*',end='')\n",
    "        else:\n",
    "            print(end='  ')\n",
    "    print()\n",
    "\n",
    "#draw figure in grid if problem understanding\n"
   ]
  },
  {
   "cell_type": "code",
   "execution_count": 9,
   "metadata": {},
   "outputs": [
    {
     "name": "stdout",
     "output_type": "stream",
     "text": [
      "Enter the rows number:7\n",
      "      *      \n",
      "     * *     \n",
      "    *   *    \n",
      "   *     *   \n",
      "  *       *  \n",
      " *         * \n",
      "*************\n",
      "Enter the rows number:4\n",
      "   *   \n",
      "  * *  \n",
      " *   * \n",
      "* * * *\n"
     ]
    }
   ],
   "source": [
    "# Equilateral traingle\n",
    "\n",
    "n = int(input('Enter the rows number:'))\n",
    "\n",
    "for row in range(1,n+1):\n",
    "    for col in range(1,2*n):\n",
    "        if row == n or row + col == n+1 or col - row == n-1:\n",
    "            print('*', end ='')\n",
    "        else:\n",
    "            print(end=' ')\n",
    "    print()\n",
    "\n",
    "\n",
    "#base stars are with spaces\n",
    "n = int(input('Enter the rows number:'))\n",
    "k = 2\n",
    "for row in range(1,n+1):\n",
    "    for col in range(1,2*n):\n",
    "        if row + col == n+1 or col - row == n-1:\n",
    "            print('*', end ='')\n",
    "        elif row==n and col!=k:\n",
    "            print('*',end = '')\n",
    "            k = k + 2\n",
    "        else:\n",
    "            print(end=' ')\n",
    "    print()\n"
   ]
  },
  {
   "cell_type": "code",
   "execution_count": 10,
   "metadata": {},
   "outputs": [
    {
     "name": "stdout",
     "output_type": "stream",
     "text": [
      "enter the number of rows:5\n",
      "1\n",
      "23\n",
      "456\n",
      "78910\n",
      "1112131415\n"
     ]
    }
   ],
   "source": [
    "# Floyd triangle\n",
    "\n",
    "n = int(input('enter the number of rows:'))\n",
    "num = 1\n",
    "for rows in range(1,n+1):\n",
    "    for col in range(1,rows+1):\n",
    "        print(num, end = '')\n",
    "        num += 1\n",
    "    print()   #now the line is changed\n"
   ]
  },
  {
   "cell_type": "code",
   "execution_count": 11,
   "metadata": {},
   "outputs": [
    {
     "name": "stdout",
     "output_type": "stream",
     "text": [
      "Enter the number of rows:8\n",
      "                     1  \n",
      "                  2  1  2  \n",
      "               3  2  1  2  3  \n",
      "            4  3  2  1  2  3  4  \n",
      "         5  4  3  2  1  2  3  4  5  \n",
      "      6  5  4  3  2  1  2  3  4  5  6  \n",
      "   7  6  5  4  3  2  1  2  3  4  5  6  7  \n",
      "8  7  6  5  4  3  2  1  2  3  4  5  6  7  8  \n"
     ]
    }
   ],
   "source": [
    "# Number Pyramid\n",
    "\n",
    "num = int(input('Enter the number of rows:'))\n",
    "for i in range(1, num+1):\n",
    "    for j in range(1, num-i+1):\n",
    "        print(format(' ','<3'), end='')   #or end = ' ' can be used\n",
    "    for j in range(i,0,-1):\n",
    "        print(format(j,'<3'),end='')      #space of 3 given\n",
    "    for j in range(2,i+1):\n",
    "        print(format(j,'<3'), end='')\n",
    "    print()\n",
    "\n",
    "#good QUESTION\n"
   ]
  },
  {
   "cell_type": "code",
   "execution_count": 12,
   "metadata": {},
   "outputs": [
    {
     "name": "stdout",
     "output_type": "stream",
     "text": [
      "Rows:6\n",
      "   1\n",
      "   2   3\n",
      "   4   5   6\n",
      "   7   8   9  10\n",
      "  11  12  13  14  15\n",
      "  16  17  18  19  20  21\n"
     ]
    }
   ],
   "source": [
    "# Number Right triangle \n",
    "\n",
    "num = int(input('Rows:'))\n",
    "n = 1\n",
    "for i in range(num):\n",
    "    for j in range(i+1):\n",
    "        print(format(n,'>4'),end='')\n",
    "        n = n+1\n",
    "    print()\n"
   ]
  },
  {
   "cell_type": "code",
   "execution_count": 16,
   "metadata": {},
   "outputs": [
    {
     "name": "stdout",
     "output_type": "stream",
     "text": [
      "Enter the number of rows:8\n",
      "12345678\n",
      "1234567\n",
      "123456\n",
      "12345\n",
      "1234\n",
      "123\n",
      "12\n",
      "1\n"
     ]
    }
   ],
   "source": [
    "# Numbers right triangle but upside down\n",
    "\n",
    "n = int(input('Enter the number of rows:'))\n",
    "for row in range(n,0,-1):\n",
    "    for col in range(1, row+1):\n",
    "        print(col,end= '')\n",
    "    print()\n"
   ]
  },
  {
   "cell_type": "code",
   "execution_count": 18,
   "metadata": {},
   "outputs": [
    {
     "name": "stdout",
     "output_type": "stream",
     "text": [
      "no of rows:6\n",
      "1 \n",
      "1 2 \n",
      "1 2 3 \n",
      "1 2 3 4 \n",
      "1 2 3 4 5 \n",
      "1 2 3 4 5 6 \n"
     ]
    }
   ],
   "source": [
    "# Again trainlge but with spaces\n",
    "\n",
    "rows = int(input('no of rows:'))\n",
    "for i in range(1,rows+1):\n",
    "    for j in range(1, i+1):\n",
    "        print(j,end=' ')\n",
    "    print()                 \n",
    "    #no i here, else it return 1234566\n"
   ]
  },
  {
   "cell_type": "code",
   "execution_count": 19,
   "metadata": {},
   "outputs": [
    {
     "name": "stdout",
     "output_type": "stream",
     "text": [
      "Enter the number of rows:8\n",
      "       * \n",
      "      * * \n",
      "     * * * \n",
      "    * * * * \n",
      "   * * * * * \n",
      "  * * * * * * \n",
      " * * * * * * * \n",
      "* * * * * * * * \n"
     ]
    }
   ],
   "source": [
    "# Numbers Pyramid but made of asteriks \n",
    "\n",
    "num = int(input('Enter the number of rows:'))\n",
    "row = 0\n",
    "while row < num:\n",
    "    space = num - row - 1 # for 0th row , we have 3 space then *\n",
    "    while space > 0:\n",
    "        print(end=' ')\n",
    "        space -= 1   #now we move outta this loop and go for printing *\n",
    "    star = row + 1\n",
    "    while star > 0:\n",
    "        print('*', end=' ')\n",
    "        star = star - 1\n",
    "    row += 1\n",
    "    print()\n",
    "        \n"
   ]
  },
  {
   "cell_type": "code",
   "execution_count": 26,
   "metadata": {},
   "outputs": [
    {
     "name": "stdout",
     "output_type": "stream",
     "text": [
      "no of rows:12\n",
      "*           \n",
      "**          \n",
      "* *         \n",
      "*  *        \n",
      "*   *       \n",
      "*    *      \n",
      "*     *     \n",
      "*      *    \n",
      "*       *   \n",
      "*        *  \n",
      "*         * \n",
      "************\n"
     ]
    }
   ],
   "source": [
    "# Stars making up a right triangle \n",
    "\n",
    "rows = int(input('no of rows:'))\n",
    "for row in range(rows):\n",
    "    for col in range(rows):\n",
    "        if col == 0 or row == (rows - 1) or row == col:\n",
    "            print ('*', end = '')   #control remains at the same place after end command\n",
    "        else:\n",
    "            print(end = ' ')\n",
    "    print()\n"
   ]
  },
  {
   "cell_type": "code",
   "execution_count": 27,
   "metadata": {},
   "outputs": [
    {
     "name": "stdout",
     "output_type": "stream",
     "text": [
      "Enter the text:tandem\n",
      "t\n",
      "t a\n",
      "t a n\n",
      "t a n d\n",
      "t a n d e\n",
      "t a n d e m\n"
     ]
    }
   ],
   "source": [
    "# String pattern making a slide \n",
    "\n",
    "text = input('Enter the text:')\n",
    "for index in range(len(text)):\n",
    "    print(*text[:index+1])\n"
   ]
  },
  {
   "cell_type": "code",
   "execution_count": null,
   "metadata": {},
   "outputs": [],
   "source": [
    "# Trianlge \n"
   ]
  }
 ],
 "metadata": {
  "kernelspec": {
   "display_name": "Python 3",
   "language": "python",
   "name": "python3"
  },
  "language_info": {
   "codemirror_mode": {
    "name": "ipython",
    "version": 3
   },
   "file_extension": ".py",
   "mimetype": "text/x-python",
   "name": "python",
   "nbconvert_exporter": "python",
   "pygments_lexer": "ipython3",
   "version": "3.8.5"
  }
 },
 "nbformat": 4,
 "nbformat_minor": 4
}
