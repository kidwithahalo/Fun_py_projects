{
 "cells": [
  {
   "cell_type": "markdown",
   "id": "07b9ad3a",
   "metadata": {},
   "source": [
    "### Recursion  : when a functions get called by self\n",
    "\n",
    "Every recursive function has two cases: the base case and the recursive case."
   ]
  },
  {
   "cell_type": "code",
   "execution_count": 11,
   "id": "b4ffe7f4",
   "metadata": {
    "scrolled": false
   },
   "outputs": [
    {
     "name": "stdout",
     "output_type": "stream",
     "text": [
      "5\n",
      "4\n",
      "3\n",
      "2\n",
      "1\n",
      "0\n"
     ]
    }
   ],
   "source": [
    "# Note, there was no loop used here\n",
    "\n",
    "def countdown(i):\n",
    "    print (i)\n",
    "    if i <= 0:\n",
    "        return\n",
    "    else:\n",
    "        countdown(i-1)\n",
    "        \n",
    "countdown(5)"
   ]
  },
  {
   "cell_type": "markdown",
   "id": "d34ef4b9",
   "metadata": {},
   "source": [
    "## Stack"
   ]
  },
  {
   "cell_type": "markdown",
   "id": "e6b46369",
   "metadata": {},
   "source": [
    "$Stack$ is a type of data structure. It involves saving variables for multiple functions. This is called $call$ $stack$<br>\n",
    "Factorial are a good example of stack call."
   ]
  },
  {
   "cell_type": "code",
   "execution_count": 14,
   "id": "0ad08c26",
   "metadata": {},
   "outputs": [
    {
     "name": "stdout",
     "output_type": "stream",
     "text": [
      "hello, muskan!\n",
      "how are you, muskan?\n",
      "getting ready to say bye...\n",
      "ok bye!\n"
     ]
    }
   ],
   "source": [
    "def greet(name):\n",
    "    print (\"hello, \" + name + \"!\")\n",
    "    greet2(name)\n",
    "    print (\"getting ready to say bye...\")\n",
    "    bye()\n",
    "    \n",
    "    \n",
    "\n",
    "def greet2(name):\n",
    "    print (\"how are you, \" + name + \"?\")\n",
    "\n",
    "def bye():\n",
    "    print (\"ok bye!\")\n",
    "\n",
    "    \n",
    "greet('muskan')"
   ]
  },
  {
   "cell_type": "markdown",
   "id": "92f3a9e9",
   "metadata": {},
   "source": [
    "### Call Stack with recursion"
   ]
  },
  {
   "cell_type": "code",
   "execution_count": 19,
   "id": "cb80c81a",
   "metadata": {},
   "outputs": [
    {
     "name": "stdout",
     "output_type": "stream",
     "text": [
      "CPU times: user 3 µs, sys: 1e+03 ns, total: 4 µs\n",
      "Wall time: 8.11 µs\n"
     ]
    },
    {
     "data": {
      "text/plain": [
       "3628800"
      ]
     },
     "execution_count": 19,
     "metadata": {},
     "output_type": "execute_result"
    }
   ],
   "source": [
    "def fact(x):\n",
    "    if x == 1:                    #base case\n",
    "        return 1\n",
    "    else:\n",
    "        return x * fact(x-1)     #recursion call\n",
    "    \n",
    "%time\n",
    "fact(10)"
   ]
  },
  {
   "cell_type": "markdown",
   "id": "063e3d39",
   "metadata": {},
   "source": [
    "<font color = 'purple'> Using the stack is convenient, but there’s a cost: saving all that info can take up a lot of memory. Each of those function calls takes up some memory, and when your stack is too tall, that means your computer is saving information for many function calls."
   ]
  },
  {
   "cell_type": "code",
   "execution_count": null,
   "id": "e58dae67",
   "metadata": {},
   "outputs": [],
   "source": []
  }
 ],
 "metadata": {
  "kernelspec": {
   "display_name": "Python 3 (ipykernel)",
   "language": "python",
   "name": "python3"
  },
  "language_info": {
   "codemirror_mode": {
    "name": "ipython",
    "version": 3
   },
   "file_extension": ".py",
   "mimetype": "text/x-python",
   "name": "python",
   "nbconvert_exporter": "python",
   "pygments_lexer": "ipython3",
   "version": "3.8.11"
  }
 },
 "nbformat": 4,
 "nbformat_minor": 5
}
