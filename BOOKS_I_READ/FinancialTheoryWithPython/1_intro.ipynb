{
 "cells": [
  {
   "cell_type": "markdown",
   "id": "4bf53a56-1e0d-4833-be3b-6f016b7bcf3b",
   "metadata": {},
   "source": [
    "# Starting up with Finance modeling"
   ]
  },
  {
   "cell_type": "code",
   "execution_count": 1,
   "id": "b92c32f1-20df-4598-961e-0199362aa9e1",
   "metadata": {},
   "outputs": [],
   "source": [
    "vu = 1.5\n",
    "vd = 3.75"
   ]
  },
  {
   "cell_type": "markdown",
   "id": "d9ac8b36-dabe-42c7-a77a-6db5ab68ade7",
   "metadata": {},
   "source": [
    "vu , vd represents the up and down prices as random variables"
   ]
  },
  {
   "cell_type": "code",
   "execution_count": 2,
   "id": "78032e44-5cd7-4241-b683-4d27b6c28745",
   "metadata": {},
   "outputs": [
    {
     "data": {
      "text/plain": "float"
     },
     "execution_count": 2,
     "metadata": {},
     "output_type": "execute_result"
    }
   ],
   "source": [
    "type(vu)"
   ]
  },
  {
   "cell_type": "code",
   "execution_count": 3,
   "id": "895c938e-1584-4bd0-9dd7-1d34ea91a41d",
   "metadata": {},
   "outputs": [
    {
     "data": {
      "text/plain": "5.25"
     },
     "execution_count": 3,
     "metadata": {},
     "output_type": "execute_result"
    }
   ],
   "source": [
    "vu + vd"
   ]
  },
  {
   "cell_type": "markdown",
   "id": "f10fa94d-9193-487e-a646-49ac775a3c8f",
   "metadata": {},
   "source": [
    "Now it is always super useful if we can leverage the help of arrays for our calculation"
   ]
  },
  {
   "cell_type": "code",
   "execution_count": 4,
   "id": "973e0009-ecad-4bcf-a0d6-8616bcbded94",
   "metadata": {},
   "outputs": [
    {
     "data": {
      "text/plain": "array([1.5 , 3.75])"
     },
     "execution_count": 4,
     "metadata": {},
     "output_type": "execute_result"
    }
   ],
   "source": [
    "import numpy as np \n",
    "\n",
    "v = np.array([1.5, 3.75])\n",
    "v"
   ]
  },
  {
   "cell_type": "code",
   "execution_count": 5,
   "id": "87e8db94-989a-4a45-872b-e20d4cffa3ba",
   "metadata": {},
   "outputs": [
    {
     "data": {
      "text/plain": "(2,)"
     },
     "execution_count": 5,
     "metadata": {},
     "output_type": "execute_result"
    }
   ],
   "source": [
    "v.shape"
   ]
  },
  {
   "cell_type": "code",
   "execution_count": 6,
   "id": "e9b10740-f361-4afe-b59d-88fdf3444a5a",
   "metadata": {},
   "outputs": [
    {
     "data": {
      "text/plain": "array([3. , 7.5])"
     },
     "execution_count": 6,
     "metadata": {},
     "output_type": "execute_result"
    }
   ],
   "source": [
    "v + v \n",
    "\n",
    "# look easier it gets with the arrays "
   ]
  },
  {
   "cell_type": "code",
   "execution_count": 8,
   "id": "2e235546-00a6-4b07-aad8-39c81e04119a",
   "metadata": {},
   "outputs": [],
   "source": [
    "S = np.array((20,5))  # defining the uncertain prices of the stock\n",
    "K = 15  # strike price \n",
    "C = np.maximum(S - K , 0) # payoff , calculated as element wise maximum calculations"
   ]
  },
  {
   "cell_type": "code",
   "execution_count": 9,
   "id": "aa993539-6261-43ea-b8b4-e39266355c68",
   "metadata": {},
   "outputs": [
    {
     "data": {
      "text/plain": "array([5, 0])"
     },
     "execution_count": 9,
     "metadata": {},
     "output_type": "execute_result"
    }
   ],
   "source": [
    "C"
   ]
  },
  {
   "cell_type": "code",
   "execution_count": null,
   "id": "8d5cab92-ebda-42c9-bd15-0d2d97109d6e",
   "metadata": {},
   "outputs": [],
   "source": [
    "\n"
   ]
  },
  {
   "cell_type": "code",
   "execution_count": null,
   "id": "d26ab604-32dc-468b-942d-889447eebb68",
   "metadata": {},
   "outputs": [],
   "source": []
  }
 ],
 "metadata": {
  "kernelspec": {
   "display_name": "Python 3 (ipykernel)",
   "language": "python",
   "name": "python3"
  },
  "language_info": {
   "codemirror_mode": {
    "name": "ipython",
    "version": 3
   },
   "file_extension": ".py",
   "mimetype": "text/x-python",
   "name": "python",
   "nbconvert_exporter": "python",
   "pygments_lexer": "ipython3",
   "version": "3.8.12"
  }
 },
 "nbformat": 4,
 "nbformat_minor": 5
}
