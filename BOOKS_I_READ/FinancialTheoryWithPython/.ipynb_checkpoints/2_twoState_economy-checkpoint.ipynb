{
 "cells": [
  {
   "cell_type": "markdown",
   "id": "737b607b-89b8-46d2-9746-b41d23e7d105",
   "metadata": {},
   "source": [
    "$$\\text{Fundamental theorem of asset pricing } $$"
   ]
  },
  {
   "cell_type": "markdown",
   "id": "8166efe6-f3cd-465c-a2dd-5a5aa1c8bf7e",
   "metadata": {},
   "source": [
    "## CashFlow \n",
    "\n",
    "Combining time with the currency leads to the notion of **cash flow**"
   ]
  },
  {
   "cell_type": "markdown",
   "id": "2bac3609-d348-46fe-b393-10a8b4fb4577",
   "metadata": {},
   "source": [
    "Say, we invest 9.5 at t = 0, and get 11.75 later at t = 1. Then the modelling that follows is as below"
   ]
  },
  {
   "cell_type": "code",
   "execution_count": 1,
   "id": "f117e05c-5ce9-4527-983f-b2d9ce24ed41",
   "metadata": {},
   "outputs": [
    {
     "data": {
      "text/plain": [
       "((-9.5, 11.75), tuple)"
      ]
     },
     "execution_count": 1,
     "metadata": {},
     "output_type": "execute_result"
    }
   ],
   "source": [
    "c0 = -9.5\n",
    "c1 = 11.75\n",
    "\n",
    "c = (c0, c1)  \n",
    "# making a tuple but can be done with list as well, mutability is not a problem there\n",
    "c, type(c)"
   ]
  },
  {
   "cell_type": "code",
   "execution_count": 2,
   "id": "bd3a3152-561c-436d-9183-78c76d2e616e",
   "metadata": {},
   "outputs": [
    {
     "data": {
      "text/plain": [
       "-9.5"
      ]
     },
     "execution_count": 2,
     "metadata": {},
     "output_type": "execute_result"
    }
   ],
   "source": [
    "c[0]"
   ]
  },
  {
   "cell_type": "markdown",
   "id": "5ebabc62-48d9-4b0a-9448-e8945395259c",
   "metadata": {},
   "source": [
    "## Returns \n",
    "\n",
    "Return is the sum of all the cash flows. The rate of dividing the return by the absolute value of investment \n",
    "\n",
    "$$  r = \\frac{R}{|c_0|}$$\n",
    "where $c_0$ is the amount that way cashed out , hence negative sign"
   ]
  },
  {
   "cell_type": "code",
   "execution_count": 3,
   "id": "a7286da9-dc9e-4ca4-9fcf-c69f50b3b301",
   "metadata": {},
   "outputs": [
    {
     "data": {
      "text/plain": [
       "(-10, 12)"
      ]
     },
     "execution_count": 3,
     "metadata": {},
     "output_type": "execute_result"
    }
   ],
   "source": [
    "c = (-10, 12)\n",
    "c"
   ]
  },
  {
   "cell_type": "code",
   "execution_count": 4,
   "id": "44f61c2e-8592-408e-9e6a-78b3b301f658",
   "metadata": {},
   "outputs": [
    {
     "data": {
      "text/plain": [
       "2"
      ]
     },
     "execution_count": 4,
     "metadata": {},
     "output_type": "execute_result"
    }
   ],
   "source": [
    "R = sum(c)\n",
    "R"
   ]
  },
  {
   "cell_type": "code",
   "execution_count": 5,
   "id": "4c167a35-293f-46de-9987-965a83a2ebdf",
   "metadata": {},
   "outputs": [
    {
     "data": {
      "text/plain": [
       "0.2"
      ]
     },
     "execution_count": 5,
     "metadata": {},
     "output_type": "execute_result"
    }
   ],
   "source": [
    "r = R / (abs(c[0]))\n",
    "r  \n",
    "# return rate "
   ]
  },
  {
   "cell_type": "markdown",
   "id": "6b1424e2-64f9-4818-bb66-fc9f9d78ae3d",
   "metadata": {},
   "source": [
    "## Interest \n",
    "\n",
    "The difference between the cash flow today and cash flow one year later are not same. This quanlitatively explains interest \n",
    "$$ i = \\frac{I}{|c_0|} $$\n",
    "where $I$ is the amount that is paid on the deposit "
   ]
  },
  {
   "cell_type": "markdown",
   "id": "13c1455e-f865-4b1d-a19a-7b87cf604b45",
   "metadata": {},
   "source": [
    "## Present Value \n",
    "$$ c_0 = D(c_1) $$\n",
    "\n",
    "$$ c_0 = \\frac{c_1}{1 + i} $$\n",
    "and $i$ is the interest rate that remains same for everyone in the economy , $c_0$ is the amount that was relayed at time earlier and $c_1$ is the amount that is to be relayed now. Clearly both the amount, though mathematically same, are finanially not same. There must be a interest addition on the amount if we want to say the former is same as latter "
   ]
  },
  {
   "cell_type": "code",
   "execution_count": 6,
   "id": "81c0c602-0e0a-4879-9006-f7fa4b638db9",
   "metadata": {},
   "outputs": [],
   "source": [
    "i =0.1"
   ]
  },
  {
   "cell_type": "code",
   "execution_count": 7,
   "id": "81a1b186-8f9c-410a-a9c8-9d21d69ccc7a",
   "metadata": {},
   "outputs": [],
   "source": [
    "def D(c1):\n",
    "    '''returns present value of c1'''\n",
    "    return c1/(1 + i)"
   ]
  },
  {
   "cell_type": "code",
   "execution_count": 8,
   "id": "d69f0eea-b16b-4605-9f37-396d25360131",
   "metadata": {},
   "outputs": [
    {
     "data": {
      "text/plain": [
       "10.999999999999998"
      ]
     },
     "execution_count": 8,
     "metadata": {},
     "output_type": "execute_result"
    }
   ],
   "source": [
    "D(c1 = 12.1)\n",
    "\n",
    "# It means that 12.1 in one year cannot be compared directly in terms of values wih a \n",
    "# cash flow of 1.21 today since interest can be earned there"
   ]
  },
  {
   "cell_type": "code",
   "execution_count": 9,
   "id": "e4935d9a-ddf9-4360-81c1-0be1d30db318",
   "metadata": {},
   "outputs": [
    {
     "data": {
      "text/plain": [
       "10.0"
      ]
     },
     "execution_count": 9,
     "metadata": {},
     "output_type": "execute_result"
    }
   ],
   "source": [
    "D(c1 = 11)\n",
    "# So present value of cash outflow of 11 in one year is 10 in present time, with interest rate of 0.1 ofc "
   ]
  },
  {
   "cell_type": "markdown",
   "id": "fbce404e-9a67-4749-a0da-13d029140bba",
   "metadata": {},
   "source": [
    "## Net present Value \n",
    "\n",
    "To decide whether to invest in the project is worth it or not \n",
    "\n",
    "$$ NPV(c) = c_0 + D(c_1) $$\n",
    "\n",
    "We map a cash flow tuple to a real number ,$ R^2 \\rightarrow R$ .\n",
    "When the net value is positive, you go for investment else , you stay back and deposit the sum in bank "
   ]
  },
  {
   "cell_type": "code",
   "execution_count": 10,
   "id": "f2bdece5-8277-4a52-94e2-b689a435d259",
   "metadata": {},
   "outputs": [],
   "source": [
    "def NPV(c):\n",
    "    return c[0] +  (D(c[1]))"
   ]
  },
  {
   "cell_type": "code",
   "execution_count": 11,
   "id": "7ad56d5b-2230-4c31-893f-24958409eae5",
   "metadata": {},
   "outputs": [],
   "source": [
    "cA = (-10.5, 12.1)\n",
    "cB = (-10.5, 11)"
   ]
  },
  {
   "cell_type": "code",
   "execution_count": 12,
   "id": "5e7fc38d-5e72-4b30-86d3-9a9918077977",
   "metadata": {},
   "outputs": [
    {
     "data": {
      "text/plain": [
       "0.4999999999999982"
      ]
     },
     "execution_count": 12,
     "metadata": {},
     "output_type": "execute_result"
    }
   ],
   "source": [
    "NPV(cA)\n",
    "# net present value "
   ]
  },
  {
   "cell_type": "code",
   "execution_count": 13,
   "id": "7e8bc1ea-c9c0-4bf9-a2aa-961545ff9b2e",
   "metadata": {},
   "outputs": [
    {
     "data": {
      "text/plain": [
       "-0.5"
      ]
     },
     "execution_count": 13,
     "metadata": {},
     "output_type": "execute_result"
    }
   ],
   "source": [
    "NPV(cB)"
   ]
  },
  {
   "cell_type": "markdown",
   "id": "9c9f3015-c366-4617-87e2-48052d19c292",
   "metadata": {},
   "source": [
    "## Uncertainty\n",
    "\n",
    "Well ,you know already. yeet !!"
   ]
  },
  {
   "cell_type": "code",
   "execution_count": 14,
   "id": "126d97b2-eba3-4164-919b-9c5c41bfcb13",
   "metadata": {},
   "outputs": [
    {
     "data": {
      "text/plain": [
       "(-10, array([20,  5]))"
      ]
     },
     "execution_count": 14,
     "metadata": {},
     "output_type": "execute_result"
    }
   ],
   "source": [
    "import numpy as np\n",
    "\n",
    "c0 = -10  #cash outflow today\n",
    "c1 = np.array((20,5)) # uncertain cash inflow vector in one year\n",
    "\n",
    "c = (c0, c1) #combining the casg flow to tuple object \n",
    "c"
   ]
  },
  {
   "cell_type": "markdown",
   "id": "70744d54-a840-481c-8e7c-4500173399f6",
   "metadata": {},
   "source": [
    "## Financial Assets \n",
    "\n",
    "Price today is independent of the state of market $$ S_0 ^d = S_0 ^u = S_0$$ , up or down but price one year later is generally not i.e $$ (S_t)_{t \\in {0,1}} = (S_0, S_1)$$ and rememeber that both the states are equally likely "
   ]
  },
  {
   "cell_type": "code",
   "execution_count": 15,
   "id": "8b3f96f0-0951-4f7a-bbe3-5448eaee55a6",
   "metadata": {},
   "outputs": [
    {
     "data": {
      "text/plain": [
       "(10, array([12.5,  7.5]))"
      ]
     },
     "execution_count": 15,
     "metadata": {},
     "output_type": "execute_result"
    }
   ],
   "source": [
    "S0 = 10\n",
    "S1 = np.array((12.5, 7.5))\n",
    "S = (S0, S1)\n",
    "S"
   ]
  },
  {
   "cell_type": "markdown",
   "id": "3f61b063-b5b4-4ab6-95e2-e9a4166ca3a5",
   "metadata": {},
   "source": [
    "When one has a fully specified probability measure available for economy , the economy under risk and otherwise it is economy under ambiguity"
   ]
  },
  {
   "cell_type": "code",
   "execution_count": 16,
   "id": "f7c29f02-0923-496e-9fae-278cf284832e",
   "metadata": {},
   "outputs": [
    {
     "data": {
      "text/plain": [
       "0.4"
      ]
     },
     "execution_count": 16,
     "metadata": {},
     "output_type": "execute_result"
    }
   ],
   "source": [
    "p = 0.4\n",
    "p"
   ]
  },
  {
   "cell_type": "code",
   "execution_count": 17,
   "id": "adae7cb0-3f18-46b9-a0b6-1fd0f40f0c2f",
   "metadata": {},
   "outputs": [
    {
     "data": {
      "text/plain": [
       "0.6"
      ]
     },
     "execution_count": 17,
     "metadata": {},
     "output_type": "execute_result"
    }
   ],
   "source": [
    "1-p"
   ]
  },
  {
   "cell_type": "code",
   "execution_count": 18,
   "id": "4405390d-be6a-4221-87e5-9b5c291dd448",
   "metadata": {},
   "outputs": [
    {
     "ename": "NameError",
     "evalue": "name 'P' is not defined",
     "output_type": "error",
     "traceback": [
      "\u001b[0;31m---------------------------------------------------------------------------\u001b[0m",
      "\u001b[0;31mNameError\u001b[0m                                 Traceback (most recent call last)",
      "\u001b[0;32m/var/folders/nj/dxc7zlcj7yvdjlh2gx96lkmr0000gn/T/ipykernel_9957/3856437168.py\u001b[0m in \u001b[0;36m<module>\u001b[0;34m\u001b[0m\n\u001b[0;32m----> 1\u001b[0;31m \u001b[0mP\u001b[0m\u001b[0;34m\u001b[0m\u001b[0;34m\u001b[0m\u001b[0m\n\u001b[0m",
      "\u001b[0;31mNameError\u001b[0m: name 'P' is not defined"
     ]
    }
   ],
   "source": [
    "P"
   ]
  },
  {
   "cell_type": "markdown",
   "id": "17a2c54b-50ec-488c-9204-a830aa1acff0",
   "metadata": {},
   "source": [
    "## Expectation "
   ]
  },
  {
   "cell_type": "code",
   "execution_count": null,
   "id": "23be0454-f097-4842-ad7e-70c2c2be1512",
   "metadata": {},
   "outputs": [],
   "source": [
    "P = np.array((p, 1-p))\n",
    "# previously defined probability measure\n",
    "S0 = 10\n",
    "# price of asset today\n",
    "S1 = np.array((20,5))\n",
    "# vector of uncertain price in one year\n",
    "\n",
    "np.dot(P, S1)\n",
    "# expectation value of prices "
   ]
  },
  {
   "cell_type": "markdown",
   "id": "e89a46c5-5c6b-49e7-966c-fe222ad13a3d",
   "metadata": {},
   "source": [
    "## Expected rate of return \n",
    "\n",
    "$$ E^P (r) = \\frac{E^P (R)}{S_0} $$ and for brevity, we use $E^P (r) = \\mu$"
   ]
  },
  {
   "cell_type": "code",
   "execution_count": null,
   "id": "88304e62-f33a-410c-90cf-645b03f2b091",
   "metadata": {},
   "outputs": [],
   "source": [
    "def ER(x0, x1):\n",
    "    '''returns expexted return'''\n",
    "    return np.dot(P, x1) - x0"
   ]
  },
  {
   "cell_type": "code",
   "execution_count": null,
   "id": "cdc00460-7bcd-4d47-85a4-5843ab883d9f",
   "metadata": {},
   "outputs": [],
   "source": [
    "S0"
   ]
  },
  {
   "cell_type": "code",
   "execution_count": null,
   "id": "9618478b-41f9-4d60-b4d1-da4a07cb89da",
   "metadata": {},
   "outputs": [],
   "source": [
    "S1"
   ]
  },
  {
   "cell_type": "code",
   "execution_count": null,
   "id": "104a365f-4105-4e61-af83-b1fc4167584a",
   "metadata": {},
   "outputs": [],
   "source": [
    "ER(S0, S1)"
   ]
  },
  {
   "cell_type": "code",
   "execution_count": null,
   "id": "a3c45aa2-63e2-4289-8af6-6d9147962435",
   "metadata": {},
   "outputs": [],
   "source": [
    "def mu(x0, x1):\n",
    "    '''returns expected rate of return'''\n",
    "    return (np.dot(P, x1) - x0) / x0"
   ]
  },
  {
   "cell_type": "code",
   "execution_count": null,
   "id": "c1f84beb-47ca-46b2-9423-b31bb81961d1",
   "metadata": {},
   "outputs": [],
   "source": [
    "mu(S0,S1)"
   ]
  },
  {
   "cell_type": "markdown",
   "id": "958e5617-6937-4861-bb82-b36ee6d27a55",
   "metadata": {},
   "source": [
    "## Volatility \n",
    "\n",
    "Standard deviations of the rates of return , or square root of the variances "
   ]
  },
  {
   "cell_type": "code",
   "execution_count": null,
   "id": "41d30c0b-6bf1-4bca-ac8b-2d6d70fed75a",
   "metadata": {},
   "outputs": [],
   "source": [
    "def r(x0, x1):\n",
    "    '''returns rates vector'''\n",
    "    return (x1 - x0) /x0"
   ]
  },
  {
   "cell_type": "code",
   "execution_count": null,
   "id": "dbe9cb16-67df-43c2-86ac-63eeff1e4a75",
   "metadata": {},
   "outputs": [],
   "source": [
    "r(S0,S1)"
   ]
  },
  {
   "cell_type": "code",
   "execution_count": null,
   "id": "a19e527f-9fab-4538-9cf8-f9324ea26218",
   "metadata": {},
   "outputs": [],
   "source": [
    "mu = np.dot(P, r(S0, S1))\n",
    "# expected return via expectations \n",
    "mu"
   ]
  },
  {
   "cell_type": "code",
   "execution_count": null,
   "id": "c40eb194-0381-4bd1-958b-1008c98d97f3",
   "metadata": {},
   "outputs": [],
   "source": [
    "def sigma2(P,r, mu):\n",
    "    '''definition of variances'''\n",
    "    return np.dot(P, (r-mu)**2)"
   ]
  },
  {
   "cell_type": "code",
   "execution_count": null,
   "id": "7b52f8c3-87a3-41a2-aeec-d3237a17f3b4",
   "metadata": {},
   "outputs": [],
   "source": [
    "sigma2(P, r(S0, S1), mu)"
   ]
  },
  {
   "cell_type": "code",
   "execution_count": null,
   "id": "7606890a-5bcb-4a09-a5be-730f5bcb9266",
   "metadata": {},
   "outputs": [],
   "source": [
    "def sigma(P,r, mu):\n",
    "    '''definition of volatility'''\n",
    "    return np.sqrt(np.dot(P, (r-mu)**2))"
   ]
  },
  {
   "cell_type": "code",
   "execution_count": null,
   "id": "fa4fb250-a2b4-4434-8278-0394f0632749",
   "metadata": {},
   "outputs": [],
   "source": [
    "sigma(P, r(S0, S1), mu)"
   ]
  },
  {
   "cell_type": "markdown",
   "id": "c6e4999d-e883-4970-8e20-ad6709c14849",
   "metadata": {},
   "source": [
    "## Contingent claims "
   ]
  },
  {
   "cell_type": "code",
   "execution_count": null,
   "id": "cb150af2-eb32-48f4-91d6-a5ecaab29af0",
   "metadata": {},
   "outputs": [],
   "source": [
    "S1 = np.arange(20)\n",
    "S1"
   ]
  },
  {
   "cell_type": "code",
   "execution_count": null,
   "id": "cf8d9520-c163-43db-9f56-4a089f8aa444",
   "metadata": {},
   "outputs": [],
   "source": [
    "K  = 10 \n",
    "# fixing the strike price for the option\n",
    "\n",
    "C1 = np.maximum(S1 - K, 0)\n",
    "C1\n",
    "# calculating vecotr of our payoffs for the given call price "
   ]
  },
  {
   "cell_type": "code",
   "execution_count": null,
   "id": "7b86aeb8-70c8-4c3e-aaa3-4970f66b376f",
   "metadata": {},
   "outputs": [],
   "source": [
    "from pylab import mpl, plt"
   ]
  },
  {
   "cell_type": "code",
   "execution_count": null,
   "id": "e4615606-4fd3-4957-8f75-243139d077cf",
   "metadata": {},
   "outputs": [],
   "source": [
    "# plotting configuration\n",
    "\n",
    "plt.style.use('seaborn')\n",
    "mpl.rcParams['figure.dpi'] = 100\n",
    "mpl.rcParams['font.family'] = 'serif'\n",
    "\n",
    "plt.figure(figsize=(10,6))\n",
    "plt.plot(S1, C1, lw = 3, label= '$C_1 = \\max(S_1 - K,0)$')\n",
    "plt.legend(loc = 0)\n",
    "plt.xlabel('$S_1$')\n",
    "plt.ylabel('$C_1$')\n",
    "plt.show()\n"
   ]
  },
  {
   "cell_type": "markdown",
   "id": "8c2538a2-361e-4b2e-8d77-88e446f65546",
   "metadata": {},
   "source": [
    "## Replication \n",
    "Checking the redundancy of the contingent claims. Mathematically, whether the contingent claims are linearly dependento or independent "
   ]
  },
  {
   "cell_type": "code",
   "execution_count": null,
   "id": "b98d06a9-e4f8-4850-a23c-3e4dbc3e6db4",
   "metadata": {},
   "outputs": [],
   "source": [
    "B = (10, np.array((11,11)))\n",
    "# defining price process for risk less bond\n",
    "\n",
    "S = (10, np.array((20,5)))\n",
    "# defining price process for risky bond \n",
    "\n",
    "M = np.array((B[1], S[1])).T\n",
    "M\n",
    "# defining a 2D matrix with future payoff vectors"
   ]
  },
  {
   "cell_type": "code",
   "execution_count": null,
   "id": "6b4e9794-1c66-4526-b2a6-b48a4b232aaf",
   "metadata": {},
   "outputs": [],
   "source": [
    "K = 15 \n",
    "# strike price\n",
    "\n",
    "C1 = np.maximum(S[1] - K, 0)\n",
    "C1"
   ]
  },
  {
   "cell_type": "markdown",
   "id": "e5054233-90f0-4659-b032-2598c586a0bf",
   "metadata": {},
   "source": [
    "$ \\text{now solving the equation } \\mu \\cdot \\phi = C_1  \\text{ where } \\phi \\text{ is the portfolio of the trading strategy and contains bond and stocks }$\n",
    "\n",
    "$$  \\mu = \\Biggl(\\begin{pmatrix}\n",
    "B_1 & S_1 ^u \\\\\n",
    "B_1 & S_1 ^ d\n",
    "\\end{pmatrix}\n",
    "\\Biggl)$$\n",
    "$\\text{The first row contains the payoff of both financial asset in the state UP, while the second row contains the payoff from the DOWN state }$"
   ]
  },
  {
   "cell_type": "code",
   "execution_count": null,
   "id": "01a9c6bb-c193-4275-9404-b29e39fe1e72",
   "metadata": {},
   "outputs": [],
   "source": [
    "phi = np.linalg.solve(M,C1)\n",
    "phi\n",
    "\n",
    "# replication solution in matrix form of optimal portfolio"
   ]
  },
  {
   "cell_type": "markdown",
   "id": "cdf9dabd-9a5b-4093-9c1d-1adf955f3a19",
   "metadata": {},
   "source": [
    "$\\text{The interpretation is that if we reduce the first stock to 0.15 and increase the second one to 0.33 , we will have the optimal portfolio}$ "
   ]
  },
  {
   "cell_type": "markdown",
   "id": "dc12305f-e309-4539-8ec3-b08f0babb571",
   "metadata": {},
   "source": [
    "## <font color =  'cyan'> Arbitrage Pricing \n",
    "\n",
    "    Arbitrage is an investment strategy in which an investor simultaneously buys and sells an asset in different markets to take advantage of a price difference and generate a profit. It is a risk less profit strategy\n",
    "\n",
    "$$ V_0 (\\phi) = 0 \\text{ and } E^P ( V_1(\\phi)) > 0 $$ \n",
    "        meaning you invest amount 0, and get non-zero positive return\n",
    "\n",
    "       Formally, the arbitrage price is the dot product of the replication portfolio and and the price vector of the replicating financical assets "
   ]
  },
  {
   "cell_type": "code",
   "execution_count": null,
   "id": "bd705184-7b9d-44e5-a51d-1d21cb60632b",
   "metadata": {},
   "outputs": [],
   "source": [
    "C0 = np.dot(phi, (B[0], S[0]))\n",
    "C0"
   ]
  },
  {
   "cell_type": "code",
   "execution_count": null,
   "id": "f94829f0-eddf-4eed-8b4d-6d55d27c1077",
   "metadata": {},
   "outputs": [],
   "source": [
    "# and let's check\n",
    "\n",
    "B[0], S[0]"
   ]
  },
  {
   "cell_type": "code",
   "execution_count": null,
   "id": "d36a80a7-100b-4528-9388-3e954d4b5d24",
   "metadata": {},
   "outputs": [],
   "source": [
    "10/3 - 50/33"
   ]
  },
  {
   "cell_type": "markdown",
   "id": "d3393616-2d98-4f32-947d-12abc9568c6e",
   "metadata": {},
   "source": [
    "below cells are just confusions  I had - dated 25/9/22"
   ]
  },
  {
   "cell_type": "code",
   "execution_count": null,
   "id": "458c3438-736a-42ce-a21c-0b6aa60adaa6",
   "metadata": {},
   "outputs": [],
   "source": [
    "-0.15151515+ 0.33333333 + 1\n",
    "\n",
    "# is this coincidental ?? "
   ]
  },
  {
   "cell_type": "code",
   "execution_count": null,
   "id": "5baabbc7-456b-48b4-90a5-c04b30855846",
   "metadata": {},
   "outputs": [],
   "source": [
    "phi"
   ]
  },
  {
   "cell_type": "code",
   "execution_count": null,
   "id": "708672ba-4d6c-4773-9244-ed54e9a9808c",
   "metadata": {},
   "outputs": [],
   "source": [
    "abs(phi[0] + phi[1]) + 1 "
   ]
  },
  {
   "cell_type": "code",
   "execution_count": null,
   "id": "a0121980-fdfc-45b2-a77f-607f172b35dd",
   "metadata": {},
   "outputs": [],
   "source": [
    "50/33"
   ]
  },
  {
   "cell_type": "code",
   "execution_count": null,
   "id": "f533d3db-f763-4426-9e77-eab66e86223b",
   "metadata": {},
   "outputs": [],
   "source": [
    "10/3"
   ]
  },
  {
   "cell_type": "markdown",
   "id": "9dd0fab4-bb8a-4fc8-8669-e05054ea919f",
   "metadata": {},
   "source": [
    "## Market Completeness \n",
    "\n",
    "I don't understand as of now but I am trying \n",
    "\n",
    "We are going to simluate 1000 random portfolio composition "
   ]
  },
  {
   "cell_type": "code",
   "execution_count": null,
   "id": "388e96d9-6acc-47ea-aa00-8d2fa56895fb",
   "metadata": {},
   "outputs": [],
   "source": [
    "from numpy.random import default_rng"
   ]
  },
  {
   "cell_type": "code",
   "execution_count": null,
   "id": "c1035a25-f64e-41f8-b893-e744d30f2a9c",
   "metadata": {
    "scrolled": true,
    "tags": []
   },
   "outputs": [],
   "source": [
    "?default_rng"
   ]
  },
  {
   "cell_type": "code",
   "execution_count": null,
   "id": "71352e16-d4aa-4638-9b40-bb90b437330f",
   "metadata": {},
   "outputs": [],
   "source": [
    "rng = default_rng(seed = 100)\n",
    "# fixes the seed for random generator "
   ]
  },
  {
   "cell_type": "code",
   "execution_count": null,
   "id": "8fbfc2ea-f6e6-4a59-abbd-6862fd653b06",
   "metadata": {
    "scrolled": true,
    "tags": []
   },
   "outputs": [],
   "source": [
    "n = 1000\n",
    "b = rng.random(n)\n",
    "# b simulates bond position between 0 and 1 \n",
    "b [:10]"
   ]
  },
  {
   "cell_type": "code",
   "execution_count": null,
   "id": "08a5746d-7374-4b18-bbae-157ca4cd5163",
   "metadata": {},
   "outputs": [],
   "source": [
    "s = 1 - b\n",
    "s[:10]\n",
    "# dervies the stock position as difference between 1 and the bond position"
   ]
  },
  {
   "cell_type": "code",
   "execution_count": null,
   "id": "504ccaa4-adcf-4f96-bf40-8a602b3b696b",
   "metadata": {},
   "outputs": [],
   "source": [
    "B[1]\n",
    "# risk less bond "
   ]
  },
  {
   "cell_type": "code",
   "execution_count": null,
   "id": "3c708eca-15e8-4233-a8bb-e871f0e8a20e",
   "metadata": {},
   "outputs": [],
   "source": [
    "S[1]\n",
    "# risky bond "
   ]
  },
  {
   "cell_type": "code",
   "execution_count": null,
   "id": "b60d5603-a107-451e-a437-ef62d188a8a3",
   "metadata": {},
   "outputs": [],
   "source": [
    "def portfolio(b,s):\n",
    "    A = [b[i]*B[1] + s[i]*S[1] for i in range(n)]\n",
    "    return np.array(A)"
   ]
  },
  {
   "cell_type": "markdown",
   "id": "edd68204-465d-4451-8bad-6cbc85adb382",
   "metadata": {},
   "source": [
    "Calculation done above is \n",
    "$$ \\begin{pmatrix}\n",
    "B_1 & S_1 ^u \\\\\n",
    "B_1 & S_1 ^ d\n",
    "\\end{pmatrix} \\cdot \\begin{pmatrix}\n",
    "b \\\\\n",
    "s\n",
    "\\end{pmatrix}  = \\begin{pmatrix}\n",
    "0\\\\\n",
    "0\n",
    "\\end{pmatrix}$$\n",
    " and we have to ensure there is only unique solution here as (0,0) and no other solution, by the claim that if such case follows , we have market completeness"
   ]
  },
  {
   "cell_type": "code",
   "execution_count": null,
   "id": "fe656d0f-bd88-41d9-87c5-937482c28a41",
   "metadata": {},
   "outputs": [],
   "source": [
    "A = portfolio(b,s)\n",
    "A[:3]"
   ]
  },
  {
   "cell_type": "code",
   "execution_count": null,
   "id": "5f2be089-2726-4af8-bfb3-3fef251d3831",
   "metadata": {},
   "outputs": [],
   "source": [
    "plt.figure(figsize=(10,6))\n",
    "plt.plot(A[:,0], A[:,1], 'r.');"
   ]
  },
  {
   "cell_type": "markdown",
   "id": "bb5ba6db-2a85-4733-8e72-7cfd0f3b05ba",
   "metadata": {},
   "source": [
    "### Now ,when  portfolio positions do not need to add upto 1 "
   ]
  },
  {
   "cell_type": "code",
   "execution_count": null,
   "id": "40a075b2-d775-4b98-87d0-2b4502e22ffd",
   "metadata": {},
   "outputs": [],
   "source": [
    "s = rng.random(n)"
   ]
  },
  {
   "cell_type": "code",
   "execution_count": null,
   "id": "ad0ce3f2-7eb8-42a0-b7eb-ae9ebf041e51",
   "metadata": {},
   "outputs": [],
   "source": [
    "b[:5] + s[:5]"
   ]
  },
  {
   "cell_type": "code",
   "execution_count": null,
   "id": "9cd0fa4c-fe1f-4f21-921d-a993fdb7a7de",
   "metadata": {},
   "outputs": [],
   "source": [
    "A = portfolio(b,s)"
   ]
  },
  {
   "cell_type": "code",
   "execution_count": null,
   "id": "405a524b-6637-49be-bdc9-edbded8793a5",
   "metadata": {},
   "outputs": [],
   "source": [
    "plt.plot(A[:,0], A[:,1], 'g.');"
   ]
  },
  {
   "cell_type": "markdown",
   "id": "23e7173d-7c53-4946-90dc-4bdde55f97e9",
   "metadata": {},
   "source": [
    "### Now, when netaive portfolio position is allowed as well "
   ]
  },
  {
   "cell_type": "markdown",
   "id": "55cc3244-5c8c-4015-b75b-9a9786b5c05d",
   "metadata": {},
   "source": [
    "        Negative and positive portfolio position assimilated by means of standard normal distribution."
   ]
  },
  {
   "cell_type": "code",
   "execution_count": null,
   "id": "ec8866bf-ca8f-4075-8db7-e50320f7446a",
   "metadata": {},
   "outputs": [],
   "source": [
    "b = rng.standard_normal(n)\n",
    "b[:4]"
   ]
  },
  {
   "cell_type": "code",
   "execution_count": null,
   "id": "20e8ef21-a70c-44d4-befb-c80c33c4d0c8",
   "metadata": {},
   "outputs": [],
   "source": [
    "s = rng.standard_normal(n)"
   ]
  },
  {
   "cell_type": "code",
   "execution_count": null,
   "id": "3f5c3c4f-b6dd-4047-812f-2b2f1a2ccfaf",
   "metadata": {},
   "outputs": [],
   "source": [
    "b[:5] + s[:5]"
   ]
  },
  {
   "cell_type": "code",
   "execution_count": null,
   "id": "15fb5621-65cd-4d44-b9e7-5559be4c2a56",
   "metadata": {},
   "outputs": [],
   "source": [
    "A = portfolio(b,s)"
   ]
  },
  {
   "cell_type": "code",
   "execution_count": null,
   "id": "bb3f9dad-1f63-4cc4-8732-47245ae3deaf",
   "metadata": {},
   "outputs": [],
   "source": [
    "plt.plot(A[:,0], A[:,1], 'b.');"
   ]
  },
  {
   "cell_type": "markdown",
   "id": "e9c02a28-bfd3-4800-bcb2-e55fa11cb3f8",
   "metadata": {},
   "source": [
    "## Arrow -Debreu Securities \n",
    "\n",
    "An Arrow-Debreu security is defined by the fact that it pays exactly one unit of currency in a specified future state. In a model economy with two different future states only, there can only be two different such securities. An Arrow-Debreu security is simply a special case of a contingent claim such that the replication argument from before applies. *In other words, since the market is complete, Arrow-Debreu securities can be replicated by portfolios in the bond and stock. Therefore, both replication problems have (unique) solutions, and both securities have unique arbitrage prices.*\n",
    "\n",
    "$$ \\mu \\cdot \\phi = \\begin{pmatrix}\n",
    "1\\\\\n",
    "0\n",
    "\\end{pmatrix} \\text{ and } \n",
    "\\mu \\cdot \\phi = \\begin{pmatrix}\n",
    "0\\\\\n",
    "1\n",
    "\\end{pmatrix}$$ \n"
   ]
  },
  {
   "cell_type": "markdown",
   "id": "fca44c18-b5b1-4aa2-8672-a6d3c29d302f",
   "metadata": {},
   "source": [
    "## Martingale Pricing \n",
    "\n",
    "Don't know as of now "
   ]
  },
  {
   "cell_type": "markdown",
   "id": "9b4fd18d-dbc3-4148-bf7a-4f49a4aad1fe",
   "metadata": {},
   "source": [
    "# First Fundamental Theorem of Asset Pricing\n",
    "\n",
    "    Following statements are equivalent \n",
    "       1. The martingale measure exists \n",
    "       2. The economy is arbitrage free"
   ]
  },
  {
   "cell_type": "markdown",
   "id": "990ee77a-e572-49d8-9caa-6466b7d4207e",
   "metadata": {},
   "source": [
    "The martingale price for the call option is \n",
    "$$ C_0 = \\frac{1}{1 + i} \\cdot E^{Q} (C_1)$$\n",
    "where q is related to Martingale pricing "
   ]
  },
  {
   "cell_type": "markdown",
   "id": "5b77c66b-f787-4372-92e6-3cc135777e1f",
   "metadata": {},
   "source": [
    "# Mean Variance Portfolio\n",
    "\n",
    "Read about on internet. This is interesting "
   ]
  },
  {
   "cell_type": "code",
   "execution_count": 21,
   "id": "c2cca8d5-9f81-4efb-b9b1-6d210625dc17",
   "metadata": {},
   "outputs": [],
   "source": [
    "import sympy\n",
    "sympy.init_printing()"
   ]
  },
  {
   "cell_type": "code",
   "execution_count": 22,
   "id": "644f39f2-751c-4ad0-9eee-38762bc39448",
   "metadata": {},
   "outputs": [],
   "source": [
    "B = (10, np.array((11,11)))\n",
    "S = (10, np.array((20, 5)))\n",
    "M = np.array((B[1], S[1])).T"
   ]
  },
  {
   "cell_type": "code",
   "execution_count": 23,
   "id": "738fe621-960b-4ff0-a213-ab9463989d6a",
   "metadata": {},
   "outputs": [
    {
     "data": {
      "text/plain": [
       "array([[11, 20],\n",
       "       [11,  5]])"
      ]
     },
     "execution_count": 23,
     "metadata": {},
     "output_type": "execute_result"
    }
   ],
   "source": [
    "M\n",
    "# matrix with the future prices of financial assets"
   ]
  },
  {
   "cell_type": "code",
   "execution_count": 24,
   "id": "641f5f80-60c7-4e61-974b-abef6e01add0",
   "metadata": {},
   "outputs": [
    {
     "data": {
      "text/plain": [
       "array([10, 10])"
      ]
     },
     "execution_count": 24,
     "metadata": {},
     "output_type": "execute_result"
    }
   ],
   "source": [
    "M0 = np.array((B[0], S[0]))\n",
    "M0\n",
    "# vectro of prices of assets today"
   ]
  },
  {
   "cell_type": "code",
   "execution_count": 26,
   "id": "d349ed4b-9beb-48b5-8801-12dacc45887b",
   "metadata": {},
   "outputs": [
    {
     "data": {
      "text/plain": [
       "array([[ 0.1,  1. ],\n",
       "       [ 0.1, -0.5]])"
      ]
     },
     "execution_count": 26,
     "metadata": {},
     "output_type": "execute_result"
    }
   ],
   "source": [
    "R = M / M0 - 1\n",
    "R\n",
    "# return matrix"
   ]
  },
  {
   "cell_type": "code",
   "execution_count": 27,
   "id": "f010d198-b0ba-45f9-ac26-04416008bf8d",
   "metadata": {},
   "outputs": [
    {
     "data": {
      "text/plain": [
       "array([0.5, 0.5])"
      ]
     },
     "execution_count": 27,
     "metadata": {},
     "output_type": "execute_result"
    }
   ],
   "source": [
    "P = np.array((0.5, 0.5))\n",
    "P\n",
    "# probability measure "
   ]
  },
  {
   "cell_type": "markdown",
   "id": "82bb243c-c934-4eeb-a86a-3ea540fc610d",
   "metadata": {},
   "source": [
    "expected portfolio return and volatility are calculated as dot product"
   ]
  },
  {
   "cell_type": "code",
   "execution_count": 29,
   "id": "567b7995-85ee-45ca-9940-4e0b7e0fbaed",
   "metadata": {},
   "outputs": [
    {
     "data": {
      "text/plain": [
       "array([0.1 , 0.25])"
      ]
     },
     "execution_count": 29,
     "metadata": {},
     "output_type": "execute_result"
    }
   ],
   "source": [
    "np.dot(P,R)\n",
    "# expected return of bond and the stock"
   ]
  },
  {
   "cell_type": "code",
   "execution_count": 32,
   "id": "9a9cf63a-b04c-4c85-8fcd-6ddc41840531",
   "metadata": {},
   "outputs": [],
   "source": [
    "s = 0.55\n",
    "# example allocation of the stock "
   ]
  },
  {
   "cell_type": "code",
   "execution_count": 34,
   "id": "2953bf10-cb7e-46b0-a570-bd5de6abb24c",
   "metadata": {},
   "outputs": [
    {
     "data": {
      "image/png": "[encoded data removed]",
      "text/latex": [
       "$\\displaystyle \\left( 0.45, \\  0.55\\right)$"
      ],
      "text/plain": [
       "(0.44999999999999996, 0.55)"
      ]
     },
     "execution_count": 34,
     "metadata": {},
     "output_type": "execute_result"
    }
   ],
   "source": [
    "phi = (1-s, s)\n",
    "phi\n",
    "# resulting potfolio with normalized weight in 1"
   ]
  },
  {
   "cell_type": "code",
   "execution_count": 35,
   "id": "df7ff444-a8f4-4c55-a56c-f3df888e63c8",
   "metadata": {},
   "outputs": [
    {
     "data": {
      "image/png": "[encoded data removed]",
      "text/latex": [
       "$\\displaystyle 0.1825$"
      ],
      "text/plain": [
       "0.18250000000000005"
      ]
     },
     "execution_count": 35,
     "metadata": {},
     "output_type": "execute_result"
    }
   ],
   "source": [
    "mu = np.dot(phi, np.dot(P,R))\n",
    "mu\n",
    "# expected return given the allocations "
   ]
  },
  {
   "cell_type": "code",
   "execution_count": 36,
   "id": "a9271aaf-0ab5-45bc-adfe-4db78c2c4f14",
   "metadata": {},
   "outputs": [
    {
     "data": {
      "image/png": "[encoded data removed]",
      "text/latex": [
       "$\\displaystyle 0.4125$"
      ],
      "text/plain": [
       "0.41250000000000003"
      ]
     },
     "execution_count": 36,
     "metadata": {},
     "output_type": "execute_result"
    }
   ],
   "source": [
    "sigma = s*R[:, 1].std()\n",
    "sigma\n",
    "# volatility of the porrtfolio "
   ]
  },
  {
   "cell_type": "markdown",
   "id": "294ee561-0f19-4c13-884b-fca7a5b50d67",
   "metadata": {},
   "source": [
    "### Plotting"
   ]
  },
  {
   "cell_type": "code",
   "execution_count": 38,
   "id": "0f50c780-50f2-49c4-a353-858cbd91b15c",
   "metadata": {},
   "outputs": [
    {
     "data": {
      "image/png": "[encoded data removed]",
      "text/latex": [
       "$\\displaystyle \\left[ 0.1, \\  0.10625, \\  0.1125, \\  0.11875, \\  0.125, \\  0.13125, \\  0.1375, \\  0.14375, \\  0.15, \\  0.15625, \\  0.1625, \\  0.16875, \\  0.175, \\  0.18125, \\  0.1875, \\  0.19375, \\  0.2, \\  0.20625, \\  0.2125, \\  0.21875, \\  0.225, \\  0.23125, \\  0.2375, \\  0.24375, \\  0.25\\right]$"
      ],
      "text/plain": [
       "[0.10000000000000009, 0.1062500000000001, 0.11250000000000007, 0.1187500000000\n",
       "0008, 0.12500000000000008, 0.1312500000000001, 0.13750000000000007, 0.14375000\n",
       "000000004, 0.15000000000000008, 0.15625000000000006, 0.16250000000000003, 0.16\n",
       "875000000000007, 0.17500000000000004, 0.18125000000000002, 0.18750000000000003\n",
       ", 0.19375000000000003, 0.2, 0.20625000000000002, 0.21250000000000002, 0.21875,\n",
       " 0.225, 0.23125, 0.2375, 0.24375, 0.25]"
      ]
     },
     "execution_count": 38,
     "metadata": {},
     "output_type": "execute_result"
    }
   ],
   "source": [
    "values = np.linspace(0,1,25)\n",
    "mu = [np.dot(((1-s),s), np.dot(P,R)) for s in values]\n",
    "mu"
   ]
  },
  {
   "cell_type": "code",
   "execution_count": 39,
   "id": "87ff1a2b-0eee-4286-baf3-450f93f5a3c9",
   "metadata": {},
   "outputs": [
    {
     "data": {
      "image/png": "[encoded data removed]",
      "text/latex": [
       "$\\displaystyle \\left[ 0.0, \\  0.03125, \\  0.0625, \\  0.09375, \\  0.125, \\  0.15625, \\  0.1875, \\  0.21875, \\  0.25, \\  0.28125, \\  0.3125, \\  0.34375, \\  0.375, \\  0.40625, \\  0.4375, \\  0.46875, \\  0.5, \\  0.53125, \\  0.5625, \\  0.59375, \\  0.625, \\  0.65625, \\  0.6875, \\  0.71875, \\  0.75\\right]$"
      ],
      "text/plain": [
       "[0.0, 0.03125, 0.0625, 0.09375, 0.125, 0.15625, 0.1875, 0.21874999999999997, 0\n",
       ".25, 0.28125, 0.3125, 0.34375, 0.375, 0.40625, 0.43749999999999994, 0.46875, 0\n",
       ".5, 0.53125, 0.5625, 0.59375, 0.625, 0.65625, 0.6875, 0.71875, 0.75]"
      ]
     },
     "execution_count": 39,
     "metadata": {},
     "output_type": "execute_result"
    }
   ],
   "source": [
    "sigma = [s*R[:,1].std() for s in values]\n",
    "sigma"
   ]
  },
  {
   "cell_type": "code",
   "execution_count": 90,
   "id": "f4481760-4c68-4bbb-a051-aae41229a44c",
   "metadata": {},
   "outputs": [
    {
     "data": {
      "image/png": "[encoded data removed]",
      "text/plain": [
       "<Figure size 1080x648 with 1 Axes>"
      ]
     },
     "metadata": {},
     "output_type": "display_data"
    }
   ],
   "source": [
    "from pylab import plt\n",
    "import matplotlib\n",
    "plt.style.use('seaborn')\n",
    "\n",
    "matplotlib.rcParams['figure.figsize']= (15,9)\n",
    "\n",
    "plt.plot(values, mu, lw = 3.0, label = '$\\mu_p$')\n",
    "plt.plot(values, sigma, '--', lw = 3.0, label = '$\\sigma_p$')\n",
    "plt.legend(loc=0)\n",
    "plt.title('Expected portfolio return and volatility for different allocations', pad=15)\n",
    "plt.xlabel('$s$');"
   ]
  },
  {
   "cell_type": "code",
   "execution_count": 99,
   "id": "de996154-069a-4623-9594-1add77bde02c",
   "metadata": {},
   "outputs": [
    {
     "data": {
      "image/png": "[encoded data removed]",
      "text/plain": [
       "<Figure size 1080x648 with 1 Axes>"
      ]
     },
     "metadata": {},
     "output_type": "display_data"
    }
   ],
   "source": [
    "plt.plot(sigma, mu, lw = 2, label = 'risk-return')\n",
    "plt.legend(loc = 4, fontsize = 19)\n",
    "plt.xlabel('$\\sigma_p$')\n",
    "plt.ylabel('$\\mu_p$');"
   ]
  },
  {
   "cell_type": "code",
   "execution_count": 92,
   "id": "85d5ac27-f06a-47c3-be80-8ad3cbd15b46",
   "metadata": {},
   "outputs": [],
   "source": [
    "import scipy.stats as st\n",
    "import seaborn as sns"
   ]
  },
  {
   "cell_type": "code",
   "execution_count": 93,
   "id": "dc3af11d-f908-4846-9c45-9e44ed3ba664",
   "metadata": {},
   "outputs": [],
   "source": [
    "result = st.linregress(sigma, mu)"
   ]
  },
  {
   "cell_type": "code",
   "execution_count": 94,
   "id": "cd32e8e3-d72c-45e2-ad75-2ba303d96381",
   "metadata": {},
   "outputs": [
    {
     "data": {
      "image/png": "[encoded data removed]",
      "text/latex": [
       "$\\displaystyle 0.2$"
      ],
      "text/plain": [
       "0.19999999999999984"
      ]
     },
     "execution_count": 94,
     "metadata": {},
     "output_type": "execute_result"
    }
   ],
   "source": [
    "result.slope"
   ]
  },
  {
   "cell_type": "code",
   "execution_count": 95,
   "id": "44c652e1-8ca3-4aea-9842-cde192ed7385",
   "metadata": {},
   "outputs": [
    {
     "data": {
      "image/png": "[encoded data removed]",
      "text/plain": [
       "<Figure size 1080x648 with 1 Axes>"
      ]
     },
     "metadata": {},
     "output_type": "display_data"
    }
   ],
   "source": [
    "sns.regplot(x=sigma, y = mu);"
   ]
  },
  {
   "cell_type": "code",
   "execution_count": null,
   "id": "a7f4321b-1959-4f97-9404-904c911653b7",
   "metadata": {},
   "outputs": [],
   "source": []
  },
  {
   "cell_type": "code",
   "execution_count": null,
   "id": "92a3b0df-434c-4eab-97c7-9e4417478a69",
   "metadata": {},
   "outputs": [],
   "source": []
  },
  {
   "cell_type": "code",
   "execution_count": null,
   "id": "7fb0d4e2-3ce0-429a-a20b-69e41e6148ad",
   "metadata": {},
   "outputs": [],
   "source": []
  }
 ],
 "metadata": {
  "kernelspec": {
   "display_name": "Python 3 (ipykernel)",
   "language": "python",
   "name": "python3"
  },
  "language_info": {
   "codemirror_mode": {
    "name": "ipython",
    "version": 3
   },
   "file_extension": ".py",
   "mimetype": "text/x-python",
   "name": "python",
   "nbconvert_exporter": "python",
   "pygments_lexer": "ipython3",
   "version": "3.8.12"
  }
 },
 "nbformat": 4,
 "nbformat_minor": 5
}
