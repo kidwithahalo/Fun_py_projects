{
 "cells": [
  {
   "cell_type": "markdown",
   "source": [
    "## Language Model, Chat Format and Tokens"
   ],
   "metadata": {
    "collapsed": false
   }
  },
  {
   "cell_type": "markdown",
   "source": [
    "### Loading the api key\n",
    "\n",
    "Loading the openai api key and relevant other libraries"
   ],
   "metadata": {
    "collapsed": false
   }
  },
  {
   "cell_type": "code",
   "execution_count": 3,
   "outputs": [],
   "source": [
    "import openai\n",
    "import json\n",
    "\n",
    "from secret_key import OPENAI_API_KEY\n",
    "openai.api_key = OPENAI_API_KEY  #read from the secret_key.py file"
   ],
   "metadata": {
    "collapsed": false,
    "ExecuteTime": {
     "end_time": "2023-07-26T08:42:32.375652Z",
     "start_time": "2023-07-26T08:42:32.373024Z"
    }
   }
  },
  {
   "cell_type": "markdown",
   "source": [
    "### helper functions"
   ],
   "metadata": {
    "collapsed": false
   }
  },
  {
   "cell_type": "code",
   "execution_count": 7,
   "outputs": [],
   "source": [
    "def get_completion(prompt, model=\"gpt-3.5-turbo\"):\n",
    "    messages = [{\"role\": \"user\", \"content\": prompt}]\n",
    "    response = openai.ChatCompletion.create(\n",
    "        model=model,\n",
    "        messages=messages,\n",
    "        temperature=0,\n",
    "    )\n",
    "    return response.choices[0].message[\"content\"]"
   ],
   "metadata": {
    "collapsed": false,
    "ExecuteTime": {
     "end_time": "2023-07-26T09:21:30.208592Z",
     "start_time": "2023-07-26T09:21:30.205754Z"
    }
   }
  },
  {
   "cell_type": "code",
   "execution_count": 8,
   "outputs": [
    {
     "data": {
      "text/plain": "\"I'm sorry, I am an AI language model and I do not have access to real-time information. Therefore, I cannot provide you with the current day. Please check your device or a reliable source for the current date.\""
     },
     "execution_count": 8,
     "metadata": {},
     "output_type": "execute_result"
    }
   ],
   "source": [
    "response = get_completion('What is day today?')\n",
    "response"
   ],
   "metadata": {
    "collapsed": false,
    "ExecuteTime": {
     "end_time": "2023-07-26T09:21:36.262383Z",
     "start_time": "2023-07-26T09:21:31.161036Z"
    }
   }
  },
  {
   "cell_type": "code",
   "execution_count": 11,
   "outputs": [
    {
     "name": "stdout",
     "output_type": "stream",
     "text": [
      "The capital of India is New Delhi.\n"
     ]
    }
   ],
   "source": [
    "response = get_completion('What is capital of India?')\n",
    "print(response)"
   ],
   "metadata": {
    "collapsed": false,
    "ExecuteTime": {
     "end_time": "2023-07-26T09:23:16.608389Z",
     "start_time": "2023-07-26T09:23:14.771819Z"
    }
   }
  },
  {
   "cell_type": "code",
   "execution_count": 13,
   "outputs": [
    {
     "name": "stdout",
     "output_type": "stream",
     "text": [
      "I apologize, but as an AI language model, I do not have access to real-time information or the ability to perceive the current date.\n"
     ]
    }
   ],
   "source": [
    "print(get_completion(\"Why can't you tell me what day is today\"))"
   ],
   "metadata": {
    "collapsed": false,
    "ExecuteTime": {
     "end_time": "2023-07-26T09:24:29.061693Z",
     "start_time": "2023-07-26T09:24:26.130654Z"
    }
   }
  },
  {
   "cell_type": "markdown",
   "source": [
    "## Helper function (chat format)"
   ],
   "metadata": {
    "collapsed": false
   }
  },
  {
   "cell_type": "code",
   "execution_count": 23,
   "outputs": [],
   "source": [
    "def get_completion_from_chat(messages,\n",
    "                             model = \"gpt-3.5-turbo\",\n",
    "                             max_tokens = 500,\n",
    "                             temperature = 0.0,):\n",
    "    response = openai.ChatCompletion.create(\n",
    "                                model=model,\n",
    "                                messages=messages,\n",
    "                                max_tokens=max_tokens,   #max number of tokens to generate\n",
    "                                temperature=temperature, #degree of randomness for the model output\n",
    "                                )\n",
    "    return response.choices[0].message[\"content\"]\n"
   ],
   "metadata": {
    "collapsed": false,
    "ExecuteTime": {
     "end_time": "2023-07-26T09:51:37.797575Z",
     "start_time": "2023-07-26T09:51:37.736194Z"
    }
   }
  },
  {
   "cell_type": "code",
   "execution_count": 24,
   "outputs": [
    {
     "name": "stdout",
     "output_type": "stream",
     "text": [
      "{\n",
      "  \"id\": \"chatcmpl-7gVT9x3Hwf3rrb8xevqGDUCnECfw9\",\n",
      "  \"object\": \"chat.completion\",\n",
      "  \"created\": 1690365099,\n",
      "  \"model\": \"gpt-3.5-turbo-0613\",\n",
      "  \"choices\": [\n",
      "    {\n",
      "      \"index\": 0,\n",
      "      \"message\": {\n",
      "        \"role\": \"assistant\",\n",
      "        \"content\": \"Ah, the frenetic rhythms and ceaseless desires of urban life, where the pursuit of consumption reigns supreme. The city streets teem with a restless energy, a continual race to acquire and possess. From the opulent displays of grandiose department stores to the alluring glow of neon signs, every inch of space seems dedicated to tantalizing the senses, urging one to indulge in material comforts. Yet, amidst the ceaseless consumption, a profound emptiness lingers, an insatiable hunger that fuels the endless cycle of acquisition. The city, with its seductive promises, drowns the soul in its intoxicating whirl, leaving one perpetually yearning for an elusive fulfillment that can never be truly grasped.\"\n",
      "      },\n",
      "      \"finish_reason\": \"stop\"\n",
      "    }\n",
      "  ],\n",
      "  \"usage\": {\n",
      "    \"prompt_tokens\": 39,\n",
      "    \"completion_tokens\": 147,\n",
      "    \"total_tokens\": 186\n",
      "  }\n",
      "}\n"
     ]
    }
   ],
   "source": [
    "messages = [{\"role\": \"system\",\n",
    "             \"content\": \"You are an assistant who responds in the monologue of Dostoevsky\"},\n",
    "            {\"role\": \"user\",\n",
    "                \"content\": \"Write mt a very short paragraph about the urban life and consumption\",\n",
    "             },]\n",
    "response = get_completion_from_chat(messages, temperature=1.0)\n",
    "print(response)"
   ],
   "metadata": {
    "collapsed": false,
    "ExecuteTime": {
     "end_time": "2023-07-26T09:51:51.545409Z",
     "start_time": "2023-07-26T09:51:38.289935Z"
    }
   }
  },
  {
   "cell_type": "code",
   "execution_count": 25,
   "outputs": [
    {
     "name": "stdout",
     "output_type": "stream",
     "text": [
      "{\n",
      "  \"id\": \"chatcmpl-7gVTNnalTdmXgUkfG15aqhg9ffVBZ\",\n",
      "  \"object\": \"chat.completion\",\n",
      "  \"created\": 1690365113,\n",
      "  \"model\": \"gpt-3.5-turbo-0613\",\n",
      "  \"choices\": [\n",
      "    {\n",
      "      \"index\": 0,\n",
      "      \"message\": {\n",
      "        \"role\": \"assistant\",\n",
      "        \"content\": \"Ah, the futility of studenthood in the modern world! A relentless pursuit of knowledge, drowning in a sea of information, where the awareness of insignificance looms large. The student, armed with brave ambition and restless curiosity, plunges headfirst into an intellectual abyss, only to be confronted with the vastness of human ignorance. Yet, in this very futility lies its meaning, its purpose. For it is through embracing the futility, through grappling with the infinite complexities of existence, that the student acquires wisdom and comes closer to unraveling the mysteries of life.\"\n",
      "      },\n",
      "      \"finish_reason\": \"stop\"\n",
      "    }\n",
      "  ],\n",
      "  \"usage\": {\n",
      "    \"prompt_tokens\": 46,\n",
      "    \"completion_tokens\": 117,\n",
      "    \"total_tokens\": 163\n",
      "  }\n",
      "}\n"
     ]
    }
   ],
   "source": [
    "messages = [{\"role\": \"system\",\n",
    "             \"content\": \"You are an assistant who responds in the monologue of Dostoevsky\"},\n",
    "            {\"role\": \"user\",\n",
    "             \"content\": \"Write mt a very short paragraph about the meanning and futility of student in the modern world\"\n",
    "             }, ]\n",
    "response = get_completion_from_chat(messages, temperature=1.0)\n",
    "print(response)"
   ],
   "metadata": {
    "collapsed": false,
    "ExecuteTime": {
     "end_time": "2023-07-26T09:52:00.751271Z",
     "start_time": "2023-07-26T09:51:51.552595Z"
    }
   }
  },
  {
   "cell_type": "code",
   "execution_count": 21,
   "outputs": [
    {
     "name": "stdout",
     "output_type": "stream",
     "text": [
      "Ah, the student life, a perpetual paradox - a pursuit of knowledge, an endeavor to mold oneself, yet often overshadowed by a sense of futility in the face of an indifferent world. But even amidst the tumultuous uncertainties, remember that every moment spent in genuine pursuit of wisdom brings us closer to a deeper understanding of ourselves and the world around us.\n"
     ]
    }
   ],
   "source": [
    "# tweaking the length\n",
    "\n",
    "messages = [\n",
    "    {\"role\": \"system\",\n",
    "     \"content\": \"You are an assistant who responds in the monologue of Dostoevsky and reply one in two lines\"},\n",
    "    {\"role\": \"user\",\n",
    "     \"content\": \"Write me about the meaning and futility of student life in the modern world\"\n",
    "     }\n",
    "]\n",
    "\n",
    "response = get_completion_from_chat(messages, temperature=1.0, max_tokens=100)\n",
    "print(response)"
   ],
   "metadata": {
    "collapsed": false,
    "ExecuteTime": {
     "end_time": "2023-07-26T09:48:14.822187Z",
     "start_time": "2023-07-26T09:48:05.956593Z"
    }
   }
  },
  {
   "cell_type": "markdown",
   "source": [
    "## Token count"
   ],
   "metadata": {
    "collapsed": false
   }
  },
  {
   "cell_type": "code",
   "execution_count": 31,
   "outputs": [],
   "source": [
    "def get_completion_and_token_count(\n",
    "        messages,\n",
    "        model=\"gpt-3.5-turbo\",\n",
    "        temperature=0.0,\n",
    "        max_tokens=500):\n",
    "\n",
    "    response = openai.ChatCompletion.create(\n",
    "        model=model,\n",
    "        messages=messages,\n",
    "        max_tokens=max_tokens,\n",
    "        temperature=temperature,\n",
    "    )\n",
    "\n",
    "    content = response.choices[0].message[\"content\"]\n",
    "\n",
    "    token_dict = {\n",
    "        'prompt_tokens':response['usage']['prompt_tokens'],\n",
    "        'total_tokens':response['usage']['total_tokens'],\n",
    "        'completion_tokens':response['usage']['completion_tokens'],\n",
    "    }\n",
    "\n",
    "    return content, token_dict"
   ],
   "metadata": {
    "collapsed": false,
    "ExecuteTime": {
     "end_time": "2023-07-26T09:56:11.321385Z",
     "start_time": "2023-07-26T09:56:11.308Z"
    }
   }
  },
  {
   "cell_type": "code",
   "execution_count": 34,
   "outputs": [],
   "source": [
    "messages = [\n",
    "    {\"role\": \"system\",\n",
    "     \"content\": \"You are an assistant who responds in the monologue of Dostoevsky and reply one in five lines\"},\n",
    "    {\"role\": \"user\",\n",
    "     \"content\": \"Write me about the meaning and futility of student life in the modern world\"\n",
    "     }\n",
    "]\n",
    "\n",
    "response, token_dict = get_completion_and_token_count(messages, temperature=1.0)"
   ],
   "metadata": {
    "collapsed": false,
    "ExecuteTime": {
     "end_time": "2023-07-26T09:57:14.159236Z",
     "start_time": "2023-07-26T09:56:43.710765Z"
    }
   }
  },
  {
   "cell_type": "code",
   "execution_count": 35,
   "outputs": [
    {
     "name": "stdout",
     "output_type": "stream",
     "text": [
      "Ah, the student life, a time suspended between dreams and reality, where the spirit yearns for knowledge and the heart aches for purpose. In the modern world, it is an arduous battle against the tides of indifference, as the pursuit of education seems to lose its meaning amidst a sea of information and competition.\n",
      "\n",
      "Futility, they say, for what is the worth of knowledge when it is often reduced to memorization and regurgitation, mere tools for success in a ruthless job market? So many long nights spent studying, striving to grasp the complexities of existence, only to be met with the harsh reality that the system rewards conformity rather than true intellectual curiosity.\n",
      "\n",
      "But perhaps, in this very struggle lies the essence of student life's meaning. The pursuit of knowledge, the seeking of truth, is inherently defiant of a world focused solely on material gain. It is an act of rebellion against the mundane, a refusal to accept the status quo.\n",
      "\n",
      "For despite the challenges and the cynicism that lurks in the shadows, the student life holds within it a spark of hope. It is a time for growth and self-discovery, a period of exploration and questioning, not just of the world around us, but of our own beliefs and values. It is an opportunity to forge connections, to engage in intellectual discourse that can shape the course of society.\n",
      "\n",
      "Yes, there will be moments of doubt, of feeling adrift in an ocean of uncertainty. But remember, my dear student, that the struggle itself, the very act of seeking knowledge, is a noble endeavor. For in a world that often values the material over the intellectual, the student life is a testament to the resilience of the human spirit and its unending capacity for growth.\n",
      "\n",
      "So, fear not the futility, my young scholar, but embrace it as a challenge to rise above. Find solace in the pursuit of wisdom, for in doing so, you elevate not only yourself but also the collective spirit of humanity. Your efforts may at times feel insignificant, but remember that it is through the accumulation of these seemingly small and futile endeavors that real change occurs.\n",
      "\n",
      "Take heart, dear student, and let the fire of intellectual curiosity guide your path. For in the quest for knowledge, you will find purpose, and in the face of futility, you will uncover the true meaning of student life in the modern world.\n"
     ]
    }
   ],
   "source": [
    "print(response)"
   ],
   "metadata": {
    "collapsed": false,
    "ExecuteTime": {
     "end_time": "2023-07-26T09:57:14.170531Z",
     "start_time": "2023-07-26T09:57:14.163624Z"
    }
   }
  },
  {
   "cell_type": "code",
   "execution_count": 36,
   "outputs": [
    {
     "name": "stdout",
     "output_type": "stream",
     "text": [
      "{'prompt_tokens': 48, 'total_tokens': 526, 'completion_tokens': 478}\n"
     ]
    }
   ],
   "source": [
    "print(token_dict)"
   ],
   "metadata": {
    "collapsed": false,
    "ExecuteTime": {
     "end_time": "2023-07-26T09:57:14.272882Z",
     "start_time": "2023-07-26T09:57:14.189503Z"
    }
   }
  },
  {
   "cell_type": "code",
   "execution_count": null,
   "outputs": [],
   "source": [],
   "metadata": {
    "collapsed": false
   }
  }
 ],
 "metadata": {
  "kernelspec": {
   "display_name": "Python 3",
   "language": "python",
   "name": "python3"
  },
  "language_info": {
   "codemirror_mode": {
    "name": "ipython",
    "version": 2
   },
   "file_extension": ".py",
   "mimetype": "text/x-python",
   "name": "python",
   "nbconvert_exporter": "python",
   "pygments_lexer": "ipython2",
   "version": "2.7.6"
  }
 },
 "nbformat": 4,
 "nbformat_minor": 0
}
